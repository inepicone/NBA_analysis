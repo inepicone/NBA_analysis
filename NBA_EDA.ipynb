{
  "cells": [
    {
      "cell_type": "markdown",
      "id": "ae010f33-c6b5-475d-acd5-d37df011a5bd",
      "metadata": {
        "id": "ae010f33-c6b5-475d-acd5-d37df011a5bd"
      },
      "source": [
        "# An analysis of NBA players in the 2021/2022 season"
      ]
    },
    {
      "cell_type": "markdown",
      "id": "feb5643a-e69d-45d5-8143-67e7cac8db62",
      "metadata": {
        "id": "feb5643a-e69d-45d5-8143-67e7cac8db62"
      },
      "source": [
        "This project will rely heavily in the use of API as data sources. Access to data is often provided through application programming interfaces (APIs), whether internal or external to the organization. It is very important to understand how to interact with APIs to collect data in our day to day work."
      ]
    },
    {
      "cell_type": "markdown",
      "id": "01778870-2619-4f79-a9a9-39e5d368cc18",
      "metadata": {
        "id": "01778870-2619-4f79-a9a9-39e5d368cc18"
      },
      "source": [
        "These are the objectives of the project:\n",
        "- Understanding how to query an API to create a dataset with Python and Pandas\n",
        "- Learning how to cleanup a dataset and generate new fields from calculated data\n",
        "- Storing the created dataset in a serialized manner\n",
        "- Generating statistics about the data\n",
        "- Visualizing data"
      ]
    },
    {
      "cell_type": "markdown",
      "id": "67f24c7c-0f5e-4e1e-afe9-d7a1a99665f5",
      "metadata": {
        "id": "67f24c7c-0f5e-4e1e-afe9-d7a1a99665f5"
      },
      "source": [
        "## Introduction"
      ]
    },
    {
      "cell_type": "markdown",
      "id": "efb6e67d-55c9-4af3-9f9b-ca503be01355",
      "metadata": {
        "id": "efb6e67d-55c9-4af3-9f9b-ca503be01355"
      },
      "source": [
        "### A brief description of basketball and the NBA"
      ]
    },
    {
      "cell_type": "markdown",
      "id": "7d6da412-3b11-4541-9165-b4eea8570c3e",
      "metadata": {
        "id": "7d6da412-3b11-4541-9165-b4eea8570c3e"
      },
      "source": [
        "The National Basketball Association is the main basketball league in the United States of America. It currently features 30 teams from different cities, divided in 2 conferences (East and West) of 15 teams. Each team plays a total of 82 games during the regular season. After that, the 8 teams with better records from each conference are seeded in a playoff format, with the winner of each conference playing the finals to determine the eventual champion. NBA seasons usually play out between october of one year, to june of the next year, so for example the current season being played is called the 2021/2022 season.\n",
        "\n",
        "As in most leagues in the world, the game is played 5 vs 5 players, with as many as 9 reserve players that can rotate with the starters as many times as the team wants. Games are played to 48 minutes, so the total amount of minutes of combined play time for any team in a single game with no added time is 240 minutes. If the score is tied at the end of the 48 minutes, 5 minutes of extra time are played, this continues until a winner is decided.\n",
        "\n",
        "Even though they can play multiple positions, players are usually classified according to the following positions:\n",
        "\n",
        "- Guards\n",
        "    - Point Guards\n",
        "    - Shooting Guards\n",
        "- Forwards\n",
        "    - Small Forwards\n",
        "    - Power Forwards\n",
        "- Centers\n",
        "\n",
        "We will mainly focus on the three main positions: Guards/Forwards/Centers"
      ]
    },
    {
      "cell_type": "markdown",
      "id": "6cfdce7d-d6c4-4fb4-8906-4fbca324ab45",
      "metadata": {
        "id": "6cfdce7d-d6c4-4fb4-8906-4fbca324ab45"
      },
      "source": [
        "### The dataset"
      ]
    },
    {
      "cell_type": "markdown",
      "id": "06cbbd6b-4588-4991-890d-c0cdc4240e0a",
      "metadata": {
        "id": "06cbbd6b-4588-4991-890d-c0cdc4240e0a"
      },
      "source": [
        "You'll be in charge of creating our dataset. We want to create a single pandas dataframe with information about all active players in the current NBA season. \n",
        "The dataset needs to have the following structure:\n",
        "\n",
        "- Personal Information\n",
        "    - player_id (int) (INDEX) \n",
        "    - player_name (str)\n",
        "    - team_name (str)\n",
        "    - position (str)\n",
        "    - height (int) (in centimeters) \n",
        "    - weight (float) (in kilograms)\n",
        "    - country of origin (str)\n",
        "    - date_of_birth (datetime)\n",
        "    - age (str) (years and months)\n",
        "    - years_of_experience (int) (years since entering the league)\n",
        "    - Draft position (int)\n",
        "- Player career statistics\n",
        "    - games played (int)\n",
        "    - minutes per game (float)\n",
        "    - points per game (float)\n",
        "    - rebounds per game (float)\n",
        "    - assists per game (float)\n",
        "    - steals per game (float)\n",
        "    - blocks per game (float)\n",
        "- Misc\n",
        "    - salary in dollars (int) (contract value for this season only)\n",
        "    - next_game_date (datetime)"
      ]
    },
    {
      "cell_type": "markdown",
      "id": "a8549d4d-6773-4eaf-939e-7dd96b16d656",
      "metadata": {
        "id": "a8549d4d-6773-4eaf-939e-7dd96b16d656"
      },
      "source": [
        "Here is a sample of how the final result should look like:"
      ]
    },
    {
      "cell_type": "code",
      "execution_count": 1,
      "id": "4d6d7c9f-2030-42d0-87ac-017dbe6a7d19",
      "metadata": {
        "colab": {
          "base_uri": "https://localhost:8080/",
          "height": 0
        },
        "id": "4d6d7c9f-2030-42d0-87ac-017dbe6a7d19",
        "outputId": "9b9cf784-cd1a-4cf0-805f-8e131bf38321"
      },
      "outputs": [
        {
          "data": {
            "text/html": [
              "<div>\n",
              "<style scoped>\n",
              "    .dataframe tbody tr th:only-of-type {\n",
              "        vertical-align: middle;\n",
              "    }\n",
              "\n",
              "    .dataframe tbody tr th {\n",
              "        vertical-align: top;\n",
              "    }\n",
              "\n",
              "    .dataframe thead th {\n",
              "        text-align: right;\n",
              "    }\n",
              "</style>\n",
              "<table border=\"1\" class=\"dataframe\">\n",
              "  <thead>\n",
              "    <tr style=\"text-align: right;\">\n",
              "      <th></th>\n",
              "      <th>PLAYER_NAME</th>\n",
              "      <th>TEAM_NAME</th>\n",
              "      <th>POSITION</th>\n",
              "      <th>HEIGHT</th>\n",
              "      <th>WEIGHT</th>\n",
              "      <th>COUNTRY</th>\n",
              "      <th>BIRTHDATE</th>\n",
              "      <th>SEASON_EXP</th>\n",
              "      <th>DRAFT_NUMBER</th>\n",
              "      <th>GP</th>\n",
              "      <th>MIN</th>\n",
              "      <th>PTS</th>\n",
              "      <th>REB</th>\n",
              "      <th>AST</th>\n",
              "      <th>STL</th>\n",
              "      <th>BLK</th>\n",
              "      <th>GAME_DATE</th>\n",
              "      <th>SALARY</th>\n",
              "      <th>AGE</th>\n",
              "    </tr>\n",
              "  </thead>\n",
              "  <tbody>\n",
              "    <tr>\n",
              "      <th>200765</th>\n",
              "      <td>Rajon Rondo</td>\n",
              "      <td>Cavaliers</td>\n",
              "      <td>Guard</td>\n",
              "      <td>185</td>\n",
              "      <td>82</td>\n",
              "      <td>USA</td>\n",
              "      <td>1986-02-22</td>\n",
              "      <td>15</td>\n",
              "      <td>21</td>\n",
              "      <td>957</td>\n",
              "      <td>29.9</td>\n",
              "      <td>9.8</td>\n",
              "      <td>4.5</td>\n",
              "      <td>7.9</td>\n",
              "      <td>1.6</td>\n",
              "      <td>0.1</td>\n",
              "      <td>2022-04-10</td>\n",
              "      <td>2641691</td>\n",
              "      <td>36 years, 1 months, 19 days</td>\n",
              "    </tr>\n",
              "    <tr>\n",
              "      <th>203107</th>\n",
              "      <td>Tomas Satoransky</td>\n",
              "      <td>Wizards</td>\n",
              "      <td>Guard</td>\n",
              "      <td>201</td>\n",
              "      <td>95</td>\n",
              "      <td>Czech Republic</td>\n",
              "      <td>1991-10-30</td>\n",
              "      <td>5</td>\n",
              "      <td>32</td>\n",
              "      <td>388</td>\n",
              "      <td>22.2</td>\n",
              "      <td>6.9</td>\n",
              "      <td>2.9</td>\n",
              "      <td>4.1</td>\n",
              "      <td>0.8</td>\n",
              "      <td>0.2</td>\n",
              "      <td>2022-04-10</td>\n",
              "      <td>10468119</td>\n",
              "      <td>30 years, 5 months, 11 days</td>\n",
              "    </tr>\n",
              "    <tr>\n",
              "      <th>204060</th>\n",
              "      <td>Joe Ingles</td>\n",
              "      <td>Trail Blazers</td>\n",
              "      <td>Forward</td>\n",
              "      <td>203</td>\n",
              "      <td>100</td>\n",
              "      <td>Australia</td>\n",
              "      <td>1987-10-02</td>\n",
              "      <td>7</td>\n",
              "      <td>Undrafted</td>\n",
              "      <td>590</td>\n",
              "      <td>25.7</td>\n",
              "      <td>8.6</td>\n",
              "      <td>3.2</td>\n",
              "      <td>3.8</td>\n",
              "      <td>0.9</td>\n",
              "      <td>0.2</td>\n",
              "      <td>2022-04-10</td>\n",
              "      <td>14000000</td>\n",
              "      <td>34 years, 6 months, 8 days</td>\n",
              "    </tr>\n",
              "  </tbody>\n",
              "</table>\n",
              "</div>"
            ],
            "text/plain": [
              "             PLAYER_NAME      TEAM_NAME POSITION  HEIGHT  WEIGHT  \\\n",
              "200765       Rajon Rondo      Cavaliers    Guard     185      82   \n",
              "203107  Tomas Satoransky        Wizards    Guard     201      95   \n",
              "204060        Joe Ingles  Trail Blazers  Forward     203     100   \n",
              "\n",
              "               COUNTRY  BIRTHDATE  SEASON_EXP DRAFT_NUMBER   GP   MIN  PTS  \\\n",
              "200765             USA 1986-02-22          15           21  957  29.9  9.8   \n",
              "203107  Czech Republic 1991-10-30           5           32  388  22.2  6.9   \n",
              "204060       Australia 1987-10-02           7    Undrafted  590  25.7  8.6   \n",
              "\n",
              "        REB  AST  STL  BLK  GAME_DATE    SALARY                          AGE  \n",
              "200765  4.5  7.9  1.6  0.1 2022-04-10   2641691  36 years, 1 months, 19 days  \n",
              "203107  2.9  4.1  0.8  0.2 2022-04-10  10468119  30 years, 5 months, 11 days  \n",
              "204060  3.2  3.8  0.9  0.2 2022-04-10  14000000   34 years, 6 months, 8 days  "
            ]
          },
          "execution_count": 1,
          "metadata": {},
          "output_type": "execute_result"
        }
      ],
      "source": [
        "import pandas as pd\n",
        "\n",
        "sample_dict = {\n",
        "    'PLAYER_NAME': {200765: 'Rajon Rondo',  203107: 'Tomas Satoransky',  204060: 'Joe Ingles'},\n",
        "    'TEAM_NAME': {200765: 'Cavaliers', 203107: 'Wizards', 204060: 'Trail Blazers'},\n",
        "    'POSITION': {200765: 'Guard', 203107: 'Guard', 204060: 'Forward'},\n",
        "    'HEIGHT': {200765: 185, 203107: 201, 204060: 203},\n",
        "    'WEIGHT': {200765: 82, 203107: 95, 204060: 100},\n",
        "    'COUNTRY': {200765: 'USA', 203107: 'Czech Republic', 204060: 'Australia'},\n",
        "    'BIRTHDATE': {200765: pd.Timestamp('1986-02-22 00:00:00'), 203107: pd.Timestamp('1991-10-30 00:00:00'), 204060: pd.Timestamp('1987-10-02 00:00:00')},\n",
        "    'SEASON_EXP': {200765: 15, 203107: 5, 204060: 7},\n",
        "    'DRAFT_NUMBER': {200765: '21', 203107: '32', 204060: 'Undrafted'},\n",
        "    'GP': {200765: 957, 203107: 388, 204060: 590},\n",
        "    'MIN': {200765: 29.9, 203107: 22.2, 204060: 25.7},\n",
        "    'PTS': {200765: 9.8, 203107: 6.9, 204060: 8.6},\n",
        "    'REB': {200765: 4.5, 203107: 2.9, 204060: 3.2},\n",
        "    'AST': {200765: 7.9, 203107: 4.1, 204060: 3.8},\n",
        "    'STL': {200765: 1.6, 203107: 0.8, 204060: 0.9},\n",
        "    'BLK': {200765: 0.1, 203107: 0.2, 204060: 0.2},\n",
        "    'GAME_DATE': {200765: pd.Timestamp('2022-04-10 00:00:00'), 203107: pd.Timestamp('2022-04-10 00:00:00'), 204060: pd.Timestamp('2022-04-10 00:00:00')},\n",
        "    'SALARY': {200765: 2641691, 203107: 10468119, 204060: 14000000},\n",
        "    'AGE': {200765: '36 years, 1 months, 19 days', 203107: '30 years, 5 months, 11 days', 204060: '34 years, 6 months, 8 days'}\n",
        "}\n",
        "pd.DataFrame(sample_dict)"
      ]
    },
    {
      "cell_type": "markdown",
      "id": "2f6e860b-d366-4198-b74e-805fcc7bce6c",
      "metadata": {
        "id": "2f6e860b-d366-4198-b74e-805fcc7bce6c"
      },
      "source": [
        "## Collecting information for building our dataset"
      ]
    },
    {
      "cell_type": "markdown",
      "id": "54f9b97d-32f9-4ee1-830c-724d28b85833",
      "metadata": {
        "id": "54f9b97d-32f9-4ee1-830c-724d28b85833"
      },
      "source": [
        "In this section, we're only going to work on collecting the necessary raw data to build the required dataset. Don't worry about finishing everything here, we'll generate the appropiate fields and merge the data into a single dataframe in the next section.\n",
        "\n",
        "To get the information, you can use any public and free API you can find, but you have to provide the code that gets the information here. We recommend using this API:\n",
        " \n",
        "- https://github.com/swar/nba_api\n",
        "\n",
        "    This is a Python library that can be used to obtain data from stats.nba.com, it provides a set of methods that abstracts you from making the http calls, but directly makes calls to nba stats page and parses the results. [Here](https://github.com/swar/nba_api/blob/master/docs/examples/Basics.ipynb) are a couple of examples on how to use it.\n",
        "    \n",
        "\n",
        "A few notes on data collection:\n",
        "\n",
        "- Start simple. Try to get all the required information for 1 player, read the APIs documentation carefuly, then think about how to use them to collect all players data. \n",
        "\n",
        "- Please bear in mind that the most public APIs have some kind of rate limit, so you have to be careful about iterating on data and making lots of requests in a short amount of time (a 1 second delay between calls to the api should be enough). Once you've collected what you needed, save it to file in order to retrieve it later without calling the API again.\n",
        "\n",
        "- A key consideration: we only want data about players that have played in the current season, so make sure to filter those out before collecting the rest of the information.\n",
        "\n",
        "- There is at least one piece of information you're not going to find in both of those APIs: the player contract information. Again you can decide to use any source, but we recommend using information provided [here](https://www.basketball-reference.com/contracts/players.html), as it lets you export the data as a csv.  "
      ]
    },
    {
      "cell_type": "markdown",
      "id": "ae032907-b133-4cf8-8026-85f853755e46",
      "metadata": {
        "id": "ae032907-b133-4cf8-8026-85f853755e46"
      },
      "source": [
        "1- Lets create a function to find all ACTIVE players, meaning players that are listed with a team in the 2021/2022 season. For now we only need the player id, name, and team. We save the dataframe to a csv named \"nba_current_players_list.csv\". The function should return the dataframe."
      ]
    },
    {
      "cell_type": "markdown",
      "id": "b5e2138b-0640-4420-9ca3-dbbe4033620c",
      "metadata": {
        "id": "b5e2138b-0640-4420-9ca3-dbbe4033620c"
      },
      "source": [
        "Consider dropping: \n",
        "- All players with TEAM_ID == 0\n",
        "- All players with GAMES_PLAYED_FLAG == N\n",
        "- Player with id 1630597 (This guy is a problem ;))"
      ]
    },
    {
      "cell_type": "code",
      "execution_count": 61,
      "id": "leGIYXl-SNpI",
      "metadata": {
        "id": "leGIYXl-SNpI"
      },
      "outputs": [],
      "source": [
        "# Libreries and methods:\n",
        "\n",
        "# Data manipulation:\n",
        "import numpy       as np\n",
        "import pandas      as pd\n",
        "import scipy.stats as stats\n",
        "\n",
        "# Characters transformation:\n",
        "import unicodedata\n",
        "\n",
        "# Time and datetype managment:\n",
        "import time\n",
        "from   datetime               import date\n",
        "from   datetime               import datetime\n",
        "from   dateutil.relativedelta import relativedelta\n",
        "\n",
        "# File oppening:\n",
        "import io\n",
        "\n",
        "# Data visualization:\n",
        "import seaborn           as sns\n",
        "import matplotlib.pyplot as plt\n",
        "\n",
        "\n",
        "import difflib"
      ]
    },
    {
      "cell_type": "code",
      "execution_count": 5,
      "id": "Hxuj9sbFSSTe",
      "metadata": {
        "colab": {
          "base_uri": "https://localhost:8080/"
        },
        "id": "Hxuj9sbFSSTe",
        "outputId": "fb39222c-b7f2-4192-cc42-09894c6c7801"
      },
      "outputs": [
        {
          "name": "stdout",
          "output_type": "stream",
          "text": [
            "Collecting nba_api\n",
            "  Downloading nba_api-1.1.11.tar.gz (125 kB)\n",
            "     -------------------------------------- 125.6/125.6 kB 1.2 MB/s eta 0:00:00\n",
            "  Preparing metadata (setup.py): started\n",
            "  Preparing metadata (setup.py): finished with status 'done'\n",
            "Collecting requests\n",
            "  Downloading requests-2.28.1-py3-none-any.whl (62 kB)\n",
            "     ---------------------------------------- 62.8/62.8 kB 3.3 MB/s eta 0:00:00\n",
            "Collecting charset-normalizer<3,>=2\n",
            "  Downloading charset_normalizer-2.1.0-py3-none-any.whl (39 kB)\n",
            "Collecting idna<4,>=2.5\n",
            "  Downloading idna-3.3-py3-none-any.whl (61 kB)\n",
            "     ---------------------------------------- 61.2/61.2 kB 3.2 MB/s eta 0:00:00\n",
            "Requirement already satisfied: urllib3<1.27,>=1.21.1 in c:\\users\\user\\appdata\\local\\packages\\pythonsoftwarefoundation.python.3.10_qbz5n2kfra8p0\\localcache\\local-packages\\python310\\site-packages (from requests->nba_api) (1.26.9)\n",
            "Collecting certifi>=2017.4.17\n",
            "  Downloading certifi-2022.6.15-py3-none-any.whl (160 kB)\n",
            "     -------------------------------------- 160.2/160.2 kB 4.8 MB/s eta 0:00:00\n",
            "Using legacy 'setup.py install' for nba_api, since package 'wheel' is not installed.\n",
            "Installing collected packages: idna, charset-normalizer, certifi, requests, nba_api\n",
            "  Running setup.py install for nba_api: started\n",
            "  Running setup.py install for nba_api: finished with status 'done'\n",
            "Successfully installed certifi-2022.6.15 charset-normalizer-2.1.0 idna-3.3 nba_api-1.1.11 requests-2.28.1\n"
          ]
        },
        {
          "name": "stderr",
          "output_type": "stream",
          "text": [
            "  WARNING: The script normalizer.exe is installed in 'C:\\Users\\User\\AppData\\Local\\Packages\\PythonSoftwareFoundation.Python.3.10_qbz5n2kfra8p0\\LocalCache\\local-packages\\Python310\\Scripts' which is not on PATH.\n",
            "  Consider adding this directory to PATH or, if you prefer to suppress this warning, use --no-warn-script-location.\n",
            "\n",
            "[notice] A new release of pip available: 22.2.1 -> 22.2.2\n",
            "[notice] To update, run: C:\\Users\\User\\AppData\\Local\\Microsoft\\WindowsApps\\PythonSoftwareFoundation.Python.3.10_qbz5n2kfra8p0\\python.exe -m pip install --upgrade pip\n"
          ]
        }
      ],
      "source": [
        "# NBA_API instalation:\n",
        "!pip install nba_api"
      ]
    },
    {
      "cell_type": "markdown",
      "id": "c33051bc",
      "metadata": {},
      "source": [
        "When we call sertain method of a library if we imported directly we don't need to write the library name when we use it:\n",
        "    - import nba_api               ---> example = nba_api.stats.endpoints.CommonAllPlayers.getsomething()\n",
        "    - from nba_api.stats.endpoints import CommonAllPlayers ---> example = CommonAllPlayers.getsomething()\n",
        "    - from nba_api.stats.endpoints import CommonAllPlayers as cap     ---> example = cap().getsomething()\n"
      ]
    },
    {
      "cell_type": "code",
      "execution_count": 6,
      "id": "tLOkAa1LSo9A",
      "metadata": {
        "id": "tLOkAa1LSo9A"
      },
      "outputs": [],
      "source": [
        "# NBA_api methods:\n",
        "\n",
        "from nba_api.stats.endpoints import CommonAllPlayers  as cap  # exersice 1 \n",
        "from nba_api.stats.endpoints import commonplayerinfo  as cpi  # exersice 2\n",
        "from nba_api.stats.endpoints import PlayerProfileV2   as pp2  # exersice 3 and 4"
      ]
    },
    {
      "cell_type": "markdown",
      "id": "fUig_d94eqg8",
      "metadata": {
        "id": "fUig_d94eqg8"
      },
      "source": [
        "Once I got the correct DFs I save them in my computer so when I run the code its no longer necesary to call the api. \n",
        "\n",
        "from_api = False ---> uses the files from the computer\n",
        "from_api = True  ---> runs and call the api "
      ]
    },
    {
      "cell_type": "code",
      "execution_count": 7,
      "id": "2ce48cb6-3f35-4f62-a652-edc84f171010",
      "metadata": {
        "id": "2ce48cb6-3f35-4f62-a652-edc84f171010"
      },
      "outputs": [],
      "source": [
        "### Complete in this cell: get all active players from the api\n",
        "\n",
        "def get_and_save_players_list(from_api):\n",
        "  \"\"\"\n",
        "  Using the CommonALlPlayers end point and the method: get_data_frame we get the following features, if we specify the dataframe:\n",
        "  ['PERSON_ID', 'DISPLAY_LAST_COMMA_FIRST', 'DISPLAY_FIRST_LAST', 'ROSTERSTATUS', 'FROM_YEAR', 'TO_YEAR', 'PLAYERCODE', 'TEAM_ID', \n",
        "  'TEAM_CITY', 'TEAM_NAME', 'TEAM_ABBREVIATION', 'TEAM_CODE', 'GAMES_PLAYED_FLAG', 'OTHERLEAGUE_EXPERIENCE_CH']\n",
        "\n",
        "  Using: \tis_only_current_season = 1 we get the players that are active this season.\n",
        "\n",
        "  \"\"\"\n",
        "  if from_api:\n",
        "    \n",
        "    nba_players = cap( is_only_current_season=1).get_data_frames()[0] \n",
        "\n",
        "    # Now we filter: we dont want tea_id=0, GAMES_PLAYED_FLAG == N and [\"PERSON_ID\"] == 1630597\n",
        "    df_team_id0 = nba_players[nba_players[\"TEAM_ID\"] == 0].index\n",
        "\n",
        "    nba_players = nba_players.drop(df_team_id0)\n",
        "\n",
        "    df_gpfN     = nba_players[nba_players[\"GAMES_PLAYED_FLAG\"] == 'N'].index\n",
        "\n",
        "    nba_players = nba_players.drop(df_gpfN)\n",
        "\n",
        "    df_pid1630597 = nba_players[nba_players[\"PERSON_ID\"] == 1630597].index\n",
        "    df_pid1630492 = nba_players[nba_players[\"PERSON_ID\"] == 1630492].index\n",
        "\n",
        "    nba_players = nba_players.drop(df_pid1630597)\n",
        "    nba_players = nba_players.drop(df_pid1630492)\n",
        "  else:\n",
        "    nba_players  = pd.read_csv(io.BytesIO(uploaded['nba_current_players_list.csv']))\n",
        "\n",
        "  return nba_players\n"
      ]
    },
    {
      "cell_type": "code",
      "execution_count": 8,
      "id": "d1619cb8-d6cf-4645-b696-a351fac2f3a9",
      "metadata": {
        "id": "d1619cb8-d6cf-4645-b696-a351fac2f3a9"
      },
      "outputs": [],
      "source": [
        "current_players_list = get_and_save_players_list(True)\n",
        "current_players_list.to_csv(\"nba_current_players_list.csv\")"
      ]
    },
    {
      "cell_type": "code",
      "execution_count": 10,
      "id": "pczy-ZR1kepl",
      "metadata": {
        "colab": {
          "base_uri": "https://localhost:8080/"
        },
        "id": "pczy-ZR1kepl",
        "outputId": "8e5a76c7-bea1-41ab-f0e4-7ef4662a5a15"
      },
      "outputs": [
        {
          "name": "stdout",
          "output_type": "stream",
          "text": [
            "We got  493  players and  16 features\n"
          ]
        }
      ],
      "source": [
        "print('We got ',current_players_list.shape[0], ' players and ', current_players_list.shape[1], 'features')"
      ]
    },
    {
      "cell_type": "code",
      "execution_count": 11,
      "id": "_Wpe2fUwgxDU",
      "metadata": {
        "colab": {
          "base_uri": "https://localhost:8080/"
        },
        "id": "_Wpe2fUwgxDU",
        "outputId": "8e8cb78f-23b4-40b2-adab-18167457be1f"
      },
      "outputs": [
        {
          "data": {
            "text/plain": [
              "Index(['PERSON_ID', 'DISPLAY_LAST_COMMA_FIRST', 'DISPLAY_FIRST_LAST',\n",
              "       'ROSTERSTATUS', 'FROM_YEAR', 'TO_YEAR', 'PLAYERCODE', 'PLAYER_SLUG',\n",
              "       'TEAM_ID', 'TEAM_CITY', 'TEAM_NAME', 'TEAM_ABBREVIATION', 'TEAM_SLUG',\n",
              "       'TEAM_CODE', 'GAMES_PLAYED_FLAG', 'OTHERLEAGUE_EXPERIENCE_CH'],\n",
              "      dtype='object')"
            ]
          },
          "execution_count": 11,
          "metadata": {},
          "output_type": "execute_result"
        }
      ],
      "source": [
        "current_players_list.columns"
      ]
    },
    {
      "cell_type": "code",
      "execution_count": 12,
      "id": "rMnOCNqrb4eG",
      "metadata": {
        "colab": {
          "base_uri": "https://localhost:8080/",
          "height": 176
        },
        "id": "rMnOCNqrb4eG",
        "outputId": "e8dae7c5-6647-4155-c7fa-3c4e8779526e"
      },
      "outputs": [
        {
          "data": {
            "text/html": [
              "<div>\n",
              "<style scoped>\n",
              "    .dataframe tbody tr th:only-of-type {\n",
              "        vertical-align: middle;\n",
              "    }\n",
              "\n",
              "    .dataframe tbody tr th {\n",
              "        vertical-align: top;\n",
              "    }\n",
              "\n",
              "    .dataframe thead th {\n",
              "        text-align: right;\n",
              "    }\n",
              "</style>\n",
              "<table border=\"1\" class=\"dataframe\">\n",
              "  <thead>\n",
              "    <tr style=\"text-align: right;\">\n",
              "      <th></th>\n",
              "      <th>PERSON_ID</th>\n",
              "      <th>DISPLAY_LAST_COMMA_FIRST</th>\n",
              "      <th>DISPLAY_FIRST_LAST</th>\n",
              "      <th>ROSTERSTATUS</th>\n",
              "      <th>FROM_YEAR</th>\n",
              "      <th>TO_YEAR</th>\n",
              "      <th>PLAYERCODE</th>\n",
              "      <th>PLAYER_SLUG</th>\n",
              "      <th>TEAM_ID</th>\n",
              "      <th>TEAM_CITY</th>\n",
              "      <th>TEAM_NAME</th>\n",
              "      <th>TEAM_ABBREVIATION</th>\n",
              "      <th>TEAM_SLUG</th>\n",
              "      <th>TEAM_CODE</th>\n",
              "      <th>GAMES_PLAYED_FLAG</th>\n",
              "      <th>OTHERLEAGUE_EXPERIENCE_CH</th>\n",
              "    </tr>\n",
              "  </thead>\n",
              "  <tbody>\n",
              "    <tr>\n",
              "      <th>0</th>\n",
              "      <td>1630173</td>\n",
              "      <td>Achiuwa, Precious</td>\n",
              "      <td>Precious Achiuwa</td>\n",
              "      <td>1</td>\n",
              "      <td>2020</td>\n",
              "      <td>2022</td>\n",
              "      <td>precious_achiuwa</td>\n",
              "      <td>precious_achiuwa</td>\n",
              "      <td>1610612761</td>\n",
              "      <td>Toronto</td>\n",
              "      <td>Raptors</td>\n",
              "      <td>TOR</td>\n",
              "      <td>raptors</td>\n",
              "      <td>raptors</td>\n",
              "      <td>Y</td>\n",
              "      <td>00</td>\n",
              "    </tr>\n",
              "    <tr>\n",
              "      <th>1</th>\n",
              "      <td>203500</td>\n",
              "      <td>Adams, Steven</td>\n",
              "      <td>Steven Adams</td>\n",
              "      <td>1</td>\n",
              "      <td>2013</td>\n",
              "      <td>2022</td>\n",
              "      <td>steven_adams</td>\n",
              "      <td>steven_adams</td>\n",
              "      <td>1610612763</td>\n",
              "      <td>Memphis</td>\n",
              "      <td>Grizzlies</td>\n",
              "      <td>MEM</td>\n",
              "      <td>grizzlies</td>\n",
              "      <td>grizzlies</td>\n",
              "      <td>Y</td>\n",
              "      <td>00</td>\n",
              "    </tr>\n",
              "  </tbody>\n",
              "</table>\n",
              "</div>"
            ],
            "text/plain": [
              "   PERSON_ID DISPLAY_LAST_COMMA_FIRST DISPLAY_FIRST_LAST  ROSTERSTATUS  \\\n",
              "0    1630173        Achiuwa, Precious   Precious Achiuwa             1   \n",
              "1     203500            Adams, Steven       Steven Adams             1   \n",
              "\n",
              "  FROM_YEAR TO_YEAR        PLAYERCODE       PLAYER_SLUG     TEAM_ID TEAM_CITY  \\\n",
              "0      2020    2022  precious_achiuwa  precious_achiuwa  1610612761   Toronto   \n",
              "1      2013    2022      steven_adams      steven_adams  1610612763   Memphis   \n",
              "\n",
              "   TEAM_NAME TEAM_ABBREVIATION  TEAM_SLUG  TEAM_CODE GAMES_PLAYED_FLAG  \\\n",
              "0    Raptors               TOR    raptors    raptors                 Y   \n",
              "1  Grizzlies               MEM  grizzlies  grizzlies                 Y   \n",
              "\n",
              "  OTHERLEAGUE_EXPERIENCE_CH  \n",
              "0                        00  \n",
              "1                        00  "
            ]
          },
          "execution_count": 12,
          "metadata": {},
          "output_type": "execute_result"
        }
      ],
      "source": [
        "current_players_list.head(2)"
      ]
    },
    {
      "cell_type": "markdown",
      "id": "d8ea7729-4019-4d7e-9167-e412becbf215",
      "metadata": {
        "id": "d8ea7729-4019-4d7e-9167-e412becbf215"
      },
      "source": [
        "Now lets create a function to find the personal information of all players listed in the dataframe created in the previous step, and save it to a csv file named \"nba_players_personal_info.csv\". The function should also return the created dataframe."
      ]
    },
    {
      "cell_type": "code",
      "execution_count": 19,
      "id": "541491d1-33eb-4277-afb5-ff449109f680",
      "metadata": {
        "id": "541491d1-33eb-4277-afb5-ff449109f680"
      },
      "outputs": [],
      "source": [
        "def get_players_personal_information(current_players_list):\n",
        "  \"\"\"\n",
        "  Using th PERSON_ID from the dataframe current_player_list we get one by one \n",
        "  the personal info of each player. So we need to set a retard time in order to avoid been block \n",
        "  from the API\n",
        "\n",
        "  We are gonna use: CommonPlayerInfo, there are sevreal DFs available we want the [0] \n",
        "\n",
        "  INPUT:\n",
        "          df with the active players\n",
        "\n",
        "  OUTPUT:\n",
        "          new df\n",
        "  \"\"\"\n",
        "  \n",
        "  list_id = current_players_list['PERSON_ID'].tolist()\n",
        "  df_info = pd.DataFrame()\n",
        "  \n",
        "  for id in list_id:\n",
        " \n",
        "      df_info = df_info.append(cpi.CommonPlayerInfo(id).get_data_frames()[0])\n",
        "      time.sleep(0.5)\n",
        "\n",
        "  \n",
        "  \n",
        "  df_info.set_index('PERSON_ID',inplace=True)\n",
        "\n",
        "  df_info = df_info[[\"DISPLAY_FIRST_LAST\", \"TEAM_NAME\", \"POSITION\", \"HEIGHT\", \"WEIGHT\", \"COUNTRY\", \"BIRTHDATE\", \"SEASON_EXP\", \"DRAFT_NUMBER\"]]\n",
        "  df_info = df_info.rename(columns={'DISPLAY_FIRST_LAST':'PLAYER_NAME'})\n",
        "  \n",
        "  return df_info\n",
        "       "
      ]
    },
    {
      "cell_type": "code",
      "execution_count": 20,
      "id": "d34373b8-fc72-48e1-aef3-654508a27308",
      "metadata": {
        "id": "d34373b8-fc72-48e1-aef3-654508a27308"
      },
      "outputs": [
        {
          "name": "stderr",
          "output_type": "stream",
          "text": [
            "C:\\Users\\User\\AppData\\Local\\Temp\\ipykernel_11820\\3377949429.py:23: FutureWarning: The frame.append method is deprecated and will be removed from pandas in a future version. Use pandas.concat instead.\n",
            "  df_info = df_info.append(cpi.CommonPlayerInfo(id).get_data_frames()[0])\n",
            "C:\\Users\\User\\AppData\\Local\\Temp\\ipykernel_11820\\3377949429.py:23: FutureWarning: The frame.append method is deprecated and will be removed from pandas in a future version. Use pandas.concat instead.\n",
            "  df_info = df_info.append(cpi.CommonPlayerInfo(id).get_data_frames()[0])\n",
            "C:\\Users\\User\\AppData\\Local\\Temp\\ipykernel_11820\\3377949429.py:23: FutureWarning: The frame.append method is deprecated and will be removed from pandas in a future version. Use pandas.concat instead.\n",
            "  df_info = df_info.append(cpi.CommonPlayerInfo(id).get_data_frames()[0])\n",
            "C:\\Users\\User\\AppData\\Local\\Temp\\ipykernel_11820\\3377949429.py:23: FutureWarning: The frame.append method is deprecated and will be removed from pandas in a future version. Use pandas.concat instead.\n",
            "  df_info = df_info.append(cpi.CommonPlayerInfo(id).get_data_frames()[0])\n",
            "C:\\Users\\User\\AppData\\Local\\Temp\\ipykernel_11820\\3377949429.py:23: FutureWarning: The frame.append method is deprecated and will be removed from pandas in a future version. Use pandas.concat instead.\n",
            "  df_info = df_info.append(cpi.CommonPlayerInfo(id).get_data_frames()[0])\n",
            "C:\\Users\\User\\AppData\\Local\\Temp\\ipykernel_11820\\3377949429.py:23: FutureWarning: The frame.append method is deprecated and will be removed from pandas in a future version. Use pandas.concat instead.\n",
            "  df_info = df_info.append(cpi.CommonPlayerInfo(id).get_data_frames()[0])\n",
            "C:\\Users\\User\\AppData\\Local\\Temp\\ipykernel_11820\\3377949429.py:23: FutureWarning: The frame.append method is deprecated and will be removed from pandas in a future version. Use pandas.concat instead.\n",
            "  df_info = df_info.append(cpi.CommonPlayerInfo(id).get_data_frames()[0])\n",
            "C:\\Users\\User\\AppData\\Local\\Temp\\ipykernel_11820\\3377949429.py:23: FutureWarning: The frame.append method is deprecated and will be removed from pandas in a future version. Use pandas.concat instead.\n",
            "  df_info = df_info.append(cpi.CommonPlayerInfo(id).get_data_frames()[0])\n",
            "C:\\Users\\User\\AppData\\Local\\Temp\\ipykernel_11820\\3377949429.py:23: FutureWarning: The frame.append method is deprecated and will be removed from pandas in a future version. Use pandas.concat instead.\n",
            "  df_info = df_info.append(cpi.CommonPlayerInfo(id).get_data_frames()[0])\n",
            "C:\\Users\\User\\AppData\\Local\\Temp\\ipykernel_11820\\3377949429.py:23: FutureWarning: The frame.append method is deprecated and will be removed from pandas in a future version. Use pandas.concat instead.\n",
            "  df_info = df_info.append(cpi.CommonPlayerInfo(id).get_data_frames()[0])\n",
            "C:\\Users\\User\\AppData\\Local\\Temp\\ipykernel_11820\\3377949429.py:23: FutureWarning: The frame.append method is deprecated and will be removed from pandas in a future version. Use pandas.concat instead.\n",
            "  df_info = df_info.append(cpi.CommonPlayerInfo(id).get_data_frames()[0])\n",
            "C:\\Users\\User\\AppData\\Local\\Temp\\ipykernel_11820\\3377949429.py:23: FutureWarning: The frame.append method is deprecated and will be removed from pandas in a future version. Use pandas.concat instead.\n",
            "  df_info = df_info.append(cpi.CommonPlayerInfo(id).get_data_frames()[0])\n",
            "C:\\Users\\User\\AppData\\Local\\Temp\\ipykernel_11820\\3377949429.py:23: FutureWarning: The frame.append method is deprecated and will be removed from pandas in a future version. Use pandas.concat instead.\n",
            "  df_info = df_info.append(cpi.CommonPlayerInfo(id).get_data_frames()[0])\n",
            "C:\\Users\\User\\AppData\\Local\\Temp\\ipykernel_11820\\3377949429.py:23: FutureWarning: The frame.append method is deprecated and will be removed from pandas in a future version. Use pandas.concat instead.\n",
            "  df_info = df_info.append(cpi.CommonPlayerInfo(id).get_data_frames()[0])\n",
            "C:\\Users\\User\\AppData\\Local\\Temp\\ipykernel_11820\\3377949429.py:23: FutureWarning: The frame.append method is deprecated and will be removed from pandas in a future version. Use pandas.concat instead.\n",
            "  df_info = df_info.append(cpi.CommonPlayerInfo(id).get_data_frames()[0])\n",
            "C:\\Users\\User\\AppData\\Local\\Temp\\ipykernel_11820\\3377949429.py:23: FutureWarning: The frame.append method is deprecated and will be removed from pandas in a future version. Use pandas.concat instead.\n",
            "  df_info = df_info.append(cpi.CommonPlayerInfo(id).get_data_frames()[0])\n",
            "C:\\Users\\User\\AppData\\Local\\Temp\\ipykernel_11820\\3377949429.py:23: FutureWarning: The frame.append method is deprecated and will be removed from pandas in a future version. Use pandas.concat instead.\n",
            "  df_info = df_info.append(cpi.CommonPlayerInfo(id).get_data_frames()[0])\n",
            "C:\\Users\\User\\AppData\\Local\\Temp\\ipykernel_11820\\3377949429.py:23: FutureWarning: The frame.append method is deprecated and will be removed from pandas in a future version. Use pandas.concat instead.\n",
            "  df_info = df_info.append(cpi.CommonPlayerInfo(id).get_data_frames()[0])\n",
            "C:\\Users\\User\\AppData\\Local\\Temp\\ipykernel_11820\\3377949429.py:23: FutureWarning: The frame.append method is deprecated and will be removed from pandas in a future version. Use pandas.concat instead.\n",
            "  df_info = df_info.append(cpi.CommonPlayerInfo(id).get_data_frames()[0])\n",
            "C:\\Users\\User\\AppData\\Local\\Temp\\ipykernel_11820\\3377949429.py:23: FutureWarning: The frame.append method is deprecated and will be removed from pandas in a future version. Use pandas.concat instead.\n",
            "  df_info = df_info.append(cpi.CommonPlayerInfo(id).get_data_frames()[0])\n",
            "C:\\Users\\User\\AppData\\Local\\Temp\\ipykernel_11820\\3377949429.py:23: FutureWarning: The frame.append method is deprecated and will be removed from pandas in a future version. Use pandas.concat instead.\n",
            "  df_info = df_info.append(cpi.CommonPlayerInfo(id).get_data_frames()[0])\n",
            "C:\\Users\\User\\AppData\\Local\\Temp\\ipykernel_11820\\3377949429.py:23: FutureWarning: The frame.append method is deprecated and will be removed from pandas in a future version. Use pandas.concat instead.\n",
            "  df_info = df_info.append(cpi.CommonPlayerInfo(id).get_data_frames()[0])\n",
            "C:\\Users\\User\\AppData\\Local\\Temp\\ipykernel_11820\\3377949429.py:23: FutureWarning: The frame.append method is deprecated and will be removed from pandas in a future version. Use pandas.concat instead.\n",
            "  df_info = df_info.append(cpi.CommonPlayerInfo(id).get_data_frames()[0])\n",
            "C:\\Users\\User\\AppData\\Local\\Temp\\ipykernel_11820\\3377949429.py:23: FutureWarning: The frame.append method is deprecated and will be removed from pandas in a future version. Use pandas.concat instead.\n",
            "  df_info = df_info.append(cpi.CommonPlayerInfo(id).get_data_frames()[0])\n",
            "C:\\Users\\User\\AppData\\Local\\Temp\\ipykernel_11820\\3377949429.py:23: FutureWarning: The frame.append method is deprecated and will be removed from pandas in a future version. Use pandas.concat instead.\n",
            "  df_info = df_info.append(cpi.CommonPlayerInfo(id).get_data_frames()[0])\n",
            "C:\\Users\\User\\AppData\\Local\\Temp\\ipykernel_11820\\3377949429.py:23: FutureWarning: The frame.append method is deprecated and will be removed from pandas in a future version. Use pandas.concat instead.\n",
            "  df_info = df_info.append(cpi.CommonPlayerInfo(id).get_data_frames()[0])\n",
            "C:\\Users\\User\\AppData\\Local\\Temp\\ipykernel_11820\\3377949429.py:23: FutureWarning: The frame.append method is deprecated and will be removed from pandas in a future version. Use pandas.concat instead.\n",
            "  df_info = df_info.append(cpi.CommonPlayerInfo(id).get_data_frames()[0])\n",
            "C:\\Users\\User\\AppData\\Local\\Temp\\ipykernel_11820\\3377949429.py:23: FutureWarning: The frame.append method is deprecated and will be removed from pandas in a future version. Use pandas.concat instead.\n",
            "  df_info = df_info.append(cpi.CommonPlayerInfo(id).get_data_frames()[0])\n",
            "C:\\Users\\User\\AppData\\Local\\Temp\\ipykernel_11820\\3377949429.py:23: FutureWarning: The frame.append method is deprecated and will be removed from pandas in a future version. Use pandas.concat instead.\n",
            "  df_info = df_info.append(cpi.CommonPlayerInfo(id).get_data_frames()[0])\n",
            "C:\\Users\\User\\AppData\\Local\\Temp\\ipykernel_11820\\3377949429.py:23: FutureWarning: The frame.append method is deprecated and will be removed from pandas in a future version. Use pandas.concat instead.\n",
            "  df_info = df_info.append(cpi.CommonPlayerInfo(id).get_data_frames()[0])\n",
            "C:\\Users\\User\\AppData\\Local\\Temp\\ipykernel_11820\\3377949429.py:23: FutureWarning: The frame.append method is deprecated and will be removed from pandas in a future version. Use pandas.concat instead.\n",
            "  df_info = df_info.append(cpi.CommonPlayerInfo(id).get_data_frames()[0])\n",
            "C:\\Users\\User\\AppData\\Local\\Temp\\ipykernel_11820\\3377949429.py:23: FutureWarning: The frame.append method is deprecated and will be removed from pandas in a future version. Use pandas.concat instead.\n",
            "  df_info = df_info.append(cpi.CommonPlayerInfo(id).get_data_frames()[0])\n",
            "C:\\Users\\User\\AppData\\Local\\Temp\\ipykernel_11820\\3377949429.py:23: FutureWarning: The frame.append method is deprecated and will be removed from pandas in a future version. Use pandas.concat instead.\n",
            "  df_info = df_info.append(cpi.CommonPlayerInfo(id).get_data_frames()[0])\n",
            "C:\\Users\\User\\AppData\\Local\\Temp\\ipykernel_11820\\3377949429.py:23: FutureWarning: The frame.append method is deprecated and will be removed from pandas in a future version. Use pandas.concat instead.\n",
            "  df_info = df_info.append(cpi.CommonPlayerInfo(id).get_data_frames()[0])\n",
            "C:\\Users\\User\\AppData\\Local\\Temp\\ipykernel_11820\\3377949429.py:23: FutureWarning: The frame.append method is deprecated and will be removed from pandas in a future version. Use pandas.concat instead.\n",
            "  df_info = df_info.append(cpi.CommonPlayerInfo(id).get_data_frames()[0])\n",
            "C:\\Users\\User\\AppData\\Local\\Temp\\ipykernel_11820\\3377949429.py:23: FutureWarning: The frame.append method is deprecated and will be removed from pandas in a future version. Use pandas.concat instead.\n",
            "  df_info = df_info.append(cpi.CommonPlayerInfo(id).get_data_frames()[0])\n",
            "C:\\Users\\User\\AppData\\Local\\Temp\\ipykernel_11820\\3377949429.py:23: FutureWarning: The frame.append method is deprecated and will be removed from pandas in a future version. Use pandas.concat instead.\n",
            "  df_info = df_info.append(cpi.CommonPlayerInfo(id).get_data_frames()[0])\n",
            "C:\\Users\\User\\AppData\\Local\\Temp\\ipykernel_11820\\3377949429.py:23: FutureWarning: The frame.append method is deprecated and will be removed from pandas in a future version. Use pandas.concat instead.\n",
            "  df_info = df_info.append(cpi.CommonPlayerInfo(id).get_data_frames()[0])\n",
            "C:\\Users\\User\\AppData\\Local\\Temp\\ipykernel_11820\\3377949429.py:23: FutureWarning: The frame.append method is deprecated and will be removed from pandas in a future version. Use pandas.concat instead.\n",
            "  df_info = df_info.append(cpi.CommonPlayerInfo(id).get_data_frames()[0])\n",
            "C:\\Users\\User\\AppData\\Local\\Temp\\ipykernel_11820\\3377949429.py:23: FutureWarning: The frame.append method is deprecated and will be removed from pandas in a future version. Use pandas.concat instead.\n",
            "  df_info = df_info.append(cpi.CommonPlayerInfo(id).get_data_frames()[0])\n",
            "C:\\Users\\User\\AppData\\Local\\Temp\\ipykernel_11820\\3377949429.py:23: FutureWarning: The frame.append method is deprecated and will be removed from pandas in a future version. Use pandas.concat instead.\n",
            "  df_info = df_info.append(cpi.CommonPlayerInfo(id).get_data_frames()[0])\n",
            "C:\\Users\\User\\AppData\\Local\\Temp\\ipykernel_11820\\3377949429.py:23: FutureWarning: The frame.append method is deprecated and will be removed from pandas in a future version. Use pandas.concat instead.\n",
            "  df_info = df_info.append(cpi.CommonPlayerInfo(id).get_data_frames()[0])\n",
            "C:\\Users\\User\\AppData\\Local\\Temp\\ipykernel_11820\\3377949429.py:23: FutureWarning: The frame.append method is deprecated and will be removed from pandas in a future version. Use pandas.concat instead.\n",
            "  df_info = df_info.append(cpi.CommonPlayerInfo(id).get_data_frames()[0])\n",
            "C:\\Users\\User\\AppData\\Local\\Temp\\ipykernel_11820\\3377949429.py:23: FutureWarning: The frame.append method is deprecated and will be removed from pandas in a future version. Use pandas.concat instead.\n",
            "  df_info = df_info.append(cpi.CommonPlayerInfo(id).get_data_frames()[0])\n",
            "C:\\Users\\User\\AppData\\Local\\Temp\\ipykernel_11820\\3377949429.py:23: FutureWarning: The frame.append method is deprecated and will be removed from pandas in a future version. Use pandas.concat instead.\n",
            "  df_info = df_info.append(cpi.CommonPlayerInfo(id).get_data_frames()[0])\n",
            "C:\\Users\\User\\AppData\\Local\\Temp\\ipykernel_11820\\3377949429.py:23: FutureWarning: The frame.append method is deprecated and will be removed from pandas in a future version. Use pandas.concat instead.\n",
            "  df_info = df_info.append(cpi.CommonPlayerInfo(id).get_data_frames()[0])\n",
            "C:\\Users\\User\\AppData\\Local\\Temp\\ipykernel_11820\\3377949429.py:23: FutureWarning: The frame.append method is deprecated and will be removed from pandas in a future version. Use pandas.concat instead.\n",
            "  df_info = df_info.append(cpi.CommonPlayerInfo(id).get_data_frames()[0])\n",
            "C:\\Users\\User\\AppData\\Local\\Temp\\ipykernel_11820\\3377949429.py:23: FutureWarning: The frame.append method is deprecated and will be removed from pandas in a future version. Use pandas.concat instead.\n",
            "  df_info = df_info.append(cpi.CommonPlayerInfo(id).get_data_frames()[0])\n",
            "C:\\Users\\User\\AppData\\Local\\Temp\\ipykernel_11820\\3377949429.py:23: FutureWarning: The frame.append method is deprecated and will be removed from pandas in a future version. Use pandas.concat instead.\n",
            "  df_info = df_info.append(cpi.CommonPlayerInfo(id).get_data_frames()[0])\n",
            "C:\\Users\\User\\AppData\\Local\\Temp\\ipykernel_11820\\3377949429.py:23: FutureWarning: The frame.append method is deprecated and will be removed from pandas in a future version. Use pandas.concat instead.\n",
            "  df_info = df_info.append(cpi.CommonPlayerInfo(id).get_data_frames()[0])\n",
            "C:\\Users\\User\\AppData\\Local\\Temp\\ipykernel_11820\\3377949429.py:23: FutureWarning: The frame.append method is deprecated and will be removed from pandas in a future version. Use pandas.concat instead.\n",
            "  df_info = df_info.append(cpi.CommonPlayerInfo(id).get_data_frames()[0])\n",
            "C:\\Users\\User\\AppData\\Local\\Temp\\ipykernel_11820\\3377949429.py:23: FutureWarning: The frame.append method is deprecated and will be removed from pandas in a future version. Use pandas.concat instead.\n",
            "  df_info = df_info.append(cpi.CommonPlayerInfo(id).get_data_frames()[0])\n",
            "C:\\Users\\User\\AppData\\Local\\Temp\\ipykernel_11820\\3377949429.py:23: FutureWarning: The frame.append method is deprecated and will be removed from pandas in a future version. Use pandas.concat instead.\n",
            "  df_info = df_info.append(cpi.CommonPlayerInfo(id).get_data_frames()[0])\n",
            "C:\\Users\\User\\AppData\\Local\\Temp\\ipykernel_11820\\3377949429.py:23: FutureWarning: The frame.append method is deprecated and will be removed from pandas in a future version. Use pandas.concat instead.\n",
            "  df_info = df_info.append(cpi.CommonPlayerInfo(id).get_data_frames()[0])\n",
            "C:\\Users\\User\\AppData\\Local\\Temp\\ipykernel_11820\\3377949429.py:23: FutureWarning: The frame.append method is deprecated and will be removed from pandas in a future version. Use pandas.concat instead.\n",
            "  df_info = df_info.append(cpi.CommonPlayerInfo(id).get_data_frames()[0])\n",
            "C:\\Users\\User\\AppData\\Local\\Temp\\ipykernel_11820\\3377949429.py:23: FutureWarning: The frame.append method is deprecated and will be removed from pandas in a future version. Use pandas.concat instead.\n",
            "  df_info = df_info.append(cpi.CommonPlayerInfo(id).get_data_frames()[0])\n",
            "C:\\Users\\User\\AppData\\Local\\Temp\\ipykernel_11820\\3377949429.py:23: FutureWarning: The frame.append method is deprecated and will be removed from pandas in a future version. Use pandas.concat instead.\n",
            "  df_info = df_info.append(cpi.CommonPlayerInfo(id).get_data_frames()[0])\n",
            "C:\\Users\\User\\AppData\\Local\\Temp\\ipykernel_11820\\3377949429.py:23: FutureWarning: The frame.append method is deprecated and will be removed from pandas in a future version. Use pandas.concat instead.\n",
            "  df_info = df_info.append(cpi.CommonPlayerInfo(id).get_data_frames()[0])\n",
            "C:\\Users\\User\\AppData\\Local\\Temp\\ipykernel_11820\\3377949429.py:23: FutureWarning: The frame.append method is deprecated and will be removed from pandas in a future version. Use pandas.concat instead.\n",
            "  df_info = df_info.append(cpi.CommonPlayerInfo(id).get_data_frames()[0])\n",
            "C:\\Users\\User\\AppData\\Local\\Temp\\ipykernel_11820\\3377949429.py:23: FutureWarning: The frame.append method is deprecated and will be removed from pandas in a future version. Use pandas.concat instead.\n",
            "  df_info = df_info.append(cpi.CommonPlayerInfo(id).get_data_frames()[0])\n",
            "C:\\Users\\User\\AppData\\Local\\Temp\\ipykernel_11820\\3377949429.py:23: FutureWarning: The frame.append method is deprecated and will be removed from pandas in a future version. Use pandas.concat instead.\n",
            "  df_info = df_info.append(cpi.CommonPlayerInfo(id).get_data_frames()[0])\n",
            "C:\\Users\\User\\AppData\\Local\\Temp\\ipykernel_11820\\3377949429.py:23: FutureWarning: The frame.append method is deprecated and will be removed from pandas in a future version. Use pandas.concat instead.\n",
            "  df_info = df_info.append(cpi.CommonPlayerInfo(id).get_data_frames()[0])\n",
            "C:\\Users\\User\\AppData\\Local\\Temp\\ipykernel_11820\\3377949429.py:23: FutureWarning: The frame.append method is deprecated and will be removed from pandas in a future version. Use pandas.concat instead.\n",
            "  df_info = df_info.append(cpi.CommonPlayerInfo(id).get_data_frames()[0])\n",
            "C:\\Users\\User\\AppData\\Local\\Temp\\ipykernel_11820\\3377949429.py:23: FutureWarning: The frame.append method is deprecated and will be removed from pandas in a future version. Use pandas.concat instead.\n",
            "  df_info = df_info.append(cpi.CommonPlayerInfo(id).get_data_frames()[0])\n",
            "C:\\Users\\User\\AppData\\Local\\Temp\\ipykernel_11820\\3377949429.py:23: FutureWarning: The frame.append method is deprecated and will be removed from pandas in a future version. Use pandas.concat instead.\n",
            "  df_info = df_info.append(cpi.CommonPlayerInfo(id).get_data_frames()[0])\n",
            "C:\\Users\\User\\AppData\\Local\\Temp\\ipykernel_11820\\3377949429.py:23: FutureWarning: The frame.append method is deprecated and will be removed from pandas in a future version. Use pandas.concat instead.\n",
            "  df_info = df_info.append(cpi.CommonPlayerInfo(id).get_data_frames()[0])\n",
            "C:\\Users\\User\\AppData\\Local\\Temp\\ipykernel_11820\\3377949429.py:23: FutureWarning: The frame.append method is deprecated and will be removed from pandas in a future version. Use pandas.concat instead.\n",
            "  df_info = df_info.append(cpi.CommonPlayerInfo(id).get_data_frames()[0])\n",
            "C:\\Users\\User\\AppData\\Local\\Temp\\ipykernel_11820\\3377949429.py:23: FutureWarning: The frame.append method is deprecated and will be removed from pandas in a future version. Use pandas.concat instead.\n",
            "  df_info = df_info.append(cpi.CommonPlayerInfo(id).get_data_frames()[0])\n",
            "C:\\Users\\User\\AppData\\Local\\Temp\\ipykernel_11820\\3377949429.py:23: FutureWarning: The frame.append method is deprecated and will be removed from pandas in a future version. Use pandas.concat instead.\n",
            "  df_info = df_info.append(cpi.CommonPlayerInfo(id).get_data_frames()[0])\n",
            "C:\\Users\\User\\AppData\\Local\\Temp\\ipykernel_11820\\3377949429.py:23: FutureWarning: The frame.append method is deprecated and will be removed from pandas in a future version. Use pandas.concat instead.\n",
            "  df_info = df_info.append(cpi.CommonPlayerInfo(id).get_data_frames()[0])\n",
            "C:\\Users\\User\\AppData\\Local\\Temp\\ipykernel_11820\\3377949429.py:23: FutureWarning: The frame.append method is deprecated and will be removed from pandas in a future version. Use pandas.concat instead.\n",
            "  df_info = df_info.append(cpi.CommonPlayerInfo(id).get_data_frames()[0])\n",
            "C:\\Users\\User\\AppData\\Local\\Temp\\ipykernel_11820\\3377949429.py:23: FutureWarning: The frame.append method is deprecated and will be removed from pandas in a future version. Use pandas.concat instead.\n",
            "  df_info = df_info.append(cpi.CommonPlayerInfo(id).get_data_frames()[0])\n",
            "C:\\Users\\User\\AppData\\Local\\Temp\\ipykernel_11820\\3377949429.py:23: FutureWarning: The frame.append method is deprecated and will be removed from pandas in a future version. Use pandas.concat instead.\n",
            "  df_info = df_info.append(cpi.CommonPlayerInfo(id).get_data_frames()[0])\n",
            "C:\\Users\\User\\AppData\\Local\\Temp\\ipykernel_11820\\3377949429.py:23: FutureWarning: The frame.append method is deprecated and will be removed from pandas in a future version. Use pandas.concat instead.\n",
            "  df_info = df_info.append(cpi.CommonPlayerInfo(id).get_data_frames()[0])\n",
            "C:\\Users\\User\\AppData\\Local\\Temp\\ipykernel_11820\\3377949429.py:23: FutureWarning: The frame.append method is deprecated and will be removed from pandas in a future version. Use pandas.concat instead.\n",
            "  df_info = df_info.append(cpi.CommonPlayerInfo(id).get_data_frames()[0])\n",
            "C:\\Users\\User\\AppData\\Local\\Temp\\ipykernel_11820\\3377949429.py:23: FutureWarning: The frame.append method is deprecated and will be removed from pandas in a future version. Use pandas.concat instead.\n",
            "  df_info = df_info.append(cpi.CommonPlayerInfo(id).get_data_frames()[0])\n",
            "C:\\Users\\User\\AppData\\Local\\Temp\\ipykernel_11820\\3377949429.py:23: FutureWarning: The frame.append method is deprecated and will be removed from pandas in a future version. Use pandas.concat instead.\n",
            "  df_info = df_info.append(cpi.CommonPlayerInfo(id).get_data_frames()[0])\n",
            "C:\\Users\\User\\AppData\\Local\\Temp\\ipykernel_11820\\3377949429.py:23: FutureWarning: The frame.append method is deprecated and will be removed from pandas in a future version. Use pandas.concat instead.\n",
            "  df_info = df_info.append(cpi.CommonPlayerInfo(id).get_data_frames()[0])\n",
            "C:\\Users\\User\\AppData\\Local\\Temp\\ipykernel_11820\\3377949429.py:23: FutureWarning: The frame.append method is deprecated and will be removed from pandas in a future version. Use pandas.concat instead.\n",
            "  df_info = df_info.append(cpi.CommonPlayerInfo(id).get_data_frames()[0])\n",
            "C:\\Users\\User\\AppData\\Local\\Temp\\ipykernel_11820\\3377949429.py:23: FutureWarning: The frame.append method is deprecated and will be removed from pandas in a future version. Use pandas.concat instead.\n",
            "  df_info = df_info.append(cpi.CommonPlayerInfo(id).get_data_frames()[0])\n",
            "C:\\Users\\User\\AppData\\Local\\Temp\\ipykernel_11820\\3377949429.py:23: FutureWarning: The frame.append method is deprecated and will be removed from pandas in a future version. Use pandas.concat instead.\n",
            "  df_info = df_info.append(cpi.CommonPlayerInfo(id).get_data_frames()[0])\n",
            "C:\\Users\\User\\AppData\\Local\\Temp\\ipykernel_11820\\3377949429.py:23: FutureWarning: The frame.append method is deprecated and will be removed from pandas in a future version. Use pandas.concat instead.\n",
            "  df_info = df_info.append(cpi.CommonPlayerInfo(id).get_data_frames()[0])\n",
            "C:\\Users\\User\\AppData\\Local\\Temp\\ipykernel_11820\\3377949429.py:23: FutureWarning: The frame.append method is deprecated and will be removed from pandas in a future version. Use pandas.concat instead.\n",
            "  df_info = df_info.append(cpi.CommonPlayerInfo(id).get_data_frames()[0])\n",
            "C:\\Users\\User\\AppData\\Local\\Temp\\ipykernel_11820\\3377949429.py:23: FutureWarning: The frame.append method is deprecated and will be removed from pandas in a future version. Use pandas.concat instead.\n",
            "  df_info = df_info.append(cpi.CommonPlayerInfo(id).get_data_frames()[0])\n",
            "C:\\Users\\User\\AppData\\Local\\Temp\\ipykernel_11820\\3377949429.py:23: FutureWarning: The frame.append method is deprecated and will be removed from pandas in a future version. Use pandas.concat instead.\n",
            "  df_info = df_info.append(cpi.CommonPlayerInfo(id).get_data_frames()[0])\n",
            "C:\\Users\\User\\AppData\\Local\\Temp\\ipykernel_11820\\3377949429.py:23: FutureWarning: The frame.append method is deprecated and will be removed from pandas in a future version. Use pandas.concat instead.\n",
            "  df_info = df_info.append(cpi.CommonPlayerInfo(id).get_data_frames()[0])\n",
            "C:\\Users\\User\\AppData\\Local\\Temp\\ipykernel_11820\\3377949429.py:23: FutureWarning: The frame.append method is deprecated and will be removed from pandas in a future version. Use pandas.concat instead.\n",
            "  df_info = df_info.append(cpi.CommonPlayerInfo(id).get_data_frames()[0])\n",
            "C:\\Users\\User\\AppData\\Local\\Temp\\ipykernel_11820\\3377949429.py:23: FutureWarning: The frame.append method is deprecated and will be removed from pandas in a future version. Use pandas.concat instead.\n",
            "  df_info = df_info.append(cpi.CommonPlayerInfo(id).get_data_frames()[0])\n",
            "C:\\Users\\User\\AppData\\Local\\Temp\\ipykernel_11820\\3377949429.py:23: FutureWarning: The frame.append method is deprecated and will be removed from pandas in a future version. Use pandas.concat instead.\n",
            "  df_info = df_info.append(cpi.CommonPlayerInfo(id).get_data_frames()[0])\n",
            "C:\\Users\\User\\AppData\\Local\\Temp\\ipykernel_11820\\3377949429.py:23: FutureWarning: The frame.append method is deprecated and will be removed from pandas in a future version. Use pandas.concat instead.\n",
            "  df_info = df_info.append(cpi.CommonPlayerInfo(id).get_data_frames()[0])\n",
            "C:\\Users\\User\\AppData\\Local\\Temp\\ipykernel_11820\\3377949429.py:23: FutureWarning: The frame.append method is deprecated and will be removed from pandas in a future version. Use pandas.concat instead.\n",
            "  df_info = df_info.append(cpi.CommonPlayerInfo(id).get_data_frames()[0])\n",
            "C:\\Users\\User\\AppData\\Local\\Temp\\ipykernel_11820\\3377949429.py:23: FutureWarning: The frame.append method is deprecated and will be removed from pandas in a future version. Use pandas.concat instead.\n",
            "  df_info = df_info.append(cpi.CommonPlayerInfo(id).get_data_frames()[0])\n",
            "C:\\Users\\User\\AppData\\Local\\Temp\\ipykernel_11820\\3377949429.py:23: FutureWarning: The frame.append method is deprecated and will be removed from pandas in a future version. Use pandas.concat instead.\n",
            "  df_info = df_info.append(cpi.CommonPlayerInfo(id).get_data_frames()[0])\n",
            "C:\\Users\\User\\AppData\\Local\\Temp\\ipykernel_11820\\3377949429.py:23: FutureWarning: The frame.append method is deprecated and will be removed from pandas in a future version. Use pandas.concat instead.\n",
            "  df_info = df_info.append(cpi.CommonPlayerInfo(id).get_data_frames()[0])\n",
            "C:\\Users\\User\\AppData\\Local\\Temp\\ipykernel_11820\\3377949429.py:23: FutureWarning: The frame.append method is deprecated and will be removed from pandas in a future version. Use pandas.concat instead.\n",
            "  df_info = df_info.append(cpi.CommonPlayerInfo(id).get_data_frames()[0])\n",
            "C:\\Users\\User\\AppData\\Local\\Temp\\ipykernel_11820\\3377949429.py:23: FutureWarning: The frame.append method is deprecated and will be removed from pandas in a future version. Use pandas.concat instead.\n",
            "  df_info = df_info.append(cpi.CommonPlayerInfo(id).get_data_frames()[0])\n",
            "C:\\Users\\User\\AppData\\Local\\Temp\\ipykernel_11820\\3377949429.py:23: FutureWarning: The frame.append method is deprecated and will be removed from pandas in a future version. Use pandas.concat instead.\n",
            "  df_info = df_info.append(cpi.CommonPlayerInfo(id).get_data_frames()[0])\n",
            "C:\\Users\\User\\AppData\\Local\\Temp\\ipykernel_11820\\3377949429.py:23: FutureWarning: The frame.append method is deprecated and will be removed from pandas in a future version. Use pandas.concat instead.\n",
            "  df_info = df_info.append(cpi.CommonPlayerInfo(id).get_data_frames()[0])\n",
            "C:\\Users\\User\\AppData\\Local\\Temp\\ipykernel_11820\\3377949429.py:23: FutureWarning: The frame.append method is deprecated and will be removed from pandas in a future version. Use pandas.concat instead.\n",
            "  df_info = df_info.append(cpi.CommonPlayerInfo(id).get_data_frames()[0])\n",
            "C:\\Users\\User\\AppData\\Local\\Temp\\ipykernel_11820\\3377949429.py:23: FutureWarning: The frame.append method is deprecated and will be removed from pandas in a future version. Use pandas.concat instead.\n",
            "  df_info = df_info.append(cpi.CommonPlayerInfo(id).get_data_frames()[0])\n",
            "C:\\Users\\User\\AppData\\Local\\Temp\\ipykernel_11820\\3377949429.py:23: FutureWarning: The frame.append method is deprecated and will be removed from pandas in a future version. Use pandas.concat instead.\n",
            "  df_info = df_info.append(cpi.CommonPlayerInfo(id).get_data_frames()[0])\n",
            "C:\\Users\\User\\AppData\\Local\\Temp\\ipykernel_11820\\3377949429.py:23: FutureWarning: The frame.append method is deprecated and will be removed from pandas in a future version. Use pandas.concat instead.\n",
            "  df_info = df_info.append(cpi.CommonPlayerInfo(id).get_data_frames()[0])\n",
            "C:\\Users\\User\\AppData\\Local\\Temp\\ipykernel_11820\\3377949429.py:23: FutureWarning: The frame.append method is deprecated and will be removed from pandas in a future version. Use pandas.concat instead.\n",
            "  df_info = df_info.append(cpi.CommonPlayerInfo(id).get_data_frames()[0])\n",
            "C:\\Users\\User\\AppData\\Local\\Temp\\ipykernel_11820\\3377949429.py:23: FutureWarning: The frame.append method is deprecated and will be removed from pandas in a future version. Use pandas.concat instead.\n",
            "  df_info = df_info.append(cpi.CommonPlayerInfo(id).get_data_frames()[0])\n",
            "C:\\Users\\User\\AppData\\Local\\Temp\\ipykernel_11820\\3377949429.py:23: FutureWarning: The frame.append method is deprecated and will be removed from pandas in a future version. Use pandas.concat instead.\n",
            "  df_info = df_info.append(cpi.CommonPlayerInfo(id).get_data_frames()[0])\n",
            "C:\\Users\\User\\AppData\\Local\\Temp\\ipykernel_11820\\3377949429.py:23: FutureWarning: The frame.append method is deprecated and will be removed from pandas in a future version. Use pandas.concat instead.\n",
            "  df_info = df_info.append(cpi.CommonPlayerInfo(id).get_data_frames()[0])\n",
            "C:\\Users\\User\\AppData\\Local\\Temp\\ipykernel_11820\\3377949429.py:23: FutureWarning: The frame.append method is deprecated and will be removed from pandas in a future version. Use pandas.concat instead.\n",
            "  df_info = df_info.append(cpi.CommonPlayerInfo(id).get_data_frames()[0])\n",
            "C:\\Users\\User\\AppData\\Local\\Temp\\ipykernel_11820\\3377949429.py:23: FutureWarning: The frame.append method is deprecated and will be removed from pandas in a future version. Use pandas.concat instead.\n",
            "  df_info = df_info.append(cpi.CommonPlayerInfo(id).get_data_frames()[0])\n",
            "C:\\Users\\User\\AppData\\Local\\Temp\\ipykernel_11820\\3377949429.py:23: FutureWarning: The frame.append method is deprecated and will be removed from pandas in a future version. Use pandas.concat instead.\n",
            "  df_info = df_info.append(cpi.CommonPlayerInfo(id).get_data_frames()[0])\n",
            "C:\\Users\\User\\AppData\\Local\\Temp\\ipykernel_11820\\3377949429.py:23: FutureWarning: The frame.append method is deprecated and will be removed from pandas in a future version. Use pandas.concat instead.\n",
            "  df_info = df_info.append(cpi.CommonPlayerInfo(id).get_data_frames()[0])\n",
            "C:\\Users\\User\\AppData\\Local\\Temp\\ipykernel_11820\\3377949429.py:23: FutureWarning: The frame.append method is deprecated and will be removed from pandas in a future version. Use pandas.concat instead.\n",
            "  df_info = df_info.append(cpi.CommonPlayerInfo(id).get_data_frames()[0])\n",
            "C:\\Users\\User\\AppData\\Local\\Temp\\ipykernel_11820\\3377949429.py:23: FutureWarning: The frame.append method is deprecated and will be removed from pandas in a future version. Use pandas.concat instead.\n",
            "  df_info = df_info.append(cpi.CommonPlayerInfo(id).get_data_frames()[0])\n",
            "C:\\Users\\User\\AppData\\Local\\Temp\\ipykernel_11820\\3377949429.py:23: FutureWarning: The frame.append method is deprecated and will be removed from pandas in a future version. Use pandas.concat instead.\n",
            "  df_info = df_info.append(cpi.CommonPlayerInfo(id).get_data_frames()[0])\n",
            "C:\\Users\\User\\AppData\\Local\\Temp\\ipykernel_11820\\3377949429.py:23: FutureWarning: The frame.append method is deprecated and will be removed from pandas in a future version. Use pandas.concat instead.\n",
            "  df_info = df_info.append(cpi.CommonPlayerInfo(id).get_data_frames()[0])\n",
            "C:\\Users\\User\\AppData\\Local\\Temp\\ipykernel_11820\\3377949429.py:23: FutureWarning: The frame.append method is deprecated and will be removed from pandas in a future version. Use pandas.concat instead.\n",
            "  df_info = df_info.append(cpi.CommonPlayerInfo(id).get_data_frames()[0])\n",
            "C:\\Users\\User\\AppData\\Local\\Temp\\ipykernel_11820\\3377949429.py:23: FutureWarning: The frame.append method is deprecated and will be removed from pandas in a future version. Use pandas.concat instead.\n",
            "  df_info = df_info.append(cpi.CommonPlayerInfo(id).get_data_frames()[0])\n",
            "C:\\Users\\User\\AppData\\Local\\Temp\\ipykernel_11820\\3377949429.py:23: FutureWarning: The frame.append method is deprecated and will be removed from pandas in a future version. Use pandas.concat instead.\n",
            "  df_info = df_info.append(cpi.CommonPlayerInfo(id).get_data_frames()[0])\n",
            "C:\\Users\\User\\AppData\\Local\\Temp\\ipykernel_11820\\3377949429.py:23: FutureWarning: The frame.append method is deprecated and will be removed from pandas in a future version. Use pandas.concat instead.\n",
            "  df_info = df_info.append(cpi.CommonPlayerInfo(id).get_data_frames()[0])\n",
            "C:\\Users\\User\\AppData\\Local\\Temp\\ipykernel_11820\\3377949429.py:23: FutureWarning: The frame.append method is deprecated and will be removed from pandas in a future version. Use pandas.concat instead.\n",
            "  df_info = df_info.append(cpi.CommonPlayerInfo(id).get_data_frames()[0])\n",
            "C:\\Users\\User\\AppData\\Local\\Temp\\ipykernel_11820\\3377949429.py:23: FutureWarning: The frame.append method is deprecated and will be removed from pandas in a future version. Use pandas.concat instead.\n",
            "  df_info = df_info.append(cpi.CommonPlayerInfo(id).get_data_frames()[0])\n",
            "C:\\Users\\User\\AppData\\Local\\Temp\\ipykernel_11820\\3377949429.py:23: FutureWarning: The frame.append method is deprecated and will be removed from pandas in a future version. Use pandas.concat instead.\n",
            "  df_info = df_info.append(cpi.CommonPlayerInfo(id).get_data_frames()[0])\n",
            "C:\\Users\\User\\AppData\\Local\\Temp\\ipykernel_11820\\3377949429.py:23: FutureWarning: The frame.append method is deprecated and will be removed from pandas in a future version. Use pandas.concat instead.\n",
            "  df_info = df_info.append(cpi.CommonPlayerInfo(id).get_data_frames()[0])\n",
            "C:\\Users\\User\\AppData\\Local\\Temp\\ipykernel_11820\\3377949429.py:23: FutureWarning: The frame.append method is deprecated and will be removed from pandas in a future version. Use pandas.concat instead.\n",
            "  df_info = df_info.append(cpi.CommonPlayerInfo(id).get_data_frames()[0])\n",
            "C:\\Users\\User\\AppData\\Local\\Temp\\ipykernel_11820\\3377949429.py:23: FutureWarning: The frame.append method is deprecated and will be removed from pandas in a future version. Use pandas.concat instead.\n",
            "  df_info = df_info.append(cpi.CommonPlayerInfo(id).get_data_frames()[0])\n",
            "C:\\Users\\User\\AppData\\Local\\Temp\\ipykernel_11820\\3377949429.py:23: FutureWarning: The frame.append method is deprecated and will be removed from pandas in a future version. Use pandas.concat instead.\n",
            "  df_info = df_info.append(cpi.CommonPlayerInfo(id).get_data_frames()[0])\n",
            "C:\\Users\\User\\AppData\\Local\\Temp\\ipykernel_11820\\3377949429.py:23: FutureWarning: The frame.append method is deprecated and will be removed from pandas in a future version. Use pandas.concat instead.\n",
            "  df_info = df_info.append(cpi.CommonPlayerInfo(id).get_data_frames()[0])\n",
            "C:\\Users\\User\\AppData\\Local\\Temp\\ipykernel_11820\\3377949429.py:23: FutureWarning: The frame.append method is deprecated and will be removed from pandas in a future version. Use pandas.concat instead.\n",
            "  df_info = df_info.append(cpi.CommonPlayerInfo(id).get_data_frames()[0])\n",
            "C:\\Users\\User\\AppData\\Local\\Temp\\ipykernel_11820\\3377949429.py:23: FutureWarning: The frame.append method is deprecated and will be removed from pandas in a future version. Use pandas.concat instead.\n",
            "  df_info = df_info.append(cpi.CommonPlayerInfo(id).get_data_frames()[0])\n",
            "C:\\Users\\User\\AppData\\Local\\Temp\\ipykernel_11820\\3377949429.py:23: FutureWarning: The frame.append method is deprecated and will be removed from pandas in a future version. Use pandas.concat instead.\n",
            "  df_info = df_info.append(cpi.CommonPlayerInfo(id).get_data_frames()[0])\n",
            "C:\\Users\\User\\AppData\\Local\\Temp\\ipykernel_11820\\3377949429.py:23: FutureWarning: The frame.append method is deprecated and will be removed from pandas in a future version. Use pandas.concat instead.\n",
            "  df_info = df_info.append(cpi.CommonPlayerInfo(id).get_data_frames()[0])\n",
            "C:\\Users\\User\\AppData\\Local\\Temp\\ipykernel_11820\\3377949429.py:23: FutureWarning: The frame.append method is deprecated and will be removed from pandas in a future version. Use pandas.concat instead.\n",
            "  df_info = df_info.append(cpi.CommonPlayerInfo(id).get_data_frames()[0])\n",
            "C:\\Users\\User\\AppData\\Local\\Temp\\ipykernel_11820\\3377949429.py:23: FutureWarning: The frame.append method is deprecated and will be removed from pandas in a future version. Use pandas.concat instead.\n",
            "  df_info = df_info.append(cpi.CommonPlayerInfo(id).get_data_frames()[0])\n",
            "C:\\Users\\User\\AppData\\Local\\Temp\\ipykernel_11820\\3377949429.py:23: FutureWarning: The frame.append method is deprecated and will be removed from pandas in a future version. Use pandas.concat instead.\n",
            "  df_info = df_info.append(cpi.CommonPlayerInfo(id).get_data_frames()[0])\n",
            "C:\\Users\\User\\AppData\\Local\\Temp\\ipykernel_11820\\3377949429.py:23: FutureWarning: The frame.append method is deprecated and will be removed from pandas in a future version. Use pandas.concat instead.\n",
            "  df_info = df_info.append(cpi.CommonPlayerInfo(id).get_data_frames()[0])\n",
            "C:\\Users\\User\\AppData\\Local\\Temp\\ipykernel_11820\\3377949429.py:23: FutureWarning: The frame.append method is deprecated and will be removed from pandas in a future version. Use pandas.concat instead.\n",
            "  df_info = df_info.append(cpi.CommonPlayerInfo(id).get_data_frames()[0])\n",
            "C:\\Users\\User\\AppData\\Local\\Temp\\ipykernel_11820\\3377949429.py:23: FutureWarning: The frame.append method is deprecated and will be removed from pandas in a future version. Use pandas.concat instead.\n",
            "  df_info = df_info.append(cpi.CommonPlayerInfo(id).get_data_frames()[0])\n",
            "C:\\Users\\User\\AppData\\Local\\Temp\\ipykernel_11820\\3377949429.py:23: FutureWarning: The frame.append method is deprecated and will be removed from pandas in a future version. Use pandas.concat instead.\n",
            "  df_info = df_info.append(cpi.CommonPlayerInfo(id).get_data_frames()[0])\n",
            "C:\\Users\\User\\AppData\\Local\\Temp\\ipykernel_11820\\3377949429.py:23: FutureWarning: The frame.append method is deprecated and will be removed from pandas in a future version. Use pandas.concat instead.\n",
            "  df_info = df_info.append(cpi.CommonPlayerInfo(id).get_data_frames()[0])\n",
            "C:\\Users\\User\\AppData\\Local\\Temp\\ipykernel_11820\\3377949429.py:23: FutureWarning: The frame.append method is deprecated and will be removed from pandas in a future version. Use pandas.concat instead.\n",
            "  df_info = df_info.append(cpi.CommonPlayerInfo(id).get_data_frames()[0])\n",
            "C:\\Users\\User\\AppData\\Local\\Temp\\ipykernel_11820\\3377949429.py:23: FutureWarning: The frame.append method is deprecated and will be removed from pandas in a future version. Use pandas.concat instead.\n",
            "  df_info = df_info.append(cpi.CommonPlayerInfo(id).get_data_frames()[0])\n",
            "C:\\Users\\User\\AppData\\Local\\Temp\\ipykernel_11820\\3377949429.py:23: FutureWarning: The frame.append method is deprecated and will be removed from pandas in a future version. Use pandas.concat instead.\n",
            "  df_info = df_info.append(cpi.CommonPlayerInfo(id).get_data_frames()[0])\n",
            "C:\\Users\\User\\AppData\\Local\\Temp\\ipykernel_11820\\3377949429.py:23: FutureWarning: The frame.append method is deprecated and will be removed from pandas in a future version. Use pandas.concat instead.\n",
            "  df_info = df_info.append(cpi.CommonPlayerInfo(id).get_data_frames()[0])\n",
            "C:\\Users\\User\\AppData\\Local\\Temp\\ipykernel_11820\\3377949429.py:23: FutureWarning: The frame.append method is deprecated and will be removed from pandas in a future version. Use pandas.concat instead.\n",
            "  df_info = df_info.append(cpi.CommonPlayerInfo(id).get_data_frames()[0])\n",
            "C:\\Users\\User\\AppData\\Local\\Temp\\ipykernel_11820\\3377949429.py:23: FutureWarning: The frame.append method is deprecated and will be removed from pandas in a future version. Use pandas.concat instead.\n",
            "  df_info = df_info.append(cpi.CommonPlayerInfo(id).get_data_frames()[0])\n",
            "C:\\Users\\User\\AppData\\Local\\Temp\\ipykernel_11820\\3377949429.py:23: FutureWarning: The frame.append method is deprecated and will be removed from pandas in a future version. Use pandas.concat instead.\n",
            "  df_info = df_info.append(cpi.CommonPlayerInfo(id).get_data_frames()[0])\n",
            "C:\\Users\\User\\AppData\\Local\\Temp\\ipykernel_11820\\3377949429.py:23: FutureWarning: The frame.append method is deprecated and will be removed from pandas in a future version. Use pandas.concat instead.\n",
            "  df_info = df_info.append(cpi.CommonPlayerInfo(id).get_data_frames()[0])\n",
            "C:\\Users\\User\\AppData\\Local\\Temp\\ipykernel_11820\\3377949429.py:23: FutureWarning: The frame.append method is deprecated and will be removed from pandas in a future version. Use pandas.concat instead.\n",
            "  df_info = df_info.append(cpi.CommonPlayerInfo(id).get_data_frames()[0])\n",
            "C:\\Users\\User\\AppData\\Local\\Temp\\ipykernel_11820\\3377949429.py:23: FutureWarning: The frame.append method is deprecated and will be removed from pandas in a future version. Use pandas.concat instead.\n",
            "  df_info = df_info.append(cpi.CommonPlayerInfo(id).get_data_frames()[0])\n",
            "C:\\Users\\User\\AppData\\Local\\Temp\\ipykernel_11820\\3377949429.py:23: FutureWarning: The frame.append method is deprecated and will be removed from pandas in a future version. Use pandas.concat instead.\n",
            "  df_info = df_info.append(cpi.CommonPlayerInfo(id).get_data_frames()[0])\n",
            "C:\\Users\\User\\AppData\\Local\\Temp\\ipykernel_11820\\3377949429.py:23: FutureWarning: The frame.append method is deprecated and will be removed from pandas in a future version. Use pandas.concat instead.\n",
            "  df_info = df_info.append(cpi.CommonPlayerInfo(id).get_data_frames()[0])\n",
            "C:\\Users\\User\\AppData\\Local\\Temp\\ipykernel_11820\\3377949429.py:23: FutureWarning: The frame.append method is deprecated and will be removed from pandas in a future version. Use pandas.concat instead.\n",
            "  df_info = df_info.append(cpi.CommonPlayerInfo(id).get_data_frames()[0])\n",
            "C:\\Users\\User\\AppData\\Local\\Temp\\ipykernel_11820\\3377949429.py:23: FutureWarning: The frame.append method is deprecated and will be removed from pandas in a future version. Use pandas.concat instead.\n",
            "  df_info = df_info.append(cpi.CommonPlayerInfo(id).get_data_frames()[0])\n",
            "C:\\Users\\User\\AppData\\Local\\Temp\\ipykernel_11820\\3377949429.py:23: FutureWarning: The frame.append method is deprecated and will be removed from pandas in a future version. Use pandas.concat instead.\n",
            "  df_info = df_info.append(cpi.CommonPlayerInfo(id).get_data_frames()[0])\n",
            "C:\\Users\\User\\AppData\\Local\\Temp\\ipykernel_11820\\3377949429.py:23: FutureWarning: The frame.append method is deprecated and will be removed from pandas in a future version. Use pandas.concat instead.\n",
            "  df_info = df_info.append(cpi.CommonPlayerInfo(id).get_data_frames()[0])\n",
            "C:\\Users\\User\\AppData\\Local\\Temp\\ipykernel_11820\\3377949429.py:23: FutureWarning: The frame.append method is deprecated and will be removed from pandas in a future version. Use pandas.concat instead.\n",
            "  df_info = df_info.append(cpi.CommonPlayerInfo(id).get_data_frames()[0])\n",
            "C:\\Users\\User\\AppData\\Local\\Temp\\ipykernel_11820\\3377949429.py:23: FutureWarning: The frame.append method is deprecated and will be removed from pandas in a future version. Use pandas.concat instead.\n",
            "  df_info = df_info.append(cpi.CommonPlayerInfo(id).get_data_frames()[0])\n",
            "C:\\Users\\User\\AppData\\Local\\Temp\\ipykernel_11820\\3377949429.py:23: FutureWarning: The frame.append method is deprecated and will be removed from pandas in a future version. Use pandas.concat instead.\n",
            "  df_info = df_info.append(cpi.CommonPlayerInfo(id).get_data_frames()[0])\n",
            "C:\\Users\\User\\AppData\\Local\\Temp\\ipykernel_11820\\3377949429.py:23: FutureWarning: The frame.append method is deprecated and will be removed from pandas in a future version. Use pandas.concat instead.\n",
            "  df_info = df_info.append(cpi.CommonPlayerInfo(id).get_data_frames()[0])\n",
            "C:\\Users\\User\\AppData\\Local\\Temp\\ipykernel_11820\\3377949429.py:23: FutureWarning: The frame.append method is deprecated and will be removed from pandas in a future version. Use pandas.concat instead.\n",
            "  df_info = df_info.append(cpi.CommonPlayerInfo(id).get_data_frames()[0])\n",
            "C:\\Users\\User\\AppData\\Local\\Temp\\ipykernel_11820\\3377949429.py:23: FutureWarning: The frame.append method is deprecated and will be removed from pandas in a future version. Use pandas.concat instead.\n",
            "  df_info = df_info.append(cpi.CommonPlayerInfo(id).get_data_frames()[0])\n",
            "C:\\Users\\User\\AppData\\Local\\Temp\\ipykernel_11820\\3377949429.py:23: FutureWarning: The frame.append method is deprecated and will be removed from pandas in a future version. Use pandas.concat instead.\n",
            "  df_info = df_info.append(cpi.CommonPlayerInfo(id).get_data_frames()[0])\n",
            "C:\\Users\\User\\AppData\\Local\\Temp\\ipykernel_11820\\3377949429.py:23: FutureWarning: The frame.append method is deprecated and will be removed from pandas in a future version. Use pandas.concat instead.\n",
            "  df_info = df_info.append(cpi.CommonPlayerInfo(id).get_data_frames()[0])\n",
            "C:\\Users\\User\\AppData\\Local\\Temp\\ipykernel_11820\\3377949429.py:23: FutureWarning: The frame.append method is deprecated and will be removed from pandas in a future version. Use pandas.concat instead.\n",
            "  df_info = df_info.append(cpi.CommonPlayerInfo(id).get_data_frames()[0])\n",
            "C:\\Users\\User\\AppData\\Local\\Temp\\ipykernel_11820\\3377949429.py:23: FutureWarning: The frame.append method is deprecated and will be removed from pandas in a future version. Use pandas.concat instead.\n",
            "  df_info = df_info.append(cpi.CommonPlayerInfo(id).get_data_frames()[0])\n",
            "C:\\Users\\User\\AppData\\Local\\Temp\\ipykernel_11820\\3377949429.py:23: FutureWarning: The frame.append method is deprecated and will be removed from pandas in a future version. Use pandas.concat instead.\n",
            "  df_info = df_info.append(cpi.CommonPlayerInfo(id).get_data_frames()[0])\n",
            "C:\\Users\\User\\AppData\\Local\\Temp\\ipykernel_11820\\3377949429.py:23: FutureWarning: The frame.append method is deprecated and will be removed from pandas in a future version. Use pandas.concat instead.\n",
            "  df_info = df_info.append(cpi.CommonPlayerInfo(id).get_data_frames()[0])\n",
            "C:\\Users\\User\\AppData\\Local\\Temp\\ipykernel_11820\\3377949429.py:23: FutureWarning: The frame.append method is deprecated and will be removed from pandas in a future version. Use pandas.concat instead.\n",
            "  df_info = df_info.append(cpi.CommonPlayerInfo(id).get_data_frames()[0])\n",
            "C:\\Users\\User\\AppData\\Local\\Temp\\ipykernel_11820\\3377949429.py:23: FutureWarning: The frame.append method is deprecated and will be removed from pandas in a future version. Use pandas.concat instead.\n",
            "  df_info = df_info.append(cpi.CommonPlayerInfo(id).get_data_frames()[0])\n",
            "C:\\Users\\User\\AppData\\Local\\Temp\\ipykernel_11820\\3377949429.py:23: FutureWarning: The frame.append method is deprecated and will be removed from pandas in a future version. Use pandas.concat instead.\n",
            "  df_info = df_info.append(cpi.CommonPlayerInfo(id).get_data_frames()[0])\n",
            "C:\\Users\\User\\AppData\\Local\\Temp\\ipykernel_11820\\3377949429.py:23: FutureWarning: The frame.append method is deprecated and will be removed from pandas in a future version. Use pandas.concat instead.\n",
            "  df_info = df_info.append(cpi.CommonPlayerInfo(id).get_data_frames()[0])\n",
            "C:\\Users\\User\\AppData\\Local\\Temp\\ipykernel_11820\\3377949429.py:23: FutureWarning: The frame.append method is deprecated and will be removed from pandas in a future version. Use pandas.concat instead.\n",
            "  df_info = df_info.append(cpi.CommonPlayerInfo(id).get_data_frames()[0])\n",
            "C:\\Users\\User\\AppData\\Local\\Temp\\ipykernel_11820\\3377949429.py:23: FutureWarning: The frame.append method is deprecated and will be removed from pandas in a future version. Use pandas.concat instead.\n",
            "  df_info = df_info.append(cpi.CommonPlayerInfo(id).get_data_frames()[0])\n",
            "C:\\Users\\User\\AppData\\Local\\Temp\\ipykernel_11820\\3377949429.py:23: FutureWarning: The frame.append method is deprecated and will be removed from pandas in a future version. Use pandas.concat instead.\n",
            "  df_info = df_info.append(cpi.CommonPlayerInfo(id).get_data_frames()[0])\n",
            "C:\\Users\\User\\AppData\\Local\\Temp\\ipykernel_11820\\3377949429.py:23: FutureWarning: The frame.append method is deprecated and will be removed from pandas in a future version. Use pandas.concat instead.\n",
            "  df_info = df_info.append(cpi.CommonPlayerInfo(id).get_data_frames()[0])\n",
            "C:\\Users\\User\\AppData\\Local\\Temp\\ipykernel_11820\\3377949429.py:23: FutureWarning: The frame.append method is deprecated and will be removed from pandas in a future version. Use pandas.concat instead.\n",
            "  df_info = df_info.append(cpi.CommonPlayerInfo(id).get_data_frames()[0])\n",
            "C:\\Users\\User\\AppData\\Local\\Temp\\ipykernel_11820\\3377949429.py:23: FutureWarning: The frame.append method is deprecated and will be removed from pandas in a future version. Use pandas.concat instead.\n",
            "  df_info = df_info.append(cpi.CommonPlayerInfo(id).get_data_frames()[0])\n",
            "C:\\Users\\User\\AppData\\Local\\Temp\\ipykernel_11820\\3377949429.py:23: FutureWarning: The frame.append method is deprecated and will be removed from pandas in a future version. Use pandas.concat instead.\n",
            "  df_info = df_info.append(cpi.CommonPlayerInfo(id).get_data_frames()[0])\n",
            "C:\\Users\\User\\AppData\\Local\\Temp\\ipykernel_11820\\3377949429.py:23: FutureWarning: The frame.append method is deprecated and will be removed from pandas in a future version. Use pandas.concat instead.\n",
            "  df_info = df_info.append(cpi.CommonPlayerInfo(id).get_data_frames()[0])\n",
            "C:\\Users\\User\\AppData\\Local\\Temp\\ipykernel_11820\\3377949429.py:23: FutureWarning: The frame.append method is deprecated and will be removed from pandas in a future version. Use pandas.concat instead.\n",
            "  df_info = df_info.append(cpi.CommonPlayerInfo(id).get_data_frames()[0])\n",
            "C:\\Users\\User\\AppData\\Local\\Temp\\ipykernel_11820\\3377949429.py:23: FutureWarning: The frame.append method is deprecated and will be removed from pandas in a future version. Use pandas.concat instead.\n",
            "  df_info = df_info.append(cpi.CommonPlayerInfo(id).get_data_frames()[0])\n",
            "C:\\Users\\User\\AppData\\Local\\Temp\\ipykernel_11820\\3377949429.py:23: FutureWarning: The frame.append method is deprecated and will be removed from pandas in a future version. Use pandas.concat instead.\n",
            "  df_info = df_info.append(cpi.CommonPlayerInfo(id).get_data_frames()[0])\n",
            "C:\\Users\\User\\AppData\\Local\\Temp\\ipykernel_11820\\3377949429.py:23: FutureWarning: The frame.append method is deprecated and will be removed from pandas in a future version. Use pandas.concat instead.\n",
            "  df_info = df_info.append(cpi.CommonPlayerInfo(id).get_data_frames()[0])\n",
            "C:\\Users\\User\\AppData\\Local\\Temp\\ipykernel_11820\\3377949429.py:23: FutureWarning: The frame.append method is deprecated and will be removed from pandas in a future version. Use pandas.concat instead.\n",
            "  df_info = df_info.append(cpi.CommonPlayerInfo(id).get_data_frames()[0])\n",
            "C:\\Users\\User\\AppData\\Local\\Temp\\ipykernel_11820\\3377949429.py:23: FutureWarning: The frame.append method is deprecated and will be removed from pandas in a future version. Use pandas.concat instead.\n",
            "  df_info = df_info.append(cpi.CommonPlayerInfo(id).get_data_frames()[0])\n",
            "C:\\Users\\User\\AppData\\Local\\Temp\\ipykernel_11820\\3377949429.py:23: FutureWarning: The frame.append method is deprecated and will be removed from pandas in a future version. Use pandas.concat instead.\n",
            "  df_info = df_info.append(cpi.CommonPlayerInfo(id).get_data_frames()[0])\n",
            "C:\\Users\\User\\AppData\\Local\\Temp\\ipykernel_11820\\3377949429.py:23: FutureWarning: The frame.append method is deprecated and will be removed from pandas in a future version. Use pandas.concat instead.\n",
            "  df_info = df_info.append(cpi.CommonPlayerInfo(id).get_data_frames()[0])\n",
            "C:\\Users\\User\\AppData\\Local\\Temp\\ipykernel_11820\\3377949429.py:23: FutureWarning: The frame.append method is deprecated and will be removed from pandas in a future version. Use pandas.concat instead.\n",
            "  df_info = df_info.append(cpi.CommonPlayerInfo(id).get_data_frames()[0])\n",
            "C:\\Users\\User\\AppData\\Local\\Temp\\ipykernel_11820\\3377949429.py:23: FutureWarning: The frame.append method is deprecated and will be removed from pandas in a future version. Use pandas.concat instead.\n",
            "  df_info = df_info.append(cpi.CommonPlayerInfo(id).get_data_frames()[0])\n",
            "C:\\Users\\User\\AppData\\Local\\Temp\\ipykernel_11820\\3377949429.py:23: FutureWarning: The frame.append method is deprecated and will be removed from pandas in a future version. Use pandas.concat instead.\n",
            "  df_info = df_info.append(cpi.CommonPlayerInfo(id).get_data_frames()[0])\n",
            "C:\\Users\\User\\AppData\\Local\\Temp\\ipykernel_11820\\3377949429.py:23: FutureWarning: The frame.append method is deprecated and will be removed from pandas in a future version. Use pandas.concat instead.\n",
            "  df_info = df_info.append(cpi.CommonPlayerInfo(id).get_data_frames()[0])\n",
            "C:\\Users\\User\\AppData\\Local\\Temp\\ipykernel_11820\\3377949429.py:23: FutureWarning: The frame.append method is deprecated and will be removed from pandas in a future version. Use pandas.concat instead.\n",
            "  df_info = df_info.append(cpi.CommonPlayerInfo(id).get_data_frames()[0])\n",
            "C:\\Users\\User\\AppData\\Local\\Temp\\ipykernel_11820\\3377949429.py:23: FutureWarning: The frame.append method is deprecated and will be removed from pandas in a future version. Use pandas.concat instead.\n",
            "  df_info = df_info.append(cpi.CommonPlayerInfo(id).get_data_frames()[0])\n",
            "C:\\Users\\User\\AppData\\Local\\Temp\\ipykernel_11820\\3377949429.py:23: FutureWarning: The frame.append method is deprecated and will be removed from pandas in a future version. Use pandas.concat instead.\n",
            "  df_info = df_info.append(cpi.CommonPlayerInfo(id).get_data_frames()[0])\n",
            "C:\\Users\\User\\AppData\\Local\\Temp\\ipykernel_11820\\3377949429.py:23: FutureWarning: The frame.append method is deprecated and will be removed from pandas in a future version. Use pandas.concat instead.\n",
            "  df_info = df_info.append(cpi.CommonPlayerInfo(id).get_data_frames()[0])\n",
            "C:\\Users\\User\\AppData\\Local\\Temp\\ipykernel_11820\\3377949429.py:23: FutureWarning: The frame.append method is deprecated and will be removed from pandas in a future version. Use pandas.concat instead.\n",
            "  df_info = df_info.append(cpi.CommonPlayerInfo(id).get_data_frames()[0])\n",
            "C:\\Users\\User\\AppData\\Local\\Temp\\ipykernel_11820\\3377949429.py:23: FutureWarning: The frame.append method is deprecated and will be removed from pandas in a future version. Use pandas.concat instead.\n",
            "  df_info = df_info.append(cpi.CommonPlayerInfo(id).get_data_frames()[0])\n",
            "C:\\Users\\User\\AppData\\Local\\Temp\\ipykernel_11820\\3377949429.py:23: FutureWarning: The frame.append method is deprecated and will be removed from pandas in a future version. Use pandas.concat instead.\n",
            "  df_info = df_info.append(cpi.CommonPlayerInfo(id).get_data_frames()[0])\n",
            "C:\\Users\\User\\AppData\\Local\\Temp\\ipykernel_11820\\3377949429.py:23: FutureWarning: The frame.append method is deprecated and will be removed from pandas in a future version. Use pandas.concat instead.\n",
            "  df_info = df_info.append(cpi.CommonPlayerInfo(id).get_data_frames()[0])\n",
            "C:\\Users\\User\\AppData\\Local\\Temp\\ipykernel_11820\\3377949429.py:23: FutureWarning: The frame.append method is deprecated and will be removed from pandas in a future version. Use pandas.concat instead.\n",
            "  df_info = df_info.append(cpi.CommonPlayerInfo(id).get_data_frames()[0])\n",
            "C:\\Users\\User\\AppData\\Local\\Temp\\ipykernel_11820\\3377949429.py:23: FutureWarning: The frame.append method is deprecated and will be removed from pandas in a future version. Use pandas.concat instead.\n",
            "  df_info = df_info.append(cpi.CommonPlayerInfo(id).get_data_frames()[0])\n",
            "C:\\Users\\User\\AppData\\Local\\Temp\\ipykernel_11820\\3377949429.py:23: FutureWarning: The frame.append method is deprecated and will be removed from pandas in a future version. Use pandas.concat instead.\n",
            "  df_info = df_info.append(cpi.CommonPlayerInfo(id).get_data_frames()[0])\n",
            "C:\\Users\\User\\AppData\\Local\\Temp\\ipykernel_11820\\3377949429.py:23: FutureWarning: The frame.append method is deprecated and will be removed from pandas in a future version. Use pandas.concat instead.\n",
            "  df_info = df_info.append(cpi.CommonPlayerInfo(id).get_data_frames()[0])\n",
            "C:\\Users\\User\\AppData\\Local\\Temp\\ipykernel_11820\\3377949429.py:23: FutureWarning: The frame.append method is deprecated and will be removed from pandas in a future version. Use pandas.concat instead.\n",
            "  df_info = df_info.append(cpi.CommonPlayerInfo(id).get_data_frames()[0])\n",
            "C:\\Users\\User\\AppData\\Local\\Temp\\ipykernel_11820\\3377949429.py:23: FutureWarning: The frame.append method is deprecated and will be removed from pandas in a future version. Use pandas.concat instead.\n",
            "  df_info = df_info.append(cpi.CommonPlayerInfo(id).get_data_frames()[0])\n",
            "C:\\Users\\User\\AppData\\Local\\Temp\\ipykernel_11820\\3377949429.py:23: FutureWarning: The frame.append method is deprecated and will be removed from pandas in a future version. Use pandas.concat instead.\n",
            "  df_info = df_info.append(cpi.CommonPlayerInfo(id).get_data_frames()[0])\n",
            "C:\\Users\\User\\AppData\\Local\\Temp\\ipykernel_11820\\3377949429.py:23: FutureWarning: The frame.append method is deprecated and will be removed from pandas in a future version. Use pandas.concat instead.\n",
            "  df_info = df_info.append(cpi.CommonPlayerInfo(id).get_data_frames()[0])\n",
            "C:\\Users\\User\\AppData\\Local\\Temp\\ipykernel_11820\\3377949429.py:23: FutureWarning: The frame.append method is deprecated and will be removed from pandas in a future version. Use pandas.concat instead.\n",
            "  df_info = df_info.append(cpi.CommonPlayerInfo(id).get_data_frames()[0])\n",
            "C:\\Users\\User\\AppData\\Local\\Temp\\ipykernel_11820\\3377949429.py:23: FutureWarning: The frame.append method is deprecated and will be removed from pandas in a future version. Use pandas.concat instead.\n",
            "  df_info = df_info.append(cpi.CommonPlayerInfo(id).get_data_frames()[0])\n",
            "C:\\Users\\User\\AppData\\Local\\Temp\\ipykernel_11820\\3377949429.py:23: FutureWarning: The frame.append method is deprecated and will be removed from pandas in a future version. Use pandas.concat instead.\n",
            "  df_info = df_info.append(cpi.CommonPlayerInfo(id).get_data_frames()[0])\n",
            "C:\\Users\\User\\AppData\\Local\\Temp\\ipykernel_11820\\3377949429.py:23: FutureWarning: The frame.append method is deprecated and will be removed from pandas in a future version. Use pandas.concat instead.\n",
            "  df_info = df_info.append(cpi.CommonPlayerInfo(id).get_data_frames()[0])\n",
            "C:\\Users\\User\\AppData\\Local\\Temp\\ipykernel_11820\\3377949429.py:23: FutureWarning: The frame.append method is deprecated and will be removed from pandas in a future version. Use pandas.concat instead.\n",
            "  df_info = df_info.append(cpi.CommonPlayerInfo(id).get_data_frames()[0])\n",
            "C:\\Users\\User\\AppData\\Local\\Temp\\ipykernel_11820\\3377949429.py:23: FutureWarning: The frame.append method is deprecated and will be removed from pandas in a future version. Use pandas.concat instead.\n",
            "  df_info = df_info.append(cpi.CommonPlayerInfo(id).get_data_frames()[0])\n",
            "C:\\Users\\User\\AppData\\Local\\Temp\\ipykernel_11820\\3377949429.py:23: FutureWarning: The frame.append method is deprecated and will be removed from pandas in a future version. Use pandas.concat instead.\n",
            "  df_info = df_info.append(cpi.CommonPlayerInfo(id).get_data_frames()[0])\n",
            "C:\\Users\\User\\AppData\\Local\\Temp\\ipykernel_11820\\3377949429.py:23: FutureWarning: The frame.append method is deprecated and will be removed from pandas in a future version. Use pandas.concat instead.\n",
            "  df_info = df_info.append(cpi.CommonPlayerInfo(id).get_data_frames()[0])\n",
            "C:\\Users\\User\\AppData\\Local\\Temp\\ipykernel_11820\\3377949429.py:23: FutureWarning: The frame.append method is deprecated and will be removed from pandas in a future version. Use pandas.concat instead.\n",
            "  df_info = df_info.append(cpi.CommonPlayerInfo(id).get_data_frames()[0])\n",
            "C:\\Users\\User\\AppData\\Local\\Temp\\ipykernel_11820\\3377949429.py:23: FutureWarning: The frame.append method is deprecated and will be removed from pandas in a future version. Use pandas.concat instead.\n",
            "  df_info = df_info.append(cpi.CommonPlayerInfo(id).get_data_frames()[0])\n",
            "C:\\Users\\User\\AppData\\Local\\Temp\\ipykernel_11820\\3377949429.py:23: FutureWarning: The frame.append method is deprecated and will be removed from pandas in a future version. Use pandas.concat instead.\n",
            "  df_info = df_info.append(cpi.CommonPlayerInfo(id).get_data_frames()[0])\n",
            "C:\\Users\\User\\AppData\\Local\\Temp\\ipykernel_11820\\3377949429.py:23: FutureWarning: The frame.append method is deprecated and will be removed from pandas in a future version. Use pandas.concat instead.\n",
            "  df_info = df_info.append(cpi.CommonPlayerInfo(id).get_data_frames()[0])\n",
            "C:\\Users\\User\\AppData\\Local\\Temp\\ipykernel_11820\\3377949429.py:23: FutureWarning: The frame.append method is deprecated and will be removed from pandas in a future version. Use pandas.concat instead.\n",
            "  df_info = df_info.append(cpi.CommonPlayerInfo(id).get_data_frames()[0])\n",
            "C:\\Users\\User\\AppData\\Local\\Temp\\ipykernel_11820\\3377949429.py:23: FutureWarning: The frame.append method is deprecated and will be removed from pandas in a future version. Use pandas.concat instead.\n",
            "  df_info = df_info.append(cpi.CommonPlayerInfo(id).get_data_frames()[0])\n",
            "C:\\Users\\User\\AppData\\Local\\Temp\\ipykernel_11820\\3377949429.py:23: FutureWarning: The frame.append method is deprecated and will be removed from pandas in a future version. Use pandas.concat instead.\n",
            "  df_info = df_info.append(cpi.CommonPlayerInfo(id).get_data_frames()[0])\n",
            "C:\\Users\\User\\AppData\\Local\\Temp\\ipykernel_11820\\3377949429.py:23: FutureWarning: The frame.append method is deprecated and will be removed from pandas in a future version. Use pandas.concat instead.\n",
            "  df_info = df_info.append(cpi.CommonPlayerInfo(id).get_data_frames()[0])\n",
            "C:\\Users\\User\\AppData\\Local\\Temp\\ipykernel_11820\\3377949429.py:23: FutureWarning: The frame.append method is deprecated and will be removed from pandas in a future version. Use pandas.concat instead.\n",
            "  df_info = df_info.append(cpi.CommonPlayerInfo(id).get_data_frames()[0])\n",
            "C:\\Users\\User\\AppData\\Local\\Temp\\ipykernel_11820\\3377949429.py:23: FutureWarning: The frame.append method is deprecated and will be removed from pandas in a future version. Use pandas.concat instead.\n",
            "  df_info = df_info.append(cpi.CommonPlayerInfo(id).get_data_frames()[0])\n",
            "C:\\Users\\User\\AppData\\Local\\Temp\\ipykernel_11820\\3377949429.py:23: FutureWarning: The frame.append method is deprecated and will be removed from pandas in a future version. Use pandas.concat instead.\n",
            "  df_info = df_info.append(cpi.CommonPlayerInfo(id).get_data_frames()[0])\n",
            "C:\\Users\\User\\AppData\\Local\\Temp\\ipykernel_11820\\3377949429.py:23: FutureWarning: The frame.append method is deprecated and will be removed from pandas in a future version. Use pandas.concat instead.\n",
            "  df_info = df_info.append(cpi.CommonPlayerInfo(id).get_data_frames()[0])\n",
            "C:\\Users\\User\\AppData\\Local\\Temp\\ipykernel_11820\\3377949429.py:23: FutureWarning: The frame.append method is deprecated and will be removed from pandas in a future version. Use pandas.concat instead.\n",
            "  df_info = df_info.append(cpi.CommonPlayerInfo(id).get_data_frames()[0])\n",
            "C:\\Users\\User\\AppData\\Local\\Temp\\ipykernel_11820\\3377949429.py:23: FutureWarning: The frame.append method is deprecated and will be removed from pandas in a future version. Use pandas.concat instead.\n",
            "  df_info = df_info.append(cpi.CommonPlayerInfo(id).get_data_frames()[0])\n",
            "C:\\Users\\User\\AppData\\Local\\Temp\\ipykernel_11820\\3377949429.py:23: FutureWarning: The frame.append method is deprecated and will be removed from pandas in a future version. Use pandas.concat instead.\n",
            "  df_info = df_info.append(cpi.CommonPlayerInfo(id).get_data_frames()[0])\n",
            "C:\\Users\\User\\AppData\\Local\\Temp\\ipykernel_11820\\3377949429.py:23: FutureWarning: The frame.append method is deprecated and will be removed from pandas in a future version. Use pandas.concat instead.\n",
            "  df_info = df_info.append(cpi.CommonPlayerInfo(id).get_data_frames()[0])\n",
            "C:\\Users\\User\\AppData\\Local\\Temp\\ipykernel_11820\\3377949429.py:23: FutureWarning: The frame.append method is deprecated and will be removed from pandas in a future version. Use pandas.concat instead.\n",
            "  df_info = df_info.append(cpi.CommonPlayerInfo(id).get_data_frames()[0])\n",
            "C:\\Users\\User\\AppData\\Local\\Temp\\ipykernel_11820\\3377949429.py:23: FutureWarning: The frame.append method is deprecated and will be removed from pandas in a future version. Use pandas.concat instead.\n",
            "  df_info = df_info.append(cpi.CommonPlayerInfo(id).get_data_frames()[0])\n",
            "C:\\Users\\User\\AppData\\Local\\Temp\\ipykernel_11820\\3377949429.py:23: FutureWarning: The frame.append method is deprecated and will be removed from pandas in a future version. Use pandas.concat instead.\n",
            "  df_info = df_info.append(cpi.CommonPlayerInfo(id).get_data_frames()[0])\n",
            "C:\\Users\\User\\AppData\\Local\\Temp\\ipykernel_11820\\3377949429.py:23: FutureWarning: The frame.append method is deprecated and will be removed from pandas in a future version. Use pandas.concat instead.\n",
            "  df_info = df_info.append(cpi.CommonPlayerInfo(id).get_data_frames()[0])\n",
            "C:\\Users\\User\\AppData\\Local\\Temp\\ipykernel_11820\\3377949429.py:23: FutureWarning: The frame.append method is deprecated and will be removed from pandas in a future version. Use pandas.concat instead.\n",
            "  df_info = df_info.append(cpi.CommonPlayerInfo(id).get_data_frames()[0])\n",
            "C:\\Users\\User\\AppData\\Local\\Temp\\ipykernel_11820\\3377949429.py:23: FutureWarning: The frame.append method is deprecated and will be removed from pandas in a future version. Use pandas.concat instead.\n",
            "  df_info = df_info.append(cpi.CommonPlayerInfo(id).get_data_frames()[0])\n",
            "C:\\Users\\User\\AppData\\Local\\Temp\\ipykernel_11820\\3377949429.py:23: FutureWarning: The frame.append method is deprecated and will be removed from pandas in a future version. Use pandas.concat instead.\n",
            "  df_info = df_info.append(cpi.CommonPlayerInfo(id).get_data_frames()[0])\n",
            "C:\\Users\\User\\AppData\\Local\\Temp\\ipykernel_11820\\3377949429.py:23: FutureWarning: The frame.append method is deprecated and will be removed from pandas in a future version. Use pandas.concat instead.\n",
            "  df_info = df_info.append(cpi.CommonPlayerInfo(id).get_data_frames()[0])\n",
            "C:\\Users\\User\\AppData\\Local\\Temp\\ipykernel_11820\\3377949429.py:23: FutureWarning: The frame.append method is deprecated and will be removed from pandas in a future version. Use pandas.concat instead.\n",
            "  df_info = df_info.append(cpi.CommonPlayerInfo(id).get_data_frames()[0])\n",
            "C:\\Users\\User\\AppData\\Local\\Temp\\ipykernel_11820\\3377949429.py:23: FutureWarning: The frame.append method is deprecated and will be removed from pandas in a future version. Use pandas.concat instead.\n",
            "  df_info = df_info.append(cpi.CommonPlayerInfo(id).get_data_frames()[0])\n",
            "C:\\Users\\User\\AppData\\Local\\Temp\\ipykernel_11820\\3377949429.py:23: FutureWarning: The frame.append method is deprecated and will be removed from pandas in a future version. Use pandas.concat instead.\n",
            "  df_info = df_info.append(cpi.CommonPlayerInfo(id).get_data_frames()[0])\n",
            "C:\\Users\\User\\AppData\\Local\\Temp\\ipykernel_11820\\3377949429.py:23: FutureWarning: The frame.append method is deprecated and will be removed from pandas in a future version. Use pandas.concat instead.\n",
            "  df_info = df_info.append(cpi.CommonPlayerInfo(id).get_data_frames()[0])\n",
            "C:\\Users\\User\\AppData\\Local\\Temp\\ipykernel_11820\\3377949429.py:23: FutureWarning: The frame.append method is deprecated and will be removed from pandas in a future version. Use pandas.concat instead.\n",
            "  df_info = df_info.append(cpi.CommonPlayerInfo(id).get_data_frames()[0])\n",
            "C:\\Users\\User\\AppData\\Local\\Temp\\ipykernel_11820\\3377949429.py:23: FutureWarning: The frame.append method is deprecated and will be removed from pandas in a future version. Use pandas.concat instead.\n",
            "  df_info = df_info.append(cpi.CommonPlayerInfo(id).get_data_frames()[0])\n",
            "C:\\Users\\User\\AppData\\Local\\Temp\\ipykernel_11820\\3377949429.py:23: FutureWarning: The frame.append method is deprecated and will be removed from pandas in a future version. Use pandas.concat instead.\n",
            "  df_info = df_info.append(cpi.CommonPlayerInfo(id).get_data_frames()[0])\n",
            "C:\\Users\\User\\AppData\\Local\\Temp\\ipykernel_11820\\3377949429.py:23: FutureWarning: The frame.append method is deprecated and will be removed from pandas in a future version. Use pandas.concat instead.\n",
            "  df_info = df_info.append(cpi.CommonPlayerInfo(id).get_data_frames()[0])\n",
            "C:\\Users\\User\\AppData\\Local\\Temp\\ipykernel_11820\\3377949429.py:23: FutureWarning: The frame.append method is deprecated and will be removed from pandas in a future version. Use pandas.concat instead.\n",
            "  df_info = df_info.append(cpi.CommonPlayerInfo(id).get_data_frames()[0])\n",
            "C:\\Users\\User\\AppData\\Local\\Temp\\ipykernel_11820\\3377949429.py:23: FutureWarning: The frame.append method is deprecated and will be removed from pandas in a future version. Use pandas.concat instead.\n",
            "  df_info = df_info.append(cpi.CommonPlayerInfo(id).get_data_frames()[0])\n",
            "C:\\Users\\User\\AppData\\Local\\Temp\\ipykernel_11820\\3377949429.py:23: FutureWarning: The frame.append method is deprecated and will be removed from pandas in a future version. Use pandas.concat instead.\n",
            "  df_info = df_info.append(cpi.CommonPlayerInfo(id).get_data_frames()[0])\n",
            "C:\\Users\\User\\AppData\\Local\\Temp\\ipykernel_11820\\3377949429.py:23: FutureWarning: The frame.append method is deprecated and will be removed from pandas in a future version. Use pandas.concat instead.\n",
            "  df_info = df_info.append(cpi.CommonPlayerInfo(id).get_data_frames()[0])\n",
            "C:\\Users\\User\\AppData\\Local\\Temp\\ipykernel_11820\\3377949429.py:23: FutureWarning: The frame.append method is deprecated and will be removed from pandas in a future version. Use pandas.concat instead.\n",
            "  df_info = df_info.append(cpi.CommonPlayerInfo(id).get_data_frames()[0])\n",
            "C:\\Users\\User\\AppData\\Local\\Temp\\ipykernel_11820\\3377949429.py:23: FutureWarning: The frame.append method is deprecated and will be removed from pandas in a future version. Use pandas.concat instead.\n",
            "  df_info = df_info.append(cpi.CommonPlayerInfo(id).get_data_frames()[0])\n",
            "C:\\Users\\User\\AppData\\Local\\Temp\\ipykernel_11820\\3377949429.py:23: FutureWarning: The frame.append method is deprecated and will be removed from pandas in a future version. Use pandas.concat instead.\n",
            "  df_info = df_info.append(cpi.CommonPlayerInfo(id).get_data_frames()[0])\n",
            "C:\\Users\\User\\AppData\\Local\\Temp\\ipykernel_11820\\3377949429.py:23: FutureWarning: The frame.append method is deprecated and will be removed from pandas in a future version. Use pandas.concat instead.\n",
            "  df_info = df_info.append(cpi.CommonPlayerInfo(id).get_data_frames()[0])\n",
            "C:\\Users\\User\\AppData\\Local\\Temp\\ipykernel_11820\\3377949429.py:23: FutureWarning: The frame.append method is deprecated and will be removed from pandas in a future version. Use pandas.concat instead.\n",
            "  df_info = df_info.append(cpi.CommonPlayerInfo(id).get_data_frames()[0])\n",
            "C:\\Users\\User\\AppData\\Local\\Temp\\ipykernel_11820\\3377949429.py:23: FutureWarning: The frame.append method is deprecated and will be removed from pandas in a future version. Use pandas.concat instead.\n",
            "  df_info = df_info.append(cpi.CommonPlayerInfo(id).get_data_frames()[0])\n",
            "C:\\Users\\User\\AppData\\Local\\Temp\\ipykernel_11820\\3377949429.py:23: FutureWarning: The frame.append method is deprecated and will be removed from pandas in a future version. Use pandas.concat instead.\n",
            "  df_info = df_info.append(cpi.CommonPlayerInfo(id).get_data_frames()[0])\n",
            "C:\\Users\\User\\AppData\\Local\\Temp\\ipykernel_11820\\3377949429.py:23: FutureWarning: The frame.append method is deprecated and will be removed from pandas in a future version. Use pandas.concat instead.\n",
            "  df_info = df_info.append(cpi.CommonPlayerInfo(id).get_data_frames()[0])\n",
            "C:\\Users\\User\\AppData\\Local\\Temp\\ipykernel_11820\\3377949429.py:23: FutureWarning: The frame.append method is deprecated and will be removed from pandas in a future version. Use pandas.concat instead.\n",
            "  df_info = df_info.append(cpi.CommonPlayerInfo(id).get_data_frames()[0])\n",
            "C:\\Users\\User\\AppData\\Local\\Temp\\ipykernel_11820\\3377949429.py:23: FutureWarning: The frame.append method is deprecated and will be removed from pandas in a future version. Use pandas.concat instead.\n",
            "  df_info = df_info.append(cpi.CommonPlayerInfo(id).get_data_frames()[0])\n",
            "C:\\Users\\User\\AppData\\Local\\Temp\\ipykernel_11820\\3377949429.py:23: FutureWarning: The frame.append method is deprecated and will be removed from pandas in a future version. Use pandas.concat instead.\n",
            "  df_info = df_info.append(cpi.CommonPlayerInfo(id).get_data_frames()[0])\n",
            "C:\\Users\\User\\AppData\\Local\\Temp\\ipykernel_11820\\3377949429.py:23: FutureWarning: The frame.append method is deprecated and will be removed from pandas in a future version. Use pandas.concat instead.\n",
            "  df_info = df_info.append(cpi.CommonPlayerInfo(id).get_data_frames()[0])\n",
            "C:\\Users\\User\\AppData\\Local\\Temp\\ipykernel_11820\\3377949429.py:23: FutureWarning: The frame.append method is deprecated and will be removed from pandas in a future version. Use pandas.concat instead.\n",
            "  df_info = df_info.append(cpi.CommonPlayerInfo(id).get_data_frames()[0])\n",
            "C:\\Users\\User\\AppData\\Local\\Temp\\ipykernel_11820\\3377949429.py:23: FutureWarning: The frame.append method is deprecated and will be removed from pandas in a future version. Use pandas.concat instead.\n",
            "  df_info = df_info.append(cpi.CommonPlayerInfo(id).get_data_frames()[0])\n",
            "C:\\Users\\User\\AppData\\Local\\Temp\\ipykernel_11820\\3377949429.py:23: FutureWarning: The frame.append method is deprecated and will be removed from pandas in a future version. Use pandas.concat instead.\n",
            "  df_info = df_info.append(cpi.CommonPlayerInfo(id).get_data_frames()[0])\n",
            "C:\\Users\\User\\AppData\\Local\\Temp\\ipykernel_11820\\3377949429.py:23: FutureWarning: The frame.append method is deprecated and will be removed from pandas in a future version. Use pandas.concat instead.\n",
            "  df_info = df_info.append(cpi.CommonPlayerInfo(id).get_data_frames()[0])\n",
            "C:\\Users\\User\\AppData\\Local\\Temp\\ipykernel_11820\\3377949429.py:23: FutureWarning: The frame.append method is deprecated and will be removed from pandas in a future version. Use pandas.concat instead.\n",
            "  df_info = df_info.append(cpi.CommonPlayerInfo(id).get_data_frames()[0])\n",
            "C:\\Users\\User\\AppData\\Local\\Temp\\ipykernel_11820\\3377949429.py:23: FutureWarning: The frame.append method is deprecated and will be removed from pandas in a future version. Use pandas.concat instead.\n",
            "  df_info = df_info.append(cpi.CommonPlayerInfo(id).get_data_frames()[0])\n",
            "C:\\Users\\User\\AppData\\Local\\Temp\\ipykernel_11820\\3377949429.py:23: FutureWarning: The frame.append method is deprecated and will be removed from pandas in a future version. Use pandas.concat instead.\n",
            "  df_info = df_info.append(cpi.CommonPlayerInfo(id).get_data_frames()[0])\n",
            "C:\\Users\\User\\AppData\\Local\\Temp\\ipykernel_11820\\3377949429.py:23: FutureWarning: The frame.append method is deprecated and will be removed from pandas in a future version. Use pandas.concat instead.\n",
            "  df_info = df_info.append(cpi.CommonPlayerInfo(id).get_data_frames()[0])\n",
            "C:\\Users\\User\\AppData\\Local\\Temp\\ipykernel_11820\\3377949429.py:23: FutureWarning: The frame.append method is deprecated and will be removed from pandas in a future version. Use pandas.concat instead.\n",
            "  df_info = df_info.append(cpi.CommonPlayerInfo(id).get_data_frames()[0])\n",
            "C:\\Users\\User\\AppData\\Local\\Temp\\ipykernel_11820\\3377949429.py:23: FutureWarning: The frame.append method is deprecated and will be removed from pandas in a future version. Use pandas.concat instead.\n",
            "  df_info = df_info.append(cpi.CommonPlayerInfo(id).get_data_frames()[0])\n",
            "C:\\Users\\User\\AppData\\Local\\Temp\\ipykernel_11820\\3377949429.py:23: FutureWarning: The frame.append method is deprecated and will be removed from pandas in a future version. Use pandas.concat instead.\n",
            "  df_info = df_info.append(cpi.CommonPlayerInfo(id).get_data_frames()[0])\n",
            "C:\\Users\\User\\AppData\\Local\\Temp\\ipykernel_11820\\3377949429.py:23: FutureWarning: The frame.append method is deprecated and will be removed from pandas in a future version. Use pandas.concat instead.\n",
            "  df_info = df_info.append(cpi.CommonPlayerInfo(id).get_data_frames()[0])\n",
            "C:\\Users\\User\\AppData\\Local\\Temp\\ipykernel_11820\\3377949429.py:23: FutureWarning: The frame.append method is deprecated and will be removed from pandas in a future version. Use pandas.concat instead.\n",
            "  df_info = df_info.append(cpi.CommonPlayerInfo(id).get_data_frames()[0])\n",
            "C:\\Users\\User\\AppData\\Local\\Temp\\ipykernel_11820\\3377949429.py:23: FutureWarning: The frame.append method is deprecated and will be removed from pandas in a future version. Use pandas.concat instead.\n",
            "  df_info = df_info.append(cpi.CommonPlayerInfo(id).get_data_frames()[0])\n",
            "C:\\Users\\User\\AppData\\Local\\Temp\\ipykernel_11820\\3377949429.py:23: FutureWarning: The frame.append method is deprecated and will be removed from pandas in a future version. Use pandas.concat instead.\n",
            "  df_info = df_info.append(cpi.CommonPlayerInfo(id).get_data_frames()[0])\n",
            "C:\\Users\\User\\AppData\\Local\\Temp\\ipykernel_11820\\3377949429.py:23: FutureWarning: The frame.append method is deprecated and will be removed from pandas in a future version. Use pandas.concat instead.\n",
            "  df_info = df_info.append(cpi.CommonPlayerInfo(id).get_data_frames()[0])\n",
            "C:\\Users\\User\\AppData\\Local\\Temp\\ipykernel_11820\\3377949429.py:23: FutureWarning: The frame.append method is deprecated and will be removed from pandas in a future version. Use pandas.concat instead.\n",
            "  df_info = df_info.append(cpi.CommonPlayerInfo(id).get_data_frames()[0])\n",
            "C:\\Users\\User\\AppData\\Local\\Temp\\ipykernel_11820\\3377949429.py:23: FutureWarning: The frame.append method is deprecated and will be removed from pandas in a future version. Use pandas.concat instead.\n",
            "  df_info = df_info.append(cpi.CommonPlayerInfo(id).get_data_frames()[0])\n",
            "C:\\Users\\User\\AppData\\Local\\Temp\\ipykernel_11820\\3377949429.py:23: FutureWarning: The frame.append method is deprecated and will be removed from pandas in a future version. Use pandas.concat instead.\n",
            "  df_info = df_info.append(cpi.CommonPlayerInfo(id).get_data_frames()[0])\n",
            "C:\\Users\\User\\AppData\\Local\\Temp\\ipykernel_11820\\3377949429.py:23: FutureWarning: The frame.append method is deprecated and will be removed from pandas in a future version. Use pandas.concat instead.\n",
            "  df_info = df_info.append(cpi.CommonPlayerInfo(id).get_data_frames()[0])\n",
            "C:\\Users\\User\\AppData\\Local\\Temp\\ipykernel_11820\\3377949429.py:23: FutureWarning: The frame.append method is deprecated and will be removed from pandas in a future version. Use pandas.concat instead.\n",
            "  df_info = df_info.append(cpi.CommonPlayerInfo(id).get_data_frames()[0])\n",
            "C:\\Users\\User\\AppData\\Local\\Temp\\ipykernel_11820\\3377949429.py:23: FutureWarning: The frame.append method is deprecated and will be removed from pandas in a future version. Use pandas.concat instead.\n",
            "  df_info = df_info.append(cpi.CommonPlayerInfo(id).get_data_frames()[0])\n",
            "C:\\Users\\User\\AppData\\Local\\Temp\\ipykernel_11820\\3377949429.py:23: FutureWarning: The frame.append method is deprecated and will be removed from pandas in a future version. Use pandas.concat instead.\n",
            "  df_info = df_info.append(cpi.CommonPlayerInfo(id).get_data_frames()[0])\n",
            "C:\\Users\\User\\AppData\\Local\\Temp\\ipykernel_11820\\3377949429.py:23: FutureWarning: The frame.append method is deprecated and will be removed from pandas in a future version. Use pandas.concat instead.\n",
            "  df_info = df_info.append(cpi.CommonPlayerInfo(id).get_data_frames()[0])\n",
            "C:\\Users\\User\\AppData\\Local\\Temp\\ipykernel_11820\\3377949429.py:23: FutureWarning: The frame.append method is deprecated and will be removed from pandas in a future version. Use pandas.concat instead.\n",
            "  df_info = df_info.append(cpi.CommonPlayerInfo(id).get_data_frames()[0])\n",
            "C:\\Users\\User\\AppData\\Local\\Temp\\ipykernel_11820\\3377949429.py:23: FutureWarning: The frame.append method is deprecated and will be removed from pandas in a future version. Use pandas.concat instead.\n",
            "  df_info = df_info.append(cpi.CommonPlayerInfo(id).get_data_frames()[0])\n",
            "C:\\Users\\User\\AppData\\Local\\Temp\\ipykernel_11820\\3377949429.py:23: FutureWarning: The frame.append method is deprecated and will be removed from pandas in a future version. Use pandas.concat instead.\n",
            "  df_info = df_info.append(cpi.CommonPlayerInfo(id).get_data_frames()[0])\n",
            "C:\\Users\\User\\AppData\\Local\\Temp\\ipykernel_11820\\3377949429.py:23: FutureWarning: The frame.append method is deprecated and will be removed from pandas in a future version. Use pandas.concat instead.\n",
            "  df_info = df_info.append(cpi.CommonPlayerInfo(id).get_data_frames()[0])\n",
            "C:\\Users\\User\\AppData\\Local\\Temp\\ipykernel_11820\\3377949429.py:23: FutureWarning: The frame.append method is deprecated and will be removed from pandas in a future version. Use pandas.concat instead.\n",
            "  df_info = df_info.append(cpi.CommonPlayerInfo(id).get_data_frames()[0])\n",
            "C:\\Users\\User\\AppData\\Local\\Temp\\ipykernel_11820\\3377949429.py:23: FutureWarning: The frame.append method is deprecated and will be removed from pandas in a future version. Use pandas.concat instead.\n",
            "  df_info = df_info.append(cpi.CommonPlayerInfo(id).get_data_frames()[0])\n",
            "C:\\Users\\User\\AppData\\Local\\Temp\\ipykernel_11820\\3377949429.py:23: FutureWarning: The frame.append method is deprecated and will be removed from pandas in a future version. Use pandas.concat instead.\n",
            "  df_info = df_info.append(cpi.CommonPlayerInfo(id).get_data_frames()[0])\n",
            "C:\\Users\\User\\AppData\\Local\\Temp\\ipykernel_11820\\3377949429.py:23: FutureWarning: The frame.append method is deprecated and will be removed from pandas in a future version. Use pandas.concat instead.\n",
            "  df_info = df_info.append(cpi.CommonPlayerInfo(id).get_data_frames()[0])\n",
            "C:\\Users\\User\\AppData\\Local\\Temp\\ipykernel_11820\\3377949429.py:23: FutureWarning: The frame.append method is deprecated and will be removed from pandas in a future version. Use pandas.concat instead.\n",
            "  df_info = df_info.append(cpi.CommonPlayerInfo(id).get_data_frames()[0])\n",
            "C:\\Users\\User\\AppData\\Local\\Temp\\ipykernel_11820\\3377949429.py:23: FutureWarning: The frame.append method is deprecated and will be removed from pandas in a future version. Use pandas.concat instead.\n",
            "  df_info = df_info.append(cpi.CommonPlayerInfo(id).get_data_frames()[0])\n",
            "C:\\Users\\User\\AppData\\Local\\Temp\\ipykernel_11820\\3377949429.py:23: FutureWarning: The frame.append method is deprecated and will be removed from pandas in a future version. Use pandas.concat instead.\n",
            "  df_info = df_info.append(cpi.CommonPlayerInfo(id).get_data_frames()[0])\n",
            "C:\\Users\\User\\AppData\\Local\\Temp\\ipykernel_11820\\3377949429.py:23: FutureWarning: The frame.append method is deprecated and will be removed from pandas in a future version. Use pandas.concat instead.\n",
            "  df_info = df_info.append(cpi.CommonPlayerInfo(id).get_data_frames()[0])\n",
            "C:\\Users\\User\\AppData\\Local\\Temp\\ipykernel_11820\\3377949429.py:23: FutureWarning: The frame.append method is deprecated and will be removed from pandas in a future version. Use pandas.concat instead.\n",
            "  df_info = df_info.append(cpi.CommonPlayerInfo(id).get_data_frames()[0])\n",
            "C:\\Users\\User\\AppData\\Local\\Temp\\ipykernel_11820\\3377949429.py:23: FutureWarning: The frame.append method is deprecated and will be removed from pandas in a future version. Use pandas.concat instead.\n",
            "  df_info = df_info.append(cpi.CommonPlayerInfo(id).get_data_frames()[0])\n",
            "C:\\Users\\User\\AppData\\Local\\Temp\\ipykernel_11820\\3377949429.py:23: FutureWarning: The frame.append method is deprecated and will be removed from pandas in a future version. Use pandas.concat instead.\n",
            "  df_info = df_info.append(cpi.CommonPlayerInfo(id).get_data_frames()[0])\n",
            "C:\\Users\\User\\AppData\\Local\\Temp\\ipykernel_11820\\3377949429.py:23: FutureWarning: The frame.append method is deprecated and will be removed from pandas in a future version. Use pandas.concat instead.\n",
            "  df_info = df_info.append(cpi.CommonPlayerInfo(id).get_data_frames()[0])\n",
            "C:\\Users\\User\\AppData\\Local\\Temp\\ipykernel_11820\\3377949429.py:23: FutureWarning: The frame.append method is deprecated and will be removed from pandas in a future version. Use pandas.concat instead.\n",
            "  df_info = df_info.append(cpi.CommonPlayerInfo(id).get_data_frames()[0])\n",
            "C:\\Users\\User\\AppData\\Local\\Temp\\ipykernel_11820\\3377949429.py:23: FutureWarning: The frame.append method is deprecated and will be removed from pandas in a future version. Use pandas.concat instead.\n",
            "  df_info = df_info.append(cpi.CommonPlayerInfo(id).get_data_frames()[0])\n",
            "C:\\Users\\User\\AppData\\Local\\Temp\\ipykernel_11820\\3377949429.py:23: FutureWarning: The frame.append method is deprecated and will be removed from pandas in a future version. Use pandas.concat instead.\n",
            "  df_info = df_info.append(cpi.CommonPlayerInfo(id).get_data_frames()[0])\n",
            "C:\\Users\\User\\AppData\\Local\\Temp\\ipykernel_11820\\3377949429.py:23: FutureWarning: The frame.append method is deprecated and will be removed from pandas in a future version. Use pandas.concat instead.\n",
            "  df_info = df_info.append(cpi.CommonPlayerInfo(id).get_data_frames()[0])\n",
            "C:\\Users\\User\\AppData\\Local\\Temp\\ipykernel_11820\\3377949429.py:23: FutureWarning: The frame.append method is deprecated and will be removed from pandas in a future version. Use pandas.concat instead.\n",
            "  df_info = df_info.append(cpi.CommonPlayerInfo(id).get_data_frames()[0])\n",
            "C:\\Users\\User\\AppData\\Local\\Temp\\ipykernel_11820\\3377949429.py:23: FutureWarning: The frame.append method is deprecated and will be removed from pandas in a future version. Use pandas.concat instead.\n",
            "  df_info = df_info.append(cpi.CommonPlayerInfo(id).get_data_frames()[0])\n",
            "C:\\Users\\User\\AppData\\Local\\Temp\\ipykernel_11820\\3377949429.py:23: FutureWarning: The frame.append method is deprecated and will be removed from pandas in a future version. Use pandas.concat instead.\n",
            "  df_info = df_info.append(cpi.CommonPlayerInfo(id).get_data_frames()[0])\n",
            "C:\\Users\\User\\AppData\\Local\\Temp\\ipykernel_11820\\3377949429.py:23: FutureWarning: The frame.append method is deprecated and will be removed from pandas in a future version. Use pandas.concat instead.\n",
            "  df_info = df_info.append(cpi.CommonPlayerInfo(id).get_data_frames()[0])\n",
            "C:\\Users\\User\\AppData\\Local\\Temp\\ipykernel_11820\\3377949429.py:23: FutureWarning: The frame.append method is deprecated and will be removed from pandas in a future version. Use pandas.concat instead.\n",
            "  df_info = df_info.append(cpi.CommonPlayerInfo(id).get_data_frames()[0])\n",
            "C:\\Users\\User\\AppData\\Local\\Temp\\ipykernel_11820\\3377949429.py:23: FutureWarning: The frame.append method is deprecated and will be removed from pandas in a future version. Use pandas.concat instead.\n",
            "  df_info = df_info.append(cpi.CommonPlayerInfo(id).get_data_frames()[0])\n",
            "C:\\Users\\User\\AppData\\Local\\Temp\\ipykernel_11820\\3377949429.py:23: FutureWarning: The frame.append method is deprecated and will be removed from pandas in a future version. Use pandas.concat instead.\n",
            "  df_info = df_info.append(cpi.CommonPlayerInfo(id).get_data_frames()[0])\n",
            "C:\\Users\\User\\AppData\\Local\\Temp\\ipykernel_11820\\3377949429.py:23: FutureWarning: The frame.append method is deprecated and will be removed from pandas in a future version. Use pandas.concat instead.\n",
            "  df_info = df_info.append(cpi.CommonPlayerInfo(id).get_data_frames()[0])\n",
            "C:\\Users\\User\\AppData\\Local\\Temp\\ipykernel_11820\\3377949429.py:23: FutureWarning: The frame.append method is deprecated and will be removed from pandas in a future version. Use pandas.concat instead.\n",
            "  df_info = df_info.append(cpi.CommonPlayerInfo(id).get_data_frames()[0])\n",
            "C:\\Users\\User\\AppData\\Local\\Temp\\ipykernel_11820\\3377949429.py:23: FutureWarning: The frame.append method is deprecated and will be removed from pandas in a future version. Use pandas.concat instead.\n",
            "  df_info = df_info.append(cpi.CommonPlayerInfo(id).get_data_frames()[0])\n",
            "C:\\Users\\User\\AppData\\Local\\Temp\\ipykernel_11820\\3377949429.py:23: FutureWarning: The frame.append method is deprecated and will be removed from pandas in a future version. Use pandas.concat instead.\n",
            "  df_info = df_info.append(cpi.CommonPlayerInfo(id).get_data_frames()[0])\n",
            "C:\\Users\\User\\AppData\\Local\\Temp\\ipykernel_11820\\3377949429.py:23: FutureWarning: The frame.append method is deprecated and will be removed from pandas in a future version. Use pandas.concat instead.\n",
            "  df_info = df_info.append(cpi.CommonPlayerInfo(id).get_data_frames()[0])\n",
            "C:\\Users\\User\\AppData\\Local\\Temp\\ipykernel_11820\\3377949429.py:23: FutureWarning: The frame.append method is deprecated and will be removed from pandas in a future version. Use pandas.concat instead.\n",
            "  df_info = df_info.append(cpi.CommonPlayerInfo(id).get_data_frames()[0])\n",
            "C:\\Users\\User\\AppData\\Local\\Temp\\ipykernel_11820\\3377949429.py:23: FutureWarning: The frame.append method is deprecated and will be removed from pandas in a future version. Use pandas.concat instead.\n",
            "  df_info = df_info.append(cpi.CommonPlayerInfo(id).get_data_frames()[0])\n",
            "C:\\Users\\User\\AppData\\Local\\Temp\\ipykernel_11820\\3377949429.py:23: FutureWarning: The frame.append method is deprecated and will be removed from pandas in a future version. Use pandas.concat instead.\n",
            "  df_info = df_info.append(cpi.CommonPlayerInfo(id).get_data_frames()[0])\n",
            "C:\\Users\\User\\AppData\\Local\\Temp\\ipykernel_11820\\3377949429.py:23: FutureWarning: The frame.append method is deprecated and will be removed from pandas in a future version. Use pandas.concat instead.\n",
            "  df_info = df_info.append(cpi.CommonPlayerInfo(id).get_data_frames()[0])\n",
            "C:\\Users\\User\\AppData\\Local\\Temp\\ipykernel_11820\\3377949429.py:23: FutureWarning: The frame.append method is deprecated and will be removed from pandas in a future version. Use pandas.concat instead.\n",
            "  df_info = df_info.append(cpi.CommonPlayerInfo(id).get_data_frames()[0])\n",
            "C:\\Users\\User\\AppData\\Local\\Temp\\ipykernel_11820\\3377949429.py:23: FutureWarning: The frame.append method is deprecated and will be removed from pandas in a future version. Use pandas.concat instead.\n",
            "  df_info = df_info.append(cpi.CommonPlayerInfo(id).get_data_frames()[0])\n",
            "C:\\Users\\User\\AppData\\Local\\Temp\\ipykernel_11820\\3377949429.py:23: FutureWarning: The frame.append method is deprecated and will be removed from pandas in a future version. Use pandas.concat instead.\n",
            "  df_info = df_info.append(cpi.CommonPlayerInfo(id).get_data_frames()[0])\n",
            "C:\\Users\\User\\AppData\\Local\\Temp\\ipykernel_11820\\3377949429.py:23: FutureWarning: The frame.append method is deprecated and will be removed from pandas in a future version. Use pandas.concat instead.\n",
            "  df_info = df_info.append(cpi.CommonPlayerInfo(id).get_data_frames()[0])\n",
            "C:\\Users\\User\\AppData\\Local\\Temp\\ipykernel_11820\\3377949429.py:23: FutureWarning: The frame.append method is deprecated and will be removed from pandas in a future version. Use pandas.concat instead.\n",
            "  df_info = df_info.append(cpi.CommonPlayerInfo(id).get_data_frames()[0])\n",
            "C:\\Users\\User\\AppData\\Local\\Temp\\ipykernel_11820\\3377949429.py:23: FutureWarning: The frame.append method is deprecated and will be removed from pandas in a future version. Use pandas.concat instead.\n",
            "  df_info = df_info.append(cpi.CommonPlayerInfo(id).get_data_frames()[0])\n",
            "C:\\Users\\User\\AppData\\Local\\Temp\\ipykernel_11820\\3377949429.py:23: FutureWarning: The frame.append method is deprecated and will be removed from pandas in a future version. Use pandas.concat instead.\n",
            "  df_info = df_info.append(cpi.CommonPlayerInfo(id).get_data_frames()[0])\n",
            "C:\\Users\\User\\AppData\\Local\\Temp\\ipykernel_11820\\3377949429.py:23: FutureWarning: The frame.append method is deprecated and will be removed from pandas in a future version. Use pandas.concat instead.\n",
            "  df_info = df_info.append(cpi.CommonPlayerInfo(id).get_data_frames()[0])\n",
            "C:\\Users\\User\\AppData\\Local\\Temp\\ipykernel_11820\\3377949429.py:23: FutureWarning: The frame.append method is deprecated and will be removed from pandas in a future version. Use pandas.concat instead.\n",
            "  df_info = df_info.append(cpi.CommonPlayerInfo(id).get_data_frames()[0])\n",
            "C:\\Users\\User\\AppData\\Local\\Temp\\ipykernel_11820\\3377949429.py:23: FutureWarning: The frame.append method is deprecated and will be removed from pandas in a future version. Use pandas.concat instead.\n",
            "  df_info = df_info.append(cpi.CommonPlayerInfo(id).get_data_frames()[0])\n",
            "C:\\Users\\User\\AppData\\Local\\Temp\\ipykernel_11820\\3377949429.py:23: FutureWarning: The frame.append method is deprecated and will be removed from pandas in a future version. Use pandas.concat instead.\n",
            "  df_info = df_info.append(cpi.CommonPlayerInfo(id).get_data_frames()[0])\n",
            "C:\\Users\\User\\AppData\\Local\\Temp\\ipykernel_11820\\3377949429.py:23: FutureWarning: The frame.append method is deprecated and will be removed from pandas in a future version. Use pandas.concat instead.\n",
            "  df_info = df_info.append(cpi.CommonPlayerInfo(id).get_data_frames()[0])\n",
            "C:\\Users\\User\\AppData\\Local\\Temp\\ipykernel_11820\\3377949429.py:23: FutureWarning: The frame.append method is deprecated and will be removed from pandas in a future version. Use pandas.concat instead.\n",
            "  df_info = df_info.append(cpi.CommonPlayerInfo(id).get_data_frames()[0])\n",
            "C:\\Users\\User\\AppData\\Local\\Temp\\ipykernel_11820\\3377949429.py:23: FutureWarning: The frame.append method is deprecated and will be removed from pandas in a future version. Use pandas.concat instead.\n",
            "  df_info = df_info.append(cpi.CommonPlayerInfo(id).get_data_frames()[0])\n",
            "C:\\Users\\User\\AppData\\Local\\Temp\\ipykernel_11820\\3377949429.py:23: FutureWarning: The frame.append method is deprecated and will be removed from pandas in a future version. Use pandas.concat instead.\n",
            "  df_info = df_info.append(cpi.CommonPlayerInfo(id).get_data_frames()[0])\n",
            "C:\\Users\\User\\AppData\\Local\\Temp\\ipykernel_11820\\3377949429.py:23: FutureWarning: The frame.append method is deprecated and will be removed from pandas in a future version. Use pandas.concat instead.\n",
            "  df_info = df_info.append(cpi.CommonPlayerInfo(id).get_data_frames()[0])\n",
            "C:\\Users\\User\\AppData\\Local\\Temp\\ipykernel_11820\\3377949429.py:23: FutureWarning: The frame.append method is deprecated and will be removed from pandas in a future version. Use pandas.concat instead.\n",
            "  df_info = df_info.append(cpi.CommonPlayerInfo(id).get_data_frames()[0])\n",
            "C:\\Users\\User\\AppData\\Local\\Temp\\ipykernel_11820\\3377949429.py:23: FutureWarning: The frame.append method is deprecated and will be removed from pandas in a future version. Use pandas.concat instead.\n",
            "  df_info = df_info.append(cpi.CommonPlayerInfo(id).get_data_frames()[0])\n",
            "C:\\Users\\User\\AppData\\Local\\Temp\\ipykernel_11820\\3377949429.py:23: FutureWarning: The frame.append method is deprecated and will be removed from pandas in a future version. Use pandas.concat instead.\n",
            "  df_info = df_info.append(cpi.CommonPlayerInfo(id).get_data_frames()[0])\n",
            "C:\\Users\\User\\AppData\\Local\\Temp\\ipykernel_11820\\3377949429.py:23: FutureWarning: The frame.append method is deprecated and will be removed from pandas in a future version. Use pandas.concat instead.\n",
            "  df_info = df_info.append(cpi.CommonPlayerInfo(id).get_data_frames()[0])\n",
            "C:\\Users\\User\\AppData\\Local\\Temp\\ipykernel_11820\\3377949429.py:23: FutureWarning: The frame.append method is deprecated and will be removed from pandas in a future version. Use pandas.concat instead.\n",
            "  df_info = df_info.append(cpi.CommonPlayerInfo(id).get_data_frames()[0])\n",
            "C:\\Users\\User\\AppData\\Local\\Temp\\ipykernel_11820\\3377949429.py:23: FutureWarning: The frame.append method is deprecated and will be removed from pandas in a future version. Use pandas.concat instead.\n",
            "  df_info = df_info.append(cpi.CommonPlayerInfo(id).get_data_frames()[0])\n",
            "C:\\Users\\User\\AppData\\Local\\Temp\\ipykernel_11820\\3377949429.py:23: FutureWarning: The frame.append method is deprecated and will be removed from pandas in a future version. Use pandas.concat instead.\n",
            "  df_info = df_info.append(cpi.CommonPlayerInfo(id).get_data_frames()[0])\n",
            "C:\\Users\\User\\AppData\\Local\\Temp\\ipykernel_11820\\3377949429.py:23: FutureWarning: The frame.append method is deprecated and will be removed from pandas in a future version. Use pandas.concat instead.\n",
            "  df_info = df_info.append(cpi.CommonPlayerInfo(id).get_data_frames()[0])\n",
            "C:\\Users\\User\\AppData\\Local\\Temp\\ipykernel_11820\\3377949429.py:23: FutureWarning: The frame.append method is deprecated and will be removed from pandas in a future version. Use pandas.concat instead.\n",
            "  df_info = df_info.append(cpi.CommonPlayerInfo(id).get_data_frames()[0])\n",
            "C:\\Users\\User\\AppData\\Local\\Temp\\ipykernel_11820\\3377949429.py:23: FutureWarning: The frame.append method is deprecated and will be removed from pandas in a future version. Use pandas.concat instead.\n",
            "  df_info = df_info.append(cpi.CommonPlayerInfo(id).get_data_frames()[0])\n",
            "C:\\Users\\User\\AppData\\Local\\Temp\\ipykernel_11820\\3377949429.py:23: FutureWarning: The frame.append method is deprecated and will be removed from pandas in a future version. Use pandas.concat instead.\n",
            "  df_info = df_info.append(cpi.CommonPlayerInfo(id).get_data_frames()[0])\n",
            "C:\\Users\\User\\AppData\\Local\\Temp\\ipykernel_11820\\3377949429.py:23: FutureWarning: The frame.append method is deprecated and will be removed from pandas in a future version. Use pandas.concat instead.\n",
            "  df_info = df_info.append(cpi.CommonPlayerInfo(id).get_data_frames()[0])\n",
            "C:\\Users\\User\\AppData\\Local\\Temp\\ipykernel_11820\\3377949429.py:23: FutureWarning: The frame.append method is deprecated and will be removed from pandas in a future version. Use pandas.concat instead.\n",
            "  df_info = df_info.append(cpi.CommonPlayerInfo(id).get_data_frames()[0])\n",
            "C:\\Users\\User\\AppData\\Local\\Temp\\ipykernel_11820\\3377949429.py:23: FutureWarning: The frame.append method is deprecated and will be removed from pandas in a future version. Use pandas.concat instead.\n",
            "  df_info = df_info.append(cpi.CommonPlayerInfo(id).get_data_frames()[0])\n",
            "C:\\Users\\User\\AppData\\Local\\Temp\\ipykernel_11820\\3377949429.py:23: FutureWarning: The frame.append method is deprecated and will be removed from pandas in a future version. Use pandas.concat instead.\n",
            "  df_info = df_info.append(cpi.CommonPlayerInfo(id).get_data_frames()[0])\n",
            "C:\\Users\\User\\AppData\\Local\\Temp\\ipykernel_11820\\3377949429.py:23: FutureWarning: The frame.append method is deprecated and will be removed from pandas in a future version. Use pandas.concat instead.\n",
            "  df_info = df_info.append(cpi.CommonPlayerInfo(id).get_data_frames()[0])\n",
            "C:\\Users\\User\\AppData\\Local\\Temp\\ipykernel_11820\\3377949429.py:23: FutureWarning: The frame.append method is deprecated and will be removed from pandas in a future version. Use pandas.concat instead.\n",
            "  df_info = df_info.append(cpi.CommonPlayerInfo(id).get_data_frames()[0])\n",
            "C:\\Users\\User\\AppData\\Local\\Temp\\ipykernel_11820\\3377949429.py:23: FutureWarning: The frame.append method is deprecated and will be removed from pandas in a future version. Use pandas.concat instead.\n",
            "  df_info = df_info.append(cpi.CommonPlayerInfo(id).get_data_frames()[0])\n",
            "C:\\Users\\User\\AppData\\Local\\Temp\\ipykernel_11820\\3377949429.py:23: FutureWarning: The frame.append method is deprecated and will be removed from pandas in a future version. Use pandas.concat instead.\n",
            "  df_info = df_info.append(cpi.CommonPlayerInfo(id).get_data_frames()[0])\n",
            "C:\\Users\\User\\AppData\\Local\\Temp\\ipykernel_11820\\3377949429.py:23: FutureWarning: The frame.append method is deprecated and will be removed from pandas in a future version. Use pandas.concat instead.\n",
            "  df_info = df_info.append(cpi.CommonPlayerInfo(id).get_data_frames()[0])\n",
            "C:\\Users\\User\\AppData\\Local\\Temp\\ipykernel_11820\\3377949429.py:23: FutureWarning: The frame.append method is deprecated and will be removed from pandas in a future version. Use pandas.concat instead.\n",
            "  df_info = df_info.append(cpi.CommonPlayerInfo(id).get_data_frames()[0])\n",
            "C:\\Users\\User\\AppData\\Local\\Temp\\ipykernel_11820\\3377949429.py:23: FutureWarning: The frame.append method is deprecated and will be removed from pandas in a future version. Use pandas.concat instead.\n",
            "  df_info = df_info.append(cpi.CommonPlayerInfo(id).get_data_frames()[0])\n",
            "C:\\Users\\User\\AppData\\Local\\Temp\\ipykernel_11820\\3377949429.py:23: FutureWarning: The frame.append method is deprecated and will be removed from pandas in a future version. Use pandas.concat instead.\n",
            "  df_info = df_info.append(cpi.CommonPlayerInfo(id).get_data_frames()[0])\n",
            "C:\\Users\\User\\AppData\\Local\\Temp\\ipykernel_11820\\3377949429.py:23: FutureWarning: The frame.append method is deprecated and will be removed from pandas in a future version. Use pandas.concat instead.\n",
            "  df_info = df_info.append(cpi.CommonPlayerInfo(id).get_data_frames()[0])\n",
            "C:\\Users\\User\\AppData\\Local\\Temp\\ipykernel_11820\\3377949429.py:23: FutureWarning: The frame.append method is deprecated and will be removed from pandas in a future version. Use pandas.concat instead.\n",
            "  df_info = df_info.append(cpi.CommonPlayerInfo(id).get_data_frames()[0])\n",
            "C:\\Users\\User\\AppData\\Local\\Temp\\ipykernel_11820\\3377949429.py:23: FutureWarning: The frame.append method is deprecated and will be removed from pandas in a future version. Use pandas.concat instead.\n",
            "  df_info = df_info.append(cpi.CommonPlayerInfo(id).get_data_frames()[0])\n",
            "C:\\Users\\User\\AppData\\Local\\Temp\\ipykernel_11820\\3377949429.py:23: FutureWarning: The frame.append method is deprecated and will be removed from pandas in a future version. Use pandas.concat instead.\n",
            "  df_info = df_info.append(cpi.CommonPlayerInfo(id).get_data_frames()[0])\n",
            "C:\\Users\\User\\AppData\\Local\\Temp\\ipykernel_11820\\3377949429.py:23: FutureWarning: The frame.append method is deprecated and will be removed from pandas in a future version. Use pandas.concat instead.\n",
            "  df_info = df_info.append(cpi.CommonPlayerInfo(id).get_data_frames()[0])\n",
            "C:\\Users\\User\\AppData\\Local\\Temp\\ipykernel_11820\\3377949429.py:23: FutureWarning: The frame.append method is deprecated and will be removed from pandas in a future version. Use pandas.concat instead.\n",
            "  df_info = df_info.append(cpi.CommonPlayerInfo(id).get_data_frames()[0])\n",
            "C:\\Users\\User\\AppData\\Local\\Temp\\ipykernel_11820\\3377949429.py:23: FutureWarning: The frame.append method is deprecated and will be removed from pandas in a future version. Use pandas.concat instead.\n",
            "  df_info = df_info.append(cpi.CommonPlayerInfo(id).get_data_frames()[0])\n",
            "C:\\Users\\User\\AppData\\Local\\Temp\\ipykernel_11820\\3377949429.py:23: FutureWarning: The frame.append method is deprecated and will be removed from pandas in a future version. Use pandas.concat instead.\n",
            "  df_info = df_info.append(cpi.CommonPlayerInfo(id).get_data_frames()[0])\n",
            "C:\\Users\\User\\AppData\\Local\\Temp\\ipykernel_11820\\3377949429.py:23: FutureWarning: The frame.append method is deprecated and will be removed from pandas in a future version. Use pandas.concat instead.\n",
            "  df_info = df_info.append(cpi.CommonPlayerInfo(id).get_data_frames()[0])\n",
            "C:\\Users\\User\\AppData\\Local\\Temp\\ipykernel_11820\\3377949429.py:23: FutureWarning: The frame.append method is deprecated and will be removed from pandas in a future version. Use pandas.concat instead.\n",
            "  df_info = df_info.append(cpi.CommonPlayerInfo(id).get_data_frames()[0])\n",
            "C:\\Users\\User\\AppData\\Local\\Temp\\ipykernel_11820\\3377949429.py:23: FutureWarning: The frame.append method is deprecated and will be removed from pandas in a future version. Use pandas.concat instead.\n",
            "  df_info = df_info.append(cpi.CommonPlayerInfo(id).get_data_frames()[0])\n",
            "C:\\Users\\User\\AppData\\Local\\Temp\\ipykernel_11820\\3377949429.py:23: FutureWarning: The frame.append method is deprecated and will be removed from pandas in a future version. Use pandas.concat instead.\n",
            "  df_info = df_info.append(cpi.CommonPlayerInfo(id).get_data_frames()[0])\n",
            "C:\\Users\\User\\AppData\\Local\\Temp\\ipykernel_11820\\3377949429.py:23: FutureWarning: The frame.append method is deprecated and will be removed from pandas in a future version. Use pandas.concat instead.\n",
            "  df_info = df_info.append(cpi.CommonPlayerInfo(id).get_data_frames()[0])\n",
            "C:\\Users\\User\\AppData\\Local\\Temp\\ipykernel_11820\\3377949429.py:23: FutureWarning: The frame.append method is deprecated and will be removed from pandas in a future version. Use pandas.concat instead.\n",
            "  df_info = df_info.append(cpi.CommonPlayerInfo(id).get_data_frames()[0])\n",
            "C:\\Users\\User\\AppData\\Local\\Temp\\ipykernel_11820\\3377949429.py:23: FutureWarning: The frame.append method is deprecated and will be removed from pandas in a future version. Use pandas.concat instead.\n",
            "  df_info = df_info.append(cpi.CommonPlayerInfo(id).get_data_frames()[0])\n",
            "C:\\Users\\User\\AppData\\Local\\Temp\\ipykernel_11820\\3377949429.py:23: FutureWarning: The frame.append method is deprecated and will be removed from pandas in a future version. Use pandas.concat instead.\n",
            "  df_info = df_info.append(cpi.CommonPlayerInfo(id).get_data_frames()[0])\n",
            "C:\\Users\\User\\AppData\\Local\\Temp\\ipykernel_11820\\3377949429.py:23: FutureWarning: The frame.append method is deprecated and will be removed from pandas in a future version. Use pandas.concat instead.\n",
            "  df_info = df_info.append(cpi.CommonPlayerInfo(id).get_data_frames()[0])\n",
            "C:\\Users\\User\\AppData\\Local\\Temp\\ipykernel_11820\\3377949429.py:23: FutureWarning: The frame.append method is deprecated and will be removed from pandas in a future version. Use pandas.concat instead.\n",
            "  df_info = df_info.append(cpi.CommonPlayerInfo(id).get_data_frames()[0])\n",
            "C:\\Users\\User\\AppData\\Local\\Temp\\ipykernel_11820\\3377949429.py:23: FutureWarning: The frame.append method is deprecated and will be removed from pandas in a future version. Use pandas.concat instead.\n",
            "  df_info = df_info.append(cpi.CommonPlayerInfo(id).get_data_frames()[0])\n",
            "C:\\Users\\User\\AppData\\Local\\Temp\\ipykernel_11820\\3377949429.py:23: FutureWarning: The frame.append method is deprecated and will be removed from pandas in a future version. Use pandas.concat instead.\n",
            "  df_info = df_info.append(cpi.CommonPlayerInfo(id).get_data_frames()[0])\n",
            "C:\\Users\\User\\AppData\\Local\\Temp\\ipykernel_11820\\3377949429.py:23: FutureWarning: The frame.append method is deprecated and will be removed from pandas in a future version. Use pandas.concat instead.\n",
            "  df_info = df_info.append(cpi.CommonPlayerInfo(id).get_data_frames()[0])\n",
            "C:\\Users\\User\\AppData\\Local\\Temp\\ipykernel_11820\\3377949429.py:23: FutureWarning: The frame.append method is deprecated and will be removed from pandas in a future version. Use pandas.concat instead.\n",
            "  df_info = df_info.append(cpi.CommonPlayerInfo(id).get_data_frames()[0])\n",
            "C:\\Users\\User\\AppData\\Local\\Temp\\ipykernel_11820\\3377949429.py:23: FutureWarning: The frame.append method is deprecated and will be removed from pandas in a future version. Use pandas.concat instead.\n",
            "  df_info = df_info.append(cpi.CommonPlayerInfo(id).get_data_frames()[0])\n",
            "C:\\Users\\User\\AppData\\Local\\Temp\\ipykernel_11820\\3377949429.py:23: FutureWarning: The frame.append method is deprecated and will be removed from pandas in a future version. Use pandas.concat instead.\n",
            "  df_info = df_info.append(cpi.CommonPlayerInfo(id).get_data_frames()[0])\n",
            "C:\\Users\\User\\AppData\\Local\\Temp\\ipykernel_11820\\3377949429.py:23: FutureWarning: The frame.append method is deprecated and will be removed from pandas in a future version. Use pandas.concat instead.\n",
            "  df_info = df_info.append(cpi.CommonPlayerInfo(id).get_data_frames()[0])\n",
            "C:\\Users\\User\\AppData\\Local\\Temp\\ipykernel_11820\\3377949429.py:23: FutureWarning: The frame.append method is deprecated and will be removed from pandas in a future version. Use pandas.concat instead.\n",
            "  df_info = df_info.append(cpi.CommonPlayerInfo(id).get_data_frames()[0])\n",
            "C:\\Users\\User\\AppData\\Local\\Temp\\ipykernel_11820\\3377949429.py:23: FutureWarning: The frame.append method is deprecated and will be removed from pandas in a future version. Use pandas.concat instead.\n",
            "  df_info = df_info.append(cpi.CommonPlayerInfo(id).get_data_frames()[0])\n",
            "C:\\Users\\User\\AppData\\Local\\Temp\\ipykernel_11820\\3377949429.py:23: FutureWarning: The frame.append method is deprecated and will be removed from pandas in a future version. Use pandas.concat instead.\n",
            "  df_info = df_info.append(cpi.CommonPlayerInfo(id).get_data_frames()[0])\n",
            "C:\\Users\\User\\AppData\\Local\\Temp\\ipykernel_11820\\3377949429.py:23: FutureWarning: The frame.append method is deprecated and will be removed from pandas in a future version. Use pandas.concat instead.\n",
            "  df_info = df_info.append(cpi.CommonPlayerInfo(id).get_data_frames()[0])\n",
            "C:\\Users\\User\\AppData\\Local\\Temp\\ipykernel_11820\\3377949429.py:23: FutureWarning: The frame.append method is deprecated and will be removed from pandas in a future version. Use pandas.concat instead.\n",
            "  df_info = df_info.append(cpi.CommonPlayerInfo(id).get_data_frames()[0])\n",
            "C:\\Users\\User\\AppData\\Local\\Temp\\ipykernel_11820\\3377949429.py:23: FutureWarning: The frame.append method is deprecated and will be removed from pandas in a future version. Use pandas.concat instead.\n",
            "  df_info = df_info.append(cpi.CommonPlayerInfo(id).get_data_frames()[0])\n",
            "C:\\Users\\User\\AppData\\Local\\Temp\\ipykernel_11820\\3377949429.py:23: FutureWarning: The frame.append method is deprecated and will be removed from pandas in a future version. Use pandas.concat instead.\n",
            "  df_info = df_info.append(cpi.CommonPlayerInfo(id).get_data_frames()[0])\n",
            "C:\\Users\\User\\AppData\\Local\\Temp\\ipykernel_11820\\3377949429.py:23: FutureWarning: The frame.append method is deprecated and will be removed from pandas in a future version. Use pandas.concat instead.\n",
            "  df_info = df_info.append(cpi.CommonPlayerInfo(id).get_data_frames()[0])\n",
            "C:\\Users\\User\\AppData\\Local\\Temp\\ipykernel_11820\\3377949429.py:23: FutureWarning: The frame.append method is deprecated and will be removed from pandas in a future version. Use pandas.concat instead.\n",
            "  df_info = df_info.append(cpi.CommonPlayerInfo(id).get_data_frames()[0])\n",
            "C:\\Users\\User\\AppData\\Local\\Temp\\ipykernel_11820\\3377949429.py:23: FutureWarning: The frame.append method is deprecated and will be removed from pandas in a future version. Use pandas.concat instead.\n",
            "  df_info = df_info.append(cpi.CommonPlayerInfo(id).get_data_frames()[0])\n",
            "C:\\Users\\User\\AppData\\Local\\Temp\\ipykernel_11820\\3377949429.py:23: FutureWarning: The frame.append method is deprecated and will be removed from pandas in a future version. Use pandas.concat instead.\n",
            "  df_info = df_info.append(cpi.CommonPlayerInfo(id).get_data_frames()[0])\n",
            "C:\\Users\\User\\AppData\\Local\\Temp\\ipykernel_11820\\3377949429.py:23: FutureWarning: The frame.append method is deprecated and will be removed from pandas in a future version. Use pandas.concat instead.\n",
            "  df_info = df_info.append(cpi.CommonPlayerInfo(id).get_data_frames()[0])\n",
            "C:\\Users\\User\\AppData\\Local\\Temp\\ipykernel_11820\\3377949429.py:23: FutureWarning: The frame.append method is deprecated and will be removed from pandas in a future version. Use pandas.concat instead.\n",
            "  df_info = df_info.append(cpi.CommonPlayerInfo(id).get_data_frames()[0])\n",
            "C:\\Users\\User\\AppData\\Local\\Temp\\ipykernel_11820\\3377949429.py:23: FutureWarning: The frame.append method is deprecated and will be removed from pandas in a future version. Use pandas.concat instead.\n",
            "  df_info = df_info.append(cpi.CommonPlayerInfo(id).get_data_frames()[0])\n",
            "C:\\Users\\User\\AppData\\Local\\Temp\\ipykernel_11820\\3377949429.py:23: FutureWarning: The frame.append method is deprecated and will be removed from pandas in a future version. Use pandas.concat instead.\n",
            "  df_info = df_info.append(cpi.CommonPlayerInfo(id).get_data_frames()[0])\n",
            "C:\\Users\\User\\AppData\\Local\\Temp\\ipykernel_11820\\3377949429.py:23: FutureWarning: The frame.append method is deprecated and will be removed from pandas in a future version. Use pandas.concat instead.\n",
            "  df_info = df_info.append(cpi.CommonPlayerInfo(id).get_data_frames()[0])\n",
            "C:\\Users\\User\\AppData\\Local\\Temp\\ipykernel_11820\\3377949429.py:23: FutureWarning: The frame.append method is deprecated and will be removed from pandas in a future version. Use pandas.concat instead.\n",
            "  df_info = df_info.append(cpi.CommonPlayerInfo(id).get_data_frames()[0])\n",
            "C:\\Users\\User\\AppData\\Local\\Temp\\ipykernel_11820\\3377949429.py:23: FutureWarning: The frame.append method is deprecated and will be removed from pandas in a future version. Use pandas.concat instead.\n",
            "  df_info = df_info.append(cpi.CommonPlayerInfo(id).get_data_frames()[0])\n",
            "C:\\Users\\User\\AppData\\Local\\Temp\\ipykernel_11820\\3377949429.py:23: FutureWarning: The frame.append method is deprecated and will be removed from pandas in a future version. Use pandas.concat instead.\n",
            "  df_info = df_info.append(cpi.CommonPlayerInfo(id).get_data_frames()[0])\n",
            "C:\\Users\\User\\AppData\\Local\\Temp\\ipykernel_11820\\3377949429.py:23: FutureWarning: The frame.append method is deprecated and will be removed from pandas in a future version. Use pandas.concat instead.\n",
            "  df_info = df_info.append(cpi.CommonPlayerInfo(id).get_data_frames()[0])\n",
            "C:\\Users\\User\\AppData\\Local\\Temp\\ipykernel_11820\\3377949429.py:23: FutureWarning: The frame.append method is deprecated and will be removed from pandas in a future version. Use pandas.concat instead.\n",
            "  df_info = df_info.append(cpi.CommonPlayerInfo(id).get_data_frames()[0])\n",
            "C:\\Users\\User\\AppData\\Local\\Temp\\ipykernel_11820\\3377949429.py:23: FutureWarning: The frame.append method is deprecated and will be removed from pandas in a future version. Use pandas.concat instead.\n",
            "  df_info = df_info.append(cpi.CommonPlayerInfo(id).get_data_frames()[0])\n",
            "C:\\Users\\User\\AppData\\Local\\Temp\\ipykernel_11820\\3377949429.py:23: FutureWarning: The frame.append method is deprecated and will be removed from pandas in a future version. Use pandas.concat instead.\n",
            "  df_info = df_info.append(cpi.CommonPlayerInfo(id).get_data_frames()[0])\n",
            "C:\\Users\\User\\AppData\\Local\\Temp\\ipykernel_11820\\3377949429.py:23: FutureWarning: The frame.append method is deprecated and will be removed from pandas in a future version. Use pandas.concat instead.\n",
            "  df_info = df_info.append(cpi.CommonPlayerInfo(id).get_data_frames()[0])\n",
            "C:\\Users\\User\\AppData\\Local\\Temp\\ipykernel_11820\\3377949429.py:23: FutureWarning: The frame.append method is deprecated and will be removed from pandas in a future version. Use pandas.concat instead.\n",
            "  df_info = df_info.append(cpi.CommonPlayerInfo(id).get_data_frames()[0])\n",
            "C:\\Users\\User\\AppData\\Local\\Temp\\ipykernel_11820\\3377949429.py:23: FutureWarning: The frame.append method is deprecated and will be removed from pandas in a future version. Use pandas.concat instead.\n",
            "  df_info = df_info.append(cpi.CommonPlayerInfo(id).get_data_frames()[0])\n",
            "C:\\Users\\User\\AppData\\Local\\Temp\\ipykernel_11820\\3377949429.py:23: FutureWarning: The frame.append method is deprecated and will be removed from pandas in a future version. Use pandas.concat instead.\n",
            "  df_info = df_info.append(cpi.CommonPlayerInfo(id).get_data_frames()[0])\n",
            "C:\\Users\\User\\AppData\\Local\\Temp\\ipykernel_11820\\3377949429.py:23: FutureWarning: The frame.append method is deprecated and will be removed from pandas in a future version. Use pandas.concat instead.\n",
            "  df_info = df_info.append(cpi.CommonPlayerInfo(id).get_data_frames()[0])\n",
            "C:\\Users\\User\\AppData\\Local\\Temp\\ipykernel_11820\\3377949429.py:23: FutureWarning: The frame.append method is deprecated and will be removed from pandas in a future version. Use pandas.concat instead.\n",
            "  df_info = df_info.append(cpi.CommonPlayerInfo(id).get_data_frames()[0])\n",
            "C:\\Users\\User\\AppData\\Local\\Temp\\ipykernel_11820\\3377949429.py:23: FutureWarning: The frame.append method is deprecated and will be removed from pandas in a future version. Use pandas.concat instead.\n",
            "  df_info = df_info.append(cpi.CommonPlayerInfo(id).get_data_frames()[0])\n",
            "C:\\Users\\User\\AppData\\Local\\Temp\\ipykernel_11820\\3377949429.py:23: FutureWarning: The frame.append method is deprecated and will be removed from pandas in a future version. Use pandas.concat instead.\n",
            "  df_info = df_info.append(cpi.CommonPlayerInfo(id).get_data_frames()[0])\n",
            "C:\\Users\\User\\AppData\\Local\\Temp\\ipykernel_11820\\3377949429.py:23: FutureWarning: The frame.append method is deprecated and will be removed from pandas in a future version. Use pandas.concat instead.\n",
            "  df_info = df_info.append(cpi.CommonPlayerInfo(id).get_data_frames()[0])\n",
            "C:\\Users\\User\\AppData\\Local\\Temp\\ipykernel_11820\\3377949429.py:23: FutureWarning: The frame.append method is deprecated and will be removed from pandas in a future version. Use pandas.concat instead.\n",
            "  df_info = df_info.append(cpi.CommonPlayerInfo(id).get_data_frames()[0])\n",
            "C:\\Users\\User\\AppData\\Local\\Temp\\ipykernel_11820\\3377949429.py:23: FutureWarning: The frame.append method is deprecated and will be removed from pandas in a future version. Use pandas.concat instead.\n",
            "  df_info = df_info.append(cpi.CommonPlayerInfo(id).get_data_frames()[0])\n",
            "C:\\Users\\User\\AppData\\Local\\Temp\\ipykernel_11820\\3377949429.py:23: FutureWarning: The frame.append method is deprecated and will be removed from pandas in a future version. Use pandas.concat instead.\n",
            "  df_info = df_info.append(cpi.CommonPlayerInfo(id).get_data_frames()[0])\n",
            "C:\\Users\\User\\AppData\\Local\\Temp\\ipykernel_11820\\3377949429.py:23: FutureWarning: The frame.append method is deprecated and will be removed from pandas in a future version. Use pandas.concat instead.\n",
            "  df_info = df_info.append(cpi.CommonPlayerInfo(id).get_data_frames()[0])\n",
            "C:\\Users\\User\\AppData\\Local\\Temp\\ipykernel_11820\\3377949429.py:23: FutureWarning: The frame.append method is deprecated and will be removed from pandas in a future version. Use pandas.concat instead.\n",
            "  df_info = df_info.append(cpi.CommonPlayerInfo(id).get_data_frames()[0])\n",
            "C:\\Users\\User\\AppData\\Local\\Temp\\ipykernel_11820\\3377949429.py:23: FutureWarning: The frame.append method is deprecated and will be removed from pandas in a future version. Use pandas.concat instead.\n",
            "  df_info = df_info.append(cpi.CommonPlayerInfo(id).get_data_frames()[0])\n",
            "C:\\Users\\User\\AppData\\Local\\Temp\\ipykernel_11820\\3377949429.py:23: FutureWarning: The frame.append method is deprecated and will be removed from pandas in a future version. Use pandas.concat instead.\n",
            "  df_info = df_info.append(cpi.CommonPlayerInfo(id).get_data_frames()[0])\n",
            "C:\\Users\\User\\AppData\\Local\\Temp\\ipykernel_11820\\3377949429.py:23: FutureWarning: The frame.append method is deprecated and will be removed from pandas in a future version. Use pandas.concat instead.\n",
            "  df_info = df_info.append(cpi.CommonPlayerInfo(id).get_data_frames()[0])\n",
            "C:\\Users\\User\\AppData\\Local\\Temp\\ipykernel_11820\\3377949429.py:23: FutureWarning: The frame.append method is deprecated and will be removed from pandas in a future version. Use pandas.concat instead.\n",
            "  df_info = df_info.append(cpi.CommonPlayerInfo(id).get_data_frames()[0])\n",
            "C:\\Users\\User\\AppData\\Local\\Temp\\ipykernel_11820\\3377949429.py:23: FutureWarning: The frame.append method is deprecated and will be removed from pandas in a future version. Use pandas.concat instead.\n",
            "  df_info = df_info.append(cpi.CommonPlayerInfo(id).get_data_frames()[0])\n",
            "C:\\Users\\User\\AppData\\Local\\Temp\\ipykernel_11820\\3377949429.py:23: FutureWarning: The frame.append method is deprecated and will be removed from pandas in a future version. Use pandas.concat instead.\n",
            "  df_info = df_info.append(cpi.CommonPlayerInfo(id).get_data_frames()[0])\n",
            "C:\\Users\\User\\AppData\\Local\\Temp\\ipykernel_11820\\3377949429.py:23: FutureWarning: The frame.append method is deprecated and will be removed from pandas in a future version. Use pandas.concat instead.\n",
            "  df_info = df_info.append(cpi.CommonPlayerInfo(id).get_data_frames()[0])\n",
            "C:\\Users\\User\\AppData\\Local\\Temp\\ipykernel_11820\\3377949429.py:23: FutureWarning: The frame.append method is deprecated and will be removed from pandas in a future version. Use pandas.concat instead.\n",
            "  df_info = df_info.append(cpi.CommonPlayerInfo(id).get_data_frames()[0])\n",
            "C:\\Users\\User\\AppData\\Local\\Temp\\ipykernel_11820\\3377949429.py:23: FutureWarning: The frame.append method is deprecated and will be removed from pandas in a future version. Use pandas.concat instead.\n",
            "  df_info = df_info.append(cpi.CommonPlayerInfo(id).get_data_frames()[0])\n",
            "C:\\Users\\User\\AppData\\Local\\Temp\\ipykernel_11820\\3377949429.py:23: FutureWarning: The frame.append method is deprecated and will be removed from pandas in a future version. Use pandas.concat instead.\n",
            "  df_info = df_info.append(cpi.CommonPlayerInfo(id).get_data_frames()[0])\n",
            "C:\\Users\\User\\AppData\\Local\\Temp\\ipykernel_11820\\3377949429.py:23: FutureWarning: The frame.append method is deprecated and will be removed from pandas in a future version. Use pandas.concat instead.\n",
            "  df_info = df_info.append(cpi.CommonPlayerInfo(id).get_data_frames()[0])\n",
            "C:\\Users\\User\\AppData\\Local\\Temp\\ipykernel_11820\\3377949429.py:23: FutureWarning: The frame.append method is deprecated and will be removed from pandas in a future version. Use pandas.concat instead.\n",
            "  df_info = df_info.append(cpi.CommonPlayerInfo(id).get_data_frames()[0])\n",
            "C:\\Users\\User\\AppData\\Local\\Temp\\ipykernel_11820\\3377949429.py:23: FutureWarning: The frame.append method is deprecated and will be removed from pandas in a future version. Use pandas.concat instead.\n",
            "  df_info = df_info.append(cpi.CommonPlayerInfo(id).get_data_frames()[0])\n",
            "C:\\Users\\User\\AppData\\Local\\Temp\\ipykernel_11820\\3377949429.py:23: FutureWarning: The frame.append method is deprecated and will be removed from pandas in a future version. Use pandas.concat instead.\n",
            "  df_info = df_info.append(cpi.CommonPlayerInfo(id).get_data_frames()[0])\n",
            "C:\\Users\\User\\AppData\\Local\\Temp\\ipykernel_11820\\3377949429.py:23: FutureWarning: The frame.append method is deprecated and will be removed from pandas in a future version. Use pandas.concat instead.\n",
            "  df_info = df_info.append(cpi.CommonPlayerInfo(id).get_data_frames()[0])\n",
            "C:\\Users\\User\\AppData\\Local\\Temp\\ipykernel_11820\\3377949429.py:23: FutureWarning: The frame.append method is deprecated and will be removed from pandas in a future version. Use pandas.concat instead.\n",
            "  df_info = df_info.append(cpi.CommonPlayerInfo(id).get_data_frames()[0])\n",
            "C:\\Users\\User\\AppData\\Local\\Temp\\ipykernel_11820\\3377949429.py:23: FutureWarning: The frame.append method is deprecated and will be removed from pandas in a future version. Use pandas.concat instead.\n",
            "  df_info = df_info.append(cpi.CommonPlayerInfo(id).get_data_frames()[0])\n",
            "C:\\Users\\User\\AppData\\Local\\Temp\\ipykernel_11820\\3377949429.py:23: FutureWarning: The frame.append method is deprecated and will be removed from pandas in a future version. Use pandas.concat instead.\n",
            "  df_info = df_info.append(cpi.CommonPlayerInfo(id).get_data_frames()[0])\n",
            "C:\\Users\\User\\AppData\\Local\\Temp\\ipykernel_11820\\3377949429.py:23: FutureWarning: The frame.append method is deprecated and will be removed from pandas in a future version. Use pandas.concat instead.\n",
            "  df_info = df_info.append(cpi.CommonPlayerInfo(id).get_data_frames()[0])\n",
            "C:\\Users\\User\\AppData\\Local\\Temp\\ipykernel_11820\\3377949429.py:23: FutureWarning: The frame.append method is deprecated and will be removed from pandas in a future version. Use pandas.concat instead.\n",
            "  df_info = df_info.append(cpi.CommonPlayerInfo(id).get_data_frames()[0])\n",
            "C:\\Users\\User\\AppData\\Local\\Temp\\ipykernel_11820\\3377949429.py:23: FutureWarning: The frame.append method is deprecated and will be removed from pandas in a future version. Use pandas.concat instead.\n",
            "  df_info = df_info.append(cpi.CommonPlayerInfo(id).get_data_frames()[0])\n",
            "C:\\Users\\User\\AppData\\Local\\Temp\\ipykernel_11820\\3377949429.py:23: FutureWarning: The frame.append method is deprecated and will be removed from pandas in a future version. Use pandas.concat instead.\n",
            "  df_info = df_info.append(cpi.CommonPlayerInfo(id).get_data_frames()[0])\n",
            "C:\\Users\\User\\AppData\\Local\\Temp\\ipykernel_11820\\3377949429.py:23: FutureWarning: The frame.append method is deprecated and will be removed from pandas in a future version. Use pandas.concat instead.\n",
            "  df_info = df_info.append(cpi.CommonPlayerInfo(id).get_data_frames()[0])\n",
            "C:\\Users\\User\\AppData\\Local\\Temp\\ipykernel_11820\\3377949429.py:23: FutureWarning: The frame.append method is deprecated and will be removed from pandas in a future version. Use pandas.concat instead.\n",
            "  df_info = df_info.append(cpi.CommonPlayerInfo(id).get_data_frames()[0])\n",
            "C:\\Users\\User\\AppData\\Local\\Temp\\ipykernel_11820\\3377949429.py:23: FutureWarning: The frame.append method is deprecated and will be removed from pandas in a future version. Use pandas.concat instead.\n",
            "  df_info = df_info.append(cpi.CommonPlayerInfo(id).get_data_frames()[0])\n",
            "C:\\Users\\User\\AppData\\Local\\Temp\\ipykernel_11820\\3377949429.py:23: FutureWarning: The frame.append method is deprecated and will be removed from pandas in a future version. Use pandas.concat instead.\n",
            "  df_info = df_info.append(cpi.CommonPlayerInfo(id).get_data_frames()[0])\n",
            "C:\\Users\\User\\AppData\\Local\\Temp\\ipykernel_11820\\3377949429.py:23: FutureWarning: The frame.append method is deprecated and will be removed from pandas in a future version. Use pandas.concat instead.\n",
            "  df_info = df_info.append(cpi.CommonPlayerInfo(id).get_data_frames()[0])\n",
            "C:\\Users\\User\\AppData\\Local\\Temp\\ipykernel_11820\\3377949429.py:23: FutureWarning: The frame.append method is deprecated and will be removed from pandas in a future version. Use pandas.concat instead.\n",
            "  df_info = df_info.append(cpi.CommonPlayerInfo(id).get_data_frames()[0])\n",
            "C:\\Users\\User\\AppData\\Local\\Temp\\ipykernel_11820\\3377949429.py:23: FutureWarning: The frame.append method is deprecated and will be removed from pandas in a future version. Use pandas.concat instead.\n",
            "  df_info = df_info.append(cpi.CommonPlayerInfo(id).get_data_frames()[0])\n",
            "C:\\Users\\User\\AppData\\Local\\Temp\\ipykernel_11820\\3377949429.py:23: FutureWarning: The frame.append method is deprecated and will be removed from pandas in a future version. Use pandas.concat instead.\n",
            "  df_info = df_info.append(cpi.CommonPlayerInfo(id).get_data_frames()[0])\n",
            "C:\\Users\\User\\AppData\\Local\\Temp\\ipykernel_11820\\3377949429.py:23: FutureWarning: The frame.append method is deprecated and will be removed from pandas in a future version. Use pandas.concat instead.\n",
            "  df_info = df_info.append(cpi.CommonPlayerInfo(id).get_data_frames()[0])\n",
            "C:\\Users\\User\\AppData\\Local\\Temp\\ipykernel_11820\\3377949429.py:23: FutureWarning: The frame.append method is deprecated and will be removed from pandas in a future version. Use pandas.concat instead.\n",
            "  df_info = df_info.append(cpi.CommonPlayerInfo(id).get_data_frames()[0])\n",
            "C:\\Users\\User\\AppData\\Local\\Temp\\ipykernel_11820\\3377949429.py:23: FutureWarning: The frame.append method is deprecated and will be removed from pandas in a future version. Use pandas.concat instead.\n",
            "  df_info = df_info.append(cpi.CommonPlayerInfo(id).get_data_frames()[0])\n",
            "C:\\Users\\User\\AppData\\Local\\Temp\\ipykernel_11820\\3377949429.py:23: FutureWarning: The frame.append method is deprecated and will be removed from pandas in a future version. Use pandas.concat instead.\n",
            "  df_info = df_info.append(cpi.CommonPlayerInfo(id).get_data_frames()[0])\n",
            "C:\\Users\\User\\AppData\\Local\\Temp\\ipykernel_11820\\3377949429.py:23: FutureWarning: The frame.append method is deprecated and will be removed from pandas in a future version. Use pandas.concat instead.\n",
            "  df_info = df_info.append(cpi.CommonPlayerInfo(id).get_data_frames()[0])\n",
            "C:\\Users\\User\\AppData\\Local\\Temp\\ipykernel_11820\\3377949429.py:23: FutureWarning: The frame.append method is deprecated and will be removed from pandas in a future version. Use pandas.concat instead.\n",
            "  df_info = df_info.append(cpi.CommonPlayerInfo(id).get_data_frames()[0])\n",
            "C:\\Users\\User\\AppData\\Local\\Temp\\ipykernel_11820\\3377949429.py:23: FutureWarning: The frame.append method is deprecated and will be removed from pandas in a future version. Use pandas.concat instead.\n",
            "  df_info = df_info.append(cpi.CommonPlayerInfo(id).get_data_frames()[0])\n",
            "C:\\Users\\User\\AppData\\Local\\Temp\\ipykernel_11820\\3377949429.py:23: FutureWarning: The frame.append method is deprecated and will be removed from pandas in a future version. Use pandas.concat instead.\n",
            "  df_info = df_info.append(cpi.CommonPlayerInfo(id).get_data_frames()[0])\n",
            "C:\\Users\\User\\AppData\\Local\\Temp\\ipykernel_11820\\3377949429.py:23: FutureWarning: The frame.append method is deprecated and will be removed from pandas in a future version. Use pandas.concat instead.\n",
            "  df_info = df_info.append(cpi.CommonPlayerInfo(id).get_data_frames()[0])\n",
            "C:\\Users\\User\\AppData\\Local\\Temp\\ipykernel_11820\\3377949429.py:23: FutureWarning: The frame.append method is deprecated and will be removed from pandas in a future version. Use pandas.concat instead.\n",
            "  df_info = df_info.append(cpi.CommonPlayerInfo(id).get_data_frames()[0])\n",
            "C:\\Users\\User\\AppData\\Local\\Temp\\ipykernel_11820\\3377949429.py:23: FutureWarning: The frame.append method is deprecated and will be removed from pandas in a future version. Use pandas.concat instead.\n",
            "  df_info = df_info.append(cpi.CommonPlayerInfo(id).get_data_frames()[0])\n",
            "C:\\Users\\User\\AppData\\Local\\Temp\\ipykernel_11820\\3377949429.py:23: FutureWarning: The frame.append method is deprecated and will be removed from pandas in a future version. Use pandas.concat instead.\n",
            "  df_info = df_info.append(cpi.CommonPlayerInfo(id).get_data_frames()[0])\n",
            "C:\\Users\\User\\AppData\\Local\\Temp\\ipykernel_11820\\3377949429.py:23: FutureWarning: The frame.append method is deprecated and will be removed from pandas in a future version. Use pandas.concat instead.\n",
            "  df_info = df_info.append(cpi.CommonPlayerInfo(id).get_data_frames()[0])\n",
            "C:\\Users\\User\\AppData\\Local\\Temp\\ipykernel_11820\\3377949429.py:23: FutureWarning: The frame.append method is deprecated and will be removed from pandas in a future version. Use pandas.concat instead.\n",
            "  df_info = df_info.append(cpi.CommonPlayerInfo(id).get_data_frames()[0])\n",
            "C:\\Users\\User\\AppData\\Local\\Temp\\ipykernel_11820\\3377949429.py:23: FutureWarning: The frame.append method is deprecated and will be removed from pandas in a future version. Use pandas.concat instead.\n",
            "  df_info = df_info.append(cpi.CommonPlayerInfo(id).get_data_frames()[0])\n",
            "C:\\Users\\User\\AppData\\Local\\Temp\\ipykernel_11820\\3377949429.py:23: FutureWarning: The frame.append method is deprecated and will be removed from pandas in a future version. Use pandas.concat instead.\n",
            "  df_info = df_info.append(cpi.CommonPlayerInfo(id).get_data_frames()[0])\n",
            "C:\\Users\\User\\AppData\\Local\\Temp\\ipykernel_11820\\3377949429.py:23: FutureWarning: The frame.append method is deprecated and will be removed from pandas in a future version. Use pandas.concat instead.\n",
            "  df_info = df_info.append(cpi.CommonPlayerInfo(id).get_data_frames()[0])\n",
            "C:\\Users\\User\\AppData\\Local\\Temp\\ipykernel_11820\\3377949429.py:23: FutureWarning: The frame.append method is deprecated and will be removed from pandas in a future version. Use pandas.concat instead.\n",
            "  df_info = df_info.append(cpi.CommonPlayerInfo(id).get_data_frames()[0])\n",
            "C:\\Users\\User\\AppData\\Local\\Temp\\ipykernel_11820\\3377949429.py:23: FutureWarning: The frame.append method is deprecated and will be removed from pandas in a future version. Use pandas.concat instead.\n",
            "  df_info = df_info.append(cpi.CommonPlayerInfo(id).get_data_frames()[0])\n",
            "C:\\Users\\User\\AppData\\Local\\Temp\\ipykernel_11820\\3377949429.py:23: FutureWarning: The frame.append method is deprecated and will be removed from pandas in a future version. Use pandas.concat instead.\n",
            "  df_info = df_info.append(cpi.CommonPlayerInfo(id).get_data_frames()[0])\n",
            "C:\\Users\\User\\AppData\\Local\\Temp\\ipykernel_11820\\3377949429.py:23: FutureWarning: The frame.append method is deprecated and will be removed from pandas in a future version. Use pandas.concat instead.\n",
            "  df_info = df_info.append(cpi.CommonPlayerInfo(id).get_data_frames()[0])\n",
            "C:\\Users\\User\\AppData\\Local\\Temp\\ipykernel_11820\\3377949429.py:23: FutureWarning: The frame.append method is deprecated and will be removed from pandas in a future version. Use pandas.concat instead.\n",
            "  df_info = df_info.append(cpi.CommonPlayerInfo(id).get_data_frames()[0])\n",
            "C:\\Users\\User\\AppData\\Local\\Temp\\ipykernel_11820\\3377949429.py:23: FutureWarning: The frame.append method is deprecated and will be removed from pandas in a future version. Use pandas.concat instead.\n",
            "  df_info = df_info.append(cpi.CommonPlayerInfo(id).get_data_frames()[0])\n",
            "C:\\Users\\User\\AppData\\Local\\Temp\\ipykernel_11820\\3377949429.py:23: FutureWarning: The frame.append method is deprecated and will be removed from pandas in a future version. Use pandas.concat instead.\n",
            "  df_info = df_info.append(cpi.CommonPlayerInfo(id).get_data_frames()[0])\n",
            "C:\\Users\\User\\AppData\\Local\\Temp\\ipykernel_11820\\3377949429.py:23: FutureWarning: The frame.append method is deprecated and will be removed from pandas in a future version. Use pandas.concat instead.\n",
            "  df_info = df_info.append(cpi.CommonPlayerInfo(id).get_data_frames()[0])\n",
            "C:\\Users\\User\\AppData\\Local\\Temp\\ipykernel_11820\\3377949429.py:23: FutureWarning: The frame.append method is deprecated and will be removed from pandas in a future version. Use pandas.concat instead.\n",
            "  df_info = df_info.append(cpi.CommonPlayerInfo(id).get_data_frames()[0])\n",
            "C:\\Users\\User\\AppData\\Local\\Temp\\ipykernel_11820\\3377949429.py:23: FutureWarning: The frame.append method is deprecated and will be removed from pandas in a future version. Use pandas.concat instead.\n",
            "  df_info = df_info.append(cpi.CommonPlayerInfo(id).get_data_frames()[0])\n",
            "C:\\Users\\User\\AppData\\Local\\Temp\\ipykernel_11820\\3377949429.py:23: FutureWarning: The frame.append method is deprecated and will be removed from pandas in a future version. Use pandas.concat instead.\n",
            "  df_info = df_info.append(cpi.CommonPlayerInfo(id).get_data_frames()[0])\n",
            "C:\\Users\\User\\AppData\\Local\\Temp\\ipykernel_11820\\3377949429.py:23: FutureWarning: The frame.append method is deprecated and will be removed from pandas in a future version. Use pandas.concat instead.\n",
            "  df_info = df_info.append(cpi.CommonPlayerInfo(id).get_data_frames()[0])\n",
            "C:\\Users\\User\\AppData\\Local\\Temp\\ipykernel_11820\\3377949429.py:23: FutureWarning: The frame.append method is deprecated and will be removed from pandas in a future version. Use pandas.concat instead.\n",
            "  df_info = df_info.append(cpi.CommonPlayerInfo(id).get_data_frames()[0])\n",
            "C:\\Users\\User\\AppData\\Local\\Temp\\ipykernel_11820\\3377949429.py:23: FutureWarning: The frame.append method is deprecated and will be removed from pandas in a future version. Use pandas.concat instead.\n",
            "  df_info = df_info.append(cpi.CommonPlayerInfo(id).get_data_frames()[0])\n",
            "C:\\Users\\User\\AppData\\Local\\Temp\\ipykernel_11820\\3377949429.py:23: FutureWarning: The frame.append method is deprecated and will be removed from pandas in a future version. Use pandas.concat instead.\n",
            "  df_info = df_info.append(cpi.CommonPlayerInfo(id).get_data_frames()[0])\n",
            "C:\\Users\\User\\AppData\\Local\\Temp\\ipykernel_11820\\3377949429.py:23: FutureWarning: The frame.append method is deprecated and will be removed from pandas in a future version. Use pandas.concat instead.\n",
            "  df_info = df_info.append(cpi.CommonPlayerInfo(id).get_data_frames()[0])\n",
            "C:\\Users\\User\\AppData\\Local\\Temp\\ipykernel_11820\\3377949429.py:23: FutureWarning: The frame.append method is deprecated and will be removed from pandas in a future version. Use pandas.concat instead.\n",
            "  df_info = df_info.append(cpi.CommonPlayerInfo(id).get_data_frames()[0])\n",
            "C:\\Users\\User\\AppData\\Local\\Temp\\ipykernel_11820\\3377949429.py:23: FutureWarning: The frame.append method is deprecated and will be removed from pandas in a future version. Use pandas.concat instead.\n",
            "  df_info = df_info.append(cpi.CommonPlayerInfo(id).get_data_frames()[0])\n",
            "C:\\Users\\User\\AppData\\Local\\Temp\\ipykernel_11820\\3377949429.py:23: FutureWarning: The frame.append method is deprecated and will be removed from pandas in a future version. Use pandas.concat instead.\n",
            "  df_info = df_info.append(cpi.CommonPlayerInfo(id).get_data_frames()[0])\n",
            "C:\\Users\\User\\AppData\\Local\\Temp\\ipykernel_11820\\3377949429.py:23: FutureWarning: The frame.append method is deprecated and will be removed from pandas in a future version. Use pandas.concat instead.\n",
            "  df_info = df_info.append(cpi.CommonPlayerInfo(id).get_data_frames()[0])\n",
            "C:\\Users\\User\\AppData\\Local\\Temp\\ipykernel_11820\\3377949429.py:23: FutureWarning: The frame.append method is deprecated and will be removed from pandas in a future version. Use pandas.concat instead.\n",
            "  df_info = df_info.append(cpi.CommonPlayerInfo(id).get_data_frames()[0])\n",
            "C:\\Users\\User\\AppData\\Local\\Temp\\ipykernel_11820\\3377949429.py:23: FutureWarning: The frame.append method is deprecated and will be removed from pandas in a future version. Use pandas.concat instead.\n",
            "  df_info = df_info.append(cpi.CommonPlayerInfo(id).get_data_frames()[0])\n",
            "C:\\Users\\User\\AppData\\Local\\Temp\\ipykernel_11820\\3377949429.py:23: FutureWarning: The frame.append method is deprecated and will be removed from pandas in a future version. Use pandas.concat instead.\n",
            "  df_info = df_info.append(cpi.CommonPlayerInfo(id).get_data_frames()[0])\n"
          ]
        }
      ],
      "source": [
        "players_personal_info = get_players_personal_information(current_players_list)\n",
        "players_personal_info.to_csv(\"nba_players_personal_info.csv\")"
      ]
    },
    {
      "cell_type": "code",
      "execution_count": 21,
      "id": "wAi02Wbl70wp",
      "metadata": {
        "colab": {
          "base_uri": "https://localhost:8080/"
        },
        "id": "wAi02Wbl70wp",
        "outputId": "70aadcf7-7073-4fb6-abbf-7e5b8361cebf"
      },
      "outputs": [
        {
          "data": {
            "text/plain": [
              "(493, 9)"
            ]
          },
          "execution_count": 21,
          "metadata": {},
          "output_type": "execute_result"
        }
      ],
      "source": [
        "players_personal_info.shape"
      ]
    },
    {
      "cell_type": "code",
      "execution_count": 22,
      "id": "lzfHjXuNRiah",
      "metadata": {
        "colab": {
          "base_uri": "https://localhost:8080/"
        },
        "id": "lzfHjXuNRiah",
        "outputId": "afa0304e-874a-47f2-c38b-bac827a3e42d"
      },
      "outputs": [
        {
          "name": "stdout",
          "output_type": "stream",
          "text": [
            "<class 'pandas.core.frame.DataFrame'>\n",
            "Int64Index: 493 entries, 1630173 to 1627826\n",
            "Data columns (total 9 columns):\n",
            " #   Column        Non-Null Count  Dtype \n",
            "---  ------        --------------  ----- \n",
            " 0   PLAYER_NAME   493 non-null    object\n",
            " 1   TEAM_NAME     493 non-null    object\n",
            " 2   POSITION      493 non-null    object\n",
            " 3   HEIGHT        493 non-null    object\n",
            " 4   WEIGHT        493 non-null    object\n",
            " 5   COUNTRY       493 non-null    object\n",
            " 6   BIRTHDATE     493 non-null    object\n",
            " 7   SEASON_EXP    493 non-null    int64 \n",
            " 8   DRAFT_NUMBER  487 non-null    object\n",
            "dtypes: int64(1), object(8)\n",
            "memory usage: 38.5+ KB\n"
          ]
        }
      ],
      "source": [
        "players_personal_info.info()"
      ]
    },
    {
      "cell_type": "code",
      "execution_count": 23,
      "id": "EKkT2_OBkNSs",
      "metadata": {
        "colab": {
          "base_uri": "https://localhost:8080/",
          "height": 144
        },
        "id": "EKkT2_OBkNSs",
        "outputId": "e2ab087d-532f-4de7-9ded-9e0fd1f6a7e6"
      },
      "outputs": [
        {
          "data": {
            "text/html": [
              "<div>\n",
              "<style scoped>\n",
              "    .dataframe tbody tr th:only-of-type {\n",
              "        vertical-align: middle;\n",
              "    }\n",
              "\n",
              "    .dataframe tbody tr th {\n",
              "        vertical-align: top;\n",
              "    }\n",
              "\n",
              "    .dataframe thead th {\n",
              "        text-align: right;\n",
              "    }\n",
              "</style>\n",
              "<table border=\"1\" class=\"dataframe\">\n",
              "  <thead>\n",
              "    <tr style=\"text-align: right;\">\n",
              "      <th></th>\n",
              "      <th>PLAYER_NAME</th>\n",
              "      <th>TEAM_NAME</th>\n",
              "      <th>POSITION</th>\n",
              "      <th>HEIGHT</th>\n",
              "      <th>WEIGHT</th>\n",
              "      <th>COUNTRY</th>\n",
              "      <th>BIRTHDATE</th>\n",
              "      <th>SEASON_EXP</th>\n",
              "      <th>DRAFT_NUMBER</th>\n",
              "    </tr>\n",
              "    <tr>\n",
              "      <th>PERSON_ID</th>\n",
              "      <th></th>\n",
              "      <th></th>\n",
              "      <th></th>\n",
              "      <th></th>\n",
              "      <th></th>\n",
              "      <th></th>\n",
              "      <th></th>\n",
              "      <th></th>\n",
              "      <th></th>\n",
              "    </tr>\n",
              "  </thead>\n",
              "  <tbody>\n",
              "    <tr>\n",
              "      <th>1630173</th>\n",
              "      <td>Precious Achiuwa</td>\n",
              "      <td>Raptors</td>\n",
              "      <td>Forward</td>\n",
              "      <td>6-8</td>\n",
              "      <td>225</td>\n",
              "      <td>Nigeria</td>\n",
              "      <td>1999-09-19T00:00:00</td>\n",
              "      <td>2</td>\n",
              "      <td>20</td>\n",
              "    </tr>\n",
              "    <tr>\n",
              "      <th>203500</th>\n",
              "      <td>Steven Adams</td>\n",
              "      <td>Grizzlies</td>\n",
              "      <td>Center</td>\n",
              "      <td>6-11</td>\n",
              "      <td>265</td>\n",
              "      <td>New Zealand</td>\n",
              "      <td>1993-07-20T00:00:00</td>\n",
              "      <td>9</td>\n",
              "      <td>12</td>\n",
              "    </tr>\n",
              "  </tbody>\n",
              "</table>\n",
              "</div>"
            ],
            "text/plain": [
              "                PLAYER_NAME  TEAM_NAME POSITION HEIGHT WEIGHT      COUNTRY  \\\n",
              "PERSON_ID                                                                    \n",
              "1630173    Precious Achiuwa    Raptors  Forward    6-8    225      Nigeria   \n",
              "203500         Steven Adams  Grizzlies   Center   6-11    265  New Zealand   \n",
              "\n",
              "                     BIRTHDATE  SEASON_EXP DRAFT_NUMBER  \n",
              "PERSON_ID                                                \n",
              "1630173    1999-09-19T00:00:00           2           20  \n",
              "203500     1993-07-20T00:00:00           9           12  "
            ]
          },
          "execution_count": 23,
          "metadata": {},
          "output_type": "execute_result"
        }
      ],
      "source": [
        "players_personal_info.head(2)"
      ]
    },
    {
      "cell_type": "markdown",
      "id": "299218a4-1d90-4f55-822a-ec059474ea69",
      "metadata": {
        "id": "299218a4-1d90-4f55-822a-ec059474ea69"
      },
      "source": [
        "Coding a function to find players career statistics, store the information in a CSV file called \"nba_players_career_stats.csv\""
      ]
    },
    {
      "cell_type": "markdown",
      "id": "mHhjv179BNXQ",
      "metadata": {
        "id": "mHhjv179BNXQ"
      },
      "source": [
        "Player career statistics:\n",
        "*   games played (int)\n",
        "*   minutes per game (float)\n",
        "*   points per game (float)\n",
        "*   rebounds per game (float)\n",
        "*   assists per game (float)\n",
        "*   steals per game (float)\n",
        "*   blocks per game (float)"
      ]
    },
    {
      "cell_type": "code",
      "execution_count": 29,
      "id": "1b579e0d-6899-41ce-8f7f-d7e1e5f463c2",
      "metadata": {
        "id": "1b579e0d-6899-41ce-8f7f-d7e1e5f463c2"
      },
      "outputs": [],
      "source": [
        "def get_players_career_stats(current_players_list):\n",
        "  \"\"\"\n",
        "  using the PlayerCareerStats endpoint we alterate through current_players_list PERSON_ID\n",
        "  and we call the api and get the information.\n",
        "  \n",
        "  We create a empty data frame and we complited row by row in every iteration. Thats why we need the time sleep method.\n",
        "  \"\"\"\n",
        "  \n",
        "  df_stats = pd.DataFrame()\n",
        "  \n",
        "  list_id = current_players_list['PERSON_ID'].tolist()\n",
        "    \n",
        "  for player_id in list_id:\n",
        "    df_stats = df_stats.append(pp2(player_id, per_mode36='PerGame').career_totals_regular_season.get_data_frame())\n",
        "    time.sleep(0.5)\n",
        "    \n",
        "  \n",
        "  df_stats = df_stats.loc[:, ['PLAYER_ID','GP', 'MIN', 'PTS', 'REB', 'AST', 'STL', 'BLK']]\n",
        "  \n",
        "    \n",
        "  \n",
        "\n",
        "  \n",
        "  #df_stats.set_index('PERSON_ID',inplace=True)\n",
        "  #df_stats = df_stats.drop(['PLAYER_ID'], axis=1)\n",
        "  \n",
        "  \n",
        "  return df_stats\n"
      ]
    },
    {
      "cell_type": "code",
      "execution_count": 30,
      "id": "af100c14-2b06-4019-8a6a-6299f66da4df",
      "metadata": {
        "id": "af100c14-2b06-4019-8a6a-6299f66da4df"
      },
      "outputs": [
        {
          "name": "stderr",
          "output_type": "stream",
          "text": [
            "C:\\Users\\User\\AppData\\Local\\Temp\\ipykernel_11820\\2696809094.py:14: FutureWarning: The frame.append method is deprecated and will be removed from pandas in a future version. Use pandas.concat instead.\n",
            "  df_stats = df_stats.append(pp2(player_id, per_mode36='PerGame').career_totals_regular_season.get_data_frame())\n",
            "C:\\Users\\User\\AppData\\Local\\Temp\\ipykernel_11820\\2696809094.py:14: FutureWarning: The frame.append method is deprecated and will be removed from pandas in a future version. Use pandas.concat instead.\n",
            "  df_stats = df_stats.append(pp2(player_id, per_mode36='PerGame').career_totals_regular_season.get_data_frame())\n",
            "C:\\Users\\User\\AppData\\Local\\Temp\\ipykernel_11820\\2696809094.py:14: FutureWarning: The frame.append method is deprecated and will be removed from pandas in a future version. Use pandas.concat instead.\n",
            "  df_stats = df_stats.append(pp2(player_id, per_mode36='PerGame').career_totals_regular_season.get_data_frame())\n",
            "C:\\Users\\User\\AppData\\Local\\Temp\\ipykernel_11820\\2696809094.py:14: FutureWarning: The frame.append method is deprecated and will be removed from pandas in a future version. Use pandas.concat instead.\n",
            "  df_stats = df_stats.append(pp2(player_id, per_mode36='PerGame').career_totals_regular_season.get_data_frame())\n",
            "C:\\Users\\User\\AppData\\Local\\Temp\\ipykernel_11820\\2696809094.py:14: FutureWarning: The frame.append method is deprecated and will be removed from pandas in a future version. Use pandas.concat instead.\n",
            "  df_stats = df_stats.append(pp2(player_id, per_mode36='PerGame').career_totals_regular_season.get_data_frame())\n",
            "C:\\Users\\User\\AppData\\Local\\Temp\\ipykernel_11820\\2696809094.py:14: FutureWarning: The frame.append method is deprecated and will be removed from pandas in a future version. Use pandas.concat instead.\n",
            "  df_stats = df_stats.append(pp2(player_id, per_mode36='PerGame').career_totals_regular_season.get_data_frame())\n",
            "C:\\Users\\User\\AppData\\Local\\Temp\\ipykernel_11820\\2696809094.py:14: FutureWarning: The frame.append method is deprecated and will be removed from pandas in a future version. Use pandas.concat instead.\n",
            "  df_stats = df_stats.append(pp2(player_id, per_mode36='PerGame').career_totals_regular_season.get_data_frame())\n",
            "C:\\Users\\User\\AppData\\Local\\Temp\\ipykernel_11820\\2696809094.py:14: FutureWarning: The frame.append method is deprecated and will be removed from pandas in a future version. Use pandas.concat instead.\n",
            "  df_stats = df_stats.append(pp2(player_id, per_mode36='PerGame').career_totals_regular_season.get_data_frame())\n",
            "C:\\Users\\User\\AppData\\Local\\Temp\\ipykernel_11820\\2696809094.py:14: FutureWarning: The frame.append method is deprecated and will be removed from pandas in a future version. Use pandas.concat instead.\n",
            "  df_stats = df_stats.append(pp2(player_id, per_mode36='PerGame').career_totals_regular_season.get_data_frame())\n",
            "C:\\Users\\User\\AppData\\Local\\Temp\\ipykernel_11820\\2696809094.py:14: FutureWarning: The frame.append method is deprecated and will be removed from pandas in a future version. Use pandas.concat instead.\n",
            "  df_stats = df_stats.append(pp2(player_id, per_mode36='PerGame').career_totals_regular_season.get_data_frame())\n",
            "C:\\Users\\User\\AppData\\Local\\Temp\\ipykernel_11820\\2696809094.py:14: FutureWarning: The frame.append method is deprecated and will be removed from pandas in a future version. Use pandas.concat instead.\n",
            "  df_stats = df_stats.append(pp2(player_id, per_mode36='PerGame').career_totals_regular_season.get_data_frame())\n",
            "C:\\Users\\User\\AppData\\Local\\Temp\\ipykernel_11820\\2696809094.py:14: FutureWarning: The frame.append method is deprecated and will be removed from pandas in a future version. Use pandas.concat instead.\n",
            "  df_stats = df_stats.append(pp2(player_id, per_mode36='PerGame').career_totals_regular_season.get_data_frame())\n",
            "C:\\Users\\User\\AppData\\Local\\Temp\\ipykernel_11820\\2696809094.py:14: FutureWarning: The frame.append method is deprecated and will be removed from pandas in a future version. Use pandas.concat instead.\n",
            "  df_stats = df_stats.append(pp2(player_id, per_mode36='PerGame').career_totals_regular_season.get_data_frame())\n",
            "C:\\Users\\User\\AppData\\Local\\Temp\\ipykernel_11820\\2696809094.py:14: FutureWarning: The frame.append method is deprecated and will be removed from pandas in a future version. Use pandas.concat instead.\n",
            "  df_stats = df_stats.append(pp2(player_id, per_mode36='PerGame').career_totals_regular_season.get_data_frame())\n",
            "C:\\Users\\User\\AppData\\Local\\Temp\\ipykernel_11820\\2696809094.py:14: FutureWarning: The frame.append method is deprecated and will be removed from pandas in a future version. Use pandas.concat instead.\n",
            "  df_stats = df_stats.append(pp2(player_id, per_mode36='PerGame').career_totals_regular_season.get_data_frame())\n",
            "C:\\Users\\User\\AppData\\Local\\Temp\\ipykernel_11820\\2696809094.py:14: FutureWarning: The frame.append method is deprecated and will be removed from pandas in a future version. Use pandas.concat instead.\n",
            "  df_stats = df_stats.append(pp2(player_id, per_mode36='PerGame').career_totals_regular_season.get_data_frame())\n",
            "C:\\Users\\User\\AppData\\Local\\Temp\\ipykernel_11820\\2696809094.py:14: FutureWarning: The frame.append method is deprecated and will be removed from pandas in a future version. Use pandas.concat instead.\n",
            "  df_stats = df_stats.append(pp2(player_id, per_mode36='PerGame').career_totals_regular_season.get_data_frame())\n",
            "C:\\Users\\User\\AppData\\Local\\Temp\\ipykernel_11820\\2696809094.py:14: FutureWarning: The frame.append method is deprecated and will be removed from pandas in a future version. Use pandas.concat instead.\n",
            "  df_stats = df_stats.append(pp2(player_id, per_mode36='PerGame').career_totals_regular_season.get_data_frame())\n",
            "C:\\Users\\User\\AppData\\Local\\Temp\\ipykernel_11820\\2696809094.py:14: FutureWarning: The frame.append method is deprecated and will be removed from pandas in a future version. Use pandas.concat instead.\n",
            "  df_stats = df_stats.append(pp2(player_id, per_mode36='PerGame').career_totals_regular_season.get_data_frame())\n",
            "C:\\Users\\User\\AppData\\Local\\Temp\\ipykernel_11820\\2696809094.py:14: FutureWarning: The frame.append method is deprecated and will be removed from pandas in a future version. Use pandas.concat instead.\n",
            "  df_stats = df_stats.append(pp2(player_id, per_mode36='PerGame').career_totals_regular_season.get_data_frame())\n",
            "C:\\Users\\User\\AppData\\Local\\Temp\\ipykernel_11820\\2696809094.py:14: FutureWarning: The frame.append method is deprecated and will be removed from pandas in a future version. Use pandas.concat instead.\n",
            "  df_stats = df_stats.append(pp2(player_id, per_mode36='PerGame').career_totals_regular_season.get_data_frame())\n",
            "C:\\Users\\User\\AppData\\Local\\Temp\\ipykernel_11820\\2696809094.py:14: FutureWarning: The frame.append method is deprecated and will be removed from pandas in a future version. Use pandas.concat instead.\n",
            "  df_stats = df_stats.append(pp2(player_id, per_mode36='PerGame').career_totals_regular_season.get_data_frame())\n",
            "C:\\Users\\User\\AppData\\Local\\Temp\\ipykernel_11820\\2696809094.py:14: FutureWarning: The frame.append method is deprecated and will be removed from pandas in a future version. Use pandas.concat instead.\n",
            "  df_stats = df_stats.append(pp2(player_id, per_mode36='PerGame').career_totals_regular_season.get_data_frame())\n",
            "C:\\Users\\User\\AppData\\Local\\Temp\\ipykernel_11820\\2696809094.py:14: FutureWarning: The frame.append method is deprecated and will be removed from pandas in a future version. Use pandas.concat instead.\n",
            "  df_stats = df_stats.append(pp2(player_id, per_mode36='PerGame').career_totals_regular_season.get_data_frame())\n",
            "C:\\Users\\User\\AppData\\Local\\Temp\\ipykernel_11820\\2696809094.py:14: FutureWarning: The frame.append method is deprecated and will be removed from pandas in a future version. Use pandas.concat instead.\n",
            "  df_stats = df_stats.append(pp2(player_id, per_mode36='PerGame').career_totals_regular_season.get_data_frame())\n",
            "C:\\Users\\User\\AppData\\Local\\Temp\\ipykernel_11820\\2696809094.py:14: FutureWarning: The frame.append method is deprecated and will be removed from pandas in a future version. Use pandas.concat instead.\n",
            "  df_stats = df_stats.append(pp2(player_id, per_mode36='PerGame').career_totals_regular_season.get_data_frame())\n",
            "C:\\Users\\User\\AppData\\Local\\Temp\\ipykernel_11820\\2696809094.py:14: FutureWarning: The frame.append method is deprecated and will be removed from pandas in a future version. Use pandas.concat instead.\n",
            "  df_stats = df_stats.append(pp2(player_id, per_mode36='PerGame').career_totals_regular_season.get_data_frame())\n",
            "C:\\Users\\User\\AppData\\Local\\Temp\\ipykernel_11820\\2696809094.py:14: FutureWarning: The frame.append method is deprecated and will be removed from pandas in a future version. Use pandas.concat instead.\n",
            "  df_stats = df_stats.append(pp2(player_id, per_mode36='PerGame').career_totals_regular_season.get_data_frame())\n",
            "C:\\Users\\User\\AppData\\Local\\Temp\\ipykernel_11820\\2696809094.py:14: FutureWarning: The frame.append method is deprecated and will be removed from pandas in a future version. Use pandas.concat instead.\n",
            "  df_stats = df_stats.append(pp2(player_id, per_mode36='PerGame').career_totals_regular_season.get_data_frame())\n",
            "C:\\Users\\User\\AppData\\Local\\Temp\\ipykernel_11820\\2696809094.py:14: FutureWarning: The frame.append method is deprecated and will be removed from pandas in a future version. Use pandas.concat instead.\n",
            "  df_stats = df_stats.append(pp2(player_id, per_mode36='PerGame').career_totals_regular_season.get_data_frame())\n",
            "C:\\Users\\User\\AppData\\Local\\Temp\\ipykernel_11820\\2696809094.py:14: FutureWarning: The frame.append method is deprecated and will be removed from pandas in a future version. Use pandas.concat instead.\n",
            "  df_stats = df_stats.append(pp2(player_id, per_mode36='PerGame').career_totals_regular_season.get_data_frame())\n",
            "C:\\Users\\User\\AppData\\Local\\Temp\\ipykernel_11820\\2696809094.py:14: FutureWarning: The frame.append method is deprecated and will be removed from pandas in a future version. Use pandas.concat instead.\n",
            "  df_stats = df_stats.append(pp2(player_id, per_mode36='PerGame').career_totals_regular_season.get_data_frame())\n",
            "C:\\Users\\User\\AppData\\Local\\Temp\\ipykernel_11820\\2696809094.py:14: FutureWarning: The frame.append method is deprecated and will be removed from pandas in a future version. Use pandas.concat instead.\n",
            "  df_stats = df_stats.append(pp2(player_id, per_mode36='PerGame').career_totals_regular_season.get_data_frame())\n",
            "C:\\Users\\User\\AppData\\Local\\Temp\\ipykernel_11820\\2696809094.py:14: FutureWarning: The frame.append method is deprecated and will be removed from pandas in a future version. Use pandas.concat instead.\n",
            "  df_stats = df_stats.append(pp2(player_id, per_mode36='PerGame').career_totals_regular_season.get_data_frame())\n",
            "C:\\Users\\User\\AppData\\Local\\Temp\\ipykernel_11820\\2696809094.py:14: FutureWarning: The frame.append method is deprecated and will be removed from pandas in a future version. Use pandas.concat instead.\n",
            "  df_stats = df_stats.append(pp2(player_id, per_mode36='PerGame').career_totals_regular_season.get_data_frame())\n",
            "C:\\Users\\User\\AppData\\Local\\Temp\\ipykernel_11820\\2696809094.py:14: FutureWarning: The frame.append method is deprecated and will be removed from pandas in a future version. Use pandas.concat instead.\n",
            "  df_stats = df_stats.append(pp2(player_id, per_mode36='PerGame').career_totals_regular_season.get_data_frame())\n",
            "C:\\Users\\User\\AppData\\Local\\Temp\\ipykernel_11820\\2696809094.py:14: FutureWarning: The frame.append method is deprecated and will be removed from pandas in a future version. Use pandas.concat instead.\n",
            "  df_stats = df_stats.append(pp2(player_id, per_mode36='PerGame').career_totals_regular_season.get_data_frame())\n",
            "C:\\Users\\User\\AppData\\Local\\Temp\\ipykernel_11820\\2696809094.py:14: FutureWarning: The frame.append method is deprecated and will be removed from pandas in a future version. Use pandas.concat instead.\n",
            "  df_stats = df_stats.append(pp2(player_id, per_mode36='PerGame').career_totals_regular_season.get_data_frame())\n",
            "C:\\Users\\User\\AppData\\Local\\Temp\\ipykernel_11820\\2696809094.py:14: FutureWarning: The frame.append method is deprecated and will be removed from pandas in a future version. Use pandas.concat instead.\n",
            "  df_stats = df_stats.append(pp2(player_id, per_mode36='PerGame').career_totals_regular_season.get_data_frame())\n",
            "C:\\Users\\User\\AppData\\Local\\Temp\\ipykernel_11820\\2696809094.py:14: FutureWarning: The frame.append method is deprecated and will be removed from pandas in a future version. Use pandas.concat instead.\n",
            "  df_stats = df_stats.append(pp2(player_id, per_mode36='PerGame').career_totals_regular_season.get_data_frame())\n",
            "C:\\Users\\User\\AppData\\Local\\Temp\\ipykernel_11820\\2696809094.py:14: FutureWarning: The frame.append method is deprecated and will be removed from pandas in a future version. Use pandas.concat instead.\n",
            "  df_stats = df_stats.append(pp2(player_id, per_mode36='PerGame').career_totals_regular_season.get_data_frame())\n",
            "C:\\Users\\User\\AppData\\Local\\Temp\\ipykernel_11820\\2696809094.py:14: FutureWarning: The frame.append method is deprecated and will be removed from pandas in a future version. Use pandas.concat instead.\n",
            "  df_stats = df_stats.append(pp2(player_id, per_mode36='PerGame').career_totals_regular_season.get_data_frame())\n",
            "C:\\Users\\User\\AppData\\Local\\Temp\\ipykernel_11820\\2696809094.py:14: FutureWarning: The frame.append method is deprecated and will be removed from pandas in a future version. Use pandas.concat instead.\n",
            "  df_stats = df_stats.append(pp2(player_id, per_mode36='PerGame').career_totals_regular_season.get_data_frame())\n",
            "C:\\Users\\User\\AppData\\Local\\Temp\\ipykernel_11820\\2696809094.py:14: FutureWarning: The frame.append method is deprecated and will be removed from pandas in a future version. Use pandas.concat instead.\n",
            "  df_stats = df_stats.append(pp2(player_id, per_mode36='PerGame').career_totals_regular_season.get_data_frame())\n",
            "C:\\Users\\User\\AppData\\Local\\Temp\\ipykernel_11820\\2696809094.py:14: FutureWarning: The frame.append method is deprecated and will be removed from pandas in a future version. Use pandas.concat instead.\n",
            "  df_stats = df_stats.append(pp2(player_id, per_mode36='PerGame').career_totals_regular_season.get_data_frame())\n",
            "C:\\Users\\User\\AppData\\Local\\Temp\\ipykernel_11820\\2696809094.py:14: FutureWarning: The frame.append method is deprecated and will be removed from pandas in a future version. Use pandas.concat instead.\n",
            "  df_stats = df_stats.append(pp2(player_id, per_mode36='PerGame').career_totals_regular_season.get_data_frame())\n",
            "C:\\Users\\User\\AppData\\Local\\Temp\\ipykernel_11820\\2696809094.py:14: FutureWarning: The frame.append method is deprecated and will be removed from pandas in a future version. Use pandas.concat instead.\n",
            "  df_stats = df_stats.append(pp2(player_id, per_mode36='PerGame').career_totals_regular_season.get_data_frame())\n",
            "C:\\Users\\User\\AppData\\Local\\Temp\\ipykernel_11820\\2696809094.py:14: FutureWarning: The frame.append method is deprecated and will be removed from pandas in a future version. Use pandas.concat instead.\n",
            "  df_stats = df_stats.append(pp2(player_id, per_mode36='PerGame').career_totals_regular_season.get_data_frame())\n",
            "C:\\Users\\User\\AppData\\Local\\Temp\\ipykernel_11820\\2696809094.py:14: FutureWarning: The frame.append method is deprecated and will be removed from pandas in a future version. Use pandas.concat instead.\n",
            "  df_stats = df_stats.append(pp2(player_id, per_mode36='PerGame').career_totals_regular_season.get_data_frame())\n",
            "C:\\Users\\User\\AppData\\Local\\Temp\\ipykernel_11820\\2696809094.py:14: FutureWarning: The frame.append method is deprecated and will be removed from pandas in a future version. Use pandas.concat instead.\n",
            "  df_stats = df_stats.append(pp2(player_id, per_mode36='PerGame').career_totals_regular_season.get_data_frame())\n",
            "C:\\Users\\User\\AppData\\Local\\Temp\\ipykernel_11820\\2696809094.py:14: FutureWarning: The frame.append method is deprecated and will be removed from pandas in a future version. Use pandas.concat instead.\n",
            "  df_stats = df_stats.append(pp2(player_id, per_mode36='PerGame').career_totals_regular_season.get_data_frame())\n",
            "C:\\Users\\User\\AppData\\Local\\Temp\\ipykernel_11820\\2696809094.py:14: FutureWarning: The frame.append method is deprecated and will be removed from pandas in a future version. Use pandas.concat instead.\n",
            "  df_stats = df_stats.append(pp2(player_id, per_mode36='PerGame').career_totals_regular_season.get_data_frame())\n",
            "C:\\Users\\User\\AppData\\Local\\Temp\\ipykernel_11820\\2696809094.py:14: FutureWarning: The frame.append method is deprecated and will be removed from pandas in a future version. Use pandas.concat instead.\n",
            "  df_stats = df_stats.append(pp2(player_id, per_mode36='PerGame').career_totals_regular_season.get_data_frame())\n",
            "C:\\Users\\User\\AppData\\Local\\Temp\\ipykernel_11820\\2696809094.py:14: FutureWarning: The frame.append method is deprecated and will be removed from pandas in a future version. Use pandas.concat instead.\n",
            "  df_stats = df_stats.append(pp2(player_id, per_mode36='PerGame').career_totals_regular_season.get_data_frame())\n",
            "C:\\Users\\User\\AppData\\Local\\Temp\\ipykernel_11820\\2696809094.py:14: FutureWarning: The frame.append method is deprecated and will be removed from pandas in a future version. Use pandas.concat instead.\n",
            "  df_stats = df_stats.append(pp2(player_id, per_mode36='PerGame').career_totals_regular_season.get_data_frame())\n",
            "C:\\Users\\User\\AppData\\Local\\Temp\\ipykernel_11820\\2696809094.py:14: FutureWarning: The frame.append method is deprecated and will be removed from pandas in a future version. Use pandas.concat instead.\n",
            "  df_stats = df_stats.append(pp2(player_id, per_mode36='PerGame').career_totals_regular_season.get_data_frame())\n",
            "C:\\Users\\User\\AppData\\Local\\Temp\\ipykernel_11820\\2696809094.py:14: FutureWarning: The frame.append method is deprecated and will be removed from pandas in a future version. Use pandas.concat instead.\n",
            "  df_stats = df_stats.append(pp2(player_id, per_mode36='PerGame').career_totals_regular_season.get_data_frame())\n",
            "C:\\Users\\User\\AppData\\Local\\Temp\\ipykernel_11820\\2696809094.py:14: FutureWarning: The frame.append method is deprecated and will be removed from pandas in a future version. Use pandas.concat instead.\n",
            "  df_stats = df_stats.append(pp2(player_id, per_mode36='PerGame').career_totals_regular_season.get_data_frame())\n",
            "C:\\Users\\User\\AppData\\Local\\Temp\\ipykernel_11820\\2696809094.py:14: FutureWarning: The frame.append method is deprecated and will be removed from pandas in a future version. Use pandas.concat instead.\n",
            "  df_stats = df_stats.append(pp2(player_id, per_mode36='PerGame').career_totals_regular_season.get_data_frame())\n",
            "C:\\Users\\User\\AppData\\Local\\Temp\\ipykernel_11820\\2696809094.py:14: FutureWarning: The frame.append method is deprecated and will be removed from pandas in a future version. Use pandas.concat instead.\n",
            "  df_stats = df_stats.append(pp2(player_id, per_mode36='PerGame').career_totals_regular_season.get_data_frame())\n",
            "C:\\Users\\User\\AppData\\Local\\Temp\\ipykernel_11820\\2696809094.py:14: FutureWarning: The frame.append method is deprecated and will be removed from pandas in a future version. Use pandas.concat instead.\n",
            "  df_stats = df_stats.append(pp2(player_id, per_mode36='PerGame').career_totals_regular_season.get_data_frame())\n",
            "C:\\Users\\User\\AppData\\Local\\Temp\\ipykernel_11820\\2696809094.py:14: FutureWarning: The frame.append method is deprecated and will be removed from pandas in a future version. Use pandas.concat instead.\n",
            "  df_stats = df_stats.append(pp2(player_id, per_mode36='PerGame').career_totals_regular_season.get_data_frame())\n",
            "C:\\Users\\User\\AppData\\Local\\Temp\\ipykernel_11820\\2696809094.py:14: FutureWarning: The frame.append method is deprecated and will be removed from pandas in a future version. Use pandas.concat instead.\n",
            "  df_stats = df_stats.append(pp2(player_id, per_mode36='PerGame').career_totals_regular_season.get_data_frame())\n",
            "C:\\Users\\User\\AppData\\Local\\Temp\\ipykernel_11820\\2696809094.py:14: FutureWarning: The frame.append method is deprecated and will be removed from pandas in a future version. Use pandas.concat instead.\n",
            "  df_stats = df_stats.append(pp2(player_id, per_mode36='PerGame').career_totals_regular_season.get_data_frame())\n",
            "C:\\Users\\User\\AppData\\Local\\Temp\\ipykernel_11820\\2696809094.py:14: FutureWarning: The frame.append method is deprecated and will be removed from pandas in a future version. Use pandas.concat instead.\n",
            "  df_stats = df_stats.append(pp2(player_id, per_mode36='PerGame').career_totals_regular_season.get_data_frame())\n",
            "C:\\Users\\User\\AppData\\Local\\Temp\\ipykernel_11820\\2696809094.py:14: FutureWarning: The frame.append method is deprecated and will be removed from pandas in a future version. Use pandas.concat instead.\n",
            "  df_stats = df_stats.append(pp2(player_id, per_mode36='PerGame').career_totals_regular_season.get_data_frame())\n",
            "C:\\Users\\User\\AppData\\Local\\Temp\\ipykernel_11820\\2696809094.py:14: FutureWarning: The frame.append method is deprecated and will be removed from pandas in a future version. Use pandas.concat instead.\n",
            "  df_stats = df_stats.append(pp2(player_id, per_mode36='PerGame').career_totals_regular_season.get_data_frame())\n",
            "C:\\Users\\User\\AppData\\Local\\Temp\\ipykernel_11820\\2696809094.py:14: FutureWarning: The frame.append method is deprecated and will be removed from pandas in a future version. Use pandas.concat instead.\n",
            "  df_stats = df_stats.append(pp2(player_id, per_mode36='PerGame').career_totals_regular_season.get_data_frame())\n",
            "C:\\Users\\User\\AppData\\Local\\Temp\\ipykernel_11820\\2696809094.py:14: FutureWarning: The frame.append method is deprecated and will be removed from pandas in a future version. Use pandas.concat instead.\n",
            "  df_stats = df_stats.append(pp2(player_id, per_mode36='PerGame').career_totals_regular_season.get_data_frame())\n",
            "C:\\Users\\User\\AppData\\Local\\Temp\\ipykernel_11820\\2696809094.py:14: FutureWarning: The frame.append method is deprecated and will be removed from pandas in a future version. Use pandas.concat instead.\n",
            "  df_stats = df_stats.append(pp2(player_id, per_mode36='PerGame').career_totals_regular_season.get_data_frame())\n",
            "C:\\Users\\User\\AppData\\Local\\Temp\\ipykernel_11820\\2696809094.py:14: FutureWarning: The frame.append method is deprecated and will be removed from pandas in a future version. Use pandas.concat instead.\n",
            "  df_stats = df_stats.append(pp2(player_id, per_mode36='PerGame').career_totals_regular_season.get_data_frame())\n",
            "C:\\Users\\User\\AppData\\Local\\Temp\\ipykernel_11820\\2696809094.py:14: FutureWarning: The frame.append method is deprecated and will be removed from pandas in a future version. Use pandas.concat instead.\n",
            "  df_stats = df_stats.append(pp2(player_id, per_mode36='PerGame').career_totals_regular_season.get_data_frame())\n",
            "C:\\Users\\User\\AppData\\Local\\Temp\\ipykernel_11820\\2696809094.py:14: FutureWarning: The frame.append method is deprecated and will be removed from pandas in a future version. Use pandas.concat instead.\n",
            "  df_stats = df_stats.append(pp2(player_id, per_mode36='PerGame').career_totals_regular_season.get_data_frame())\n",
            "C:\\Users\\User\\AppData\\Local\\Temp\\ipykernel_11820\\2696809094.py:14: FutureWarning: The frame.append method is deprecated and will be removed from pandas in a future version. Use pandas.concat instead.\n",
            "  df_stats = df_stats.append(pp2(player_id, per_mode36='PerGame').career_totals_regular_season.get_data_frame())\n",
            "C:\\Users\\User\\AppData\\Local\\Temp\\ipykernel_11820\\2696809094.py:14: FutureWarning: The frame.append method is deprecated and will be removed from pandas in a future version. Use pandas.concat instead.\n",
            "  df_stats = df_stats.append(pp2(player_id, per_mode36='PerGame').career_totals_regular_season.get_data_frame())\n",
            "C:\\Users\\User\\AppData\\Local\\Temp\\ipykernel_11820\\2696809094.py:14: FutureWarning: The frame.append method is deprecated and will be removed from pandas in a future version. Use pandas.concat instead.\n",
            "  df_stats = df_stats.append(pp2(player_id, per_mode36='PerGame').career_totals_regular_season.get_data_frame())\n",
            "C:\\Users\\User\\AppData\\Local\\Temp\\ipykernel_11820\\2696809094.py:14: FutureWarning: The frame.append method is deprecated and will be removed from pandas in a future version. Use pandas.concat instead.\n",
            "  df_stats = df_stats.append(pp2(player_id, per_mode36='PerGame').career_totals_regular_season.get_data_frame())\n",
            "C:\\Users\\User\\AppData\\Local\\Temp\\ipykernel_11820\\2696809094.py:14: FutureWarning: The frame.append method is deprecated and will be removed from pandas in a future version. Use pandas.concat instead.\n",
            "  df_stats = df_stats.append(pp2(player_id, per_mode36='PerGame').career_totals_regular_season.get_data_frame())\n",
            "C:\\Users\\User\\AppData\\Local\\Temp\\ipykernel_11820\\2696809094.py:14: FutureWarning: The frame.append method is deprecated and will be removed from pandas in a future version. Use pandas.concat instead.\n",
            "  df_stats = df_stats.append(pp2(player_id, per_mode36='PerGame').career_totals_regular_season.get_data_frame())\n",
            "C:\\Users\\User\\AppData\\Local\\Temp\\ipykernel_11820\\2696809094.py:14: FutureWarning: The frame.append method is deprecated and will be removed from pandas in a future version. Use pandas.concat instead.\n",
            "  df_stats = df_stats.append(pp2(player_id, per_mode36='PerGame').career_totals_regular_season.get_data_frame())\n",
            "C:\\Users\\User\\AppData\\Local\\Temp\\ipykernel_11820\\2696809094.py:14: FutureWarning: The frame.append method is deprecated and will be removed from pandas in a future version. Use pandas.concat instead.\n",
            "  df_stats = df_stats.append(pp2(player_id, per_mode36='PerGame').career_totals_regular_season.get_data_frame())\n",
            "C:\\Users\\User\\AppData\\Local\\Temp\\ipykernel_11820\\2696809094.py:14: FutureWarning: The frame.append method is deprecated and will be removed from pandas in a future version. Use pandas.concat instead.\n",
            "  df_stats = df_stats.append(pp2(player_id, per_mode36='PerGame').career_totals_regular_season.get_data_frame())\n",
            "C:\\Users\\User\\AppData\\Local\\Temp\\ipykernel_11820\\2696809094.py:14: FutureWarning: The frame.append method is deprecated and will be removed from pandas in a future version. Use pandas.concat instead.\n",
            "  df_stats = df_stats.append(pp2(player_id, per_mode36='PerGame').career_totals_regular_season.get_data_frame())\n",
            "C:\\Users\\User\\AppData\\Local\\Temp\\ipykernel_11820\\2696809094.py:14: FutureWarning: The frame.append method is deprecated and will be removed from pandas in a future version. Use pandas.concat instead.\n",
            "  df_stats = df_stats.append(pp2(player_id, per_mode36='PerGame').career_totals_regular_season.get_data_frame())\n",
            "C:\\Users\\User\\AppData\\Local\\Temp\\ipykernel_11820\\2696809094.py:14: FutureWarning: The frame.append method is deprecated and will be removed from pandas in a future version. Use pandas.concat instead.\n",
            "  df_stats = df_stats.append(pp2(player_id, per_mode36='PerGame').career_totals_regular_season.get_data_frame())\n",
            "C:\\Users\\User\\AppData\\Local\\Temp\\ipykernel_11820\\2696809094.py:14: FutureWarning: The frame.append method is deprecated and will be removed from pandas in a future version. Use pandas.concat instead.\n",
            "  df_stats = df_stats.append(pp2(player_id, per_mode36='PerGame').career_totals_regular_season.get_data_frame())\n",
            "C:\\Users\\User\\AppData\\Local\\Temp\\ipykernel_11820\\2696809094.py:14: FutureWarning: The frame.append method is deprecated and will be removed from pandas in a future version. Use pandas.concat instead.\n",
            "  df_stats = df_stats.append(pp2(player_id, per_mode36='PerGame').career_totals_regular_season.get_data_frame())\n",
            "C:\\Users\\User\\AppData\\Local\\Temp\\ipykernel_11820\\2696809094.py:14: FutureWarning: The frame.append method is deprecated and will be removed from pandas in a future version. Use pandas.concat instead.\n",
            "  df_stats = df_stats.append(pp2(player_id, per_mode36='PerGame').career_totals_regular_season.get_data_frame())\n",
            "C:\\Users\\User\\AppData\\Local\\Temp\\ipykernel_11820\\2696809094.py:14: FutureWarning: The frame.append method is deprecated and will be removed from pandas in a future version. Use pandas.concat instead.\n",
            "  df_stats = df_stats.append(pp2(player_id, per_mode36='PerGame').career_totals_regular_season.get_data_frame())\n",
            "C:\\Users\\User\\AppData\\Local\\Temp\\ipykernel_11820\\2696809094.py:14: FutureWarning: The frame.append method is deprecated and will be removed from pandas in a future version. Use pandas.concat instead.\n",
            "  df_stats = df_stats.append(pp2(player_id, per_mode36='PerGame').career_totals_regular_season.get_data_frame())\n",
            "C:\\Users\\User\\AppData\\Local\\Temp\\ipykernel_11820\\2696809094.py:14: FutureWarning: The frame.append method is deprecated and will be removed from pandas in a future version. Use pandas.concat instead.\n",
            "  df_stats = df_stats.append(pp2(player_id, per_mode36='PerGame').career_totals_regular_season.get_data_frame())\n",
            "C:\\Users\\User\\AppData\\Local\\Temp\\ipykernel_11820\\2696809094.py:14: FutureWarning: The frame.append method is deprecated and will be removed from pandas in a future version. Use pandas.concat instead.\n",
            "  df_stats = df_stats.append(pp2(player_id, per_mode36='PerGame').career_totals_regular_season.get_data_frame())\n",
            "C:\\Users\\User\\AppData\\Local\\Temp\\ipykernel_11820\\2696809094.py:14: FutureWarning: The frame.append method is deprecated and will be removed from pandas in a future version. Use pandas.concat instead.\n",
            "  df_stats = df_stats.append(pp2(player_id, per_mode36='PerGame').career_totals_regular_season.get_data_frame())\n",
            "C:\\Users\\User\\AppData\\Local\\Temp\\ipykernel_11820\\2696809094.py:14: FutureWarning: The frame.append method is deprecated and will be removed from pandas in a future version. Use pandas.concat instead.\n",
            "  df_stats = df_stats.append(pp2(player_id, per_mode36='PerGame').career_totals_regular_season.get_data_frame())\n",
            "C:\\Users\\User\\AppData\\Local\\Temp\\ipykernel_11820\\2696809094.py:14: FutureWarning: The frame.append method is deprecated and will be removed from pandas in a future version. Use pandas.concat instead.\n",
            "  df_stats = df_stats.append(pp2(player_id, per_mode36='PerGame').career_totals_regular_season.get_data_frame())\n",
            "C:\\Users\\User\\AppData\\Local\\Temp\\ipykernel_11820\\2696809094.py:14: FutureWarning: The frame.append method is deprecated and will be removed from pandas in a future version. Use pandas.concat instead.\n",
            "  df_stats = df_stats.append(pp2(player_id, per_mode36='PerGame').career_totals_regular_season.get_data_frame())\n",
            "C:\\Users\\User\\AppData\\Local\\Temp\\ipykernel_11820\\2696809094.py:14: FutureWarning: The frame.append method is deprecated and will be removed from pandas in a future version. Use pandas.concat instead.\n",
            "  df_stats = df_stats.append(pp2(player_id, per_mode36='PerGame').career_totals_regular_season.get_data_frame())\n",
            "C:\\Users\\User\\AppData\\Local\\Temp\\ipykernel_11820\\2696809094.py:14: FutureWarning: The frame.append method is deprecated and will be removed from pandas in a future version. Use pandas.concat instead.\n",
            "  df_stats = df_stats.append(pp2(player_id, per_mode36='PerGame').career_totals_regular_season.get_data_frame())\n",
            "C:\\Users\\User\\AppData\\Local\\Temp\\ipykernel_11820\\2696809094.py:14: FutureWarning: The frame.append method is deprecated and will be removed from pandas in a future version. Use pandas.concat instead.\n",
            "  df_stats = df_stats.append(pp2(player_id, per_mode36='PerGame').career_totals_regular_season.get_data_frame())\n",
            "C:\\Users\\User\\AppData\\Local\\Temp\\ipykernel_11820\\2696809094.py:14: FutureWarning: The frame.append method is deprecated and will be removed from pandas in a future version. Use pandas.concat instead.\n",
            "  df_stats = df_stats.append(pp2(player_id, per_mode36='PerGame').career_totals_regular_season.get_data_frame())\n",
            "C:\\Users\\User\\AppData\\Local\\Temp\\ipykernel_11820\\2696809094.py:14: FutureWarning: The frame.append method is deprecated and will be removed from pandas in a future version. Use pandas.concat instead.\n",
            "  df_stats = df_stats.append(pp2(player_id, per_mode36='PerGame').career_totals_regular_season.get_data_frame())\n",
            "C:\\Users\\User\\AppData\\Local\\Temp\\ipykernel_11820\\2696809094.py:14: FutureWarning: The frame.append method is deprecated and will be removed from pandas in a future version. Use pandas.concat instead.\n",
            "  df_stats = df_stats.append(pp2(player_id, per_mode36='PerGame').career_totals_regular_season.get_data_frame())\n",
            "C:\\Users\\User\\AppData\\Local\\Temp\\ipykernel_11820\\2696809094.py:14: FutureWarning: The frame.append method is deprecated and will be removed from pandas in a future version. Use pandas.concat instead.\n",
            "  df_stats = df_stats.append(pp2(player_id, per_mode36='PerGame').career_totals_regular_season.get_data_frame())\n",
            "C:\\Users\\User\\AppData\\Local\\Temp\\ipykernel_11820\\2696809094.py:14: FutureWarning: The frame.append method is deprecated and will be removed from pandas in a future version. Use pandas.concat instead.\n",
            "  df_stats = df_stats.append(pp2(player_id, per_mode36='PerGame').career_totals_regular_season.get_data_frame())\n",
            "C:\\Users\\User\\AppData\\Local\\Temp\\ipykernel_11820\\2696809094.py:14: FutureWarning: The frame.append method is deprecated and will be removed from pandas in a future version. Use pandas.concat instead.\n",
            "  df_stats = df_stats.append(pp2(player_id, per_mode36='PerGame').career_totals_regular_season.get_data_frame())\n",
            "C:\\Users\\User\\AppData\\Local\\Temp\\ipykernel_11820\\2696809094.py:14: FutureWarning: The frame.append method is deprecated and will be removed from pandas in a future version. Use pandas.concat instead.\n",
            "  df_stats = df_stats.append(pp2(player_id, per_mode36='PerGame').career_totals_regular_season.get_data_frame())\n",
            "C:\\Users\\User\\AppData\\Local\\Temp\\ipykernel_11820\\2696809094.py:14: FutureWarning: The frame.append method is deprecated and will be removed from pandas in a future version. Use pandas.concat instead.\n",
            "  df_stats = df_stats.append(pp2(player_id, per_mode36='PerGame').career_totals_regular_season.get_data_frame())\n",
            "C:\\Users\\User\\AppData\\Local\\Temp\\ipykernel_11820\\2696809094.py:14: FutureWarning: The frame.append method is deprecated and will be removed from pandas in a future version. Use pandas.concat instead.\n",
            "  df_stats = df_stats.append(pp2(player_id, per_mode36='PerGame').career_totals_regular_season.get_data_frame())\n",
            "C:\\Users\\User\\AppData\\Local\\Temp\\ipykernel_11820\\2696809094.py:14: FutureWarning: The frame.append method is deprecated and will be removed from pandas in a future version. Use pandas.concat instead.\n",
            "  df_stats = df_stats.append(pp2(player_id, per_mode36='PerGame').career_totals_regular_season.get_data_frame())\n",
            "C:\\Users\\User\\AppData\\Local\\Temp\\ipykernel_11820\\2696809094.py:14: FutureWarning: The frame.append method is deprecated and will be removed from pandas in a future version. Use pandas.concat instead.\n",
            "  df_stats = df_stats.append(pp2(player_id, per_mode36='PerGame').career_totals_regular_season.get_data_frame())\n",
            "C:\\Users\\User\\AppData\\Local\\Temp\\ipykernel_11820\\2696809094.py:14: FutureWarning: The frame.append method is deprecated and will be removed from pandas in a future version. Use pandas.concat instead.\n",
            "  df_stats = df_stats.append(pp2(player_id, per_mode36='PerGame').career_totals_regular_season.get_data_frame())\n",
            "C:\\Users\\User\\AppData\\Local\\Temp\\ipykernel_11820\\2696809094.py:14: FutureWarning: The frame.append method is deprecated and will be removed from pandas in a future version. Use pandas.concat instead.\n",
            "  df_stats = df_stats.append(pp2(player_id, per_mode36='PerGame').career_totals_regular_season.get_data_frame())\n",
            "C:\\Users\\User\\AppData\\Local\\Temp\\ipykernel_11820\\2696809094.py:14: FutureWarning: The frame.append method is deprecated and will be removed from pandas in a future version. Use pandas.concat instead.\n",
            "  df_stats = df_stats.append(pp2(player_id, per_mode36='PerGame').career_totals_regular_season.get_data_frame())\n",
            "C:\\Users\\User\\AppData\\Local\\Temp\\ipykernel_11820\\2696809094.py:14: FutureWarning: The frame.append method is deprecated and will be removed from pandas in a future version. Use pandas.concat instead.\n",
            "  df_stats = df_stats.append(pp2(player_id, per_mode36='PerGame').career_totals_regular_season.get_data_frame())\n",
            "C:\\Users\\User\\AppData\\Local\\Temp\\ipykernel_11820\\2696809094.py:14: FutureWarning: The frame.append method is deprecated and will be removed from pandas in a future version. Use pandas.concat instead.\n",
            "  df_stats = df_stats.append(pp2(player_id, per_mode36='PerGame').career_totals_regular_season.get_data_frame())\n",
            "C:\\Users\\User\\AppData\\Local\\Temp\\ipykernel_11820\\2696809094.py:14: FutureWarning: The frame.append method is deprecated and will be removed from pandas in a future version. Use pandas.concat instead.\n",
            "  df_stats = df_stats.append(pp2(player_id, per_mode36='PerGame').career_totals_regular_season.get_data_frame())\n",
            "C:\\Users\\User\\AppData\\Local\\Temp\\ipykernel_11820\\2696809094.py:14: FutureWarning: The frame.append method is deprecated and will be removed from pandas in a future version. Use pandas.concat instead.\n",
            "  df_stats = df_stats.append(pp2(player_id, per_mode36='PerGame').career_totals_regular_season.get_data_frame())\n",
            "C:\\Users\\User\\AppData\\Local\\Temp\\ipykernel_11820\\2696809094.py:14: FutureWarning: The frame.append method is deprecated and will be removed from pandas in a future version. Use pandas.concat instead.\n",
            "  df_stats = df_stats.append(pp2(player_id, per_mode36='PerGame').career_totals_regular_season.get_data_frame())\n",
            "C:\\Users\\User\\AppData\\Local\\Temp\\ipykernel_11820\\2696809094.py:14: FutureWarning: The frame.append method is deprecated and will be removed from pandas in a future version. Use pandas.concat instead.\n",
            "  df_stats = df_stats.append(pp2(player_id, per_mode36='PerGame').career_totals_regular_season.get_data_frame())\n",
            "C:\\Users\\User\\AppData\\Local\\Temp\\ipykernel_11820\\2696809094.py:14: FutureWarning: The frame.append method is deprecated and will be removed from pandas in a future version. Use pandas.concat instead.\n",
            "  df_stats = df_stats.append(pp2(player_id, per_mode36='PerGame').career_totals_regular_season.get_data_frame())\n",
            "C:\\Users\\User\\AppData\\Local\\Temp\\ipykernel_11820\\2696809094.py:14: FutureWarning: The frame.append method is deprecated and will be removed from pandas in a future version. Use pandas.concat instead.\n",
            "  df_stats = df_stats.append(pp2(player_id, per_mode36='PerGame').career_totals_regular_season.get_data_frame())\n",
            "C:\\Users\\User\\AppData\\Local\\Temp\\ipykernel_11820\\2696809094.py:14: FutureWarning: The frame.append method is deprecated and will be removed from pandas in a future version. Use pandas.concat instead.\n",
            "  df_stats = df_stats.append(pp2(player_id, per_mode36='PerGame').career_totals_regular_season.get_data_frame())\n",
            "C:\\Users\\User\\AppData\\Local\\Temp\\ipykernel_11820\\2696809094.py:14: FutureWarning: The frame.append method is deprecated and will be removed from pandas in a future version. Use pandas.concat instead.\n",
            "  df_stats = df_stats.append(pp2(player_id, per_mode36='PerGame').career_totals_regular_season.get_data_frame())\n",
            "C:\\Users\\User\\AppData\\Local\\Temp\\ipykernel_11820\\2696809094.py:14: FutureWarning: The frame.append method is deprecated and will be removed from pandas in a future version. Use pandas.concat instead.\n",
            "  df_stats = df_stats.append(pp2(player_id, per_mode36='PerGame').career_totals_regular_season.get_data_frame())\n",
            "C:\\Users\\User\\AppData\\Local\\Temp\\ipykernel_11820\\2696809094.py:14: FutureWarning: The frame.append method is deprecated and will be removed from pandas in a future version. Use pandas.concat instead.\n",
            "  df_stats = df_stats.append(pp2(player_id, per_mode36='PerGame').career_totals_regular_season.get_data_frame())\n",
            "C:\\Users\\User\\AppData\\Local\\Temp\\ipykernel_11820\\2696809094.py:14: FutureWarning: The frame.append method is deprecated and will be removed from pandas in a future version. Use pandas.concat instead.\n",
            "  df_stats = df_stats.append(pp2(player_id, per_mode36='PerGame').career_totals_regular_season.get_data_frame())\n",
            "C:\\Users\\User\\AppData\\Local\\Temp\\ipykernel_11820\\2696809094.py:14: FutureWarning: The frame.append method is deprecated and will be removed from pandas in a future version. Use pandas.concat instead.\n",
            "  df_stats = df_stats.append(pp2(player_id, per_mode36='PerGame').career_totals_regular_season.get_data_frame())\n",
            "C:\\Users\\User\\AppData\\Local\\Temp\\ipykernel_11820\\2696809094.py:14: FutureWarning: The frame.append method is deprecated and will be removed from pandas in a future version. Use pandas.concat instead.\n",
            "  df_stats = df_stats.append(pp2(player_id, per_mode36='PerGame').career_totals_regular_season.get_data_frame())\n",
            "C:\\Users\\User\\AppData\\Local\\Temp\\ipykernel_11820\\2696809094.py:14: FutureWarning: The frame.append method is deprecated and will be removed from pandas in a future version. Use pandas.concat instead.\n",
            "  df_stats = df_stats.append(pp2(player_id, per_mode36='PerGame').career_totals_regular_season.get_data_frame())\n",
            "C:\\Users\\User\\AppData\\Local\\Temp\\ipykernel_11820\\2696809094.py:14: FutureWarning: The frame.append method is deprecated and will be removed from pandas in a future version. Use pandas.concat instead.\n",
            "  df_stats = df_stats.append(pp2(player_id, per_mode36='PerGame').career_totals_regular_season.get_data_frame())\n",
            "C:\\Users\\User\\AppData\\Local\\Temp\\ipykernel_11820\\2696809094.py:14: FutureWarning: The frame.append method is deprecated and will be removed from pandas in a future version. Use pandas.concat instead.\n",
            "  df_stats = df_stats.append(pp2(player_id, per_mode36='PerGame').career_totals_regular_season.get_data_frame())\n",
            "C:\\Users\\User\\AppData\\Local\\Temp\\ipykernel_11820\\2696809094.py:14: FutureWarning: The frame.append method is deprecated and will be removed from pandas in a future version. Use pandas.concat instead.\n",
            "  df_stats = df_stats.append(pp2(player_id, per_mode36='PerGame').career_totals_regular_season.get_data_frame())\n",
            "C:\\Users\\User\\AppData\\Local\\Temp\\ipykernel_11820\\2696809094.py:14: FutureWarning: The frame.append method is deprecated and will be removed from pandas in a future version. Use pandas.concat instead.\n",
            "  df_stats = df_stats.append(pp2(player_id, per_mode36='PerGame').career_totals_regular_season.get_data_frame())\n",
            "C:\\Users\\User\\AppData\\Local\\Temp\\ipykernel_11820\\2696809094.py:14: FutureWarning: The frame.append method is deprecated and will be removed from pandas in a future version. Use pandas.concat instead.\n",
            "  df_stats = df_stats.append(pp2(player_id, per_mode36='PerGame').career_totals_regular_season.get_data_frame())\n",
            "C:\\Users\\User\\AppData\\Local\\Temp\\ipykernel_11820\\2696809094.py:14: FutureWarning: The frame.append method is deprecated and will be removed from pandas in a future version. Use pandas.concat instead.\n",
            "  df_stats = df_stats.append(pp2(player_id, per_mode36='PerGame').career_totals_regular_season.get_data_frame())\n",
            "C:\\Users\\User\\AppData\\Local\\Temp\\ipykernel_11820\\2696809094.py:14: FutureWarning: The frame.append method is deprecated and will be removed from pandas in a future version. Use pandas.concat instead.\n",
            "  df_stats = df_stats.append(pp2(player_id, per_mode36='PerGame').career_totals_regular_season.get_data_frame())\n",
            "C:\\Users\\User\\AppData\\Local\\Temp\\ipykernel_11820\\2696809094.py:14: FutureWarning: The frame.append method is deprecated and will be removed from pandas in a future version. Use pandas.concat instead.\n",
            "  df_stats = df_stats.append(pp2(player_id, per_mode36='PerGame').career_totals_regular_season.get_data_frame())\n",
            "C:\\Users\\User\\AppData\\Local\\Temp\\ipykernel_11820\\2696809094.py:14: FutureWarning: The frame.append method is deprecated and will be removed from pandas in a future version. Use pandas.concat instead.\n",
            "  df_stats = df_stats.append(pp2(player_id, per_mode36='PerGame').career_totals_regular_season.get_data_frame())\n",
            "C:\\Users\\User\\AppData\\Local\\Temp\\ipykernel_11820\\2696809094.py:14: FutureWarning: The frame.append method is deprecated and will be removed from pandas in a future version. Use pandas.concat instead.\n",
            "  df_stats = df_stats.append(pp2(player_id, per_mode36='PerGame').career_totals_regular_season.get_data_frame())\n",
            "C:\\Users\\User\\AppData\\Local\\Temp\\ipykernel_11820\\2696809094.py:14: FutureWarning: The frame.append method is deprecated and will be removed from pandas in a future version. Use pandas.concat instead.\n",
            "  df_stats = df_stats.append(pp2(player_id, per_mode36='PerGame').career_totals_regular_season.get_data_frame())\n",
            "C:\\Users\\User\\AppData\\Local\\Temp\\ipykernel_11820\\2696809094.py:14: FutureWarning: The frame.append method is deprecated and will be removed from pandas in a future version. Use pandas.concat instead.\n",
            "  df_stats = df_stats.append(pp2(player_id, per_mode36='PerGame').career_totals_regular_season.get_data_frame())\n",
            "C:\\Users\\User\\AppData\\Local\\Temp\\ipykernel_11820\\2696809094.py:14: FutureWarning: The frame.append method is deprecated and will be removed from pandas in a future version. Use pandas.concat instead.\n",
            "  df_stats = df_stats.append(pp2(player_id, per_mode36='PerGame').career_totals_regular_season.get_data_frame())\n",
            "C:\\Users\\User\\AppData\\Local\\Temp\\ipykernel_11820\\2696809094.py:14: FutureWarning: The frame.append method is deprecated and will be removed from pandas in a future version. Use pandas.concat instead.\n",
            "  df_stats = df_stats.append(pp2(player_id, per_mode36='PerGame').career_totals_regular_season.get_data_frame())\n",
            "C:\\Users\\User\\AppData\\Local\\Temp\\ipykernel_11820\\2696809094.py:14: FutureWarning: The frame.append method is deprecated and will be removed from pandas in a future version. Use pandas.concat instead.\n",
            "  df_stats = df_stats.append(pp2(player_id, per_mode36='PerGame').career_totals_regular_season.get_data_frame())\n",
            "C:\\Users\\User\\AppData\\Local\\Temp\\ipykernel_11820\\2696809094.py:14: FutureWarning: The frame.append method is deprecated and will be removed from pandas in a future version. Use pandas.concat instead.\n",
            "  df_stats = df_stats.append(pp2(player_id, per_mode36='PerGame').career_totals_regular_season.get_data_frame())\n",
            "C:\\Users\\User\\AppData\\Local\\Temp\\ipykernel_11820\\2696809094.py:14: FutureWarning: The frame.append method is deprecated and will be removed from pandas in a future version. Use pandas.concat instead.\n",
            "  df_stats = df_stats.append(pp2(player_id, per_mode36='PerGame').career_totals_regular_season.get_data_frame())\n",
            "C:\\Users\\User\\AppData\\Local\\Temp\\ipykernel_11820\\2696809094.py:14: FutureWarning: The frame.append method is deprecated and will be removed from pandas in a future version. Use pandas.concat instead.\n",
            "  df_stats = df_stats.append(pp2(player_id, per_mode36='PerGame').career_totals_regular_season.get_data_frame())\n",
            "C:\\Users\\User\\AppData\\Local\\Temp\\ipykernel_11820\\2696809094.py:14: FutureWarning: The frame.append method is deprecated and will be removed from pandas in a future version. Use pandas.concat instead.\n",
            "  df_stats = df_stats.append(pp2(player_id, per_mode36='PerGame').career_totals_regular_season.get_data_frame())\n",
            "C:\\Users\\User\\AppData\\Local\\Temp\\ipykernel_11820\\2696809094.py:14: FutureWarning: The frame.append method is deprecated and will be removed from pandas in a future version. Use pandas.concat instead.\n",
            "  df_stats = df_stats.append(pp2(player_id, per_mode36='PerGame').career_totals_regular_season.get_data_frame())\n",
            "C:\\Users\\User\\AppData\\Local\\Temp\\ipykernel_11820\\2696809094.py:14: FutureWarning: The frame.append method is deprecated and will be removed from pandas in a future version. Use pandas.concat instead.\n",
            "  df_stats = df_stats.append(pp2(player_id, per_mode36='PerGame').career_totals_regular_season.get_data_frame())\n",
            "C:\\Users\\User\\AppData\\Local\\Temp\\ipykernel_11820\\2696809094.py:14: FutureWarning: The frame.append method is deprecated and will be removed from pandas in a future version. Use pandas.concat instead.\n",
            "  df_stats = df_stats.append(pp2(player_id, per_mode36='PerGame').career_totals_regular_season.get_data_frame())\n",
            "C:\\Users\\User\\AppData\\Local\\Temp\\ipykernel_11820\\2696809094.py:14: FutureWarning: The frame.append method is deprecated and will be removed from pandas in a future version. Use pandas.concat instead.\n",
            "  df_stats = df_stats.append(pp2(player_id, per_mode36='PerGame').career_totals_regular_season.get_data_frame())\n",
            "C:\\Users\\User\\AppData\\Local\\Temp\\ipykernel_11820\\2696809094.py:14: FutureWarning: The frame.append method is deprecated and will be removed from pandas in a future version. Use pandas.concat instead.\n",
            "  df_stats = df_stats.append(pp2(player_id, per_mode36='PerGame').career_totals_regular_season.get_data_frame())\n",
            "C:\\Users\\User\\AppData\\Local\\Temp\\ipykernel_11820\\2696809094.py:14: FutureWarning: The frame.append method is deprecated and will be removed from pandas in a future version. Use pandas.concat instead.\n",
            "  df_stats = df_stats.append(pp2(player_id, per_mode36='PerGame').career_totals_regular_season.get_data_frame())\n",
            "C:\\Users\\User\\AppData\\Local\\Temp\\ipykernel_11820\\2696809094.py:14: FutureWarning: The frame.append method is deprecated and will be removed from pandas in a future version. Use pandas.concat instead.\n",
            "  df_stats = df_stats.append(pp2(player_id, per_mode36='PerGame').career_totals_regular_season.get_data_frame())\n",
            "C:\\Users\\User\\AppData\\Local\\Temp\\ipykernel_11820\\2696809094.py:14: FutureWarning: The frame.append method is deprecated and will be removed from pandas in a future version. Use pandas.concat instead.\n",
            "  df_stats = df_stats.append(pp2(player_id, per_mode36='PerGame').career_totals_regular_season.get_data_frame())\n",
            "C:\\Users\\User\\AppData\\Local\\Temp\\ipykernel_11820\\2696809094.py:14: FutureWarning: The frame.append method is deprecated and will be removed from pandas in a future version. Use pandas.concat instead.\n",
            "  df_stats = df_stats.append(pp2(player_id, per_mode36='PerGame').career_totals_regular_season.get_data_frame())\n",
            "C:\\Users\\User\\AppData\\Local\\Temp\\ipykernel_11820\\2696809094.py:14: FutureWarning: The frame.append method is deprecated and will be removed from pandas in a future version. Use pandas.concat instead.\n",
            "  df_stats = df_stats.append(pp2(player_id, per_mode36='PerGame').career_totals_regular_season.get_data_frame())\n",
            "C:\\Users\\User\\AppData\\Local\\Temp\\ipykernel_11820\\2696809094.py:14: FutureWarning: The frame.append method is deprecated and will be removed from pandas in a future version. Use pandas.concat instead.\n",
            "  df_stats = df_stats.append(pp2(player_id, per_mode36='PerGame').career_totals_regular_season.get_data_frame())\n",
            "C:\\Users\\User\\AppData\\Local\\Temp\\ipykernel_11820\\2696809094.py:14: FutureWarning: The frame.append method is deprecated and will be removed from pandas in a future version. Use pandas.concat instead.\n",
            "  df_stats = df_stats.append(pp2(player_id, per_mode36='PerGame').career_totals_regular_season.get_data_frame())\n",
            "C:\\Users\\User\\AppData\\Local\\Temp\\ipykernel_11820\\2696809094.py:14: FutureWarning: The frame.append method is deprecated and will be removed from pandas in a future version. Use pandas.concat instead.\n",
            "  df_stats = df_stats.append(pp2(player_id, per_mode36='PerGame').career_totals_regular_season.get_data_frame())\n",
            "C:\\Users\\User\\AppData\\Local\\Temp\\ipykernel_11820\\2696809094.py:14: FutureWarning: The frame.append method is deprecated and will be removed from pandas in a future version. Use pandas.concat instead.\n",
            "  df_stats = df_stats.append(pp2(player_id, per_mode36='PerGame').career_totals_regular_season.get_data_frame())\n",
            "C:\\Users\\User\\AppData\\Local\\Temp\\ipykernel_11820\\2696809094.py:14: FutureWarning: The frame.append method is deprecated and will be removed from pandas in a future version. Use pandas.concat instead.\n",
            "  df_stats = df_stats.append(pp2(player_id, per_mode36='PerGame').career_totals_regular_season.get_data_frame())\n",
            "C:\\Users\\User\\AppData\\Local\\Temp\\ipykernel_11820\\2696809094.py:14: FutureWarning: The frame.append method is deprecated and will be removed from pandas in a future version. Use pandas.concat instead.\n",
            "  df_stats = df_stats.append(pp2(player_id, per_mode36='PerGame').career_totals_regular_season.get_data_frame())\n",
            "C:\\Users\\User\\AppData\\Local\\Temp\\ipykernel_11820\\2696809094.py:14: FutureWarning: The frame.append method is deprecated and will be removed from pandas in a future version. Use pandas.concat instead.\n",
            "  df_stats = df_stats.append(pp2(player_id, per_mode36='PerGame').career_totals_regular_season.get_data_frame())\n",
            "C:\\Users\\User\\AppData\\Local\\Temp\\ipykernel_11820\\2696809094.py:14: FutureWarning: The frame.append method is deprecated and will be removed from pandas in a future version. Use pandas.concat instead.\n",
            "  df_stats = df_stats.append(pp2(player_id, per_mode36='PerGame').career_totals_regular_season.get_data_frame())\n",
            "C:\\Users\\User\\AppData\\Local\\Temp\\ipykernel_11820\\2696809094.py:14: FutureWarning: The frame.append method is deprecated and will be removed from pandas in a future version. Use pandas.concat instead.\n",
            "  df_stats = df_stats.append(pp2(player_id, per_mode36='PerGame').career_totals_regular_season.get_data_frame())\n",
            "C:\\Users\\User\\AppData\\Local\\Temp\\ipykernel_11820\\2696809094.py:14: FutureWarning: The frame.append method is deprecated and will be removed from pandas in a future version. Use pandas.concat instead.\n",
            "  df_stats = df_stats.append(pp2(player_id, per_mode36='PerGame').career_totals_regular_season.get_data_frame())\n",
            "C:\\Users\\User\\AppData\\Local\\Temp\\ipykernel_11820\\2696809094.py:14: FutureWarning: The frame.append method is deprecated and will be removed from pandas in a future version. Use pandas.concat instead.\n",
            "  df_stats = df_stats.append(pp2(player_id, per_mode36='PerGame').career_totals_regular_season.get_data_frame())\n",
            "C:\\Users\\User\\AppData\\Local\\Temp\\ipykernel_11820\\2696809094.py:14: FutureWarning: The frame.append method is deprecated and will be removed from pandas in a future version. Use pandas.concat instead.\n",
            "  df_stats = df_stats.append(pp2(player_id, per_mode36='PerGame').career_totals_regular_season.get_data_frame())\n",
            "C:\\Users\\User\\AppData\\Local\\Temp\\ipykernel_11820\\2696809094.py:14: FutureWarning: The frame.append method is deprecated and will be removed from pandas in a future version. Use pandas.concat instead.\n",
            "  df_stats = df_stats.append(pp2(player_id, per_mode36='PerGame').career_totals_regular_season.get_data_frame())\n",
            "C:\\Users\\User\\AppData\\Local\\Temp\\ipykernel_11820\\2696809094.py:14: FutureWarning: The frame.append method is deprecated and will be removed from pandas in a future version. Use pandas.concat instead.\n",
            "  df_stats = df_stats.append(pp2(player_id, per_mode36='PerGame').career_totals_regular_season.get_data_frame())\n",
            "C:\\Users\\User\\AppData\\Local\\Temp\\ipykernel_11820\\2696809094.py:14: FutureWarning: The frame.append method is deprecated and will be removed from pandas in a future version. Use pandas.concat instead.\n",
            "  df_stats = df_stats.append(pp2(player_id, per_mode36='PerGame').career_totals_regular_season.get_data_frame())\n",
            "C:\\Users\\User\\AppData\\Local\\Temp\\ipykernel_11820\\2696809094.py:14: FutureWarning: The frame.append method is deprecated and will be removed from pandas in a future version. Use pandas.concat instead.\n",
            "  df_stats = df_stats.append(pp2(player_id, per_mode36='PerGame').career_totals_regular_season.get_data_frame())\n",
            "C:\\Users\\User\\AppData\\Local\\Temp\\ipykernel_11820\\2696809094.py:14: FutureWarning: The frame.append method is deprecated and will be removed from pandas in a future version. Use pandas.concat instead.\n",
            "  df_stats = df_stats.append(pp2(player_id, per_mode36='PerGame').career_totals_regular_season.get_data_frame())\n",
            "C:\\Users\\User\\AppData\\Local\\Temp\\ipykernel_11820\\2696809094.py:14: FutureWarning: The frame.append method is deprecated and will be removed from pandas in a future version. Use pandas.concat instead.\n",
            "  df_stats = df_stats.append(pp2(player_id, per_mode36='PerGame').career_totals_regular_season.get_data_frame())\n",
            "C:\\Users\\User\\AppData\\Local\\Temp\\ipykernel_11820\\2696809094.py:14: FutureWarning: The frame.append method is deprecated and will be removed from pandas in a future version. Use pandas.concat instead.\n",
            "  df_stats = df_stats.append(pp2(player_id, per_mode36='PerGame').career_totals_regular_season.get_data_frame())\n",
            "C:\\Users\\User\\AppData\\Local\\Temp\\ipykernel_11820\\2696809094.py:14: FutureWarning: The frame.append method is deprecated and will be removed from pandas in a future version. Use pandas.concat instead.\n",
            "  df_stats = df_stats.append(pp2(player_id, per_mode36='PerGame').career_totals_regular_season.get_data_frame())\n",
            "C:\\Users\\User\\AppData\\Local\\Temp\\ipykernel_11820\\2696809094.py:14: FutureWarning: The frame.append method is deprecated and will be removed from pandas in a future version. Use pandas.concat instead.\n",
            "  df_stats = df_stats.append(pp2(player_id, per_mode36='PerGame').career_totals_regular_season.get_data_frame())\n",
            "C:\\Users\\User\\AppData\\Local\\Temp\\ipykernel_11820\\2696809094.py:14: FutureWarning: The frame.append method is deprecated and will be removed from pandas in a future version. Use pandas.concat instead.\n",
            "  df_stats = df_stats.append(pp2(player_id, per_mode36='PerGame').career_totals_regular_season.get_data_frame())\n",
            "C:\\Users\\User\\AppData\\Local\\Temp\\ipykernel_11820\\2696809094.py:14: FutureWarning: The frame.append method is deprecated and will be removed from pandas in a future version. Use pandas.concat instead.\n",
            "  df_stats = df_stats.append(pp2(player_id, per_mode36='PerGame').career_totals_regular_season.get_data_frame())\n",
            "C:\\Users\\User\\AppData\\Local\\Temp\\ipykernel_11820\\2696809094.py:14: FutureWarning: The frame.append method is deprecated and will be removed from pandas in a future version. Use pandas.concat instead.\n",
            "  df_stats = df_stats.append(pp2(player_id, per_mode36='PerGame').career_totals_regular_season.get_data_frame())\n",
            "C:\\Users\\User\\AppData\\Local\\Temp\\ipykernel_11820\\2696809094.py:14: FutureWarning: The frame.append method is deprecated and will be removed from pandas in a future version. Use pandas.concat instead.\n",
            "  df_stats = df_stats.append(pp2(player_id, per_mode36='PerGame').career_totals_regular_season.get_data_frame())\n",
            "C:\\Users\\User\\AppData\\Local\\Temp\\ipykernel_11820\\2696809094.py:14: FutureWarning: The frame.append method is deprecated and will be removed from pandas in a future version. Use pandas.concat instead.\n",
            "  df_stats = df_stats.append(pp2(player_id, per_mode36='PerGame').career_totals_regular_season.get_data_frame())\n",
            "C:\\Users\\User\\AppData\\Local\\Temp\\ipykernel_11820\\2696809094.py:14: FutureWarning: The frame.append method is deprecated and will be removed from pandas in a future version. Use pandas.concat instead.\n",
            "  df_stats = df_stats.append(pp2(player_id, per_mode36='PerGame').career_totals_regular_season.get_data_frame())\n",
            "C:\\Users\\User\\AppData\\Local\\Temp\\ipykernel_11820\\2696809094.py:14: FutureWarning: The frame.append method is deprecated and will be removed from pandas in a future version. Use pandas.concat instead.\n",
            "  df_stats = df_stats.append(pp2(player_id, per_mode36='PerGame').career_totals_regular_season.get_data_frame())\n",
            "C:\\Users\\User\\AppData\\Local\\Temp\\ipykernel_11820\\2696809094.py:14: FutureWarning: The frame.append method is deprecated and will be removed from pandas in a future version. Use pandas.concat instead.\n",
            "  df_stats = df_stats.append(pp2(player_id, per_mode36='PerGame').career_totals_regular_season.get_data_frame())\n",
            "C:\\Users\\User\\AppData\\Local\\Temp\\ipykernel_11820\\2696809094.py:14: FutureWarning: The frame.append method is deprecated and will be removed from pandas in a future version. Use pandas.concat instead.\n",
            "  df_stats = df_stats.append(pp2(player_id, per_mode36='PerGame').career_totals_regular_season.get_data_frame())\n",
            "C:\\Users\\User\\AppData\\Local\\Temp\\ipykernel_11820\\2696809094.py:14: FutureWarning: The frame.append method is deprecated and will be removed from pandas in a future version. Use pandas.concat instead.\n",
            "  df_stats = df_stats.append(pp2(player_id, per_mode36='PerGame').career_totals_regular_season.get_data_frame())\n",
            "C:\\Users\\User\\AppData\\Local\\Temp\\ipykernel_11820\\2696809094.py:14: FutureWarning: The frame.append method is deprecated and will be removed from pandas in a future version. Use pandas.concat instead.\n",
            "  df_stats = df_stats.append(pp2(player_id, per_mode36='PerGame').career_totals_regular_season.get_data_frame())\n",
            "C:\\Users\\User\\AppData\\Local\\Temp\\ipykernel_11820\\2696809094.py:14: FutureWarning: The frame.append method is deprecated and will be removed from pandas in a future version. Use pandas.concat instead.\n",
            "  df_stats = df_stats.append(pp2(player_id, per_mode36='PerGame').career_totals_regular_season.get_data_frame())\n",
            "C:\\Users\\User\\AppData\\Local\\Temp\\ipykernel_11820\\2696809094.py:14: FutureWarning: The frame.append method is deprecated and will be removed from pandas in a future version. Use pandas.concat instead.\n",
            "  df_stats = df_stats.append(pp2(player_id, per_mode36='PerGame').career_totals_regular_season.get_data_frame())\n",
            "C:\\Users\\User\\AppData\\Local\\Temp\\ipykernel_11820\\2696809094.py:14: FutureWarning: The frame.append method is deprecated and will be removed from pandas in a future version. Use pandas.concat instead.\n",
            "  df_stats = df_stats.append(pp2(player_id, per_mode36='PerGame').career_totals_regular_season.get_data_frame())\n",
            "C:\\Users\\User\\AppData\\Local\\Temp\\ipykernel_11820\\2696809094.py:14: FutureWarning: The frame.append method is deprecated and will be removed from pandas in a future version. Use pandas.concat instead.\n",
            "  df_stats = df_stats.append(pp2(player_id, per_mode36='PerGame').career_totals_regular_season.get_data_frame())\n",
            "C:\\Users\\User\\AppData\\Local\\Temp\\ipykernel_11820\\2696809094.py:14: FutureWarning: The frame.append method is deprecated and will be removed from pandas in a future version. Use pandas.concat instead.\n",
            "  df_stats = df_stats.append(pp2(player_id, per_mode36='PerGame').career_totals_regular_season.get_data_frame())\n",
            "C:\\Users\\User\\AppData\\Local\\Temp\\ipykernel_11820\\2696809094.py:14: FutureWarning: The frame.append method is deprecated and will be removed from pandas in a future version. Use pandas.concat instead.\n",
            "  df_stats = df_stats.append(pp2(player_id, per_mode36='PerGame').career_totals_regular_season.get_data_frame())\n",
            "C:\\Users\\User\\AppData\\Local\\Temp\\ipykernel_11820\\2696809094.py:14: FutureWarning: The frame.append method is deprecated and will be removed from pandas in a future version. Use pandas.concat instead.\n",
            "  df_stats = df_stats.append(pp2(player_id, per_mode36='PerGame').career_totals_regular_season.get_data_frame())\n",
            "C:\\Users\\User\\AppData\\Local\\Temp\\ipykernel_11820\\2696809094.py:14: FutureWarning: The frame.append method is deprecated and will be removed from pandas in a future version. Use pandas.concat instead.\n",
            "  df_stats = df_stats.append(pp2(player_id, per_mode36='PerGame').career_totals_regular_season.get_data_frame())\n",
            "C:\\Users\\User\\AppData\\Local\\Temp\\ipykernel_11820\\2696809094.py:14: FutureWarning: The frame.append method is deprecated and will be removed from pandas in a future version. Use pandas.concat instead.\n",
            "  df_stats = df_stats.append(pp2(player_id, per_mode36='PerGame').career_totals_regular_season.get_data_frame())\n",
            "C:\\Users\\User\\AppData\\Local\\Temp\\ipykernel_11820\\2696809094.py:14: FutureWarning: The frame.append method is deprecated and will be removed from pandas in a future version. Use pandas.concat instead.\n",
            "  df_stats = df_stats.append(pp2(player_id, per_mode36='PerGame').career_totals_regular_season.get_data_frame())\n",
            "C:\\Users\\User\\AppData\\Local\\Temp\\ipykernel_11820\\2696809094.py:14: FutureWarning: The frame.append method is deprecated and will be removed from pandas in a future version. Use pandas.concat instead.\n",
            "  df_stats = df_stats.append(pp2(player_id, per_mode36='PerGame').career_totals_regular_season.get_data_frame())\n",
            "C:\\Users\\User\\AppData\\Local\\Temp\\ipykernel_11820\\2696809094.py:14: FutureWarning: The frame.append method is deprecated and will be removed from pandas in a future version. Use pandas.concat instead.\n",
            "  df_stats = df_stats.append(pp2(player_id, per_mode36='PerGame').career_totals_regular_season.get_data_frame())\n",
            "C:\\Users\\User\\AppData\\Local\\Temp\\ipykernel_11820\\2696809094.py:14: FutureWarning: The frame.append method is deprecated and will be removed from pandas in a future version. Use pandas.concat instead.\n",
            "  df_stats = df_stats.append(pp2(player_id, per_mode36='PerGame').career_totals_regular_season.get_data_frame())\n",
            "C:\\Users\\User\\AppData\\Local\\Temp\\ipykernel_11820\\2696809094.py:14: FutureWarning: The frame.append method is deprecated and will be removed from pandas in a future version. Use pandas.concat instead.\n",
            "  df_stats = df_stats.append(pp2(player_id, per_mode36='PerGame').career_totals_regular_season.get_data_frame())\n",
            "C:\\Users\\User\\AppData\\Local\\Temp\\ipykernel_11820\\2696809094.py:14: FutureWarning: The frame.append method is deprecated and will be removed from pandas in a future version. Use pandas.concat instead.\n",
            "  df_stats = df_stats.append(pp2(player_id, per_mode36='PerGame').career_totals_regular_season.get_data_frame())\n",
            "C:\\Users\\User\\AppData\\Local\\Temp\\ipykernel_11820\\2696809094.py:14: FutureWarning: The frame.append method is deprecated and will be removed from pandas in a future version. Use pandas.concat instead.\n",
            "  df_stats = df_stats.append(pp2(player_id, per_mode36='PerGame').career_totals_regular_season.get_data_frame())\n",
            "C:\\Users\\User\\AppData\\Local\\Temp\\ipykernel_11820\\2696809094.py:14: FutureWarning: The frame.append method is deprecated and will be removed from pandas in a future version. Use pandas.concat instead.\n",
            "  df_stats = df_stats.append(pp2(player_id, per_mode36='PerGame').career_totals_regular_season.get_data_frame())\n",
            "C:\\Users\\User\\AppData\\Local\\Temp\\ipykernel_11820\\2696809094.py:14: FutureWarning: The frame.append method is deprecated and will be removed from pandas in a future version. Use pandas.concat instead.\n",
            "  df_stats = df_stats.append(pp2(player_id, per_mode36='PerGame').career_totals_regular_season.get_data_frame())\n",
            "C:\\Users\\User\\AppData\\Local\\Temp\\ipykernel_11820\\2696809094.py:14: FutureWarning: The frame.append method is deprecated and will be removed from pandas in a future version. Use pandas.concat instead.\n",
            "  df_stats = df_stats.append(pp2(player_id, per_mode36='PerGame').career_totals_regular_season.get_data_frame())\n",
            "C:\\Users\\User\\AppData\\Local\\Temp\\ipykernel_11820\\2696809094.py:14: FutureWarning: The frame.append method is deprecated and will be removed from pandas in a future version. Use pandas.concat instead.\n",
            "  df_stats = df_stats.append(pp2(player_id, per_mode36='PerGame').career_totals_regular_season.get_data_frame())\n",
            "C:\\Users\\User\\AppData\\Local\\Temp\\ipykernel_11820\\2696809094.py:14: FutureWarning: The frame.append method is deprecated and will be removed from pandas in a future version. Use pandas.concat instead.\n",
            "  df_stats = df_stats.append(pp2(player_id, per_mode36='PerGame').career_totals_regular_season.get_data_frame())\n",
            "C:\\Users\\User\\AppData\\Local\\Temp\\ipykernel_11820\\2696809094.py:14: FutureWarning: The frame.append method is deprecated and will be removed from pandas in a future version. Use pandas.concat instead.\n",
            "  df_stats = df_stats.append(pp2(player_id, per_mode36='PerGame').career_totals_regular_season.get_data_frame())\n",
            "C:\\Users\\User\\AppData\\Local\\Temp\\ipykernel_11820\\2696809094.py:14: FutureWarning: The frame.append method is deprecated and will be removed from pandas in a future version. Use pandas.concat instead.\n",
            "  df_stats = df_stats.append(pp2(player_id, per_mode36='PerGame').career_totals_regular_season.get_data_frame())\n",
            "C:\\Users\\User\\AppData\\Local\\Temp\\ipykernel_11820\\2696809094.py:14: FutureWarning: The frame.append method is deprecated and will be removed from pandas in a future version. Use pandas.concat instead.\n",
            "  df_stats = df_stats.append(pp2(player_id, per_mode36='PerGame').career_totals_regular_season.get_data_frame())\n",
            "C:\\Users\\User\\AppData\\Local\\Temp\\ipykernel_11820\\2696809094.py:14: FutureWarning: The frame.append method is deprecated and will be removed from pandas in a future version. Use pandas.concat instead.\n",
            "  df_stats = df_stats.append(pp2(player_id, per_mode36='PerGame').career_totals_regular_season.get_data_frame())\n",
            "C:\\Users\\User\\AppData\\Local\\Temp\\ipykernel_11820\\2696809094.py:14: FutureWarning: The frame.append method is deprecated and will be removed from pandas in a future version. Use pandas.concat instead.\n",
            "  df_stats = df_stats.append(pp2(player_id, per_mode36='PerGame').career_totals_regular_season.get_data_frame())\n",
            "C:\\Users\\User\\AppData\\Local\\Temp\\ipykernel_11820\\2696809094.py:14: FutureWarning: The frame.append method is deprecated and will be removed from pandas in a future version. Use pandas.concat instead.\n",
            "  df_stats = df_stats.append(pp2(player_id, per_mode36='PerGame').career_totals_regular_season.get_data_frame())\n",
            "C:\\Users\\User\\AppData\\Local\\Temp\\ipykernel_11820\\2696809094.py:14: FutureWarning: The frame.append method is deprecated and will be removed from pandas in a future version. Use pandas.concat instead.\n",
            "  df_stats = df_stats.append(pp2(player_id, per_mode36='PerGame').career_totals_regular_season.get_data_frame())\n",
            "C:\\Users\\User\\AppData\\Local\\Temp\\ipykernel_11820\\2696809094.py:14: FutureWarning: The frame.append method is deprecated and will be removed from pandas in a future version. Use pandas.concat instead.\n",
            "  df_stats = df_stats.append(pp2(player_id, per_mode36='PerGame').career_totals_regular_season.get_data_frame())\n",
            "C:\\Users\\User\\AppData\\Local\\Temp\\ipykernel_11820\\2696809094.py:14: FutureWarning: The frame.append method is deprecated and will be removed from pandas in a future version. Use pandas.concat instead.\n",
            "  df_stats = df_stats.append(pp2(player_id, per_mode36='PerGame').career_totals_regular_season.get_data_frame())\n",
            "C:\\Users\\User\\AppData\\Local\\Temp\\ipykernel_11820\\2696809094.py:14: FutureWarning: The frame.append method is deprecated and will be removed from pandas in a future version. Use pandas.concat instead.\n",
            "  df_stats = df_stats.append(pp2(player_id, per_mode36='PerGame').career_totals_regular_season.get_data_frame())\n",
            "C:\\Users\\User\\AppData\\Local\\Temp\\ipykernel_11820\\2696809094.py:14: FutureWarning: The frame.append method is deprecated and will be removed from pandas in a future version. Use pandas.concat instead.\n",
            "  df_stats = df_stats.append(pp2(player_id, per_mode36='PerGame').career_totals_regular_season.get_data_frame())\n",
            "C:\\Users\\User\\AppData\\Local\\Temp\\ipykernel_11820\\2696809094.py:14: FutureWarning: The frame.append method is deprecated and will be removed from pandas in a future version. Use pandas.concat instead.\n",
            "  df_stats = df_stats.append(pp2(player_id, per_mode36='PerGame').career_totals_regular_season.get_data_frame())\n",
            "C:\\Users\\User\\AppData\\Local\\Temp\\ipykernel_11820\\2696809094.py:14: FutureWarning: The frame.append method is deprecated and will be removed from pandas in a future version. Use pandas.concat instead.\n",
            "  df_stats = df_stats.append(pp2(player_id, per_mode36='PerGame').career_totals_regular_season.get_data_frame())\n",
            "C:\\Users\\User\\AppData\\Local\\Temp\\ipykernel_11820\\2696809094.py:14: FutureWarning: The frame.append method is deprecated and will be removed from pandas in a future version. Use pandas.concat instead.\n",
            "  df_stats = df_stats.append(pp2(player_id, per_mode36='PerGame').career_totals_regular_season.get_data_frame())\n",
            "C:\\Users\\User\\AppData\\Local\\Temp\\ipykernel_11820\\2696809094.py:14: FutureWarning: The frame.append method is deprecated and will be removed from pandas in a future version. Use pandas.concat instead.\n",
            "  df_stats = df_stats.append(pp2(player_id, per_mode36='PerGame').career_totals_regular_season.get_data_frame())\n",
            "C:\\Users\\User\\AppData\\Local\\Temp\\ipykernel_11820\\2696809094.py:14: FutureWarning: The frame.append method is deprecated and will be removed from pandas in a future version. Use pandas.concat instead.\n",
            "  df_stats = df_stats.append(pp2(player_id, per_mode36='PerGame').career_totals_regular_season.get_data_frame())\n",
            "C:\\Users\\User\\AppData\\Local\\Temp\\ipykernel_11820\\2696809094.py:14: FutureWarning: The frame.append method is deprecated and will be removed from pandas in a future version. Use pandas.concat instead.\n",
            "  df_stats = df_stats.append(pp2(player_id, per_mode36='PerGame').career_totals_regular_season.get_data_frame())\n",
            "C:\\Users\\User\\AppData\\Local\\Temp\\ipykernel_11820\\2696809094.py:14: FutureWarning: The frame.append method is deprecated and will be removed from pandas in a future version. Use pandas.concat instead.\n",
            "  df_stats = df_stats.append(pp2(player_id, per_mode36='PerGame').career_totals_regular_season.get_data_frame())\n",
            "C:\\Users\\User\\AppData\\Local\\Temp\\ipykernel_11820\\2696809094.py:14: FutureWarning: The frame.append method is deprecated and will be removed from pandas in a future version. Use pandas.concat instead.\n",
            "  df_stats = df_stats.append(pp2(player_id, per_mode36='PerGame').career_totals_regular_season.get_data_frame())\n",
            "C:\\Users\\User\\AppData\\Local\\Temp\\ipykernel_11820\\2696809094.py:14: FutureWarning: The frame.append method is deprecated and will be removed from pandas in a future version. Use pandas.concat instead.\n",
            "  df_stats = df_stats.append(pp2(player_id, per_mode36='PerGame').career_totals_regular_season.get_data_frame())\n",
            "C:\\Users\\User\\AppData\\Local\\Temp\\ipykernel_11820\\2696809094.py:14: FutureWarning: The frame.append method is deprecated and will be removed from pandas in a future version. Use pandas.concat instead.\n",
            "  df_stats = df_stats.append(pp2(player_id, per_mode36='PerGame').career_totals_regular_season.get_data_frame())\n",
            "C:\\Users\\User\\AppData\\Local\\Temp\\ipykernel_11820\\2696809094.py:14: FutureWarning: The frame.append method is deprecated and will be removed from pandas in a future version. Use pandas.concat instead.\n",
            "  df_stats = df_stats.append(pp2(player_id, per_mode36='PerGame').career_totals_regular_season.get_data_frame())\n",
            "C:\\Users\\User\\AppData\\Local\\Temp\\ipykernel_11820\\2696809094.py:14: FutureWarning: The frame.append method is deprecated and will be removed from pandas in a future version. Use pandas.concat instead.\n",
            "  df_stats = df_stats.append(pp2(player_id, per_mode36='PerGame').career_totals_regular_season.get_data_frame())\n",
            "C:\\Users\\User\\AppData\\Local\\Temp\\ipykernel_11820\\2696809094.py:14: FutureWarning: The frame.append method is deprecated and will be removed from pandas in a future version. Use pandas.concat instead.\n",
            "  df_stats = df_stats.append(pp2(player_id, per_mode36='PerGame').career_totals_regular_season.get_data_frame())\n",
            "C:\\Users\\User\\AppData\\Local\\Temp\\ipykernel_11820\\2696809094.py:14: FutureWarning: The frame.append method is deprecated and will be removed from pandas in a future version. Use pandas.concat instead.\n",
            "  df_stats = df_stats.append(pp2(player_id, per_mode36='PerGame').career_totals_regular_season.get_data_frame())\n",
            "C:\\Users\\User\\AppData\\Local\\Temp\\ipykernel_11820\\2696809094.py:14: FutureWarning: The frame.append method is deprecated and will be removed from pandas in a future version. Use pandas.concat instead.\n",
            "  df_stats = df_stats.append(pp2(player_id, per_mode36='PerGame').career_totals_regular_season.get_data_frame())\n",
            "C:\\Users\\User\\AppData\\Local\\Temp\\ipykernel_11820\\2696809094.py:14: FutureWarning: The frame.append method is deprecated and will be removed from pandas in a future version. Use pandas.concat instead.\n",
            "  df_stats = df_stats.append(pp2(player_id, per_mode36='PerGame').career_totals_regular_season.get_data_frame())\n",
            "C:\\Users\\User\\AppData\\Local\\Temp\\ipykernel_11820\\2696809094.py:14: FutureWarning: The frame.append method is deprecated and will be removed from pandas in a future version. Use pandas.concat instead.\n",
            "  df_stats = df_stats.append(pp2(player_id, per_mode36='PerGame').career_totals_regular_season.get_data_frame())\n",
            "C:\\Users\\User\\AppData\\Local\\Temp\\ipykernel_11820\\2696809094.py:14: FutureWarning: The frame.append method is deprecated and will be removed from pandas in a future version. Use pandas.concat instead.\n",
            "  df_stats = df_stats.append(pp2(player_id, per_mode36='PerGame').career_totals_regular_season.get_data_frame())\n",
            "C:\\Users\\User\\AppData\\Local\\Temp\\ipykernel_11820\\2696809094.py:14: FutureWarning: The frame.append method is deprecated and will be removed from pandas in a future version. Use pandas.concat instead.\n",
            "  df_stats = df_stats.append(pp2(player_id, per_mode36='PerGame').career_totals_regular_season.get_data_frame())\n",
            "C:\\Users\\User\\AppData\\Local\\Temp\\ipykernel_11820\\2696809094.py:14: FutureWarning: The frame.append method is deprecated and will be removed from pandas in a future version. Use pandas.concat instead.\n",
            "  df_stats = df_stats.append(pp2(player_id, per_mode36='PerGame').career_totals_regular_season.get_data_frame())\n",
            "C:\\Users\\User\\AppData\\Local\\Temp\\ipykernel_11820\\2696809094.py:14: FutureWarning: The frame.append method is deprecated and will be removed from pandas in a future version. Use pandas.concat instead.\n",
            "  df_stats = df_stats.append(pp2(player_id, per_mode36='PerGame').career_totals_regular_season.get_data_frame())\n",
            "C:\\Users\\User\\AppData\\Local\\Temp\\ipykernel_11820\\2696809094.py:14: FutureWarning: The frame.append method is deprecated and will be removed from pandas in a future version. Use pandas.concat instead.\n",
            "  df_stats = df_stats.append(pp2(player_id, per_mode36='PerGame').career_totals_regular_season.get_data_frame())\n",
            "C:\\Users\\User\\AppData\\Local\\Temp\\ipykernel_11820\\2696809094.py:14: FutureWarning: The frame.append method is deprecated and will be removed from pandas in a future version. Use pandas.concat instead.\n",
            "  df_stats = df_stats.append(pp2(player_id, per_mode36='PerGame').career_totals_regular_season.get_data_frame())\n",
            "C:\\Users\\User\\AppData\\Local\\Temp\\ipykernel_11820\\2696809094.py:14: FutureWarning: The frame.append method is deprecated and will be removed from pandas in a future version. Use pandas.concat instead.\n",
            "  df_stats = df_stats.append(pp2(player_id, per_mode36='PerGame').career_totals_regular_season.get_data_frame())\n",
            "C:\\Users\\User\\AppData\\Local\\Temp\\ipykernel_11820\\2696809094.py:14: FutureWarning: The frame.append method is deprecated and will be removed from pandas in a future version. Use pandas.concat instead.\n",
            "  df_stats = df_stats.append(pp2(player_id, per_mode36='PerGame').career_totals_regular_season.get_data_frame())\n",
            "C:\\Users\\User\\AppData\\Local\\Temp\\ipykernel_11820\\2696809094.py:14: FutureWarning: The frame.append method is deprecated and will be removed from pandas in a future version. Use pandas.concat instead.\n",
            "  df_stats = df_stats.append(pp2(player_id, per_mode36='PerGame').career_totals_regular_season.get_data_frame())\n",
            "C:\\Users\\User\\AppData\\Local\\Temp\\ipykernel_11820\\2696809094.py:14: FutureWarning: The frame.append method is deprecated and will be removed from pandas in a future version. Use pandas.concat instead.\n",
            "  df_stats = df_stats.append(pp2(player_id, per_mode36='PerGame').career_totals_regular_season.get_data_frame())\n",
            "C:\\Users\\User\\AppData\\Local\\Temp\\ipykernel_11820\\2696809094.py:14: FutureWarning: The frame.append method is deprecated and will be removed from pandas in a future version. Use pandas.concat instead.\n",
            "  df_stats = df_stats.append(pp2(player_id, per_mode36='PerGame').career_totals_regular_season.get_data_frame())\n",
            "C:\\Users\\User\\AppData\\Local\\Temp\\ipykernel_11820\\2696809094.py:14: FutureWarning: The frame.append method is deprecated and will be removed from pandas in a future version. Use pandas.concat instead.\n",
            "  df_stats = df_stats.append(pp2(player_id, per_mode36='PerGame').career_totals_regular_season.get_data_frame())\n",
            "C:\\Users\\User\\AppData\\Local\\Temp\\ipykernel_11820\\2696809094.py:14: FutureWarning: The frame.append method is deprecated and will be removed from pandas in a future version. Use pandas.concat instead.\n",
            "  df_stats = df_stats.append(pp2(player_id, per_mode36='PerGame').career_totals_regular_season.get_data_frame())\n",
            "C:\\Users\\User\\AppData\\Local\\Temp\\ipykernel_11820\\2696809094.py:14: FutureWarning: The frame.append method is deprecated and will be removed from pandas in a future version. Use pandas.concat instead.\n",
            "  df_stats = df_stats.append(pp2(player_id, per_mode36='PerGame').career_totals_regular_season.get_data_frame())\n",
            "C:\\Users\\User\\AppData\\Local\\Temp\\ipykernel_11820\\2696809094.py:14: FutureWarning: The frame.append method is deprecated and will be removed from pandas in a future version. Use pandas.concat instead.\n",
            "  df_stats = df_stats.append(pp2(player_id, per_mode36='PerGame').career_totals_regular_season.get_data_frame())\n",
            "C:\\Users\\User\\AppData\\Local\\Temp\\ipykernel_11820\\2696809094.py:14: FutureWarning: The frame.append method is deprecated and will be removed from pandas in a future version. Use pandas.concat instead.\n",
            "  df_stats = df_stats.append(pp2(player_id, per_mode36='PerGame').career_totals_regular_season.get_data_frame())\n",
            "C:\\Users\\User\\AppData\\Local\\Temp\\ipykernel_11820\\2696809094.py:14: FutureWarning: The frame.append method is deprecated and will be removed from pandas in a future version. Use pandas.concat instead.\n",
            "  df_stats = df_stats.append(pp2(player_id, per_mode36='PerGame').career_totals_regular_season.get_data_frame())\n",
            "C:\\Users\\User\\AppData\\Local\\Temp\\ipykernel_11820\\2696809094.py:14: FutureWarning: The frame.append method is deprecated and will be removed from pandas in a future version. Use pandas.concat instead.\n",
            "  df_stats = df_stats.append(pp2(player_id, per_mode36='PerGame').career_totals_regular_season.get_data_frame())\n",
            "C:\\Users\\User\\AppData\\Local\\Temp\\ipykernel_11820\\2696809094.py:14: FutureWarning: The frame.append method is deprecated and will be removed from pandas in a future version. Use pandas.concat instead.\n",
            "  df_stats = df_stats.append(pp2(player_id, per_mode36='PerGame').career_totals_regular_season.get_data_frame())\n",
            "C:\\Users\\User\\AppData\\Local\\Temp\\ipykernel_11820\\2696809094.py:14: FutureWarning: The frame.append method is deprecated and will be removed from pandas in a future version. Use pandas.concat instead.\n",
            "  df_stats = df_stats.append(pp2(player_id, per_mode36='PerGame').career_totals_regular_season.get_data_frame())\n",
            "C:\\Users\\User\\AppData\\Local\\Temp\\ipykernel_11820\\2696809094.py:14: FutureWarning: The frame.append method is deprecated and will be removed from pandas in a future version. Use pandas.concat instead.\n",
            "  df_stats = df_stats.append(pp2(player_id, per_mode36='PerGame').career_totals_regular_season.get_data_frame())\n",
            "C:\\Users\\User\\AppData\\Local\\Temp\\ipykernel_11820\\2696809094.py:14: FutureWarning: The frame.append method is deprecated and will be removed from pandas in a future version. Use pandas.concat instead.\n",
            "  df_stats = df_stats.append(pp2(player_id, per_mode36='PerGame').career_totals_regular_season.get_data_frame())\n",
            "C:\\Users\\User\\AppData\\Local\\Temp\\ipykernel_11820\\2696809094.py:14: FutureWarning: The frame.append method is deprecated and will be removed from pandas in a future version. Use pandas.concat instead.\n",
            "  df_stats = df_stats.append(pp2(player_id, per_mode36='PerGame').career_totals_regular_season.get_data_frame())\n",
            "C:\\Users\\User\\AppData\\Local\\Temp\\ipykernel_11820\\2696809094.py:14: FutureWarning: The frame.append method is deprecated and will be removed from pandas in a future version. Use pandas.concat instead.\n",
            "  df_stats = df_stats.append(pp2(player_id, per_mode36='PerGame').career_totals_regular_season.get_data_frame())\n",
            "C:\\Users\\User\\AppData\\Local\\Temp\\ipykernel_11820\\2696809094.py:14: FutureWarning: The frame.append method is deprecated and will be removed from pandas in a future version. Use pandas.concat instead.\n",
            "  df_stats = df_stats.append(pp2(player_id, per_mode36='PerGame').career_totals_regular_season.get_data_frame())\n",
            "C:\\Users\\User\\AppData\\Local\\Temp\\ipykernel_11820\\2696809094.py:14: FutureWarning: The frame.append method is deprecated and will be removed from pandas in a future version. Use pandas.concat instead.\n",
            "  df_stats = df_stats.append(pp2(player_id, per_mode36='PerGame').career_totals_regular_season.get_data_frame())\n",
            "C:\\Users\\User\\AppData\\Local\\Temp\\ipykernel_11820\\2696809094.py:14: FutureWarning: The frame.append method is deprecated and will be removed from pandas in a future version. Use pandas.concat instead.\n",
            "  df_stats = df_stats.append(pp2(player_id, per_mode36='PerGame').career_totals_regular_season.get_data_frame())\n",
            "C:\\Users\\User\\AppData\\Local\\Temp\\ipykernel_11820\\2696809094.py:14: FutureWarning: The frame.append method is deprecated and will be removed from pandas in a future version. Use pandas.concat instead.\n",
            "  df_stats = df_stats.append(pp2(player_id, per_mode36='PerGame').career_totals_regular_season.get_data_frame())\n",
            "C:\\Users\\User\\AppData\\Local\\Temp\\ipykernel_11820\\2696809094.py:14: FutureWarning: The frame.append method is deprecated and will be removed from pandas in a future version. Use pandas.concat instead.\n",
            "  df_stats = df_stats.append(pp2(player_id, per_mode36='PerGame').career_totals_regular_season.get_data_frame())\n",
            "C:\\Users\\User\\AppData\\Local\\Temp\\ipykernel_11820\\2696809094.py:14: FutureWarning: The frame.append method is deprecated and will be removed from pandas in a future version. Use pandas.concat instead.\n",
            "  df_stats = df_stats.append(pp2(player_id, per_mode36='PerGame').career_totals_regular_season.get_data_frame())\n",
            "C:\\Users\\User\\AppData\\Local\\Temp\\ipykernel_11820\\2696809094.py:14: FutureWarning: The frame.append method is deprecated and will be removed from pandas in a future version. Use pandas.concat instead.\n",
            "  df_stats = df_stats.append(pp2(player_id, per_mode36='PerGame').career_totals_regular_season.get_data_frame())\n",
            "C:\\Users\\User\\AppData\\Local\\Temp\\ipykernel_11820\\2696809094.py:14: FutureWarning: The frame.append method is deprecated and will be removed from pandas in a future version. Use pandas.concat instead.\n",
            "  df_stats = df_stats.append(pp2(player_id, per_mode36='PerGame').career_totals_regular_season.get_data_frame())\n",
            "C:\\Users\\User\\AppData\\Local\\Temp\\ipykernel_11820\\2696809094.py:14: FutureWarning: The frame.append method is deprecated and will be removed from pandas in a future version. Use pandas.concat instead.\n",
            "  df_stats = df_stats.append(pp2(player_id, per_mode36='PerGame').career_totals_regular_season.get_data_frame())\n",
            "C:\\Users\\User\\AppData\\Local\\Temp\\ipykernel_11820\\2696809094.py:14: FutureWarning: The frame.append method is deprecated and will be removed from pandas in a future version. Use pandas.concat instead.\n",
            "  df_stats = df_stats.append(pp2(player_id, per_mode36='PerGame').career_totals_regular_season.get_data_frame())\n",
            "C:\\Users\\User\\AppData\\Local\\Temp\\ipykernel_11820\\2696809094.py:14: FutureWarning: The frame.append method is deprecated and will be removed from pandas in a future version. Use pandas.concat instead.\n",
            "  df_stats = df_stats.append(pp2(player_id, per_mode36='PerGame').career_totals_regular_season.get_data_frame())\n",
            "C:\\Users\\User\\AppData\\Local\\Temp\\ipykernel_11820\\2696809094.py:14: FutureWarning: The frame.append method is deprecated and will be removed from pandas in a future version. Use pandas.concat instead.\n",
            "  df_stats = df_stats.append(pp2(player_id, per_mode36='PerGame').career_totals_regular_season.get_data_frame())\n",
            "C:\\Users\\User\\AppData\\Local\\Temp\\ipykernel_11820\\2696809094.py:14: FutureWarning: The frame.append method is deprecated and will be removed from pandas in a future version. Use pandas.concat instead.\n",
            "  df_stats = df_stats.append(pp2(player_id, per_mode36='PerGame').career_totals_regular_season.get_data_frame())\n",
            "C:\\Users\\User\\AppData\\Local\\Temp\\ipykernel_11820\\2696809094.py:14: FutureWarning: The frame.append method is deprecated and will be removed from pandas in a future version. Use pandas.concat instead.\n",
            "  df_stats = df_stats.append(pp2(player_id, per_mode36='PerGame').career_totals_regular_season.get_data_frame())\n",
            "C:\\Users\\User\\AppData\\Local\\Temp\\ipykernel_11820\\2696809094.py:14: FutureWarning: The frame.append method is deprecated and will be removed from pandas in a future version. Use pandas.concat instead.\n",
            "  df_stats = df_stats.append(pp2(player_id, per_mode36='PerGame').career_totals_regular_season.get_data_frame())\n",
            "C:\\Users\\User\\AppData\\Local\\Temp\\ipykernel_11820\\2696809094.py:14: FutureWarning: The frame.append method is deprecated and will be removed from pandas in a future version. Use pandas.concat instead.\n",
            "  df_stats = df_stats.append(pp2(player_id, per_mode36='PerGame').career_totals_regular_season.get_data_frame())\n",
            "C:\\Users\\User\\AppData\\Local\\Temp\\ipykernel_11820\\2696809094.py:14: FutureWarning: The frame.append method is deprecated and will be removed from pandas in a future version. Use pandas.concat instead.\n",
            "  df_stats = df_stats.append(pp2(player_id, per_mode36='PerGame').career_totals_regular_season.get_data_frame())\n",
            "C:\\Users\\User\\AppData\\Local\\Temp\\ipykernel_11820\\2696809094.py:14: FutureWarning: The frame.append method is deprecated and will be removed from pandas in a future version. Use pandas.concat instead.\n",
            "  df_stats = df_stats.append(pp2(player_id, per_mode36='PerGame').career_totals_regular_season.get_data_frame())\n",
            "C:\\Users\\User\\AppData\\Local\\Temp\\ipykernel_11820\\2696809094.py:14: FutureWarning: The frame.append method is deprecated and will be removed from pandas in a future version. Use pandas.concat instead.\n",
            "  df_stats = df_stats.append(pp2(player_id, per_mode36='PerGame').career_totals_regular_season.get_data_frame())\n",
            "C:\\Users\\User\\AppData\\Local\\Temp\\ipykernel_11820\\2696809094.py:14: FutureWarning: The frame.append method is deprecated and will be removed from pandas in a future version. Use pandas.concat instead.\n",
            "  df_stats = df_stats.append(pp2(player_id, per_mode36='PerGame').career_totals_regular_season.get_data_frame())\n",
            "C:\\Users\\User\\AppData\\Local\\Temp\\ipykernel_11820\\2696809094.py:14: FutureWarning: The frame.append method is deprecated and will be removed from pandas in a future version. Use pandas.concat instead.\n",
            "  df_stats = df_stats.append(pp2(player_id, per_mode36='PerGame').career_totals_regular_season.get_data_frame())\n",
            "C:\\Users\\User\\AppData\\Local\\Temp\\ipykernel_11820\\2696809094.py:14: FutureWarning: The frame.append method is deprecated and will be removed from pandas in a future version. Use pandas.concat instead.\n",
            "  df_stats = df_stats.append(pp2(player_id, per_mode36='PerGame').career_totals_regular_season.get_data_frame())\n",
            "C:\\Users\\User\\AppData\\Local\\Temp\\ipykernel_11820\\2696809094.py:14: FutureWarning: The frame.append method is deprecated and will be removed from pandas in a future version. Use pandas.concat instead.\n",
            "  df_stats = df_stats.append(pp2(player_id, per_mode36='PerGame').career_totals_regular_season.get_data_frame())\n",
            "C:\\Users\\User\\AppData\\Local\\Temp\\ipykernel_11820\\2696809094.py:14: FutureWarning: The frame.append method is deprecated and will be removed from pandas in a future version. Use pandas.concat instead.\n",
            "  df_stats = df_stats.append(pp2(player_id, per_mode36='PerGame').career_totals_regular_season.get_data_frame())\n",
            "C:\\Users\\User\\AppData\\Local\\Temp\\ipykernel_11820\\2696809094.py:14: FutureWarning: The frame.append method is deprecated and will be removed from pandas in a future version. Use pandas.concat instead.\n",
            "  df_stats = df_stats.append(pp2(player_id, per_mode36='PerGame').career_totals_regular_season.get_data_frame())\n",
            "C:\\Users\\User\\AppData\\Local\\Temp\\ipykernel_11820\\2696809094.py:14: FutureWarning: The frame.append method is deprecated and will be removed from pandas in a future version. Use pandas.concat instead.\n",
            "  df_stats = df_stats.append(pp2(player_id, per_mode36='PerGame').career_totals_regular_season.get_data_frame())\n",
            "C:\\Users\\User\\AppData\\Local\\Temp\\ipykernel_11820\\2696809094.py:14: FutureWarning: The frame.append method is deprecated and will be removed from pandas in a future version. Use pandas.concat instead.\n",
            "  df_stats = df_stats.append(pp2(player_id, per_mode36='PerGame').career_totals_regular_season.get_data_frame())\n",
            "C:\\Users\\User\\AppData\\Local\\Temp\\ipykernel_11820\\2696809094.py:14: FutureWarning: The frame.append method is deprecated and will be removed from pandas in a future version. Use pandas.concat instead.\n",
            "  df_stats = df_stats.append(pp2(player_id, per_mode36='PerGame').career_totals_regular_season.get_data_frame())\n",
            "C:\\Users\\User\\AppData\\Local\\Temp\\ipykernel_11820\\2696809094.py:14: FutureWarning: The frame.append method is deprecated and will be removed from pandas in a future version. Use pandas.concat instead.\n",
            "  df_stats = df_stats.append(pp2(player_id, per_mode36='PerGame').career_totals_regular_season.get_data_frame())\n",
            "C:\\Users\\User\\AppData\\Local\\Temp\\ipykernel_11820\\2696809094.py:14: FutureWarning: The frame.append method is deprecated and will be removed from pandas in a future version. Use pandas.concat instead.\n",
            "  df_stats = df_stats.append(pp2(player_id, per_mode36='PerGame').career_totals_regular_season.get_data_frame())\n",
            "C:\\Users\\User\\AppData\\Local\\Temp\\ipykernel_11820\\2696809094.py:14: FutureWarning: The frame.append method is deprecated and will be removed from pandas in a future version. Use pandas.concat instead.\n",
            "  df_stats = df_stats.append(pp2(player_id, per_mode36='PerGame').career_totals_regular_season.get_data_frame())\n",
            "C:\\Users\\User\\AppData\\Local\\Temp\\ipykernel_11820\\2696809094.py:14: FutureWarning: The frame.append method is deprecated and will be removed from pandas in a future version. Use pandas.concat instead.\n",
            "  df_stats = df_stats.append(pp2(player_id, per_mode36='PerGame').career_totals_regular_season.get_data_frame())\n",
            "C:\\Users\\User\\AppData\\Local\\Temp\\ipykernel_11820\\2696809094.py:14: FutureWarning: The frame.append method is deprecated and will be removed from pandas in a future version. Use pandas.concat instead.\n",
            "  df_stats = df_stats.append(pp2(player_id, per_mode36='PerGame').career_totals_regular_season.get_data_frame())\n",
            "C:\\Users\\User\\AppData\\Local\\Temp\\ipykernel_11820\\2696809094.py:14: FutureWarning: The frame.append method is deprecated and will be removed from pandas in a future version. Use pandas.concat instead.\n",
            "  df_stats = df_stats.append(pp2(player_id, per_mode36='PerGame').career_totals_regular_season.get_data_frame())\n",
            "C:\\Users\\User\\AppData\\Local\\Temp\\ipykernel_11820\\2696809094.py:14: FutureWarning: The frame.append method is deprecated and will be removed from pandas in a future version. Use pandas.concat instead.\n",
            "  df_stats = df_stats.append(pp2(player_id, per_mode36='PerGame').career_totals_regular_season.get_data_frame())\n",
            "C:\\Users\\User\\AppData\\Local\\Temp\\ipykernel_11820\\2696809094.py:14: FutureWarning: The frame.append method is deprecated and will be removed from pandas in a future version. Use pandas.concat instead.\n",
            "  df_stats = df_stats.append(pp2(player_id, per_mode36='PerGame').career_totals_regular_season.get_data_frame())\n",
            "C:\\Users\\User\\AppData\\Local\\Temp\\ipykernel_11820\\2696809094.py:14: FutureWarning: The frame.append method is deprecated and will be removed from pandas in a future version. Use pandas.concat instead.\n",
            "  df_stats = df_stats.append(pp2(player_id, per_mode36='PerGame').career_totals_regular_season.get_data_frame())\n",
            "C:\\Users\\User\\AppData\\Local\\Temp\\ipykernel_11820\\2696809094.py:14: FutureWarning: The frame.append method is deprecated and will be removed from pandas in a future version. Use pandas.concat instead.\n",
            "  df_stats = df_stats.append(pp2(player_id, per_mode36='PerGame').career_totals_regular_season.get_data_frame())\n",
            "C:\\Users\\User\\AppData\\Local\\Temp\\ipykernel_11820\\2696809094.py:14: FutureWarning: The frame.append method is deprecated and will be removed from pandas in a future version. Use pandas.concat instead.\n",
            "  df_stats = df_stats.append(pp2(player_id, per_mode36='PerGame').career_totals_regular_season.get_data_frame())\n",
            "C:\\Users\\User\\AppData\\Local\\Temp\\ipykernel_11820\\2696809094.py:14: FutureWarning: The frame.append method is deprecated and will be removed from pandas in a future version. Use pandas.concat instead.\n",
            "  df_stats = df_stats.append(pp2(player_id, per_mode36='PerGame').career_totals_regular_season.get_data_frame())\n",
            "C:\\Users\\User\\AppData\\Local\\Temp\\ipykernel_11820\\2696809094.py:14: FutureWarning: The frame.append method is deprecated and will be removed from pandas in a future version. Use pandas.concat instead.\n",
            "  df_stats = df_stats.append(pp2(player_id, per_mode36='PerGame').career_totals_regular_season.get_data_frame())\n",
            "C:\\Users\\User\\AppData\\Local\\Temp\\ipykernel_11820\\2696809094.py:14: FutureWarning: The frame.append method is deprecated and will be removed from pandas in a future version. Use pandas.concat instead.\n",
            "  df_stats = df_stats.append(pp2(player_id, per_mode36='PerGame').career_totals_regular_season.get_data_frame())\n",
            "C:\\Users\\User\\AppData\\Local\\Temp\\ipykernel_11820\\2696809094.py:14: FutureWarning: The frame.append method is deprecated and will be removed from pandas in a future version. Use pandas.concat instead.\n",
            "  df_stats = df_stats.append(pp2(player_id, per_mode36='PerGame').career_totals_regular_season.get_data_frame())\n",
            "C:\\Users\\User\\AppData\\Local\\Temp\\ipykernel_11820\\2696809094.py:14: FutureWarning: The frame.append method is deprecated and will be removed from pandas in a future version. Use pandas.concat instead.\n",
            "  df_stats = df_stats.append(pp2(player_id, per_mode36='PerGame').career_totals_regular_season.get_data_frame())\n",
            "C:\\Users\\User\\AppData\\Local\\Temp\\ipykernel_11820\\2696809094.py:14: FutureWarning: The frame.append method is deprecated and will be removed from pandas in a future version. Use pandas.concat instead.\n",
            "  df_stats = df_stats.append(pp2(player_id, per_mode36='PerGame').career_totals_regular_season.get_data_frame())\n",
            "C:\\Users\\User\\AppData\\Local\\Temp\\ipykernel_11820\\2696809094.py:14: FutureWarning: The frame.append method is deprecated and will be removed from pandas in a future version. Use pandas.concat instead.\n",
            "  df_stats = df_stats.append(pp2(player_id, per_mode36='PerGame').career_totals_regular_season.get_data_frame())\n",
            "C:\\Users\\User\\AppData\\Local\\Temp\\ipykernel_11820\\2696809094.py:14: FutureWarning: The frame.append method is deprecated and will be removed from pandas in a future version. Use pandas.concat instead.\n",
            "  df_stats = df_stats.append(pp2(player_id, per_mode36='PerGame').career_totals_regular_season.get_data_frame())\n",
            "C:\\Users\\User\\AppData\\Local\\Temp\\ipykernel_11820\\2696809094.py:14: FutureWarning: The frame.append method is deprecated and will be removed from pandas in a future version. Use pandas.concat instead.\n",
            "  df_stats = df_stats.append(pp2(player_id, per_mode36='PerGame').career_totals_regular_season.get_data_frame())\n",
            "C:\\Users\\User\\AppData\\Local\\Temp\\ipykernel_11820\\2696809094.py:14: FutureWarning: The frame.append method is deprecated and will be removed from pandas in a future version. Use pandas.concat instead.\n",
            "  df_stats = df_stats.append(pp2(player_id, per_mode36='PerGame').career_totals_regular_season.get_data_frame())\n",
            "C:\\Users\\User\\AppData\\Local\\Temp\\ipykernel_11820\\2696809094.py:14: FutureWarning: The frame.append method is deprecated and will be removed from pandas in a future version. Use pandas.concat instead.\n",
            "  df_stats = df_stats.append(pp2(player_id, per_mode36='PerGame').career_totals_regular_season.get_data_frame())\n",
            "C:\\Users\\User\\AppData\\Local\\Temp\\ipykernel_11820\\2696809094.py:14: FutureWarning: The frame.append method is deprecated and will be removed from pandas in a future version. Use pandas.concat instead.\n",
            "  df_stats = df_stats.append(pp2(player_id, per_mode36='PerGame').career_totals_regular_season.get_data_frame())\n",
            "C:\\Users\\User\\AppData\\Local\\Temp\\ipykernel_11820\\2696809094.py:14: FutureWarning: The frame.append method is deprecated and will be removed from pandas in a future version. Use pandas.concat instead.\n",
            "  df_stats = df_stats.append(pp2(player_id, per_mode36='PerGame').career_totals_regular_season.get_data_frame())\n",
            "C:\\Users\\User\\AppData\\Local\\Temp\\ipykernel_11820\\2696809094.py:14: FutureWarning: The frame.append method is deprecated and will be removed from pandas in a future version. Use pandas.concat instead.\n",
            "  df_stats = df_stats.append(pp2(player_id, per_mode36='PerGame').career_totals_regular_season.get_data_frame())\n",
            "C:\\Users\\User\\AppData\\Local\\Temp\\ipykernel_11820\\2696809094.py:14: FutureWarning: The frame.append method is deprecated and will be removed from pandas in a future version. Use pandas.concat instead.\n",
            "  df_stats = df_stats.append(pp2(player_id, per_mode36='PerGame').career_totals_regular_season.get_data_frame())\n",
            "C:\\Users\\User\\AppData\\Local\\Temp\\ipykernel_11820\\2696809094.py:14: FutureWarning: The frame.append method is deprecated and will be removed from pandas in a future version. Use pandas.concat instead.\n",
            "  df_stats = df_stats.append(pp2(player_id, per_mode36='PerGame').career_totals_regular_season.get_data_frame())\n",
            "C:\\Users\\User\\AppData\\Local\\Temp\\ipykernel_11820\\2696809094.py:14: FutureWarning: The frame.append method is deprecated and will be removed from pandas in a future version. Use pandas.concat instead.\n",
            "  df_stats = df_stats.append(pp2(player_id, per_mode36='PerGame').career_totals_regular_season.get_data_frame())\n",
            "C:\\Users\\User\\AppData\\Local\\Temp\\ipykernel_11820\\2696809094.py:14: FutureWarning: The frame.append method is deprecated and will be removed from pandas in a future version. Use pandas.concat instead.\n",
            "  df_stats = df_stats.append(pp2(player_id, per_mode36='PerGame').career_totals_regular_season.get_data_frame())\n",
            "C:\\Users\\User\\AppData\\Local\\Temp\\ipykernel_11820\\2696809094.py:14: FutureWarning: The frame.append method is deprecated and will be removed from pandas in a future version. Use pandas.concat instead.\n",
            "  df_stats = df_stats.append(pp2(player_id, per_mode36='PerGame').career_totals_regular_season.get_data_frame())\n",
            "C:\\Users\\User\\AppData\\Local\\Temp\\ipykernel_11820\\2696809094.py:14: FutureWarning: The frame.append method is deprecated and will be removed from pandas in a future version. Use pandas.concat instead.\n",
            "  df_stats = df_stats.append(pp2(player_id, per_mode36='PerGame').career_totals_regular_season.get_data_frame())\n",
            "C:\\Users\\User\\AppData\\Local\\Temp\\ipykernel_11820\\2696809094.py:14: FutureWarning: The frame.append method is deprecated and will be removed from pandas in a future version. Use pandas.concat instead.\n",
            "  df_stats = df_stats.append(pp2(player_id, per_mode36='PerGame').career_totals_regular_season.get_data_frame())\n",
            "C:\\Users\\User\\AppData\\Local\\Temp\\ipykernel_11820\\2696809094.py:14: FutureWarning: The frame.append method is deprecated and will be removed from pandas in a future version. Use pandas.concat instead.\n",
            "  df_stats = df_stats.append(pp2(player_id, per_mode36='PerGame').career_totals_regular_season.get_data_frame())\n",
            "C:\\Users\\User\\AppData\\Local\\Temp\\ipykernel_11820\\2696809094.py:14: FutureWarning: The frame.append method is deprecated and will be removed from pandas in a future version. Use pandas.concat instead.\n",
            "  df_stats = df_stats.append(pp2(player_id, per_mode36='PerGame').career_totals_regular_season.get_data_frame())\n",
            "C:\\Users\\User\\AppData\\Local\\Temp\\ipykernel_11820\\2696809094.py:14: FutureWarning: The frame.append method is deprecated and will be removed from pandas in a future version. Use pandas.concat instead.\n",
            "  df_stats = df_stats.append(pp2(player_id, per_mode36='PerGame').career_totals_regular_season.get_data_frame())\n",
            "C:\\Users\\User\\AppData\\Local\\Temp\\ipykernel_11820\\2696809094.py:14: FutureWarning: The frame.append method is deprecated and will be removed from pandas in a future version. Use pandas.concat instead.\n",
            "  df_stats = df_stats.append(pp2(player_id, per_mode36='PerGame').career_totals_regular_season.get_data_frame())\n",
            "C:\\Users\\User\\AppData\\Local\\Temp\\ipykernel_11820\\2696809094.py:14: FutureWarning: The frame.append method is deprecated and will be removed from pandas in a future version. Use pandas.concat instead.\n",
            "  df_stats = df_stats.append(pp2(player_id, per_mode36='PerGame').career_totals_regular_season.get_data_frame())\n",
            "C:\\Users\\User\\AppData\\Local\\Temp\\ipykernel_11820\\2696809094.py:14: FutureWarning: The frame.append method is deprecated and will be removed from pandas in a future version. Use pandas.concat instead.\n",
            "  df_stats = df_stats.append(pp2(player_id, per_mode36='PerGame').career_totals_regular_season.get_data_frame())\n",
            "C:\\Users\\User\\AppData\\Local\\Temp\\ipykernel_11820\\2696809094.py:14: FutureWarning: The frame.append method is deprecated and will be removed from pandas in a future version. Use pandas.concat instead.\n",
            "  df_stats = df_stats.append(pp2(player_id, per_mode36='PerGame').career_totals_regular_season.get_data_frame())\n",
            "C:\\Users\\User\\AppData\\Local\\Temp\\ipykernel_11820\\2696809094.py:14: FutureWarning: The frame.append method is deprecated and will be removed from pandas in a future version. Use pandas.concat instead.\n",
            "  df_stats = df_stats.append(pp2(player_id, per_mode36='PerGame').career_totals_regular_season.get_data_frame())\n",
            "C:\\Users\\User\\AppData\\Local\\Temp\\ipykernel_11820\\2696809094.py:14: FutureWarning: The frame.append method is deprecated and will be removed from pandas in a future version. Use pandas.concat instead.\n",
            "  df_stats = df_stats.append(pp2(player_id, per_mode36='PerGame').career_totals_regular_season.get_data_frame())\n",
            "C:\\Users\\User\\AppData\\Local\\Temp\\ipykernel_11820\\2696809094.py:14: FutureWarning: The frame.append method is deprecated and will be removed from pandas in a future version. Use pandas.concat instead.\n",
            "  df_stats = df_stats.append(pp2(player_id, per_mode36='PerGame').career_totals_regular_season.get_data_frame())\n",
            "C:\\Users\\User\\AppData\\Local\\Temp\\ipykernel_11820\\2696809094.py:14: FutureWarning: The frame.append method is deprecated and will be removed from pandas in a future version. Use pandas.concat instead.\n",
            "  df_stats = df_stats.append(pp2(player_id, per_mode36='PerGame').career_totals_regular_season.get_data_frame())\n",
            "C:\\Users\\User\\AppData\\Local\\Temp\\ipykernel_11820\\2696809094.py:14: FutureWarning: The frame.append method is deprecated and will be removed from pandas in a future version. Use pandas.concat instead.\n",
            "  df_stats = df_stats.append(pp2(player_id, per_mode36='PerGame').career_totals_regular_season.get_data_frame())\n",
            "C:\\Users\\User\\AppData\\Local\\Temp\\ipykernel_11820\\2696809094.py:14: FutureWarning: The frame.append method is deprecated and will be removed from pandas in a future version. Use pandas.concat instead.\n",
            "  df_stats = df_stats.append(pp2(player_id, per_mode36='PerGame').career_totals_regular_season.get_data_frame())\n",
            "C:\\Users\\User\\AppData\\Local\\Temp\\ipykernel_11820\\2696809094.py:14: FutureWarning: The frame.append method is deprecated and will be removed from pandas in a future version. Use pandas.concat instead.\n",
            "  df_stats = df_stats.append(pp2(player_id, per_mode36='PerGame').career_totals_regular_season.get_data_frame())\n",
            "C:\\Users\\User\\AppData\\Local\\Temp\\ipykernel_11820\\2696809094.py:14: FutureWarning: The frame.append method is deprecated and will be removed from pandas in a future version. Use pandas.concat instead.\n",
            "  df_stats = df_stats.append(pp2(player_id, per_mode36='PerGame').career_totals_regular_season.get_data_frame())\n",
            "C:\\Users\\User\\AppData\\Local\\Temp\\ipykernel_11820\\2696809094.py:14: FutureWarning: The frame.append method is deprecated and will be removed from pandas in a future version. Use pandas.concat instead.\n",
            "  df_stats = df_stats.append(pp2(player_id, per_mode36='PerGame').career_totals_regular_season.get_data_frame())\n",
            "C:\\Users\\User\\AppData\\Local\\Temp\\ipykernel_11820\\2696809094.py:14: FutureWarning: The frame.append method is deprecated and will be removed from pandas in a future version. Use pandas.concat instead.\n",
            "  df_stats = df_stats.append(pp2(player_id, per_mode36='PerGame').career_totals_regular_season.get_data_frame())\n",
            "C:\\Users\\User\\AppData\\Local\\Temp\\ipykernel_11820\\2696809094.py:14: FutureWarning: The frame.append method is deprecated and will be removed from pandas in a future version. Use pandas.concat instead.\n",
            "  df_stats = df_stats.append(pp2(player_id, per_mode36='PerGame').career_totals_regular_season.get_data_frame())\n",
            "C:\\Users\\User\\AppData\\Local\\Temp\\ipykernel_11820\\2696809094.py:14: FutureWarning: The frame.append method is deprecated and will be removed from pandas in a future version. Use pandas.concat instead.\n",
            "  df_stats = df_stats.append(pp2(player_id, per_mode36='PerGame').career_totals_regular_season.get_data_frame())\n",
            "C:\\Users\\User\\AppData\\Local\\Temp\\ipykernel_11820\\2696809094.py:14: FutureWarning: The frame.append method is deprecated and will be removed from pandas in a future version. Use pandas.concat instead.\n",
            "  df_stats = df_stats.append(pp2(player_id, per_mode36='PerGame').career_totals_regular_season.get_data_frame())\n",
            "C:\\Users\\User\\AppData\\Local\\Temp\\ipykernel_11820\\2696809094.py:14: FutureWarning: The frame.append method is deprecated and will be removed from pandas in a future version. Use pandas.concat instead.\n",
            "  df_stats = df_stats.append(pp2(player_id, per_mode36='PerGame').career_totals_regular_season.get_data_frame())\n",
            "C:\\Users\\User\\AppData\\Local\\Temp\\ipykernel_11820\\2696809094.py:14: FutureWarning: The frame.append method is deprecated and will be removed from pandas in a future version. Use pandas.concat instead.\n",
            "  df_stats = df_stats.append(pp2(player_id, per_mode36='PerGame').career_totals_regular_season.get_data_frame())\n",
            "C:\\Users\\User\\AppData\\Local\\Temp\\ipykernel_11820\\2696809094.py:14: FutureWarning: The frame.append method is deprecated and will be removed from pandas in a future version. Use pandas.concat instead.\n",
            "  df_stats = df_stats.append(pp2(player_id, per_mode36='PerGame').career_totals_regular_season.get_data_frame())\n",
            "C:\\Users\\User\\AppData\\Local\\Temp\\ipykernel_11820\\2696809094.py:14: FutureWarning: The frame.append method is deprecated and will be removed from pandas in a future version. Use pandas.concat instead.\n",
            "  df_stats = df_stats.append(pp2(player_id, per_mode36='PerGame').career_totals_regular_season.get_data_frame())\n",
            "C:\\Users\\User\\AppData\\Local\\Temp\\ipykernel_11820\\2696809094.py:14: FutureWarning: The frame.append method is deprecated and will be removed from pandas in a future version. Use pandas.concat instead.\n",
            "  df_stats = df_stats.append(pp2(player_id, per_mode36='PerGame').career_totals_regular_season.get_data_frame())\n",
            "C:\\Users\\User\\AppData\\Local\\Temp\\ipykernel_11820\\2696809094.py:14: FutureWarning: The frame.append method is deprecated and will be removed from pandas in a future version. Use pandas.concat instead.\n",
            "  df_stats = df_stats.append(pp2(player_id, per_mode36='PerGame').career_totals_regular_season.get_data_frame())\n",
            "C:\\Users\\User\\AppData\\Local\\Temp\\ipykernel_11820\\2696809094.py:14: FutureWarning: The frame.append method is deprecated and will be removed from pandas in a future version. Use pandas.concat instead.\n",
            "  df_stats = df_stats.append(pp2(player_id, per_mode36='PerGame').career_totals_regular_season.get_data_frame())\n",
            "C:\\Users\\User\\AppData\\Local\\Temp\\ipykernel_11820\\2696809094.py:14: FutureWarning: The frame.append method is deprecated and will be removed from pandas in a future version. Use pandas.concat instead.\n",
            "  df_stats = df_stats.append(pp2(player_id, per_mode36='PerGame').career_totals_regular_season.get_data_frame())\n",
            "C:\\Users\\User\\AppData\\Local\\Temp\\ipykernel_11820\\2696809094.py:14: FutureWarning: The frame.append method is deprecated and will be removed from pandas in a future version. Use pandas.concat instead.\n",
            "  df_stats = df_stats.append(pp2(player_id, per_mode36='PerGame').career_totals_regular_season.get_data_frame())\n",
            "C:\\Users\\User\\AppData\\Local\\Temp\\ipykernel_11820\\2696809094.py:14: FutureWarning: The frame.append method is deprecated and will be removed from pandas in a future version. Use pandas.concat instead.\n",
            "  df_stats = df_stats.append(pp2(player_id, per_mode36='PerGame').career_totals_regular_season.get_data_frame())\n",
            "C:\\Users\\User\\AppData\\Local\\Temp\\ipykernel_11820\\2696809094.py:14: FutureWarning: The frame.append method is deprecated and will be removed from pandas in a future version. Use pandas.concat instead.\n",
            "  df_stats = df_stats.append(pp2(player_id, per_mode36='PerGame').career_totals_regular_season.get_data_frame())\n",
            "C:\\Users\\User\\AppData\\Local\\Temp\\ipykernel_11820\\2696809094.py:14: FutureWarning: The frame.append method is deprecated and will be removed from pandas in a future version. Use pandas.concat instead.\n",
            "  df_stats = df_stats.append(pp2(player_id, per_mode36='PerGame').career_totals_regular_season.get_data_frame())\n",
            "C:\\Users\\User\\AppData\\Local\\Temp\\ipykernel_11820\\2696809094.py:14: FutureWarning: The frame.append method is deprecated and will be removed from pandas in a future version. Use pandas.concat instead.\n",
            "  df_stats = df_stats.append(pp2(player_id, per_mode36='PerGame').career_totals_regular_season.get_data_frame())\n",
            "C:\\Users\\User\\AppData\\Local\\Temp\\ipykernel_11820\\2696809094.py:14: FutureWarning: The frame.append method is deprecated and will be removed from pandas in a future version. Use pandas.concat instead.\n",
            "  df_stats = df_stats.append(pp2(player_id, per_mode36='PerGame').career_totals_regular_season.get_data_frame())\n",
            "C:\\Users\\User\\AppData\\Local\\Temp\\ipykernel_11820\\2696809094.py:14: FutureWarning: The frame.append method is deprecated and will be removed from pandas in a future version. Use pandas.concat instead.\n",
            "  df_stats = df_stats.append(pp2(player_id, per_mode36='PerGame').career_totals_regular_season.get_data_frame())\n",
            "C:\\Users\\User\\AppData\\Local\\Temp\\ipykernel_11820\\2696809094.py:14: FutureWarning: The frame.append method is deprecated and will be removed from pandas in a future version. Use pandas.concat instead.\n",
            "  df_stats = df_stats.append(pp2(player_id, per_mode36='PerGame').career_totals_regular_season.get_data_frame())\n",
            "C:\\Users\\User\\AppData\\Local\\Temp\\ipykernel_11820\\2696809094.py:14: FutureWarning: The frame.append method is deprecated and will be removed from pandas in a future version. Use pandas.concat instead.\n",
            "  df_stats = df_stats.append(pp2(player_id, per_mode36='PerGame').career_totals_regular_season.get_data_frame())\n",
            "C:\\Users\\User\\AppData\\Local\\Temp\\ipykernel_11820\\2696809094.py:14: FutureWarning: The frame.append method is deprecated and will be removed from pandas in a future version. Use pandas.concat instead.\n",
            "  df_stats = df_stats.append(pp2(player_id, per_mode36='PerGame').career_totals_regular_season.get_data_frame())\n",
            "C:\\Users\\User\\AppData\\Local\\Temp\\ipykernel_11820\\2696809094.py:14: FutureWarning: The frame.append method is deprecated and will be removed from pandas in a future version. Use pandas.concat instead.\n",
            "  df_stats = df_stats.append(pp2(player_id, per_mode36='PerGame').career_totals_regular_season.get_data_frame())\n",
            "C:\\Users\\User\\AppData\\Local\\Temp\\ipykernel_11820\\2696809094.py:14: FutureWarning: The frame.append method is deprecated and will be removed from pandas in a future version. Use pandas.concat instead.\n",
            "  df_stats = df_stats.append(pp2(player_id, per_mode36='PerGame').career_totals_regular_season.get_data_frame())\n",
            "C:\\Users\\User\\AppData\\Local\\Temp\\ipykernel_11820\\2696809094.py:14: FutureWarning: The frame.append method is deprecated and will be removed from pandas in a future version. Use pandas.concat instead.\n",
            "  df_stats = df_stats.append(pp2(player_id, per_mode36='PerGame').career_totals_regular_season.get_data_frame())\n",
            "C:\\Users\\User\\AppData\\Local\\Temp\\ipykernel_11820\\2696809094.py:14: FutureWarning: The frame.append method is deprecated and will be removed from pandas in a future version. Use pandas.concat instead.\n",
            "  df_stats = df_stats.append(pp2(player_id, per_mode36='PerGame').career_totals_regular_season.get_data_frame())\n",
            "C:\\Users\\User\\AppData\\Local\\Temp\\ipykernel_11820\\2696809094.py:14: FutureWarning: The frame.append method is deprecated and will be removed from pandas in a future version. Use pandas.concat instead.\n",
            "  df_stats = df_stats.append(pp2(player_id, per_mode36='PerGame').career_totals_regular_season.get_data_frame())\n",
            "C:\\Users\\User\\AppData\\Local\\Temp\\ipykernel_11820\\2696809094.py:14: FutureWarning: The frame.append method is deprecated and will be removed from pandas in a future version. Use pandas.concat instead.\n",
            "  df_stats = df_stats.append(pp2(player_id, per_mode36='PerGame').career_totals_regular_season.get_data_frame())\n",
            "C:\\Users\\User\\AppData\\Local\\Temp\\ipykernel_11820\\2696809094.py:14: FutureWarning: The frame.append method is deprecated and will be removed from pandas in a future version. Use pandas.concat instead.\n",
            "  df_stats = df_stats.append(pp2(player_id, per_mode36='PerGame').career_totals_regular_season.get_data_frame())\n",
            "C:\\Users\\User\\AppData\\Local\\Temp\\ipykernel_11820\\2696809094.py:14: FutureWarning: The frame.append method is deprecated and will be removed from pandas in a future version. Use pandas.concat instead.\n",
            "  df_stats = df_stats.append(pp2(player_id, per_mode36='PerGame').career_totals_regular_season.get_data_frame())\n",
            "C:\\Users\\User\\AppData\\Local\\Temp\\ipykernel_11820\\2696809094.py:14: FutureWarning: The frame.append method is deprecated and will be removed from pandas in a future version. Use pandas.concat instead.\n",
            "  df_stats = df_stats.append(pp2(player_id, per_mode36='PerGame').career_totals_regular_season.get_data_frame())\n",
            "C:\\Users\\User\\AppData\\Local\\Temp\\ipykernel_11820\\2696809094.py:14: FutureWarning: The frame.append method is deprecated and will be removed from pandas in a future version. Use pandas.concat instead.\n",
            "  df_stats = df_stats.append(pp2(player_id, per_mode36='PerGame').career_totals_regular_season.get_data_frame())\n",
            "C:\\Users\\User\\AppData\\Local\\Temp\\ipykernel_11820\\2696809094.py:14: FutureWarning: The frame.append method is deprecated and will be removed from pandas in a future version. Use pandas.concat instead.\n",
            "  df_stats = df_stats.append(pp2(player_id, per_mode36='PerGame').career_totals_regular_season.get_data_frame())\n",
            "C:\\Users\\User\\AppData\\Local\\Temp\\ipykernel_11820\\2696809094.py:14: FutureWarning: The frame.append method is deprecated and will be removed from pandas in a future version. Use pandas.concat instead.\n",
            "  df_stats = df_stats.append(pp2(player_id, per_mode36='PerGame').career_totals_regular_season.get_data_frame())\n",
            "C:\\Users\\User\\AppData\\Local\\Temp\\ipykernel_11820\\2696809094.py:14: FutureWarning: The frame.append method is deprecated and will be removed from pandas in a future version. Use pandas.concat instead.\n",
            "  df_stats = df_stats.append(pp2(player_id, per_mode36='PerGame').career_totals_regular_season.get_data_frame())\n",
            "C:\\Users\\User\\AppData\\Local\\Temp\\ipykernel_11820\\2696809094.py:14: FutureWarning: The frame.append method is deprecated and will be removed from pandas in a future version. Use pandas.concat instead.\n",
            "  df_stats = df_stats.append(pp2(player_id, per_mode36='PerGame').career_totals_regular_season.get_data_frame())\n",
            "C:\\Users\\User\\AppData\\Local\\Temp\\ipykernel_11820\\2696809094.py:14: FutureWarning: The frame.append method is deprecated and will be removed from pandas in a future version. Use pandas.concat instead.\n",
            "  df_stats = df_stats.append(pp2(player_id, per_mode36='PerGame').career_totals_regular_season.get_data_frame())\n",
            "C:\\Users\\User\\AppData\\Local\\Temp\\ipykernel_11820\\2696809094.py:14: FutureWarning: The frame.append method is deprecated and will be removed from pandas in a future version. Use pandas.concat instead.\n",
            "  df_stats = df_stats.append(pp2(player_id, per_mode36='PerGame').career_totals_regular_season.get_data_frame())\n",
            "C:\\Users\\User\\AppData\\Local\\Temp\\ipykernel_11820\\2696809094.py:14: FutureWarning: The frame.append method is deprecated and will be removed from pandas in a future version. Use pandas.concat instead.\n",
            "  df_stats = df_stats.append(pp2(player_id, per_mode36='PerGame').career_totals_regular_season.get_data_frame())\n",
            "C:\\Users\\User\\AppData\\Local\\Temp\\ipykernel_11820\\2696809094.py:14: FutureWarning: The frame.append method is deprecated and will be removed from pandas in a future version. Use pandas.concat instead.\n",
            "  df_stats = df_stats.append(pp2(player_id, per_mode36='PerGame').career_totals_regular_season.get_data_frame())\n",
            "C:\\Users\\User\\AppData\\Local\\Temp\\ipykernel_11820\\2696809094.py:14: FutureWarning: The frame.append method is deprecated and will be removed from pandas in a future version. Use pandas.concat instead.\n",
            "  df_stats = df_stats.append(pp2(player_id, per_mode36='PerGame').career_totals_regular_season.get_data_frame())\n",
            "C:\\Users\\User\\AppData\\Local\\Temp\\ipykernel_11820\\2696809094.py:14: FutureWarning: The frame.append method is deprecated and will be removed from pandas in a future version. Use pandas.concat instead.\n",
            "  df_stats = df_stats.append(pp2(player_id, per_mode36='PerGame').career_totals_regular_season.get_data_frame())\n",
            "C:\\Users\\User\\AppData\\Local\\Temp\\ipykernel_11820\\2696809094.py:14: FutureWarning: The frame.append method is deprecated and will be removed from pandas in a future version. Use pandas.concat instead.\n",
            "  df_stats = df_stats.append(pp2(player_id, per_mode36='PerGame').career_totals_regular_season.get_data_frame())\n",
            "C:\\Users\\User\\AppData\\Local\\Temp\\ipykernel_11820\\2696809094.py:14: FutureWarning: The frame.append method is deprecated and will be removed from pandas in a future version. Use pandas.concat instead.\n",
            "  df_stats = df_stats.append(pp2(player_id, per_mode36='PerGame').career_totals_regular_season.get_data_frame())\n",
            "C:\\Users\\User\\AppData\\Local\\Temp\\ipykernel_11820\\2696809094.py:14: FutureWarning: The frame.append method is deprecated and will be removed from pandas in a future version. Use pandas.concat instead.\n",
            "  df_stats = df_stats.append(pp2(player_id, per_mode36='PerGame').career_totals_regular_season.get_data_frame())\n",
            "C:\\Users\\User\\AppData\\Local\\Temp\\ipykernel_11820\\2696809094.py:14: FutureWarning: The frame.append method is deprecated and will be removed from pandas in a future version. Use pandas.concat instead.\n",
            "  df_stats = df_stats.append(pp2(player_id, per_mode36='PerGame').career_totals_regular_season.get_data_frame())\n",
            "C:\\Users\\User\\AppData\\Local\\Temp\\ipykernel_11820\\2696809094.py:14: FutureWarning: The frame.append method is deprecated and will be removed from pandas in a future version. Use pandas.concat instead.\n",
            "  df_stats = df_stats.append(pp2(player_id, per_mode36='PerGame').career_totals_regular_season.get_data_frame())\n",
            "C:\\Users\\User\\AppData\\Local\\Temp\\ipykernel_11820\\2696809094.py:14: FutureWarning: The frame.append method is deprecated and will be removed from pandas in a future version. Use pandas.concat instead.\n",
            "  df_stats = df_stats.append(pp2(player_id, per_mode36='PerGame').career_totals_regular_season.get_data_frame())\n",
            "C:\\Users\\User\\AppData\\Local\\Temp\\ipykernel_11820\\2696809094.py:14: FutureWarning: The frame.append method is deprecated and will be removed from pandas in a future version. Use pandas.concat instead.\n",
            "  df_stats = df_stats.append(pp2(player_id, per_mode36='PerGame').career_totals_regular_season.get_data_frame())\n",
            "C:\\Users\\User\\AppData\\Local\\Temp\\ipykernel_11820\\2696809094.py:14: FutureWarning: The frame.append method is deprecated and will be removed from pandas in a future version. Use pandas.concat instead.\n",
            "  df_stats = df_stats.append(pp2(player_id, per_mode36='PerGame').career_totals_regular_season.get_data_frame())\n",
            "C:\\Users\\User\\AppData\\Local\\Temp\\ipykernel_11820\\2696809094.py:14: FutureWarning: The frame.append method is deprecated and will be removed from pandas in a future version. Use pandas.concat instead.\n",
            "  df_stats = df_stats.append(pp2(player_id, per_mode36='PerGame').career_totals_regular_season.get_data_frame())\n",
            "C:\\Users\\User\\AppData\\Local\\Temp\\ipykernel_11820\\2696809094.py:14: FutureWarning: The frame.append method is deprecated and will be removed from pandas in a future version. Use pandas.concat instead.\n",
            "  df_stats = df_stats.append(pp2(player_id, per_mode36='PerGame').career_totals_regular_season.get_data_frame())\n",
            "C:\\Users\\User\\AppData\\Local\\Temp\\ipykernel_11820\\2696809094.py:14: FutureWarning: The frame.append method is deprecated and will be removed from pandas in a future version. Use pandas.concat instead.\n",
            "  df_stats = df_stats.append(pp2(player_id, per_mode36='PerGame').career_totals_regular_season.get_data_frame())\n",
            "C:\\Users\\User\\AppData\\Local\\Temp\\ipykernel_11820\\2696809094.py:14: FutureWarning: The frame.append method is deprecated and will be removed from pandas in a future version. Use pandas.concat instead.\n",
            "  df_stats = df_stats.append(pp2(player_id, per_mode36='PerGame').career_totals_regular_season.get_data_frame())\n",
            "C:\\Users\\User\\AppData\\Local\\Temp\\ipykernel_11820\\2696809094.py:14: FutureWarning: The frame.append method is deprecated and will be removed from pandas in a future version. Use pandas.concat instead.\n",
            "  df_stats = df_stats.append(pp2(player_id, per_mode36='PerGame').career_totals_regular_season.get_data_frame())\n",
            "C:\\Users\\User\\AppData\\Local\\Temp\\ipykernel_11820\\2696809094.py:14: FutureWarning: The frame.append method is deprecated and will be removed from pandas in a future version. Use pandas.concat instead.\n",
            "  df_stats = df_stats.append(pp2(player_id, per_mode36='PerGame').career_totals_regular_season.get_data_frame())\n",
            "C:\\Users\\User\\AppData\\Local\\Temp\\ipykernel_11820\\2696809094.py:14: FutureWarning: The frame.append method is deprecated and will be removed from pandas in a future version. Use pandas.concat instead.\n",
            "  df_stats = df_stats.append(pp2(player_id, per_mode36='PerGame').career_totals_regular_season.get_data_frame())\n",
            "C:\\Users\\User\\AppData\\Local\\Temp\\ipykernel_11820\\2696809094.py:14: FutureWarning: The frame.append method is deprecated and will be removed from pandas in a future version. Use pandas.concat instead.\n",
            "  df_stats = df_stats.append(pp2(player_id, per_mode36='PerGame').career_totals_regular_season.get_data_frame())\n",
            "C:\\Users\\User\\AppData\\Local\\Temp\\ipykernel_11820\\2696809094.py:14: FutureWarning: The frame.append method is deprecated and will be removed from pandas in a future version. Use pandas.concat instead.\n",
            "  df_stats = df_stats.append(pp2(player_id, per_mode36='PerGame').career_totals_regular_season.get_data_frame())\n",
            "C:\\Users\\User\\AppData\\Local\\Temp\\ipykernel_11820\\2696809094.py:14: FutureWarning: The frame.append method is deprecated and will be removed from pandas in a future version. Use pandas.concat instead.\n",
            "  df_stats = df_stats.append(pp2(player_id, per_mode36='PerGame').career_totals_regular_season.get_data_frame())\n",
            "C:\\Users\\User\\AppData\\Local\\Temp\\ipykernel_11820\\2696809094.py:14: FutureWarning: The frame.append method is deprecated and will be removed from pandas in a future version. Use pandas.concat instead.\n",
            "  df_stats = df_stats.append(pp2(player_id, per_mode36='PerGame').career_totals_regular_season.get_data_frame())\n",
            "C:\\Users\\User\\AppData\\Local\\Temp\\ipykernel_11820\\2696809094.py:14: FutureWarning: The frame.append method is deprecated and will be removed from pandas in a future version. Use pandas.concat instead.\n",
            "  df_stats = df_stats.append(pp2(player_id, per_mode36='PerGame').career_totals_regular_season.get_data_frame())\n",
            "C:\\Users\\User\\AppData\\Local\\Temp\\ipykernel_11820\\2696809094.py:14: FutureWarning: The frame.append method is deprecated and will be removed from pandas in a future version. Use pandas.concat instead.\n",
            "  df_stats = df_stats.append(pp2(player_id, per_mode36='PerGame').career_totals_regular_season.get_data_frame())\n",
            "C:\\Users\\User\\AppData\\Local\\Temp\\ipykernel_11820\\2696809094.py:14: FutureWarning: The frame.append method is deprecated and will be removed from pandas in a future version. Use pandas.concat instead.\n",
            "  df_stats = df_stats.append(pp2(player_id, per_mode36='PerGame').career_totals_regular_season.get_data_frame())\n",
            "C:\\Users\\User\\AppData\\Local\\Temp\\ipykernel_11820\\2696809094.py:14: FutureWarning: The frame.append method is deprecated and will be removed from pandas in a future version. Use pandas.concat instead.\n",
            "  df_stats = df_stats.append(pp2(player_id, per_mode36='PerGame').career_totals_regular_season.get_data_frame())\n",
            "C:\\Users\\User\\AppData\\Local\\Temp\\ipykernel_11820\\2696809094.py:14: FutureWarning: The frame.append method is deprecated and will be removed from pandas in a future version. Use pandas.concat instead.\n",
            "  df_stats = df_stats.append(pp2(player_id, per_mode36='PerGame').career_totals_regular_season.get_data_frame())\n",
            "C:\\Users\\User\\AppData\\Local\\Temp\\ipykernel_11820\\2696809094.py:14: FutureWarning: The frame.append method is deprecated and will be removed from pandas in a future version. Use pandas.concat instead.\n",
            "  df_stats = df_stats.append(pp2(player_id, per_mode36='PerGame').career_totals_regular_season.get_data_frame())\n",
            "C:\\Users\\User\\AppData\\Local\\Temp\\ipykernel_11820\\2696809094.py:14: FutureWarning: The frame.append method is deprecated and will be removed from pandas in a future version. Use pandas.concat instead.\n",
            "  df_stats = df_stats.append(pp2(player_id, per_mode36='PerGame').career_totals_regular_season.get_data_frame())\n",
            "C:\\Users\\User\\AppData\\Local\\Temp\\ipykernel_11820\\2696809094.py:14: FutureWarning: The frame.append method is deprecated and will be removed from pandas in a future version. Use pandas.concat instead.\n",
            "  df_stats = df_stats.append(pp2(player_id, per_mode36='PerGame').career_totals_regular_season.get_data_frame())\n",
            "C:\\Users\\User\\AppData\\Local\\Temp\\ipykernel_11820\\2696809094.py:14: FutureWarning: The frame.append method is deprecated and will be removed from pandas in a future version. Use pandas.concat instead.\n",
            "  df_stats = df_stats.append(pp2(player_id, per_mode36='PerGame').career_totals_regular_season.get_data_frame())\n",
            "C:\\Users\\User\\AppData\\Local\\Temp\\ipykernel_11820\\2696809094.py:14: FutureWarning: The frame.append method is deprecated and will be removed from pandas in a future version. Use pandas.concat instead.\n",
            "  df_stats = df_stats.append(pp2(player_id, per_mode36='PerGame').career_totals_regular_season.get_data_frame())\n",
            "C:\\Users\\User\\AppData\\Local\\Temp\\ipykernel_11820\\2696809094.py:14: FutureWarning: The frame.append method is deprecated and will be removed from pandas in a future version. Use pandas.concat instead.\n",
            "  df_stats = df_stats.append(pp2(player_id, per_mode36='PerGame').career_totals_regular_season.get_data_frame())\n",
            "C:\\Users\\User\\AppData\\Local\\Temp\\ipykernel_11820\\2696809094.py:14: FutureWarning: The frame.append method is deprecated and will be removed from pandas in a future version. Use pandas.concat instead.\n",
            "  df_stats = df_stats.append(pp2(player_id, per_mode36='PerGame').career_totals_regular_season.get_data_frame())\n",
            "C:\\Users\\User\\AppData\\Local\\Temp\\ipykernel_11820\\2696809094.py:14: FutureWarning: The frame.append method is deprecated and will be removed from pandas in a future version. Use pandas.concat instead.\n",
            "  df_stats = df_stats.append(pp2(player_id, per_mode36='PerGame').career_totals_regular_season.get_data_frame())\n",
            "C:\\Users\\User\\AppData\\Local\\Temp\\ipykernel_11820\\2696809094.py:14: FutureWarning: The frame.append method is deprecated and will be removed from pandas in a future version. Use pandas.concat instead.\n",
            "  df_stats = df_stats.append(pp2(player_id, per_mode36='PerGame').career_totals_regular_season.get_data_frame())\n",
            "C:\\Users\\User\\AppData\\Local\\Temp\\ipykernel_11820\\2696809094.py:14: FutureWarning: The frame.append method is deprecated and will be removed from pandas in a future version. Use pandas.concat instead.\n",
            "  df_stats = df_stats.append(pp2(player_id, per_mode36='PerGame').career_totals_regular_season.get_data_frame())\n",
            "C:\\Users\\User\\AppData\\Local\\Temp\\ipykernel_11820\\2696809094.py:14: FutureWarning: The frame.append method is deprecated and will be removed from pandas in a future version. Use pandas.concat instead.\n",
            "  df_stats = df_stats.append(pp2(player_id, per_mode36='PerGame').career_totals_regular_season.get_data_frame())\n",
            "C:\\Users\\User\\AppData\\Local\\Temp\\ipykernel_11820\\2696809094.py:14: FutureWarning: The frame.append method is deprecated and will be removed from pandas in a future version. Use pandas.concat instead.\n",
            "  df_stats = df_stats.append(pp2(player_id, per_mode36='PerGame').career_totals_regular_season.get_data_frame())\n",
            "C:\\Users\\User\\AppData\\Local\\Temp\\ipykernel_11820\\2696809094.py:14: FutureWarning: The frame.append method is deprecated and will be removed from pandas in a future version. Use pandas.concat instead.\n",
            "  df_stats = df_stats.append(pp2(player_id, per_mode36='PerGame').career_totals_regular_season.get_data_frame())\n",
            "C:\\Users\\User\\AppData\\Local\\Temp\\ipykernel_11820\\2696809094.py:14: FutureWarning: The frame.append method is deprecated and will be removed from pandas in a future version. Use pandas.concat instead.\n",
            "  df_stats = df_stats.append(pp2(player_id, per_mode36='PerGame').career_totals_regular_season.get_data_frame())\n",
            "C:\\Users\\User\\AppData\\Local\\Temp\\ipykernel_11820\\2696809094.py:14: FutureWarning: The frame.append method is deprecated and will be removed from pandas in a future version. Use pandas.concat instead.\n",
            "  df_stats = df_stats.append(pp2(player_id, per_mode36='PerGame').career_totals_regular_season.get_data_frame())\n",
            "C:\\Users\\User\\AppData\\Local\\Temp\\ipykernel_11820\\2696809094.py:14: FutureWarning: The frame.append method is deprecated and will be removed from pandas in a future version. Use pandas.concat instead.\n",
            "  df_stats = df_stats.append(pp2(player_id, per_mode36='PerGame').career_totals_regular_season.get_data_frame())\n",
            "C:\\Users\\User\\AppData\\Local\\Temp\\ipykernel_11820\\2696809094.py:14: FutureWarning: The frame.append method is deprecated and will be removed from pandas in a future version. Use pandas.concat instead.\n",
            "  df_stats = df_stats.append(pp2(player_id, per_mode36='PerGame').career_totals_regular_season.get_data_frame())\n",
            "C:\\Users\\User\\AppData\\Local\\Temp\\ipykernel_11820\\2696809094.py:14: FutureWarning: The frame.append method is deprecated and will be removed from pandas in a future version. Use pandas.concat instead.\n",
            "  df_stats = df_stats.append(pp2(player_id, per_mode36='PerGame').career_totals_regular_season.get_data_frame())\n",
            "C:\\Users\\User\\AppData\\Local\\Temp\\ipykernel_11820\\2696809094.py:14: FutureWarning: The frame.append method is deprecated and will be removed from pandas in a future version. Use pandas.concat instead.\n",
            "  df_stats = df_stats.append(pp2(player_id, per_mode36='PerGame').career_totals_regular_season.get_data_frame())\n",
            "C:\\Users\\User\\AppData\\Local\\Temp\\ipykernel_11820\\2696809094.py:14: FutureWarning: The frame.append method is deprecated and will be removed from pandas in a future version. Use pandas.concat instead.\n",
            "  df_stats = df_stats.append(pp2(player_id, per_mode36='PerGame').career_totals_regular_season.get_data_frame())\n",
            "C:\\Users\\User\\AppData\\Local\\Temp\\ipykernel_11820\\2696809094.py:14: FutureWarning: The frame.append method is deprecated and will be removed from pandas in a future version. Use pandas.concat instead.\n",
            "  df_stats = df_stats.append(pp2(player_id, per_mode36='PerGame').career_totals_regular_season.get_data_frame())\n",
            "C:\\Users\\User\\AppData\\Local\\Temp\\ipykernel_11820\\2696809094.py:14: FutureWarning: The frame.append method is deprecated and will be removed from pandas in a future version. Use pandas.concat instead.\n",
            "  df_stats = df_stats.append(pp2(player_id, per_mode36='PerGame').career_totals_regular_season.get_data_frame())\n",
            "C:\\Users\\User\\AppData\\Local\\Temp\\ipykernel_11820\\2696809094.py:14: FutureWarning: The frame.append method is deprecated and will be removed from pandas in a future version. Use pandas.concat instead.\n",
            "  df_stats = df_stats.append(pp2(player_id, per_mode36='PerGame').career_totals_regular_season.get_data_frame())\n",
            "C:\\Users\\User\\AppData\\Local\\Temp\\ipykernel_11820\\2696809094.py:14: FutureWarning: The frame.append method is deprecated and will be removed from pandas in a future version. Use pandas.concat instead.\n",
            "  df_stats = df_stats.append(pp2(player_id, per_mode36='PerGame').career_totals_regular_season.get_data_frame())\n",
            "C:\\Users\\User\\AppData\\Local\\Temp\\ipykernel_11820\\2696809094.py:14: FutureWarning: The frame.append method is deprecated and will be removed from pandas in a future version. Use pandas.concat instead.\n",
            "  df_stats = df_stats.append(pp2(player_id, per_mode36='PerGame').career_totals_regular_season.get_data_frame())\n",
            "C:\\Users\\User\\AppData\\Local\\Temp\\ipykernel_11820\\2696809094.py:14: FutureWarning: The frame.append method is deprecated and will be removed from pandas in a future version. Use pandas.concat instead.\n",
            "  df_stats = df_stats.append(pp2(player_id, per_mode36='PerGame').career_totals_regular_season.get_data_frame())\n",
            "C:\\Users\\User\\AppData\\Local\\Temp\\ipykernel_11820\\2696809094.py:14: FutureWarning: The frame.append method is deprecated and will be removed from pandas in a future version. Use pandas.concat instead.\n",
            "  df_stats = df_stats.append(pp2(player_id, per_mode36='PerGame').career_totals_regular_season.get_data_frame())\n",
            "C:\\Users\\User\\AppData\\Local\\Temp\\ipykernel_11820\\2696809094.py:14: FutureWarning: The frame.append method is deprecated and will be removed from pandas in a future version. Use pandas.concat instead.\n",
            "  df_stats = df_stats.append(pp2(player_id, per_mode36='PerGame').career_totals_regular_season.get_data_frame())\n",
            "C:\\Users\\User\\AppData\\Local\\Temp\\ipykernel_11820\\2696809094.py:14: FutureWarning: The frame.append method is deprecated and will be removed from pandas in a future version. Use pandas.concat instead.\n",
            "  df_stats = df_stats.append(pp2(player_id, per_mode36='PerGame').career_totals_regular_season.get_data_frame())\n",
            "C:\\Users\\User\\AppData\\Local\\Temp\\ipykernel_11820\\2696809094.py:14: FutureWarning: The frame.append method is deprecated and will be removed from pandas in a future version. Use pandas.concat instead.\n",
            "  df_stats = df_stats.append(pp2(player_id, per_mode36='PerGame').career_totals_regular_season.get_data_frame())\n",
            "C:\\Users\\User\\AppData\\Local\\Temp\\ipykernel_11820\\2696809094.py:14: FutureWarning: The frame.append method is deprecated and will be removed from pandas in a future version. Use pandas.concat instead.\n",
            "  df_stats = df_stats.append(pp2(player_id, per_mode36='PerGame').career_totals_regular_season.get_data_frame())\n",
            "C:\\Users\\User\\AppData\\Local\\Temp\\ipykernel_11820\\2696809094.py:14: FutureWarning: The frame.append method is deprecated and will be removed from pandas in a future version. Use pandas.concat instead.\n",
            "  df_stats = df_stats.append(pp2(player_id, per_mode36='PerGame').career_totals_regular_season.get_data_frame())\n",
            "C:\\Users\\User\\AppData\\Local\\Temp\\ipykernel_11820\\2696809094.py:14: FutureWarning: The frame.append method is deprecated and will be removed from pandas in a future version. Use pandas.concat instead.\n",
            "  df_stats = df_stats.append(pp2(player_id, per_mode36='PerGame').career_totals_regular_season.get_data_frame())\n",
            "C:\\Users\\User\\AppData\\Local\\Temp\\ipykernel_11820\\2696809094.py:14: FutureWarning: The frame.append method is deprecated and will be removed from pandas in a future version. Use pandas.concat instead.\n",
            "  df_stats = df_stats.append(pp2(player_id, per_mode36='PerGame').career_totals_regular_season.get_data_frame())\n",
            "C:\\Users\\User\\AppData\\Local\\Temp\\ipykernel_11820\\2696809094.py:14: FutureWarning: The frame.append method is deprecated and will be removed from pandas in a future version. Use pandas.concat instead.\n",
            "  df_stats = df_stats.append(pp2(player_id, per_mode36='PerGame').career_totals_regular_season.get_data_frame())\n",
            "C:\\Users\\User\\AppData\\Local\\Temp\\ipykernel_11820\\2696809094.py:14: FutureWarning: The frame.append method is deprecated and will be removed from pandas in a future version. Use pandas.concat instead.\n",
            "  df_stats = df_stats.append(pp2(player_id, per_mode36='PerGame').career_totals_regular_season.get_data_frame())\n",
            "C:\\Users\\User\\AppData\\Local\\Temp\\ipykernel_11820\\2696809094.py:14: FutureWarning: The frame.append method is deprecated and will be removed from pandas in a future version. Use pandas.concat instead.\n",
            "  df_stats = df_stats.append(pp2(player_id, per_mode36='PerGame').career_totals_regular_season.get_data_frame())\n",
            "C:\\Users\\User\\AppData\\Local\\Temp\\ipykernel_11820\\2696809094.py:14: FutureWarning: The frame.append method is deprecated and will be removed from pandas in a future version. Use pandas.concat instead.\n",
            "  df_stats = df_stats.append(pp2(player_id, per_mode36='PerGame').career_totals_regular_season.get_data_frame())\n",
            "C:\\Users\\User\\AppData\\Local\\Temp\\ipykernel_11820\\2696809094.py:14: FutureWarning: The frame.append method is deprecated and will be removed from pandas in a future version. Use pandas.concat instead.\n",
            "  df_stats = df_stats.append(pp2(player_id, per_mode36='PerGame').career_totals_regular_season.get_data_frame())\n",
            "C:\\Users\\User\\AppData\\Local\\Temp\\ipykernel_11820\\2696809094.py:14: FutureWarning: The frame.append method is deprecated and will be removed from pandas in a future version. Use pandas.concat instead.\n",
            "  df_stats = df_stats.append(pp2(player_id, per_mode36='PerGame').career_totals_regular_season.get_data_frame())\n",
            "C:\\Users\\User\\AppData\\Local\\Temp\\ipykernel_11820\\2696809094.py:14: FutureWarning: The frame.append method is deprecated and will be removed from pandas in a future version. Use pandas.concat instead.\n",
            "  df_stats = df_stats.append(pp2(player_id, per_mode36='PerGame').career_totals_regular_season.get_data_frame())\n",
            "C:\\Users\\User\\AppData\\Local\\Temp\\ipykernel_11820\\2696809094.py:14: FutureWarning: The frame.append method is deprecated and will be removed from pandas in a future version. Use pandas.concat instead.\n",
            "  df_stats = df_stats.append(pp2(player_id, per_mode36='PerGame').career_totals_regular_season.get_data_frame())\n",
            "C:\\Users\\User\\AppData\\Local\\Temp\\ipykernel_11820\\2696809094.py:14: FutureWarning: The frame.append method is deprecated and will be removed from pandas in a future version. Use pandas.concat instead.\n",
            "  df_stats = df_stats.append(pp2(player_id, per_mode36='PerGame').career_totals_regular_season.get_data_frame())\n",
            "C:\\Users\\User\\AppData\\Local\\Temp\\ipykernel_11820\\2696809094.py:14: FutureWarning: The frame.append method is deprecated and will be removed from pandas in a future version. Use pandas.concat instead.\n",
            "  df_stats = df_stats.append(pp2(player_id, per_mode36='PerGame').career_totals_regular_season.get_data_frame())\n",
            "C:\\Users\\User\\AppData\\Local\\Temp\\ipykernel_11820\\2696809094.py:14: FutureWarning: The frame.append method is deprecated and will be removed from pandas in a future version. Use pandas.concat instead.\n",
            "  df_stats = df_stats.append(pp2(player_id, per_mode36='PerGame').career_totals_regular_season.get_data_frame())\n",
            "C:\\Users\\User\\AppData\\Local\\Temp\\ipykernel_11820\\2696809094.py:14: FutureWarning: The frame.append method is deprecated and will be removed from pandas in a future version. Use pandas.concat instead.\n",
            "  df_stats = df_stats.append(pp2(player_id, per_mode36='PerGame').career_totals_regular_season.get_data_frame())\n",
            "C:\\Users\\User\\AppData\\Local\\Temp\\ipykernel_11820\\2696809094.py:14: FutureWarning: The frame.append method is deprecated and will be removed from pandas in a future version. Use pandas.concat instead.\n",
            "  df_stats = df_stats.append(pp2(player_id, per_mode36='PerGame').career_totals_regular_season.get_data_frame())\n",
            "C:\\Users\\User\\AppData\\Local\\Temp\\ipykernel_11820\\2696809094.py:14: FutureWarning: The frame.append method is deprecated and will be removed from pandas in a future version. Use pandas.concat instead.\n",
            "  df_stats = df_stats.append(pp2(player_id, per_mode36='PerGame').career_totals_regular_season.get_data_frame())\n",
            "C:\\Users\\User\\AppData\\Local\\Temp\\ipykernel_11820\\2696809094.py:14: FutureWarning: The frame.append method is deprecated and will be removed from pandas in a future version. Use pandas.concat instead.\n",
            "  df_stats = df_stats.append(pp2(player_id, per_mode36='PerGame').career_totals_regular_season.get_data_frame())\n",
            "C:\\Users\\User\\AppData\\Local\\Temp\\ipykernel_11820\\2696809094.py:14: FutureWarning: The frame.append method is deprecated and will be removed from pandas in a future version. Use pandas.concat instead.\n",
            "  df_stats = df_stats.append(pp2(player_id, per_mode36='PerGame').career_totals_regular_season.get_data_frame())\n",
            "C:\\Users\\User\\AppData\\Local\\Temp\\ipykernel_11820\\2696809094.py:14: FutureWarning: The frame.append method is deprecated and will be removed from pandas in a future version. Use pandas.concat instead.\n",
            "  df_stats = df_stats.append(pp2(player_id, per_mode36='PerGame').career_totals_regular_season.get_data_frame())\n",
            "C:\\Users\\User\\AppData\\Local\\Temp\\ipykernel_11820\\2696809094.py:14: FutureWarning: The frame.append method is deprecated and will be removed from pandas in a future version. Use pandas.concat instead.\n",
            "  df_stats = df_stats.append(pp2(player_id, per_mode36='PerGame').career_totals_regular_season.get_data_frame())\n",
            "C:\\Users\\User\\AppData\\Local\\Temp\\ipykernel_11820\\2696809094.py:14: FutureWarning: The frame.append method is deprecated and will be removed from pandas in a future version. Use pandas.concat instead.\n",
            "  df_stats = df_stats.append(pp2(player_id, per_mode36='PerGame').career_totals_regular_season.get_data_frame())\n",
            "C:\\Users\\User\\AppData\\Local\\Temp\\ipykernel_11820\\2696809094.py:14: FutureWarning: The frame.append method is deprecated and will be removed from pandas in a future version. Use pandas.concat instead.\n",
            "  df_stats = df_stats.append(pp2(player_id, per_mode36='PerGame').career_totals_regular_season.get_data_frame())\n",
            "C:\\Users\\User\\AppData\\Local\\Temp\\ipykernel_11820\\2696809094.py:14: FutureWarning: The frame.append method is deprecated and will be removed from pandas in a future version. Use pandas.concat instead.\n",
            "  df_stats = df_stats.append(pp2(player_id, per_mode36='PerGame').career_totals_regular_season.get_data_frame())\n",
            "C:\\Users\\User\\AppData\\Local\\Temp\\ipykernel_11820\\2696809094.py:14: FutureWarning: The frame.append method is deprecated and will be removed from pandas in a future version. Use pandas.concat instead.\n",
            "  df_stats = df_stats.append(pp2(player_id, per_mode36='PerGame').career_totals_regular_season.get_data_frame())\n",
            "C:\\Users\\User\\AppData\\Local\\Temp\\ipykernel_11820\\2696809094.py:14: FutureWarning: The frame.append method is deprecated and will be removed from pandas in a future version. Use pandas.concat instead.\n",
            "  df_stats = df_stats.append(pp2(player_id, per_mode36='PerGame').career_totals_regular_season.get_data_frame())\n",
            "C:\\Users\\User\\AppData\\Local\\Temp\\ipykernel_11820\\2696809094.py:14: FutureWarning: The frame.append method is deprecated and will be removed from pandas in a future version. Use pandas.concat instead.\n",
            "  df_stats = df_stats.append(pp2(player_id, per_mode36='PerGame').career_totals_regular_season.get_data_frame())\n",
            "C:\\Users\\User\\AppData\\Local\\Temp\\ipykernel_11820\\2696809094.py:14: FutureWarning: The frame.append method is deprecated and will be removed from pandas in a future version. Use pandas.concat instead.\n",
            "  df_stats = df_stats.append(pp2(player_id, per_mode36='PerGame').career_totals_regular_season.get_data_frame())\n",
            "C:\\Users\\User\\AppData\\Local\\Temp\\ipykernel_11820\\2696809094.py:14: FutureWarning: The frame.append method is deprecated and will be removed from pandas in a future version. Use pandas.concat instead.\n",
            "  df_stats = df_stats.append(pp2(player_id, per_mode36='PerGame').career_totals_regular_season.get_data_frame())\n",
            "C:\\Users\\User\\AppData\\Local\\Temp\\ipykernel_11820\\2696809094.py:14: FutureWarning: The frame.append method is deprecated and will be removed from pandas in a future version. Use pandas.concat instead.\n",
            "  df_stats = df_stats.append(pp2(player_id, per_mode36='PerGame').career_totals_regular_season.get_data_frame())\n",
            "C:\\Users\\User\\AppData\\Local\\Temp\\ipykernel_11820\\2696809094.py:14: FutureWarning: The frame.append method is deprecated and will be removed from pandas in a future version. Use pandas.concat instead.\n",
            "  df_stats = df_stats.append(pp2(player_id, per_mode36='PerGame').career_totals_regular_season.get_data_frame())\n",
            "C:\\Users\\User\\AppData\\Local\\Temp\\ipykernel_11820\\2696809094.py:14: FutureWarning: The frame.append method is deprecated and will be removed from pandas in a future version. Use pandas.concat instead.\n",
            "  df_stats = df_stats.append(pp2(player_id, per_mode36='PerGame').career_totals_regular_season.get_data_frame())\n",
            "C:\\Users\\User\\AppData\\Local\\Temp\\ipykernel_11820\\2696809094.py:14: FutureWarning: The frame.append method is deprecated and will be removed from pandas in a future version. Use pandas.concat instead.\n",
            "  df_stats = df_stats.append(pp2(player_id, per_mode36='PerGame').career_totals_regular_season.get_data_frame())\n",
            "C:\\Users\\User\\AppData\\Local\\Temp\\ipykernel_11820\\2696809094.py:14: FutureWarning: The frame.append method is deprecated and will be removed from pandas in a future version. Use pandas.concat instead.\n",
            "  df_stats = df_stats.append(pp2(player_id, per_mode36='PerGame').career_totals_regular_season.get_data_frame())\n",
            "C:\\Users\\User\\AppData\\Local\\Temp\\ipykernel_11820\\2696809094.py:14: FutureWarning: The frame.append method is deprecated and will be removed from pandas in a future version. Use pandas.concat instead.\n",
            "  df_stats = df_stats.append(pp2(player_id, per_mode36='PerGame').career_totals_regular_season.get_data_frame())\n",
            "C:\\Users\\User\\AppData\\Local\\Temp\\ipykernel_11820\\2696809094.py:14: FutureWarning: The frame.append method is deprecated and will be removed from pandas in a future version. Use pandas.concat instead.\n",
            "  df_stats = df_stats.append(pp2(player_id, per_mode36='PerGame').career_totals_regular_season.get_data_frame())\n",
            "C:\\Users\\User\\AppData\\Local\\Temp\\ipykernel_11820\\2696809094.py:14: FutureWarning: The frame.append method is deprecated and will be removed from pandas in a future version. Use pandas.concat instead.\n",
            "  df_stats = df_stats.append(pp2(player_id, per_mode36='PerGame').career_totals_regular_season.get_data_frame())\n",
            "C:\\Users\\User\\AppData\\Local\\Temp\\ipykernel_11820\\2696809094.py:14: FutureWarning: The frame.append method is deprecated and will be removed from pandas in a future version. Use pandas.concat instead.\n",
            "  df_stats = df_stats.append(pp2(player_id, per_mode36='PerGame').career_totals_regular_season.get_data_frame())\n",
            "C:\\Users\\User\\AppData\\Local\\Temp\\ipykernel_11820\\2696809094.py:14: FutureWarning: The frame.append method is deprecated and will be removed from pandas in a future version. Use pandas.concat instead.\n",
            "  df_stats = df_stats.append(pp2(player_id, per_mode36='PerGame').career_totals_regular_season.get_data_frame())\n",
            "C:\\Users\\User\\AppData\\Local\\Temp\\ipykernel_11820\\2696809094.py:14: FutureWarning: The frame.append method is deprecated and will be removed from pandas in a future version. Use pandas.concat instead.\n",
            "  df_stats = df_stats.append(pp2(player_id, per_mode36='PerGame').career_totals_regular_season.get_data_frame())\n",
            "C:\\Users\\User\\AppData\\Local\\Temp\\ipykernel_11820\\2696809094.py:14: FutureWarning: The frame.append method is deprecated and will be removed from pandas in a future version. Use pandas.concat instead.\n",
            "  df_stats = df_stats.append(pp2(player_id, per_mode36='PerGame').career_totals_regular_season.get_data_frame())\n",
            "C:\\Users\\User\\AppData\\Local\\Temp\\ipykernel_11820\\2696809094.py:14: FutureWarning: The frame.append method is deprecated and will be removed from pandas in a future version. Use pandas.concat instead.\n",
            "  df_stats = df_stats.append(pp2(player_id, per_mode36='PerGame').career_totals_regular_season.get_data_frame())\n",
            "C:\\Users\\User\\AppData\\Local\\Temp\\ipykernel_11820\\2696809094.py:14: FutureWarning: The frame.append method is deprecated and will be removed from pandas in a future version. Use pandas.concat instead.\n",
            "  df_stats = df_stats.append(pp2(player_id, per_mode36='PerGame').career_totals_regular_season.get_data_frame())\n",
            "C:\\Users\\User\\AppData\\Local\\Temp\\ipykernel_11820\\2696809094.py:14: FutureWarning: The frame.append method is deprecated and will be removed from pandas in a future version. Use pandas.concat instead.\n",
            "  df_stats = df_stats.append(pp2(player_id, per_mode36='PerGame').career_totals_regular_season.get_data_frame())\n",
            "C:\\Users\\User\\AppData\\Local\\Temp\\ipykernel_11820\\2696809094.py:14: FutureWarning: The frame.append method is deprecated and will be removed from pandas in a future version. Use pandas.concat instead.\n",
            "  df_stats = df_stats.append(pp2(player_id, per_mode36='PerGame').career_totals_regular_season.get_data_frame())\n",
            "C:\\Users\\User\\AppData\\Local\\Temp\\ipykernel_11820\\2696809094.py:14: FutureWarning: The frame.append method is deprecated and will be removed from pandas in a future version. Use pandas.concat instead.\n",
            "  df_stats = df_stats.append(pp2(player_id, per_mode36='PerGame').career_totals_regular_season.get_data_frame())\n",
            "C:\\Users\\User\\AppData\\Local\\Temp\\ipykernel_11820\\2696809094.py:14: FutureWarning: The frame.append method is deprecated and will be removed from pandas in a future version. Use pandas.concat instead.\n",
            "  df_stats = df_stats.append(pp2(player_id, per_mode36='PerGame').career_totals_regular_season.get_data_frame())\n",
            "C:\\Users\\User\\AppData\\Local\\Temp\\ipykernel_11820\\2696809094.py:14: FutureWarning: The frame.append method is deprecated and will be removed from pandas in a future version. Use pandas.concat instead.\n",
            "  df_stats = df_stats.append(pp2(player_id, per_mode36='PerGame').career_totals_regular_season.get_data_frame())\n",
            "C:\\Users\\User\\AppData\\Local\\Temp\\ipykernel_11820\\2696809094.py:14: FutureWarning: The frame.append method is deprecated and will be removed from pandas in a future version. Use pandas.concat instead.\n",
            "  df_stats = df_stats.append(pp2(player_id, per_mode36='PerGame').career_totals_regular_season.get_data_frame())\n",
            "C:\\Users\\User\\AppData\\Local\\Temp\\ipykernel_11820\\2696809094.py:14: FutureWarning: The frame.append method is deprecated and will be removed from pandas in a future version. Use pandas.concat instead.\n",
            "  df_stats = df_stats.append(pp2(player_id, per_mode36='PerGame').career_totals_regular_season.get_data_frame())\n",
            "C:\\Users\\User\\AppData\\Local\\Temp\\ipykernel_11820\\2696809094.py:14: FutureWarning: The frame.append method is deprecated and will be removed from pandas in a future version. Use pandas.concat instead.\n",
            "  df_stats = df_stats.append(pp2(player_id, per_mode36='PerGame').career_totals_regular_season.get_data_frame())\n",
            "C:\\Users\\User\\AppData\\Local\\Temp\\ipykernel_11820\\2696809094.py:14: FutureWarning: The frame.append method is deprecated and will be removed from pandas in a future version. Use pandas.concat instead.\n",
            "  df_stats = df_stats.append(pp2(player_id, per_mode36='PerGame').career_totals_regular_season.get_data_frame())\n",
            "C:\\Users\\User\\AppData\\Local\\Temp\\ipykernel_11820\\2696809094.py:14: FutureWarning: The frame.append method is deprecated and will be removed from pandas in a future version. Use pandas.concat instead.\n",
            "  df_stats = df_stats.append(pp2(player_id, per_mode36='PerGame').career_totals_regular_season.get_data_frame())\n",
            "C:\\Users\\User\\AppData\\Local\\Temp\\ipykernel_11820\\2696809094.py:14: FutureWarning: The frame.append method is deprecated and will be removed from pandas in a future version. Use pandas.concat instead.\n",
            "  df_stats = df_stats.append(pp2(player_id, per_mode36='PerGame').career_totals_regular_season.get_data_frame())\n",
            "C:\\Users\\User\\AppData\\Local\\Temp\\ipykernel_11820\\2696809094.py:14: FutureWarning: The frame.append method is deprecated and will be removed from pandas in a future version. Use pandas.concat instead.\n",
            "  df_stats = df_stats.append(pp2(player_id, per_mode36='PerGame').career_totals_regular_season.get_data_frame())\n",
            "C:\\Users\\User\\AppData\\Local\\Temp\\ipykernel_11820\\2696809094.py:14: FutureWarning: The frame.append method is deprecated and will be removed from pandas in a future version. Use pandas.concat instead.\n",
            "  df_stats = df_stats.append(pp2(player_id, per_mode36='PerGame').career_totals_regular_season.get_data_frame())\n",
            "C:\\Users\\User\\AppData\\Local\\Temp\\ipykernel_11820\\2696809094.py:14: FutureWarning: The frame.append method is deprecated and will be removed from pandas in a future version. Use pandas.concat instead.\n",
            "  df_stats = df_stats.append(pp2(player_id, per_mode36='PerGame').career_totals_regular_season.get_data_frame())\n"
          ]
        }
      ],
      "source": [
        "players_career_stats = get_players_career_stats(current_players_list)\n",
        "players_career_stats.to_csv(\"nba_players_career_stats.csv\")"
      ]
    },
    {
      "cell_type": "code",
      "execution_count": 31,
      "id": "Si9OLopTBOvQ",
      "metadata": {
        "colab": {
          "base_uri": "https://localhost:8080/"
        },
        "id": "Si9OLopTBOvQ",
        "outputId": "f713242d-33d0-42e7-9c3e-4d751e7245a2"
      },
      "outputs": [
        {
          "data": {
            "text/plain": [
              "(493, 8)"
            ]
          },
          "execution_count": 31,
          "metadata": {},
          "output_type": "execute_result"
        }
      ],
      "source": [
        "players_career_stats.shape"
      ]
    },
    {
      "cell_type": "code",
      "execution_count": 33,
      "id": "kFBDo6pl0ADP",
      "metadata": {
        "colab": {
          "base_uri": "https://localhost:8080/",
          "height": 144
        },
        "id": "kFBDo6pl0ADP",
        "outputId": "cb1160d0-1eee-4e32-c3cc-69b66362eb96"
      },
      "outputs": [],
      "source": [
        "players_career_stats.rename(columns = {'PLAYER_ID':'PERSON_ID'}, inplace = True)"
      ]
    },
    {
      "cell_type": "code",
      "execution_count": 36,
      "id": "ca193c12",
      "metadata": {},
      "outputs": [],
      "source": [
        "players_career_stats.set_index('PERSON_ID',inplace=True)"
      ]
    },
    {
      "cell_type": "code",
      "execution_count": 37,
      "id": "7f263319",
      "metadata": {},
      "outputs": [
        {
          "data": {
            "text/html": [
              "<div>\n",
              "<style scoped>\n",
              "    .dataframe tbody tr th:only-of-type {\n",
              "        vertical-align: middle;\n",
              "    }\n",
              "\n",
              "    .dataframe tbody tr th {\n",
              "        vertical-align: top;\n",
              "    }\n",
              "\n",
              "    .dataframe thead th {\n",
              "        text-align: right;\n",
              "    }\n",
              "</style>\n",
              "<table border=\"1\" class=\"dataframe\">\n",
              "  <thead>\n",
              "    <tr style=\"text-align: right;\">\n",
              "      <th></th>\n",
              "      <th>GP</th>\n",
              "      <th>MIN</th>\n",
              "      <th>PTS</th>\n",
              "      <th>REB</th>\n",
              "      <th>AST</th>\n",
              "      <th>STL</th>\n",
              "      <th>BLK</th>\n",
              "    </tr>\n",
              "    <tr>\n",
              "      <th>PERSON_ID</th>\n",
              "      <th></th>\n",
              "      <th></th>\n",
              "      <th></th>\n",
              "      <th></th>\n",
              "      <th></th>\n",
              "      <th></th>\n",
              "      <th></th>\n",
              "    </tr>\n",
              "  </thead>\n",
              "  <tbody>\n",
              "    <tr>\n",
              "      <th>1630173</th>\n",
              "      <td>134</td>\n",
              "      <td>18.4</td>\n",
              "      <td>7.2</td>\n",
              "      <td>5.1</td>\n",
              "      <td>0.8</td>\n",
              "      <td>0.4</td>\n",
              "      <td>0.5</td>\n",
              "    </tr>\n",
              "    <tr>\n",
              "      <th>203500</th>\n",
              "      <td>664</td>\n",
              "      <td>26.8</td>\n",
              "      <td>9.3</td>\n",
              "      <td>8.0</td>\n",
              "      <td>1.5</td>\n",
              "      <td>0.9</td>\n",
              "      <td>0.9</td>\n",
              "    </tr>\n",
              "  </tbody>\n",
              "</table>\n",
              "</div>"
            ],
            "text/plain": [
              "            GP   MIN  PTS  REB  AST  STL  BLK\n",
              "PERSON_ID                                    \n",
              "1630173    134  18.4  7.2  5.1  0.8  0.4  0.5\n",
              "203500     664  26.8  9.3  8.0  1.5  0.9  0.9"
            ]
          },
          "execution_count": 37,
          "metadata": {},
          "output_type": "execute_result"
        }
      ],
      "source": [
        "players_career_stats.head(2)"
      ]
    },
    {
      "cell_type": "code",
      "execution_count": 38,
      "id": "G-T55gnG0EWO",
      "metadata": {
        "id": "G-T55gnG0EWO"
      },
      "outputs": [],
      "source": [
        "players_career_stats.to_csv(\"nba_players_career_stats.csv\")"
      ]
    },
    {
      "cell_type": "markdown",
      "id": "68a65d51-6847-4811-b57f-1f858c27decd",
      "metadata": {
        "id": "68a65d51-6847-4811-b57f-1f858c27decd"
      },
      "source": [
        "The next function find players next games and save the information to a csv call \"nba_players_next_game.csv\""
      ]
    },
    {
      "cell_type": "code",
      "execution_count": 47,
      "id": "9c3b9b62-4eb8-434b-b808-ec94154b2a50",
      "metadata": {
        "id": "9c3b9b62-4eb8-434b-b808-ec94154b2a50"
      },
      "outputs": [],
      "source": [
        "def get_players_next_game(current_players_list, from_api):\n",
        "\n",
        "  \"\"\"\n",
        "  this function retunr a df with person_id and the information about the next game.\n",
        "  I need to different dataframes from the sema endpoint and concatenated them in order to get all the information\n",
        "  Those players who wont play the next game (their team didnt make to the playoff) whoul show:\n",
        "  player_id   gext_game\n",
        "    1234        nan    \n",
        "  \n",
        "  in this case we will use PlayerProfileV2 endpoint and the folowing dfs:\n",
        "\n",
        "  next_game\n",
        "  career_totals_regular_season\n",
        "  \n",
        "  \"\"\"\n",
        "  if from_api:\n",
        "    \n",
        "    # craete a list to iterate:  \n",
        "    list_id = current_players_list['PERSON_ID'].tolist()\n",
        "    \n",
        "    # new and empty dfs:\n",
        "    df_next_id    = pd.DataFrame()\n",
        "    df_next_info  = pd.DataFrame()\n",
        "    df_next       = pd.DataFrame()\n",
        "    df_next_final = pd.DataFrame()\n",
        "\n",
        "    for player_id in list_id: \n",
        "      df_next_id    = pp2(player_id=player_id).career_totals_regular_season.get_data_frame()\n",
        "      df_next_info  = pp2(player_id=player_id).next_game.get_data_frame()\n",
        "      df_next       = pd.concat([df_next_id['PLAYER_ID'], df_next_info[['GAME_DATE']]], axis=1)\n",
        "      df_next_final = pd.concat([df_next_final, df_next], axis=0)\n",
        "      time.sleep(0.5)\n",
        "\n",
        "      \n",
        "\n",
        "  else:\n",
        "    df_next_final  = pd.read_csv(io.BytesIO(uploaded['nba_players_next_game.csv']))\n",
        "\n",
        "  # df acomodation:\n",
        "  \n",
        "  df_next_final.set_index(df_next_final.PLAYER_ID, inplace=True)\n",
        "  df_next_final = df_next_final.rename(columns={'Player_id':'PERSON_ID'})\n",
        "  df_next_final = df_next_final.drop(['PLAYER_ID'], axis=1)\n",
        "  df_next_final = df_next_final.rename(columns={'Player_id':'PERSON_ID'})\n",
        "  \n",
        "  return df_next_final"
      ]
    },
    {
      "cell_type": "code",
      "execution_count": 48,
      "id": "17915222-3606-4bb2-93e6-27d98eea7c7b",
      "metadata": {
        "id": "17915222-3606-4bb2-93e6-27d98eea7c7b"
      },
      "outputs": [],
      "source": [
        "players_next_game = get_players_next_game(current_players_list,True)\n",
        "players_next_game.to_csv(\"nba_players_next_game.csv\")"
      ]
    },
    {
      "cell_type": "code",
      "execution_count": 49,
      "id": "tzj9M71UQsUm",
      "metadata": {
        "colab": {
          "base_uri": "https://localhost:8080/",
          "height": 144
        },
        "id": "tzj9M71UQsUm",
        "outputId": "264be976-fd0a-4f3e-b47c-87855f148fd3"
      },
      "outputs": [
        {
          "data": {
            "text/html": [
              "<div>\n",
              "<style scoped>\n",
              "    .dataframe tbody tr th:only-of-type {\n",
              "        vertical-align: middle;\n",
              "    }\n",
              "\n",
              "    .dataframe tbody tr th {\n",
              "        vertical-align: top;\n",
              "    }\n",
              "\n",
              "    .dataframe thead th {\n",
              "        text-align: right;\n",
              "    }\n",
              "</style>\n",
              "<table border=\"1\" class=\"dataframe\">\n",
              "  <thead>\n",
              "    <tr style=\"text-align: right;\">\n",
              "      <th></th>\n",
              "      <th>GAME_DATE</th>\n",
              "    </tr>\n",
              "    <tr>\n",
              "      <th>PLAYER_ID</th>\n",
              "      <th></th>\n",
              "    </tr>\n",
              "  </thead>\n",
              "  <tbody>\n",
              "    <tr>\n",
              "      <th>1630173</th>\n",
              "      <td>NaN</td>\n",
              "    </tr>\n",
              "    <tr>\n",
              "      <th>203500</th>\n",
              "      <td>NaN</td>\n",
              "    </tr>\n",
              "  </tbody>\n",
              "</table>\n",
              "</div>"
            ],
            "text/plain": [
              "          GAME_DATE\n",
              "PLAYER_ID          \n",
              "1630173         NaN\n",
              "203500          NaN"
            ]
          },
          "execution_count": 49,
          "metadata": {},
          "output_type": "execute_result"
        }
      ],
      "source": [
        "players_next_game.head(2)"
      ]
    },
    {
      "cell_type": "code",
      "execution_count": 50,
      "id": "cA81jNoR5fei",
      "metadata": {
        "colab": {
          "base_uri": "https://localhost:8080/"
        },
        "id": "cA81jNoR5fei",
        "outputId": "5fe941ba-9fc2-4a61-e0f3-3eb20834aa47"
      },
      "outputs": [
        {
          "data": {
            "text/plain": [
              "(493, 1)"
            ]
          },
          "execution_count": 50,
          "metadata": {},
          "output_type": "execute_result"
        }
      ],
      "source": [
        "players_next_game.shape"
      ]
    },
    {
      "cell_type": "code",
      "execution_count": 51,
      "id": "5XLmZL2fBqt7",
      "metadata": {
        "id": "5XLmZL2fBqt7"
      },
      "outputs": [],
      "source": [
        "players_next_game.to_csv(\"nba_players_next_game_.csv\")"
      ]
    },
    {
      "cell_type": "markdown",
      "id": "55b8ce09-e5d9-4f82-87db-ffe2916cc431",
      "metadata": {
        "id": "55b8ce09-e5d9-4f82-87db-ffe2916cc431"
      },
      "source": [
        "Now we create a function to find players salary for this season, save the information to a csv called \"nba_players_salary.csv\". "
      ]
    },
    {
      "cell_type": "code",
      "execution_count": 52,
      "id": "S2I4AAp4i6zK",
      "metadata": {
        "id": "S2I4AAp4i6zK"
      },
      "outputs": [],
      "source": [
        "# function to eliminate accents and ñ:\n",
        "\n",
        "def eliminar_tildes(cadena):\n",
        "    s = ''.join((c for c in unicodedata.normalize('NFD',cadena) if unicodedata.category(c) != 'Mn'))\n",
        "    return s"
      ]
    },
    {
      "cell_type": "code",
      "execution_count": 77,
      "id": "a62aec71",
      "metadata": {},
      "outputs": [
        {
          "name": "stdout",
          "output_type": "stream",
          "text": [
            "Requirement already satisfied: lxml in c:\\users\\user\\appdata\\local\\packages\\pythonsoftwarefoundation.python.3.10_qbz5n2kfra8p0\\localcache\\local-packages\\python310\\site-packages (4.9.1)\n"
          ]
        }
      ],
      "source": [
        "!pip install lxml"
      ]
    },
    {
      "cell_type": "code",
      "execution_count": 76,
      "id": "5f319d23",
      "metadata": {},
      "outputs": [
        {
          "name": "stdout",
          "output_type": "stream",
          "text": [
            "Requirement already satisfied: pip in c:\\program files\\windowsapps\\pythonsoftwarefoundation.python.3.10_3.10.1776.0_x64__qbz5n2kfra8p0\\lib\\site-packages (22.2.1)\n",
            "Collecting pip\n",
            "  Downloading pip-22.2.2-py3-none-any.whl (2.0 MB)\n",
            "     ---------------------------------------- 2.0/2.0 MB 10.0 MB/s eta 0:00:00\n",
            "Installing collected packages: pip\n",
            "Successfully installed pip-22.2.2\n",
            "Note: you may need to restart the kernel to use updated packages.\n"
          ]
        },
        {
          "name": "stderr",
          "output_type": "stream",
          "text": [
            "  WARNING: The scripts pip.exe, pip3.10.exe and pip3.exe are installed in 'C:\\Users\\User\\AppData\\Local\\Packages\\PythonSoftwareFoundation.Python.3.10_qbz5n2kfra8p0\\LocalCache\\local-packages\\Python310\\Scripts' which is not on PATH.\n",
            "  Consider adding this directory to PATH or, if you prefer to suppress this warning, use --no-warn-script-location.\n",
            "\n",
            "[notice] A new release of pip available: 22.2.1 -> 22.2.2\n",
            "[notice] To update, run: C:\\Users\\User\\AppData\\Local\\Microsoft\\WindowsApps\\PythonSoftwareFoundation.Python.3.10_qbz5n2kfra8p0\\python.exe -m pip install --upgrade pip\n"
          ]
        }
      ],
      "source": [
        "pip install --upgrade pip"
      ]
    },
    {
      "cell_type": "code",
      "execution_count": 78,
      "id": "cecfecb4-62bb-41b9-b4ae-13b57c3e2198",
      "metadata": {
        "id": "cecfecb4-62bb-41b9-b4ae-13b57c3e2198"
      },
      "outputs": [],
      "source": [
        "def get_nba_players_salaries(cpl,from_api):  \n",
        "  \"\"\"\n",
        "  we download the salary_player information from the link:https://hoopshype.com/salaries/players/%27\n",
        "  We need to be aware that the table format its a little bit uggly. \n",
        "  1) There is a line \"title\" wich we errase\n",
        "  2) There is a Header reminder when you go downside on the table, we have to errase that line also \n",
        "  3) There are some names that have special characters that arent included at the english dictionary (the nba database is written in english)\n",
        "  So I have to transform those names\n",
        "  \n",
        "  \"\"\"\n",
        "\n",
        "  if from_api:\n",
        "    # I go to the webside and get the information:\n",
        "    df_sal = pd.read_html(\"https://www.basketball-reference.com/contracts/players.html#player-contracts\")[0]\n",
        "    #df_sal = pd.read_html(\"https://hoopshype.com/salaries/players/%27\")[0]\n",
        "\n",
        "    # I filter just the columns I need:\n",
        "    df_sal = df_sal[['Player', '2022/23']] \n",
        "\n",
        "    # I change the name:\n",
        "    # the time have passed so the salaries 21/22 weren't available any more... so I used 22/23 \n",
        "    df_sal = df_sal.rename(columns={'Player':'PLAYER_NAME', '2022/23':'SALARY'})\n",
        "\n",
        "    # Names transformation:\n",
        "    p_list = df_sal.PLAYER_NAME.to_list()\n",
        "\n",
        "    for i in p_list:\n",
        "      df_sal.PLAYER_NAME[i] = eliminar_tildes(i)\n",
        "\n",
        "    # drop empty salary rows\n",
        "    df_sal.dropna(subset = ['SALARY'], inplace=True)   \n",
        "\n",
        "    # Drop duplicates\n",
        "    df_sal.drop_duplicates(subset='PLAYER_NAME', inplace=True)\n",
        "\n",
        "\n",
        "    # In order to get the same Names of the rest of the dfs I will do a merge with curremt_player_list:\n",
        "    # I need to rename DISPLAY_FIRST_LAST--> PLAYER_LIST\n",
        "    cpl = cpl.rename(columns={'DISPLAY_FIRST_LAST':'PLAYER_NAME'})\n",
        "    cpl['PLAYER_NAME'] = cpl['PLAYER_NAME'].str.strip()\n",
        "    df_sal['PLAYER_NAME'] = df_sal['PLAYER_NAME'].str.strip()\n",
        "\n",
        "    # filtering and renaming the columns\n",
        "    df_sal_f = pd.merge(cpl, df_sal, on='PLAYER_NAME', how='left')\n",
        "\n",
        "  else:\n",
        "    df_sal_f  = pd.read_csv(io.BytesIO(uploaded['nba_players_salary.csv']))    \n",
        "  \n",
        "  # set column Player_id as the dataframe index \n",
        "  \n",
        "  df_sal_f = df_sal_f.set_index('PERSON_ID')\n",
        "  df_sal_f = df_sal_f[['PLAYER_NAME', 'SALARY']]  \n",
        "  df_sal_f = df_sal_f.drop(['PLAYER_NAME'], axis=1)\n",
        "  \n",
        "  return df_sal_f"
      ]
    },
    {
      "cell_type": "code",
      "execution_count": null,
      "id": "12f2888e",
      "metadata": {},
      "outputs": [],
      "source": [
        "players_salaries = get_nba_players_salaries(current_players_list, True)\n",
        "players_salaries.to_csv(\"nba_players_salary.csv\")"
      ]
    },
    {
      "cell_type": "code",
      "execution_count": 81,
      "id": "793a2aba",
      "metadata": {},
      "outputs": [],
      "source": [
        "players_salaries = pd.read_csv (r'C:/Ine/AnyoneAI/Sprint_1/nba_players_salary.csv')"
      ]
    },
    {
      "cell_type": "code",
      "execution_count": 82,
      "id": "2yqrKWcOrP5h",
      "metadata": {
        "colab": {
          "base_uri": "https://localhost:8080/",
          "height": 144
        },
        "id": "2yqrKWcOrP5h",
        "outputId": "3da08865-89d6-4399-8af6-a3bdea869b3e"
      },
      "outputs": [
        {
          "data": {
            "text/html": [
              "<div>\n",
              "<style scoped>\n",
              "    .dataframe tbody tr th:only-of-type {\n",
              "        vertical-align: middle;\n",
              "    }\n",
              "\n",
              "    .dataframe tbody tr th {\n",
              "        vertical-align: top;\n",
              "    }\n",
              "\n",
              "    .dataframe thead th {\n",
              "        text-align: right;\n",
              "    }\n",
              "</style>\n",
              "<table border=\"1\" class=\"dataframe\">\n",
              "  <thead>\n",
              "    <tr style=\"text-align: right;\">\n",
              "      <th></th>\n",
              "      <th>PERSON_ID</th>\n",
              "      <th>PLAYER_NAME</th>\n",
              "      <th>SALARY</th>\n",
              "    </tr>\n",
              "  </thead>\n",
              "  <tbody>\n",
              "    <tr>\n",
              "      <th>0</th>\n",
              "      <td>1630173</td>\n",
              "      <td>Precious Achiuwa</td>\n",
              "      <td>$2,711,280</td>\n",
              "    </tr>\n",
              "    <tr>\n",
              "      <th>1</th>\n",
              "      <td>203500</td>\n",
              "      <td>Steven Adams</td>\n",
              "      <td>$17,073,171</td>\n",
              "    </tr>\n",
              "  </tbody>\n",
              "</table>\n",
              "</div>"
            ],
            "text/plain": [
              "   PERSON_ID       PLAYER_NAME       SALARY\n",
              "0    1630173  Precious Achiuwa   $2,711,280\n",
              "1     203500      Steven Adams  $17,073,171"
            ]
          },
          "execution_count": 82,
          "metadata": {},
          "output_type": "execute_result"
        }
      ],
      "source": [
        "players_salaries.head(2)"
      ]
    },
    {
      "cell_type": "code",
      "execution_count": 83,
      "id": "84JtXMK_rd1h",
      "metadata": {
        "colab": {
          "base_uri": "https://localhost:8080/"
        },
        "id": "84JtXMK_rd1h",
        "outputId": "adac3ca7-9c3e-420f-b95b-523ec523e8b8"
      },
      "outputs": [
        {
          "data": {
            "text/plain": [
              "(503, 3)"
            ]
          },
          "execution_count": 83,
          "metadata": {},
          "output_type": "execute_result"
        }
      ],
      "source": [
        "players_salaries.shape"
      ]
    },
    {
      "cell_type": "markdown",
      "id": "5bd1cb5a-d9d1-454e-80d3-81521ac1d94e",
      "metadata": {
        "id": "5bd1cb5a-d9d1-454e-80d3-81521ac1d94e"
      },
      "source": [
        "Now we merge the created dataframes: players_personal_info, players_career_stats, players_next_game, players_salaries. For each dataframe, select only the subset of columns needed to create the dataset described in section \"The Dataset\"\n",
        "\n",
        "    - Players info: \"PLAYER_NAME\", \"TEAM_NAME\", \"POSITION\", \"HEIGHT\", \"WEIGHT\", \"COUNTRY\", \"BIRTHDATE\", \"SEASON_EXP\", \"DRAFT_NUMBER\"\n",
        "    - Players stats: \"GP\", \"MIN\", \"PTS\", \"REB\", \"AST\", \"STL\", \"BLK\"\n",
        "    - Misc: \"GAME_DATE\", \"SALARY\"\n",
        "\n",
        "The result is saved as a csv called \"raw_nba_players_dataset.csv\""
      ]
    },
    {
      "cell_type": "code",
      "execution_count": 84,
      "id": "zZTEhVs-4_0x",
      "metadata": {
        "id": "zZTEhVs-4_0x"
      },
      "outputs": [],
      "source": [
        "current_players_list.set_index('PERSON_ID',inplace=True)"
      ]
    },
    {
      "cell_type": "code",
      "execution_count": 85,
      "id": "81bb411a-ecf4-4cd8-8cd8-2d9259397324",
      "metadata": {
        "id": "81bb411a-ecf4-4cd8-8cd8-2d9259397324"
      },
      "outputs": [],
      "source": [
        "def merge_dataframes(players_personal_info, players_career_stats, players_next_game, players_salaries):\n",
        "  \"\"\"\n",
        "  we merge: \n",
        "           players_personal_info\n",
        "  +\n",
        "           players_career_stats\n",
        "  +\n",
        "           players_next_game\n",
        "  +\n",
        "           players_salaries\n",
        "  \"\"\"\n",
        "  # merging players_peronsal_info and player_career_stats:\n",
        "  df_ppi_pcs = pd.merge(players_personal_info, players_career_stats, on='PERSON_ID', how='left')\n",
        "  \n",
        "  # merging df_ppi_pcs and player_next_game:\n",
        "  df_ppi_pcs_png = pd.merge(df_ppi_pcs,players_next_game, left_index = True, right_index = True, how='left')\n",
        "  \n",
        "  # merging df_ppi_pcs_png and player_salaries:\n",
        "  df_ppi_pcs_png_ps = pd.merge(df_ppi_pcs_png, players_salaries, on='PERSON_ID', how='left')\n",
        "  \n",
        "  return df_ppi_pcs_png_ps"
      ]
    },
    {
      "cell_type": "code",
      "execution_count": 86,
      "id": "388ceb75-3de2-4e28-a10a-d389d7617905",
      "metadata": {
        "id": "388ceb75-3de2-4e28-a10a-d389d7617905"
      },
      "outputs": [],
      "source": [
        "raw_players_dataset = merge_dataframes(players_personal_info, players_career_stats, players_next_game, players_salaries)\n",
        "raw_players_dataset.to_csv(\"raw_nba_players_dataset.csv\")"
      ]
    },
    {
      "cell_type": "code",
      "execution_count": 87,
      "id": "jjNBWUo-m2rH",
      "metadata": {
        "colab": {
          "base_uri": "https://localhost:8080/",
          "height": 291
        },
        "id": "jjNBWUo-m2rH",
        "outputId": "5bf47a8b-e5d8-4130-846e-ff3fe4db3406"
      },
      "outputs": [
        {
          "data": {
            "text/html": [
              "<div>\n",
              "<style scoped>\n",
              "    .dataframe tbody tr th:only-of-type {\n",
              "        vertical-align: middle;\n",
              "    }\n",
              "\n",
              "    .dataframe tbody tr th {\n",
              "        vertical-align: top;\n",
              "    }\n",
              "\n",
              "    .dataframe thead th {\n",
              "        text-align: right;\n",
              "    }\n",
              "</style>\n",
              "<table border=\"1\" class=\"dataframe\">\n",
              "  <thead>\n",
              "    <tr style=\"text-align: right;\">\n",
              "      <th></th>\n",
              "      <th>PERSON_ID</th>\n",
              "      <th>PLAYER_NAME_x</th>\n",
              "      <th>TEAM_NAME</th>\n",
              "      <th>POSITION</th>\n",
              "      <th>HEIGHT</th>\n",
              "      <th>WEIGHT</th>\n",
              "      <th>COUNTRY</th>\n",
              "      <th>BIRTHDATE</th>\n",
              "      <th>SEASON_EXP</th>\n",
              "      <th>DRAFT_NUMBER</th>\n",
              "      <th>GP</th>\n",
              "      <th>MIN</th>\n",
              "      <th>PTS</th>\n",
              "      <th>REB</th>\n",
              "      <th>AST</th>\n",
              "      <th>STL</th>\n",
              "      <th>BLK</th>\n",
              "      <th>GAME_DATE</th>\n",
              "      <th>PLAYER_NAME_y</th>\n",
              "      <th>SALARY</th>\n",
              "    </tr>\n",
              "  </thead>\n",
              "  <tbody>\n",
              "    <tr>\n",
              "      <th>0</th>\n",
              "      <td>1630173</td>\n",
              "      <td>Precious Achiuwa</td>\n",
              "      <td>Raptors</td>\n",
              "      <td>Forward</td>\n",
              "      <td>6-8</td>\n",
              "      <td>225</td>\n",
              "      <td>Nigeria</td>\n",
              "      <td>1999-09-19T00:00:00</td>\n",
              "      <td>2</td>\n",
              "      <td>20</td>\n",
              "      <td>134</td>\n",
              "      <td>18.4</td>\n",
              "      <td>7.2</td>\n",
              "      <td>5.1</td>\n",
              "      <td>0.8</td>\n",
              "      <td>0.4</td>\n",
              "      <td>0.5</td>\n",
              "      <td>NaN</td>\n",
              "      <td>Precious Achiuwa</td>\n",
              "      <td>$2,711,280</td>\n",
              "    </tr>\n",
              "    <tr>\n",
              "      <th>1</th>\n",
              "      <td>203500</td>\n",
              "      <td>Steven Adams</td>\n",
              "      <td>Grizzlies</td>\n",
              "      <td>Center</td>\n",
              "      <td>6-11</td>\n",
              "      <td>265</td>\n",
              "      <td>New Zealand</td>\n",
              "      <td>1993-07-20T00:00:00</td>\n",
              "      <td>9</td>\n",
              "      <td>12</td>\n",
              "      <td>664</td>\n",
              "      <td>26.8</td>\n",
              "      <td>9.3</td>\n",
              "      <td>8.0</td>\n",
              "      <td>1.5</td>\n",
              "      <td>0.9</td>\n",
              "      <td>0.9</td>\n",
              "      <td>NaN</td>\n",
              "      <td>Steven Adams</td>\n",
              "      <td>$17,073,171</td>\n",
              "    </tr>\n",
              "    <tr>\n",
              "      <th>2</th>\n",
              "      <td>1628389</td>\n",
              "      <td>Bam Adebayo</td>\n",
              "      <td>Heat</td>\n",
              "      <td>Center-Forward</td>\n",
              "      <td>6-9</td>\n",
              "      <td>255</td>\n",
              "      <td>USA</td>\n",
              "      <td>1997-07-18T00:00:00</td>\n",
              "      <td>5</td>\n",
              "      <td>14</td>\n",
              "      <td>343</td>\n",
              "      <td>28.2</td>\n",
              "      <td>13.5</td>\n",
              "      <td>8.3</td>\n",
              "      <td>3.5</td>\n",
              "      <td>1.0</td>\n",
              "      <td>0.9</td>\n",
              "      <td>NaN</td>\n",
              "      <td>Bam Adebayo</td>\n",
              "      <td>$28,103,500</td>\n",
              "    </tr>\n",
              "  </tbody>\n",
              "</table>\n",
              "</div>"
            ],
            "text/plain": [
              "   PERSON_ID     PLAYER_NAME_x  TEAM_NAME        POSITION HEIGHT WEIGHT  \\\n",
              "0    1630173  Precious Achiuwa    Raptors         Forward    6-8    225   \n",
              "1     203500      Steven Adams  Grizzlies          Center   6-11    265   \n",
              "2    1628389       Bam Adebayo       Heat  Center-Forward    6-9    255   \n",
              "\n",
              "       COUNTRY            BIRTHDATE  SEASON_EXP DRAFT_NUMBER   GP   MIN   PTS  \\\n",
              "0      Nigeria  1999-09-19T00:00:00           2           20  134  18.4   7.2   \n",
              "1  New Zealand  1993-07-20T00:00:00           9           12  664  26.8   9.3   \n",
              "2          USA  1997-07-18T00:00:00           5           14  343  28.2  13.5   \n",
              "\n",
              "   REB  AST  STL  BLK GAME_DATE     PLAYER_NAME_y       SALARY  \n",
              "0  5.1  0.8  0.4  0.5       NaN  Precious Achiuwa   $2,711,280  \n",
              "1  8.0  1.5  0.9  0.9       NaN      Steven Adams  $17,073,171  \n",
              "2  8.3  3.5  1.0  0.9       NaN       Bam Adebayo  $28,103,500  "
            ]
          },
          "execution_count": 87,
          "metadata": {},
          "output_type": "execute_result"
        }
      ],
      "source": [
        "raw_players_dataset.head(3)"
      ]
    },
    {
      "cell_type": "code",
      "execution_count": 88,
      "id": "MYkAB9fYIc_9",
      "metadata": {
        "colab": {
          "base_uri": "https://localhost:8080/"
        },
        "id": "MYkAB9fYIc_9",
        "outputId": "173cfb39-d16b-4700-9a8f-59cd2d0ec2e5"
      },
      "outputs": [
        {
          "data": {
            "text/plain": [
              "(493, 20)"
            ]
          },
          "execution_count": 88,
          "metadata": {},
          "output_type": "execute_result"
        }
      ],
      "source": [
        "raw_players_dataset.shape"
      ]
    },
    {
      "cell_type": "code",
      "execution_count": 89,
      "id": "9yY3l8uzDCg0",
      "metadata": {
        "colab": {
          "base_uri": "https://localhost:8080/"
        },
        "id": "9yY3l8uzDCg0",
        "outputId": "b96c34d5-3d33-4032-b444-0df1d5934906"
      },
      "outputs": [
        {
          "name": "stdout",
          "output_type": "stream",
          "text": [
            "<class 'pandas.core.frame.DataFrame'>\n",
            "Int64Index: 493 entries, 0 to 492\n",
            "Data columns (total 20 columns):\n",
            " #   Column         Non-Null Count  Dtype  \n",
            "---  ------         --------------  -----  \n",
            " 0   PERSON_ID      493 non-null    int64  \n",
            " 1   PLAYER_NAME_x  493 non-null    object \n",
            " 2   TEAM_NAME      493 non-null    object \n",
            " 3   POSITION       493 non-null    object \n",
            " 4   HEIGHT         493 non-null    object \n",
            " 5   WEIGHT         493 non-null    object \n",
            " 6   COUNTRY        493 non-null    object \n",
            " 7   BIRTHDATE      493 non-null    object \n",
            " 8   SEASON_EXP     493 non-null    int64  \n",
            " 9   DRAFT_NUMBER   487 non-null    object \n",
            " 10  GP             493 non-null    int64  \n",
            " 11  MIN            493 non-null    float64\n",
            " 12  PTS            493 non-null    float64\n",
            " 13  REB            493 non-null    float64\n",
            " 14  AST            493 non-null    float64\n",
            " 15  STL            493 non-null    float64\n",
            " 16  BLK            493 non-null    float64\n",
            " 17  GAME_DATE      24 non-null     object \n",
            " 18  PLAYER_NAME_y  493 non-null    object \n",
            " 19  SALARY         441 non-null    object \n",
            "dtypes: float64(6), int64(3), object(11)\n",
            "memory usage: 80.9+ KB\n"
          ]
        }
      ],
      "source": [
        "raw_players_dataset.info()"
      ]
    },
    {
      "cell_type": "markdown",
      "id": "b08b2775-dd82-415a-8a6e-46c51b8c3f2b",
      "metadata": {
        "id": "b08b2775-dd82-415a-8a6e-46c51b8c3f2b"
      },
      "source": [
        "## Data Cleaning and Preprocessing"
      ]
    },
    {
      "cell_type": "markdown",
      "id": "c52dd5c8-5536-4b0e-a51a-6d7ff4140c0b",
      "metadata": {
        "id": "c52dd5c8-5536-4b0e-a51a-6d7ff4140c0b"
      },
      "source": [
        "There are several steps that you will have to follow, depending on where you have collected the data some information might be missing.  \n",
        "\n",
        "- Height and weight might need to be converted to the metric system\n",
        "- Players that have no team assigned should be removed from the dataset\n",
        "- Players with no contracts (meaning they don't have a salary defined) should be removed from the dataset\n",
        "- If the \"position\" data is ambiguous (listed at multiple positions), use the first value\n",
        "- If the player does not have height or weight data, use the average for its position as its value\n",
        "- In order to fill the column next_game_date, just consider the date of the next game of each player's team. "
      ]
    },
    {
      "cell_type": "markdown",
      "id": "af006585-e338-429a-a0ef-2598430f8b32",
      "metadata": {
        "id": "af006585-e338-429a-a0ef-2598430f8b32"
      },
      "source": [
        "For safety we create a copy of your dataset named \"working_df\". Then we removed all players with no teams or salary"
      ]
    },
    {
      "cell_type": "code",
      "execution_count": 90,
      "id": "4327e4da-a3e0-4870-a7a4-abea76fb2205",
      "metadata": {
        "id": "4327e4da-a3e0-4870-a7a4-abea76fb2205"
      },
      "outputs": [],
      "source": [
        "def copy_and_delete_nan(players_dataset):\n",
        "  players_dataset = players_dataset.dropna(subset=[\"SALARY\"])\n",
        "  players_dataset = players_dataset.dropna(subset=[\"TEAM_NAME\"])\n",
        "\n",
        "  return players_dataset"
      ]
    },
    {
      "cell_type": "code",
      "execution_count": 91,
      "id": "93e2d191-dadd-481c-91fa-ff5aac1c824b",
      "metadata": {
        "id": "93e2d191-dadd-481c-91fa-ff5aac1c824b"
      },
      "outputs": [],
      "source": [
        "working_df = copy_and_delete_nan(raw_players_dataset)"
      ]
    },
    {
      "cell_type": "code",
      "execution_count": 92,
      "id": "CmasEsyWmxLT",
      "metadata": {
        "colab": {
          "base_uri": "https://localhost:8080/",
          "height": 291
        },
        "id": "CmasEsyWmxLT",
        "outputId": "687d8206-e616-416b-e252-6a88d65a9dc6"
      },
      "outputs": [
        {
          "data": {
            "text/html": [
              "<div>\n",
              "<style scoped>\n",
              "    .dataframe tbody tr th:only-of-type {\n",
              "        vertical-align: middle;\n",
              "    }\n",
              "\n",
              "    .dataframe tbody tr th {\n",
              "        vertical-align: top;\n",
              "    }\n",
              "\n",
              "    .dataframe thead th {\n",
              "        text-align: right;\n",
              "    }\n",
              "</style>\n",
              "<table border=\"1\" class=\"dataframe\">\n",
              "  <thead>\n",
              "    <tr style=\"text-align: right;\">\n",
              "      <th></th>\n",
              "      <th>PERSON_ID</th>\n",
              "      <th>PLAYER_NAME_x</th>\n",
              "      <th>TEAM_NAME</th>\n",
              "      <th>POSITION</th>\n",
              "      <th>HEIGHT</th>\n",
              "      <th>WEIGHT</th>\n",
              "      <th>COUNTRY</th>\n",
              "      <th>BIRTHDATE</th>\n",
              "      <th>SEASON_EXP</th>\n",
              "      <th>DRAFT_NUMBER</th>\n",
              "      <th>GP</th>\n",
              "      <th>MIN</th>\n",
              "      <th>PTS</th>\n",
              "      <th>REB</th>\n",
              "      <th>AST</th>\n",
              "      <th>STL</th>\n",
              "      <th>BLK</th>\n",
              "      <th>GAME_DATE</th>\n",
              "      <th>PLAYER_NAME_y</th>\n",
              "      <th>SALARY</th>\n",
              "    </tr>\n",
              "  </thead>\n",
              "  <tbody>\n",
              "    <tr>\n",
              "      <th>0</th>\n",
              "      <td>1630173</td>\n",
              "      <td>Precious Achiuwa</td>\n",
              "      <td>Raptors</td>\n",
              "      <td>Forward</td>\n",
              "      <td>6-8</td>\n",
              "      <td>225</td>\n",
              "      <td>Nigeria</td>\n",
              "      <td>1999-09-19T00:00:00</td>\n",
              "      <td>2</td>\n",
              "      <td>20</td>\n",
              "      <td>134</td>\n",
              "      <td>18.4</td>\n",
              "      <td>7.2</td>\n",
              "      <td>5.1</td>\n",
              "      <td>0.8</td>\n",
              "      <td>0.4</td>\n",
              "      <td>0.5</td>\n",
              "      <td>NaN</td>\n",
              "      <td>Precious Achiuwa</td>\n",
              "      <td>$2,711,280</td>\n",
              "    </tr>\n",
              "    <tr>\n",
              "      <th>1</th>\n",
              "      <td>203500</td>\n",
              "      <td>Steven Adams</td>\n",
              "      <td>Grizzlies</td>\n",
              "      <td>Center</td>\n",
              "      <td>6-11</td>\n",
              "      <td>265</td>\n",
              "      <td>New Zealand</td>\n",
              "      <td>1993-07-20T00:00:00</td>\n",
              "      <td>9</td>\n",
              "      <td>12</td>\n",
              "      <td>664</td>\n",
              "      <td>26.8</td>\n",
              "      <td>9.3</td>\n",
              "      <td>8.0</td>\n",
              "      <td>1.5</td>\n",
              "      <td>0.9</td>\n",
              "      <td>0.9</td>\n",
              "      <td>NaN</td>\n",
              "      <td>Steven Adams</td>\n",
              "      <td>$17,073,171</td>\n",
              "    </tr>\n",
              "    <tr>\n",
              "      <th>2</th>\n",
              "      <td>1628389</td>\n",
              "      <td>Bam Adebayo</td>\n",
              "      <td>Heat</td>\n",
              "      <td>Center-Forward</td>\n",
              "      <td>6-9</td>\n",
              "      <td>255</td>\n",
              "      <td>USA</td>\n",
              "      <td>1997-07-18T00:00:00</td>\n",
              "      <td>5</td>\n",
              "      <td>14</td>\n",
              "      <td>343</td>\n",
              "      <td>28.2</td>\n",
              "      <td>13.5</td>\n",
              "      <td>8.3</td>\n",
              "      <td>3.5</td>\n",
              "      <td>1.0</td>\n",
              "      <td>0.9</td>\n",
              "      <td>NaN</td>\n",
              "      <td>Bam Adebayo</td>\n",
              "      <td>$28,103,500</td>\n",
              "    </tr>\n",
              "  </tbody>\n",
              "</table>\n",
              "</div>"
            ],
            "text/plain": [
              "   PERSON_ID     PLAYER_NAME_x  TEAM_NAME        POSITION HEIGHT WEIGHT  \\\n",
              "0    1630173  Precious Achiuwa    Raptors         Forward    6-8    225   \n",
              "1     203500      Steven Adams  Grizzlies          Center   6-11    265   \n",
              "2    1628389       Bam Adebayo       Heat  Center-Forward    6-9    255   \n",
              "\n",
              "       COUNTRY            BIRTHDATE  SEASON_EXP DRAFT_NUMBER   GP   MIN   PTS  \\\n",
              "0      Nigeria  1999-09-19T00:00:00           2           20  134  18.4   7.2   \n",
              "1  New Zealand  1993-07-20T00:00:00           9           12  664  26.8   9.3   \n",
              "2          USA  1997-07-18T00:00:00           5           14  343  28.2  13.5   \n",
              "\n",
              "   REB  AST  STL  BLK GAME_DATE     PLAYER_NAME_y       SALARY  \n",
              "0  5.1  0.8  0.4  0.5       NaN  Precious Achiuwa   $2,711,280  \n",
              "1  8.0  1.5  0.9  0.9       NaN      Steven Adams  $17,073,171  \n",
              "2  8.3  3.5  1.0  0.9       NaN       Bam Adebayo  $28,103,500  "
            ]
          },
          "execution_count": 92,
          "metadata": {},
          "output_type": "execute_result"
        }
      ],
      "source": [
        "working_df.head(3)"
      ]
    },
    {
      "cell_type": "code",
      "execution_count": 93,
      "id": "eKd-N9VvE2F6",
      "metadata": {
        "colab": {
          "base_uri": "https://localhost:8080/"
        },
        "id": "eKd-N9VvE2F6",
        "outputId": "ea0580d8-f139-4cb8-aebf-c9188eb98ada"
      },
      "outputs": [
        {
          "data": {
            "text/plain": [
              "(441, 20)"
            ]
          },
          "execution_count": 93,
          "metadata": {},
          "output_type": "execute_result"
        }
      ],
      "source": [
        "working_df.shape"
      ]
    },
    {
      "cell_type": "code",
      "execution_count": 94,
      "id": "VGm5R2zujh2Y",
      "metadata": {
        "colab": {
          "base_uri": "https://localhost:8080/"
        },
        "id": "VGm5R2zujh2Y",
        "outputId": "3091c269-aeb2-41b9-ca8c-4cf68756819d"
      },
      "outputs": [
        {
          "name": "stdout",
          "output_type": "stream",
          "text": [
            "<class 'pandas.core.frame.DataFrame'>\n",
            "Int64Index: 441 entries, 0 to 492\n",
            "Data columns (total 20 columns):\n",
            " #   Column         Non-Null Count  Dtype  \n",
            "---  ------         --------------  -----  \n",
            " 0   PERSON_ID      441 non-null    int64  \n",
            " 1   PLAYER_NAME_x  441 non-null    object \n",
            " 2   TEAM_NAME      441 non-null    object \n",
            " 3   POSITION       441 non-null    object \n",
            " 4   HEIGHT         441 non-null    object \n",
            " 5   WEIGHT         441 non-null    object \n",
            " 6   COUNTRY        441 non-null    object \n",
            " 7   BIRTHDATE      441 non-null    object \n",
            " 8   SEASON_EXP     441 non-null    int64  \n",
            " 9   DRAFT_NUMBER   436 non-null    object \n",
            " 10  GP             441 non-null    int64  \n",
            " 11  MIN            441 non-null    float64\n",
            " 12  PTS            441 non-null    float64\n",
            " 13  REB            441 non-null    float64\n",
            " 14  AST            441 non-null    float64\n",
            " 15  STL            441 non-null    float64\n",
            " 16  BLK            441 non-null    float64\n",
            " 17  GAME_DATE      21 non-null     object \n",
            " 18  PLAYER_NAME_y  441 non-null    object \n",
            " 19  SALARY         441 non-null    object \n",
            "dtypes: float64(6), int64(3), object(11)\n",
            "memory usage: 72.4+ KB\n"
          ]
        }
      ],
      "source": [
        "# lets see what kind of data we get:\n",
        "working_df.info()"
      ]
    },
    {
      "cell_type": "code",
      "execution_count": 95,
      "id": "gwSOpKJCjtKy",
      "metadata": {
        "colab": {
          "base_uri": "https://localhost:8080/"
        },
        "id": "gwSOpKJCjtKy",
        "outputId": "36ef94a5-a8d6-4802-cfd6-bfcd65297b2c"
      },
      "outputs": [
        {
          "data": {
            "text/plain": [
              "PERSON_ID          0\n",
              "PLAYER_NAME_x      0\n",
              "TEAM_NAME          0\n",
              "POSITION           0\n",
              "HEIGHT             0\n",
              "WEIGHT             0\n",
              "COUNTRY            0\n",
              "BIRTHDATE          0\n",
              "SEASON_EXP         0\n",
              "DRAFT_NUMBER       5\n",
              "GP                 0\n",
              "MIN                0\n",
              "PTS                0\n",
              "REB                0\n",
              "AST                0\n",
              "STL                0\n",
              "BLK                0\n",
              "GAME_DATE        420\n",
              "PLAYER_NAME_y      0\n",
              "SALARY             0\n",
              "dtype: int64"
            ]
          },
          "execution_count": 95,
          "metadata": {},
          "output_type": "execute_result"
        }
      ],
      "source": [
        "# now I chek of I got any Nan:\n",
        "working_df.isna().sum()"
      ]
    },
    {
      "cell_type": "markdown",
      "id": "n4knh_xRC6Wg",
      "metadata": {
        "id": "n4knh_xRC6Wg"
      },
      "source": [
        "Thats seems to be right, there are some players who dont play the playoff and there are some that didnt went to college"
      ]
    },
    {
      "cell_type": "markdown",
      "id": "9ccbdce4-cf4f-48e2-a597-49816f18a400",
      "metadata": {
        "id": "9ccbdce4-cf4f-48e2-a597-49816f18a400"
      },
      "source": [
        "Casting Salary, Birthday and Game Date columns to its corresponding type (int, datetime) "
      ]
    },
    {
      "cell_type": "code",
      "execution_count": 97,
      "id": "d3b4d50c-4677-4014-88cc-78f142811b8b",
      "metadata": {
        "id": "d3b4d50c-4677-4014-88cc-78f142811b8b"
      },
      "outputs": [],
      "source": [
        "def cast_columns(working_df):\n",
        "  \n",
        "  # para hacer el cambio en los tipo de datos:\n",
        "\n",
        "  working_df ['BIRTHDATE' ] = working_df['BIRTHDATE' ].astype('datetime64[ns]')  \n",
        "  working_df ['GAME_DATE'] = working_df['GAME_DATE'].astype('datetime64[ns]')\n",
        "  \n",
        "  # modifying the Salary:\n",
        "\n",
        "  working_df[\"SALARY\"] = working_df[\"SALARY\"].str.strip('$ ') #[1:]\n",
        "  working_df[\"SALARY\"] = working_df.SALARY.str.replace(',','')\n",
        "  working_df[\"SALARY\"] = working_df.SALARY.astype(int)\n",
        "  \n",
        "  #working_df[\"salary\"] = working_df[\"salary\"].str.replace('[\\$\\,]', '', regex=True).astype(int)\n",
        "\n",
        "  return working_df"
      ]
    },
    {
      "cell_type": "code",
      "execution_count": 98,
      "id": "LIdO-oyxmpLP",
      "metadata": {
        "id": "LIdO-oyxmpLP"
      },
      "outputs": [],
      "source": [
        "working_df = cast_columns(working_df)"
      ]
    },
    {
      "cell_type": "code",
      "execution_count": 99,
      "id": "BwY0RzsBEkff",
      "metadata": {
        "colab": {
          "base_uri": "https://localhost:8080/",
          "height": 242
        },
        "id": "BwY0RzsBEkff",
        "outputId": "ad40d097-8c8b-4f03-ad8b-6b7579a22fa5"
      },
      "outputs": [
        {
          "data": {
            "text/html": [
              "<div>\n",
              "<style scoped>\n",
              "    .dataframe tbody tr th:only-of-type {\n",
              "        vertical-align: middle;\n",
              "    }\n",
              "\n",
              "    .dataframe tbody tr th {\n",
              "        vertical-align: top;\n",
              "    }\n",
              "\n",
              "    .dataframe thead th {\n",
              "        text-align: right;\n",
              "    }\n",
              "</style>\n",
              "<table border=\"1\" class=\"dataframe\">\n",
              "  <thead>\n",
              "    <tr style=\"text-align: right;\">\n",
              "      <th></th>\n",
              "      <th>PERSON_ID</th>\n",
              "      <th>PLAYER_NAME_x</th>\n",
              "      <th>TEAM_NAME</th>\n",
              "      <th>POSITION</th>\n",
              "      <th>HEIGHT</th>\n",
              "      <th>WEIGHT</th>\n",
              "      <th>COUNTRY</th>\n",
              "      <th>BIRTHDATE</th>\n",
              "      <th>SEASON_EXP</th>\n",
              "      <th>DRAFT_NUMBER</th>\n",
              "      <th>GP</th>\n",
              "      <th>MIN</th>\n",
              "      <th>PTS</th>\n",
              "      <th>REB</th>\n",
              "      <th>AST</th>\n",
              "      <th>STL</th>\n",
              "      <th>BLK</th>\n",
              "      <th>GAME_DATE</th>\n",
              "      <th>PLAYER_NAME_y</th>\n",
              "      <th>SALARY</th>\n",
              "    </tr>\n",
              "  </thead>\n",
              "  <tbody>\n",
              "    <tr>\n",
              "      <th>0</th>\n",
              "      <td>1630173</td>\n",
              "      <td>Precious Achiuwa</td>\n",
              "      <td>Raptors</td>\n",
              "      <td>Forward</td>\n",
              "      <td>6-8</td>\n",
              "      <td>225</td>\n",
              "      <td>Nigeria</td>\n",
              "      <td>1999-09-19</td>\n",
              "      <td>2</td>\n",
              "      <td>20</td>\n",
              "      <td>134</td>\n",
              "      <td>18.4</td>\n",
              "      <td>7.2</td>\n",
              "      <td>5.1</td>\n",
              "      <td>0.8</td>\n",
              "      <td>0.4</td>\n",
              "      <td>0.5</td>\n",
              "      <td>NaT</td>\n",
              "      <td>Precious Achiuwa</td>\n",
              "      <td>2711280</td>\n",
              "    </tr>\n",
              "    <tr>\n",
              "      <th>1</th>\n",
              "      <td>203500</td>\n",
              "      <td>Steven Adams</td>\n",
              "      <td>Grizzlies</td>\n",
              "      <td>Center</td>\n",
              "      <td>6-11</td>\n",
              "      <td>265</td>\n",
              "      <td>New Zealand</td>\n",
              "      <td>1993-07-20</td>\n",
              "      <td>9</td>\n",
              "      <td>12</td>\n",
              "      <td>664</td>\n",
              "      <td>26.8</td>\n",
              "      <td>9.3</td>\n",
              "      <td>8.0</td>\n",
              "      <td>1.5</td>\n",
              "      <td>0.9</td>\n",
              "      <td>0.9</td>\n",
              "      <td>NaT</td>\n",
              "      <td>Steven Adams</td>\n",
              "      <td>17073171</td>\n",
              "    </tr>\n",
              "  </tbody>\n",
              "</table>\n",
              "</div>"
            ],
            "text/plain": [
              "   PERSON_ID     PLAYER_NAME_x  TEAM_NAME POSITION HEIGHT WEIGHT      COUNTRY  \\\n",
              "0    1630173  Precious Achiuwa    Raptors  Forward    6-8    225      Nigeria   \n",
              "1     203500      Steven Adams  Grizzlies   Center   6-11    265  New Zealand   \n",
              "\n",
              "   BIRTHDATE  SEASON_EXP DRAFT_NUMBER   GP   MIN  PTS  REB  AST  STL  BLK  \\\n",
              "0 1999-09-19           2           20  134  18.4  7.2  5.1  0.8  0.4  0.5   \n",
              "1 1993-07-20           9           12  664  26.8  9.3  8.0  1.5  0.9  0.9   \n",
              "\n",
              "  GAME_DATE     PLAYER_NAME_y    SALARY  \n",
              "0       NaT  Precious Achiuwa   2711280  \n",
              "1       NaT      Steven Adams  17073171  "
            ]
          },
          "execution_count": 99,
          "metadata": {},
          "output_type": "execute_result"
        }
      ],
      "source": [
        "working_df.head(2)"
      ]
    },
    {
      "cell_type": "markdown",
      "id": "f20f28d7-e6a1-4e6d-a51b-80ef8be06fd5",
      "metadata": {
        "id": "f20f28d7-e6a1-4e6d-a51b-80ef8be06fd5"
      },
      "source": [
        "Function that converts the height column from height in feet and inches to centimeters"
      ]
    },
    {
      "cell_type": "code",
      "execution_count": 100,
      "id": "8d56db84-cb66-4ca5-8789-b8b6f7938a0b",
      "metadata": {
        "id": "8d56db84-cb66-4ca5-8789-b8b6f7938a0b"
      },
      "outputs": [],
      "source": [
        "def convert_height_column(working_df):\n",
        "  \"\"\"\n",
        "  This function converts the column and 'HEIGHT' of the dataframe from\n",
        "  feet and inches to centimeters and gives a format as integer\n",
        "  \n",
        "  HEIGHT is a string, so I split it and transform it to float \n",
        "  \"\"\"   \n",
        "  working_df['HEIGHT'].astype(str)\n",
        "\n",
        "  #split HEIGHT in feet and inches and turn to cm each\n",
        "  feet   = working_df['HEIGHT'].str.split(\"-\").str[0].astype(float) * 30.48\n",
        "  inches = working_df['HEIGHT'].str.split(\"-\").str[1].astype(float) *2.54\n",
        "  \n",
        "  #sum both measures in column HEIGHT of Dataframe\n",
        "  working_df['HEIGHT'] = feet + inches\n",
        "  \n",
        "  #turn height dtype to int to fit output\n",
        "  working_df['HEIGHT'] = working_df['HEIGHT'].astype(int)\n",
        "\n",
        "  return working_df \n",
        "\n"
      ]
    },
    {
      "cell_type": "code",
      "execution_count": 101,
      "id": "a0d50bed-0dc9-4672-a446-f677b7282bb0",
      "metadata": {
        "id": "a0d50bed-0dc9-4672-a446-f677b7282bb0"
      },
      "outputs": [],
      "source": [
        "working_df = convert_height_column(working_df)"
      ]
    },
    {
      "cell_type": "code",
      "execution_count": 102,
      "id": "IX8jNR8SF2HM",
      "metadata": {
        "colab": {
          "base_uri": "https://localhost:8080/"
        },
        "id": "IX8jNR8SF2HM",
        "outputId": "4d5f70f9-e1d9-4b6c-a96f-85666f261b5c"
      },
      "outputs": [
        {
          "name": "stdout",
          "output_type": "stream",
          "text": [
            "<class 'pandas.core.frame.DataFrame'>\n",
            "Int64Index: 441 entries, 0 to 492\n",
            "Data columns (total 20 columns):\n",
            " #   Column         Non-Null Count  Dtype         \n",
            "---  ------         --------------  -----         \n",
            " 0   PERSON_ID      441 non-null    int64         \n",
            " 1   PLAYER_NAME_x  441 non-null    object        \n",
            " 2   TEAM_NAME      441 non-null    object        \n",
            " 3   POSITION       441 non-null    object        \n",
            " 4   HEIGHT         441 non-null    int32         \n",
            " 5   WEIGHT         441 non-null    object        \n",
            " 6   COUNTRY        441 non-null    object        \n",
            " 7   BIRTHDATE      441 non-null    datetime64[ns]\n",
            " 8   SEASON_EXP     441 non-null    int64         \n",
            " 9   DRAFT_NUMBER   436 non-null    object        \n",
            " 10  GP             441 non-null    int64         \n",
            " 11  MIN            441 non-null    float64       \n",
            " 12  PTS            441 non-null    float64       \n",
            " 13  REB            441 non-null    float64       \n",
            " 14  AST            441 non-null    float64       \n",
            " 15  STL            441 non-null    float64       \n",
            " 16  BLK            441 non-null    float64       \n",
            " 17  GAME_DATE      0 non-null      datetime64[ns]\n",
            " 18  PLAYER_NAME_y  441 non-null    object        \n",
            " 19  SALARY         441 non-null    int32         \n",
            "dtypes: datetime64[ns](2), float64(6), int32(2), int64(3), object(7)\n",
            "memory usage: 68.9+ KB\n"
          ]
        }
      ],
      "source": [
        "# cheking the data types\n",
        "working_df.info()"
      ]
    },
    {
      "cell_type": "markdown",
      "id": "a611380e-47fe-4e81-8312-25876fb2025d",
      "metadata": {
        "id": "a611380e-47fe-4e81-8312-25876fb2025d"
      },
      "source": [
        "The following function converts the weight column from pounds to kilograms"
      ]
    },
    {
      "cell_type": "code",
      "execution_count": 103,
      "id": "1532605a-d642-40c8-a15f-a8825b8276bd",
      "metadata": {
        "id": "1532605a-d642-40c8-a15f-a8825b8276bd"
      },
      "outputs": [],
      "source": [
        "def convert_weight_column(working_df):\n",
        "  #1 Pound = 0.453592 Kilograms\n",
        "  \n",
        "  working_df[\"WEIGHT\"] = working_df[\"WEIGHT\"].apply(lambda x: int(round(int(x)*0.453592,2)))\n",
        "  \n",
        "  return working_df"
      ]
    },
    {
      "cell_type": "code",
      "execution_count": 104,
      "id": "34ea64a1-1269-48f1-a76a-492c9e9f8adb",
      "metadata": {
        "id": "34ea64a1-1269-48f1-a76a-492c9e9f8adb"
      },
      "outputs": [],
      "source": [
        "working_df = convert_weight_column(working_df)"
      ]
    },
    {
      "cell_type": "code",
      "execution_count": 105,
      "id": "9II4dNCIOFM6",
      "metadata": {
        "colab": {
          "base_uri": "https://localhost:8080/",
          "height": 291
        },
        "id": "9II4dNCIOFM6",
        "outputId": "a69f18ff-578d-4cda-ed59-0d3cbcc53691"
      },
      "outputs": [
        {
          "data": {
            "text/html": [
              "<div>\n",
              "<style scoped>\n",
              "    .dataframe tbody tr th:only-of-type {\n",
              "        vertical-align: middle;\n",
              "    }\n",
              "\n",
              "    .dataframe tbody tr th {\n",
              "        vertical-align: top;\n",
              "    }\n",
              "\n",
              "    .dataframe thead th {\n",
              "        text-align: right;\n",
              "    }\n",
              "</style>\n",
              "<table border=\"1\" class=\"dataframe\">\n",
              "  <thead>\n",
              "    <tr style=\"text-align: right;\">\n",
              "      <th></th>\n",
              "      <th>PERSON_ID</th>\n",
              "      <th>PLAYER_NAME_x</th>\n",
              "      <th>TEAM_NAME</th>\n",
              "      <th>POSITION</th>\n",
              "      <th>HEIGHT</th>\n",
              "      <th>WEIGHT</th>\n",
              "      <th>COUNTRY</th>\n",
              "      <th>BIRTHDATE</th>\n",
              "      <th>SEASON_EXP</th>\n",
              "      <th>DRAFT_NUMBER</th>\n",
              "      <th>GP</th>\n",
              "      <th>MIN</th>\n",
              "      <th>PTS</th>\n",
              "      <th>REB</th>\n",
              "      <th>AST</th>\n",
              "      <th>STL</th>\n",
              "      <th>BLK</th>\n",
              "      <th>GAME_DATE</th>\n",
              "      <th>PLAYER_NAME_y</th>\n",
              "      <th>SALARY</th>\n",
              "    </tr>\n",
              "  </thead>\n",
              "  <tbody>\n",
              "    <tr>\n",
              "      <th>0</th>\n",
              "      <td>1630173</td>\n",
              "      <td>Precious Achiuwa</td>\n",
              "      <td>Raptors</td>\n",
              "      <td>Forward</td>\n",
              "      <td>203</td>\n",
              "      <td>102</td>\n",
              "      <td>Nigeria</td>\n",
              "      <td>1999-09-19</td>\n",
              "      <td>2</td>\n",
              "      <td>20</td>\n",
              "      <td>134</td>\n",
              "      <td>18.4</td>\n",
              "      <td>7.2</td>\n",
              "      <td>5.1</td>\n",
              "      <td>0.8</td>\n",
              "      <td>0.4</td>\n",
              "      <td>0.5</td>\n",
              "      <td>NaT</td>\n",
              "      <td>Precious Achiuwa</td>\n",
              "      <td>2711280</td>\n",
              "    </tr>\n",
              "    <tr>\n",
              "      <th>1</th>\n",
              "      <td>203500</td>\n",
              "      <td>Steven Adams</td>\n",
              "      <td>Grizzlies</td>\n",
              "      <td>Center</td>\n",
              "      <td>210</td>\n",
              "      <td>120</td>\n",
              "      <td>New Zealand</td>\n",
              "      <td>1993-07-20</td>\n",
              "      <td>9</td>\n",
              "      <td>12</td>\n",
              "      <td>664</td>\n",
              "      <td>26.8</td>\n",
              "      <td>9.3</td>\n",
              "      <td>8.0</td>\n",
              "      <td>1.5</td>\n",
              "      <td>0.9</td>\n",
              "      <td>0.9</td>\n",
              "      <td>NaT</td>\n",
              "      <td>Steven Adams</td>\n",
              "      <td>17073171</td>\n",
              "    </tr>\n",
              "    <tr>\n",
              "      <th>2</th>\n",
              "      <td>1628389</td>\n",
              "      <td>Bam Adebayo</td>\n",
              "      <td>Heat</td>\n",
              "      <td>Center-Forward</td>\n",
              "      <td>205</td>\n",
              "      <td>115</td>\n",
              "      <td>USA</td>\n",
              "      <td>1997-07-18</td>\n",
              "      <td>5</td>\n",
              "      <td>14</td>\n",
              "      <td>343</td>\n",
              "      <td>28.2</td>\n",
              "      <td>13.5</td>\n",
              "      <td>8.3</td>\n",
              "      <td>3.5</td>\n",
              "      <td>1.0</td>\n",
              "      <td>0.9</td>\n",
              "      <td>NaT</td>\n",
              "      <td>Bam Adebayo</td>\n",
              "      <td>28103500</td>\n",
              "    </tr>\n",
              "  </tbody>\n",
              "</table>\n",
              "</div>"
            ],
            "text/plain": [
              "   PERSON_ID     PLAYER_NAME_x  TEAM_NAME        POSITION  HEIGHT  WEIGHT  \\\n",
              "0    1630173  Precious Achiuwa    Raptors         Forward     203     102   \n",
              "1     203500      Steven Adams  Grizzlies          Center     210     120   \n",
              "2    1628389       Bam Adebayo       Heat  Center-Forward     205     115   \n",
              "\n",
              "       COUNTRY  BIRTHDATE  SEASON_EXP DRAFT_NUMBER   GP   MIN   PTS  REB  AST  \\\n",
              "0      Nigeria 1999-09-19           2           20  134  18.4   7.2  5.1  0.8   \n",
              "1  New Zealand 1993-07-20           9           12  664  26.8   9.3  8.0  1.5   \n",
              "2          USA 1997-07-18           5           14  343  28.2  13.5  8.3  3.5   \n",
              "\n",
              "   STL  BLK GAME_DATE     PLAYER_NAME_y    SALARY  \n",
              "0  0.4  0.5       NaT  Precious Achiuwa   2711280  \n",
              "1  0.9  0.9       NaT      Steven Adams  17073171  \n",
              "2  1.0  0.9       NaT       Bam Adebayo  28103500  "
            ]
          },
          "execution_count": 105,
          "metadata": {},
          "output_type": "execute_result"
        }
      ],
      "source": [
        "working_df.head(3)"
      ]
    },
    {
      "cell_type": "markdown",
      "id": "0d94c670-4e24-479a-aed1-c72a1082b452",
      "metadata": {
        "id": "0d94c670-4e24-479a-aed1-c72a1082b452"
      },
      "source": [
        "The next function calculates the age in (years, months, days) and saves it in a new string column, example: \"22 years, 5 months, 25 days\" "
      ]
    },
    {
      "cell_type": "markdown",
      "id": "AiuDRxa_Lu-E",
      "metadata": {
        "id": "AiuDRxa_Lu-E"
      },
      "source": [
        "While calculating the difference in two dates we need to just keep track of two conditions that will do. \n",
        " \n",
        "\n",
        "If the current date is less than that of the birth date, then that month is not counted, and for subtracting dates we add number of month days to the current date so as to get the difference in the dates.\n",
        "\n",
        "If the current month is less than the birth month, then the current year is not taken into count as this year has not been completed and for getting the difference of months, we subtract by adding 12 to the current month.\n",
        "\n",
        "At the end we just need to subtract the days, months and years to get the difference after the two conditions are dealt with."
      ]
    },
    {
      "cell_type": "code",
      "execution_count": 106,
      "id": "EDUWEfkxOqG8",
      "metadata": {
        "id": "EDUWEfkxOqG8"
      },
      "outputs": [],
      "source": [
        "def age(birthdate):\n",
        "    '''\n",
        "    given a birthadte it calculate the age in years, months and days\n",
        "    '''    \n",
        "    today = date.today()\n",
        "    \n",
        "    age = relativedelta(today, birthdate)\n",
        "\n",
        "    age = str(age.years) + \" years, \" + str(age.months) + \" months, \" + str(age.days) + \" days\"\n",
        "    \n",
        "    return age\n",
        "  "
      ]
    },
    {
      "cell_type": "code",
      "execution_count": 107,
      "id": "1f7ec1c5-2820-4660-8c93-1a2ad44e3bb0",
      "metadata": {
        "id": "1f7ec1c5-2820-4660-8c93-1a2ad44e3bb0"
      },
      "outputs": [],
      "source": [
        "def add_age_column(working_df):\n",
        "  '''\n",
        "  We add a column with the calculated Age\n",
        "  '''   \n",
        "  #ages = []\n",
        "  \n",
        "  working_df[\"AGE\"] = working_df.BIRTHDATE.apply(lambda x: age(x))\n",
        "\n",
        "\n",
        "  return working_df"
      ]
    },
    {
      "cell_type": "code",
      "execution_count": 108,
      "id": "7796ed0f-4711-442b-865e-d8b09be3e227",
      "metadata": {
        "id": "7796ed0f-4711-442b-865e-d8b09be3e227"
      },
      "outputs": [],
      "source": [
        "working_df = add_age_column(working_df)"
      ]
    },
    {
      "cell_type": "code",
      "execution_count": 109,
      "id": "h3u-9ExJI7Lo",
      "metadata": {
        "colab": {
          "base_uri": "https://localhost:8080/",
          "height": 312
        },
        "id": "h3u-9ExJI7Lo",
        "outputId": "7acd8728-f426-4db5-c569-500df077b9f9"
      },
      "outputs": [
        {
          "data": {
            "text/html": [
              "<div>\n",
              "<style scoped>\n",
              "    .dataframe tbody tr th:only-of-type {\n",
              "        vertical-align: middle;\n",
              "    }\n",
              "\n",
              "    .dataframe tbody tr th {\n",
              "        vertical-align: top;\n",
              "    }\n",
              "\n",
              "    .dataframe thead th {\n",
              "        text-align: right;\n",
              "    }\n",
              "</style>\n",
              "<table border=\"1\" class=\"dataframe\">\n",
              "  <thead>\n",
              "    <tr style=\"text-align: right;\">\n",
              "      <th></th>\n",
              "      <th>PERSON_ID</th>\n",
              "      <th>PLAYER_NAME_x</th>\n",
              "      <th>TEAM_NAME</th>\n",
              "      <th>POSITION</th>\n",
              "      <th>HEIGHT</th>\n",
              "      <th>WEIGHT</th>\n",
              "      <th>COUNTRY</th>\n",
              "      <th>BIRTHDATE</th>\n",
              "      <th>SEASON_EXP</th>\n",
              "      <th>DRAFT_NUMBER</th>\n",
              "      <th>...</th>\n",
              "      <th>MIN</th>\n",
              "      <th>PTS</th>\n",
              "      <th>REB</th>\n",
              "      <th>AST</th>\n",
              "      <th>STL</th>\n",
              "      <th>BLK</th>\n",
              "      <th>GAME_DATE</th>\n",
              "      <th>PLAYER_NAME_y</th>\n",
              "      <th>SALARY</th>\n",
              "      <th>AGE</th>\n",
              "    </tr>\n",
              "  </thead>\n",
              "  <tbody>\n",
              "    <tr>\n",
              "      <th>0</th>\n",
              "      <td>1630173</td>\n",
              "      <td>Precious Achiuwa</td>\n",
              "      <td>Raptors</td>\n",
              "      <td>Forward</td>\n",
              "      <td>203</td>\n",
              "      <td>102</td>\n",
              "      <td>Nigeria</td>\n",
              "      <td>1999-09-19</td>\n",
              "      <td>2</td>\n",
              "      <td>20</td>\n",
              "      <td>...</td>\n",
              "      <td>18.4</td>\n",
              "      <td>7.2</td>\n",
              "      <td>5.1</td>\n",
              "      <td>0.8</td>\n",
              "      <td>0.4</td>\n",
              "      <td>0.5</td>\n",
              "      <td>NaT</td>\n",
              "      <td>Precious Achiuwa</td>\n",
              "      <td>2711280</td>\n",
              "      <td>22 years, 10 months, 23 days</td>\n",
              "    </tr>\n",
              "    <tr>\n",
              "      <th>1</th>\n",
              "      <td>203500</td>\n",
              "      <td>Steven Adams</td>\n",
              "      <td>Grizzlies</td>\n",
              "      <td>Center</td>\n",
              "      <td>210</td>\n",
              "      <td>120</td>\n",
              "      <td>New Zealand</td>\n",
              "      <td>1993-07-20</td>\n",
              "      <td>9</td>\n",
              "      <td>12</td>\n",
              "      <td>...</td>\n",
              "      <td>26.8</td>\n",
              "      <td>9.3</td>\n",
              "      <td>8.0</td>\n",
              "      <td>1.5</td>\n",
              "      <td>0.9</td>\n",
              "      <td>0.9</td>\n",
              "      <td>NaT</td>\n",
              "      <td>Steven Adams</td>\n",
              "      <td>17073171</td>\n",
              "      <td>29 years, 0 months, 22 days</td>\n",
              "    </tr>\n",
              "  </tbody>\n",
              "</table>\n",
              "<p>2 rows × 21 columns</p>\n",
              "</div>"
            ],
            "text/plain": [
              "   PERSON_ID     PLAYER_NAME_x  TEAM_NAME POSITION  HEIGHT  WEIGHT  \\\n",
              "0    1630173  Precious Achiuwa    Raptors  Forward     203     102   \n",
              "1     203500      Steven Adams  Grizzlies   Center     210     120   \n",
              "\n",
              "       COUNTRY  BIRTHDATE  SEASON_EXP DRAFT_NUMBER  ...   MIN  PTS  REB  AST  \\\n",
              "0      Nigeria 1999-09-19           2           20  ...  18.4  7.2  5.1  0.8   \n",
              "1  New Zealand 1993-07-20           9           12  ...  26.8  9.3  8.0  1.5   \n",
              "\n",
              "   STL  BLK  GAME_DATE     PLAYER_NAME_y    SALARY  \\\n",
              "0  0.4  0.5        NaT  Precious Achiuwa   2711280   \n",
              "1  0.9  0.9        NaT      Steven Adams  17073171   \n",
              "\n",
              "                            AGE  \n",
              "0  22 years, 10 months, 23 days  \n",
              "1   29 years, 0 months, 22 days  \n",
              "\n",
              "[2 rows x 21 columns]"
            ]
          },
          "execution_count": 109,
          "metadata": {},
          "output_type": "execute_result"
        }
      ],
      "source": [
        "working_df.head(2)"
      ]
    },
    {
      "cell_type": "markdown",
      "id": "25b55463-d16e-4635-a951-caaeb5a6795b",
      "metadata": {
        "id": "25b55463-d16e-4635-a951-caaeb5a6795b"
      },
      "source": [
        "sep_pos0 takes care of the disambiguation of the \"POSITION\" column. Should replace all positions that are mixed with the first one listed."
      ]
    },
    {
      "cell_type": "code",
      "execution_count": 110,
      "id": "CVSQEWIOKF5Q",
      "metadata": {
        "id": "CVSQEWIOKF5Q"
      },
      "outputs": [],
      "source": [
        "def sep_pos0(word):\n",
        "  sep = word.split('-')\n",
        "  return sep[0]"
      ]
    },
    {
      "cell_type": "code",
      "execution_count": 111,
      "id": "b32acf08-6ffa-4dae-9cfb-8ff783b6ce5b",
      "metadata": {
        "id": "b32acf08-6ffa-4dae-9cfb-8ff783b6ce5b"
      },
      "outputs": [],
      "source": [
        "def update_position(working_df):\n",
        "  # Center-Forward ----> Center\n",
        "\n",
        "  working_df[\"POSITION\"] = working_df.POSITION.apply(lambda x: sep_pos0(x))\n",
        "  \n",
        "  return working_df"
      ]
    },
    {
      "cell_type": "code",
      "execution_count": 112,
      "id": "6bdc5317-86cd-48ad-96ca-945f8f493bef",
      "metadata": {
        "id": "6bdc5317-86cd-48ad-96ca-945f8f493bef"
      },
      "outputs": [],
      "source": [
        "working_df = update_position(working_df)"
      ]
    },
    {
      "cell_type": "code",
      "execution_count": 113,
      "id": "oVIaXOjFLQN3",
      "metadata": {
        "colab": {
          "base_uri": "https://localhost:8080/",
          "height": 312
        },
        "id": "oVIaXOjFLQN3",
        "outputId": "966065f9-1082-4cbe-a020-746d25a0a2b8"
      },
      "outputs": [
        {
          "data": {
            "text/html": [
              "<div>\n",
              "<style scoped>\n",
              "    .dataframe tbody tr th:only-of-type {\n",
              "        vertical-align: middle;\n",
              "    }\n",
              "\n",
              "    .dataframe tbody tr th {\n",
              "        vertical-align: top;\n",
              "    }\n",
              "\n",
              "    .dataframe thead th {\n",
              "        text-align: right;\n",
              "    }\n",
              "</style>\n",
              "<table border=\"1\" class=\"dataframe\">\n",
              "  <thead>\n",
              "    <tr style=\"text-align: right;\">\n",
              "      <th></th>\n",
              "      <th>PERSON_ID</th>\n",
              "      <th>PLAYER_NAME_x</th>\n",
              "      <th>TEAM_NAME</th>\n",
              "      <th>POSITION</th>\n",
              "      <th>HEIGHT</th>\n",
              "      <th>WEIGHT</th>\n",
              "      <th>COUNTRY</th>\n",
              "      <th>BIRTHDATE</th>\n",
              "      <th>SEASON_EXP</th>\n",
              "      <th>DRAFT_NUMBER</th>\n",
              "      <th>...</th>\n",
              "      <th>MIN</th>\n",
              "      <th>PTS</th>\n",
              "      <th>REB</th>\n",
              "      <th>AST</th>\n",
              "      <th>STL</th>\n",
              "      <th>BLK</th>\n",
              "      <th>GAME_DATE</th>\n",
              "      <th>PLAYER_NAME_y</th>\n",
              "      <th>SALARY</th>\n",
              "      <th>AGE</th>\n",
              "    </tr>\n",
              "  </thead>\n",
              "  <tbody>\n",
              "    <tr>\n",
              "      <th>0</th>\n",
              "      <td>1630173</td>\n",
              "      <td>Precious Achiuwa</td>\n",
              "      <td>Raptors</td>\n",
              "      <td>Forward</td>\n",
              "      <td>203</td>\n",
              "      <td>102</td>\n",
              "      <td>Nigeria</td>\n",
              "      <td>1999-09-19</td>\n",
              "      <td>2</td>\n",
              "      <td>20</td>\n",
              "      <td>...</td>\n",
              "      <td>18.4</td>\n",
              "      <td>7.2</td>\n",
              "      <td>5.1</td>\n",
              "      <td>0.8</td>\n",
              "      <td>0.4</td>\n",
              "      <td>0.5</td>\n",
              "      <td>NaT</td>\n",
              "      <td>Precious Achiuwa</td>\n",
              "      <td>2711280</td>\n",
              "      <td>22 years, 10 months, 23 days</td>\n",
              "    </tr>\n",
              "    <tr>\n",
              "      <th>1</th>\n",
              "      <td>203500</td>\n",
              "      <td>Steven Adams</td>\n",
              "      <td>Grizzlies</td>\n",
              "      <td>Center</td>\n",
              "      <td>210</td>\n",
              "      <td>120</td>\n",
              "      <td>New Zealand</td>\n",
              "      <td>1993-07-20</td>\n",
              "      <td>9</td>\n",
              "      <td>12</td>\n",
              "      <td>...</td>\n",
              "      <td>26.8</td>\n",
              "      <td>9.3</td>\n",
              "      <td>8.0</td>\n",
              "      <td>1.5</td>\n",
              "      <td>0.9</td>\n",
              "      <td>0.9</td>\n",
              "      <td>NaT</td>\n",
              "      <td>Steven Adams</td>\n",
              "      <td>17073171</td>\n",
              "      <td>29 years, 0 months, 22 days</td>\n",
              "    </tr>\n",
              "  </tbody>\n",
              "</table>\n",
              "<p>2 rows × 21 columns</p>\n",
              "</div>"
            ],
            "text/plain": [
              "   PERSON_ID     PLAYER_NAME_x  TEAM_NAME POSITION  HEIGHT  WEIGHT  \\\n",
              "0    1630173  Precious Achiuwa    Raptors  Forward     203     102   \n",
              "1     203500      Steven Adams  Grizzlies   Center     210     120   \n",
              "\n",
              "       COUNTRY  BIRTHDATE  SEASON_EXP DRAFT_NUMBER  ...   MIN  PTS  REB  AST  \\\n",
              "0      Nigeria 1999-09-19           2           20  ...  18.4  7.2  5.1  0.8   \n",
              "1  New Zealand 1993-07-20           9           12  ...  26.8  9.3  8.0  1.5   \n",
              "\n",
              "   STL  BLK  GAME_DATE     PLAYER_NAME_y    SALARY  \\\n",
              "0  0.4  0.5        NaT  Precious Achiuwa   2711280   \n",
              "1  0.9  0.9        NaT      Steven Adams  17073171   \n",
              "\n",
              "                            AGE  \n",
              "0  22 years, 10 months, 23 days  \n",
              "1   29 years, 0 months, 22 days  \n",
              "\n",
              "[2 rows x 21 columns]"
            ]
          },
          "execution_count": 113,
          "metadata": {},
          "output_type": "execute_result"
        }
      ],
      "source": [
        "working_df.head(2)"
      ]
    },
    {
      "cell_type": "markdown",
      "id": "0cad9445-eee0-4fdf-b745-a0aac7138c87",
      "metadata": {
        "id": "0cad9445-eee0-4fdf-b745-a0aac7138c87"
      },
      "source": [
        "Now we review that the working dataset has all requested columns with its corresponding datatypes and save it as a csv with name \"nba_players_processed_dataset.csv\""
      ]
    },
    {
      "cell_type": "markdown",
      "id": "z4_ciYqJcoJr",
      "metadata": {
        "id": "z4_ciYqJcoJr"
      },
      "source": [
        "PLAYER_NAME\t\n",
        "TEAM_NAME\t\n",
        "POSITION\t\n",
        "HEIGHT\t\n",
        "WEIGHT\t\n",
        "COUNTRY\t\n",
        "BIRTHDATE\t\n",
        "SEASON_EXP\t\n",
        "DRAFT_NUMBER\t\n",
        "GP\t\n",
        "MIN\t\n",
        "PTS\t\n",
        "REB\t\n",
        "AST\t\n",
        "STL\t\n",
        "BLK\t\n",
        "GAME_DATE\t\n",
        "SALARY\t\n",
        "AGE"
      ]
    },
    {
      "cell_type": "code",
      "execution_count": 114,
      "id": "AOsrkejwkM72",
      "metadata": {
        "colab": {
          "base_uri": "https://localhost:8080/"
        },
        "id": "AOsrkejwkM72",
        "outputId": "4e8fea32-fcc3-4d1e-c0e2-f97bafb70062"
      },
      "outputs": [
        {
          "data": {
            "text/plain": [
              "Index(['PERSON_ID', 'PLAYER_NAME_x', 'TEAM_NAME', 'POSITION', 'HEIGHT',\n",
              "       'WEIGHT', 'COUNTRY', 'BIRTHDATE', 'SEASON_EXP', 'DRAFT_NUMBER', 'GP',\n",
              "       'MIN', 'PTS', 'REB', 'AST', 'STL', 'BLK', 'GAME_DATE', 'PLAYER_NAME_y',\n",
              "       'SALARY', 'AGE'],\n",
              "      dtype='object')"
            ]
          },
          "execution_count": 114,
          "metadata": {},
          "output_type": "execute_result"
        }
      ],
      "source": [
        "working_df.columns"
      ]
    },
    {
      "cell_type": "code",
      "execution_count": 115,
      "id": "QS2G3zvbnSAE",
      "metadata": {
        "colab": {
          "base_uri": "https://localhost:8080/"
        },
        "id": "QS2G3zvbnSAE",
        "outputId": "9e873bd5-8184-49ff-f176-f57b6032f4fc"
      },
      "outputs": [
        {
          "name": "stdout",
          "output_type": "stream",
          "text": [
            "<class 'pandas.core.frame.DataFrame'>\n",
            "Int64Index: 441 entries, 0 to 492\n",
            "Data columns (total 21 columns):\n",
            " #   Column         Non-Null Count  Dtype         \n",
            "---  ------         --------------  -----         \n",
            " 0   PERSON_ID      441 non-null    int64         \n",
            " 1   PLAYER_NAME_x  441 non-null    object        \n",
            " 2   TEAM_NAME      441 non-null    object        \n",
            " 3   POSITION       441 non-null    object        \n",
            " 4   HEIGHT         441 non-null    int32         \n",
            " 5   WEIGHT         441 non-null    int64         \n",
            " 6   COUNTRY        441 non-null    object        \n",
            " 7   BIRTHDATE      441 non-null    datetime64[ns]\n",
            " 8   SEASON_EXP     441 non-null    int64         \n",
            " 9   DRAFT_NUMBER   436 non-null    object        \n",
            " 10  GP             441 non-null    int64         \n",
            " 11  MIN            441 non-null    float64       \n",
            " 12  PTS            441 non-null    float64       \n",
            " 13  REB            441 non-null    float64       \n",
            " 14  AST            441 non-null    float64       \n",
            " 15  STL            441 non-null    float64       \n",
            " 16  BLK            441 non-null    float64       \n",
            " 17  GAME_DATE      0 non-null      datetime64[ns]\n",
            " 18  PLAYER_NAME_y  441 non-null    object        \n",
            " 19  SALARY         441 non-null    int32         \n",
            " 20  AGE            441 non-null    object        \n",
            "dtypes: datetime64[ns](2), float64(6), int32(2), int64(4), object(7)\n",
            "memory usage: 72.4+ KB\n"
          ]
        }
      ],
      "source": [
        "working_df.info()"
      ]
    },
    {
      "cell_type": "markdown",
      "id": "6e794f61-3cc8-4899-a999-858a3cf0b959",
      "metadata": {
        "id": "6e794f61-3cc8-4899-a999-858a3cf0b959"
      },
      "source": [
        "## Analyzing and Visualizing data"
      ]
    },
    {
      "cell_type": "markdown",
      "id": "754b6690-e0c7-42ce-ac4a-45d000a5d9a8",
      "metadata": {
        "id": "754b6690-e0c7-42ce-ac4a-45d000a5d9a8"
      },
      "source": [
        "Now that we have the data, let's do some work"
      ]
    },
    {
      "cell_type": "markdown",
      "id": "b3f4a2fc-1f4f-4a18-ad43-fb125317395b",
      "metadata": {
        "id": "b3f4a2fc-1f4f-4a18-ad43-fb125317395b"
      },
      "source": [
        "Calculate and print the following metrics:\n",
        "\n",
        "    - General metrics:\n",
        "        - Total number of players\n",
        "        - Number of USA born players\n",
        "        - Number of foreign players\n",
        "        - Number of players per position\n",
        "        - Number of players per team\n",
        "        - Number of rookies (first year players)\n",
        "    - Players description\n",
        "        - Average player age (in years)\n",
        "        - Youngest player age (years and days, i.e: 18 years and 16 days)\n",
        "        - Oldest player age (years and days, i.e: 40 years and 160 days)\n",
        "        - Min and Max players height\n",
        "        - Average height of players per position\n",
        "    - Contracts\n",
        "        - Min and Max salary of all players\n",
        "        - Mean and Median salary of all players\n",
        "\n"
      ]
    },
    {
      "cell_type": "markdown",
      "id": "H8q_OhIYnw3n",
      "metadata": {
        "id": "H8q_OhIYnw3n"
      },
      "source": [
        "- General metrics:\n",
        "    - Total number of players\n",
        "    - Number of USA born players\n",
        "    - Number of foreign players\n",
        "    - Number of players per position\n",
        "    - Number of players per team\n",
        "    - Number of rookies (first year players)"
      ]
    },
    {
      "cell_type": "code",
      "execution_count": 117,
      "id": "b5f62de4-8ddb-4377-a87c-a3cc655b6321",
      "metadata": {
        "colab": {
          "base_uri": "https://localhost:8080/"
        },
        "id": "b5f62de4-8ddb-4377-a87c-a3cc655b6321",
        "outputId": "72ba8833-10f5-4298-858f-65ef2144cc62"
      },
      "outputs": [
        {
          "name": "stdout",
          "output_type": "stream",
          "text": [
            "total number of players:  441\n",
            "number of USA born players:  334\n",
            "Number of foreign players:  107\n",
            "Guard      216\n",
            "Forward    165\n",
            "Center      60\n",
            "Name: POSITION, dtype: int64\n",
            "Cavaliers        18\n",
            "Bulls            18\n",
            "Celtics          17\n",
            "Bucks            17\n",
            "Pistons          17\n",
            "Timberwolves     17\n",
            "Trail Blazers    16\n",
            "Lakers           16\n",
            "Wizards          16\n",
            "76ers            16\n",
            "Raptors          15\n",
            "Hornets          15\n",
            "Warriors         15\n",
            "Thunder          15\n",
            "Rockets          15\n",
            "Suns             15\n",
            "Heat             15\n",
            "Grizzlies        14\n",
            "Knicks           14\n",
            "Jazz             14\n",
            "Kings            14\n",
            "Spurs            13\n",
            "Clippers         13\n",
            "Magic            13\n",
            "Mavericks        13\n",
            "Pacers           13\n",
            "Hawks            13\n",
            "Nuggets          13\n",
            "Pelicans         11\n",
            "Nets             10\n",
            "Name: TEAM_NAME, dtype: int64\n",
            "Rookies:  75\n"
          ]
        }
      ],
      "source": [
        "# total number of players:\n",
        "\n",
        "total_number_players = len(working_df)\n",
        "\n",
        "print('total number of players: ', total_number_players)\n",
        "# number of USA born players:\n",
        "\n",
        "n_USA_players = len(working_df.loc[working_df.COUNTRY == \"USA\"])\n",
        "\n",
        "print('number of USA born players: ', n_USA_players)\n",
        "\n",
        "# Number of foreign players:\n",
        "\n",
        "n_foreign_players = len(working_df.loc[working_df.COUNTRY != \"USA\"])\n",
        "print( 'Number of foreign players: ', n_foreign_players)\n",
        "# Number of players per position: (from de introduction: We will mainly focus on the three main positions: Guards/Forwards/Centers)\n",
        "\n",
        "print(working_df[\"POSITION\"].value_counts())\n",
        "\n",
        "#Number of players per team: \n",
        "\n",
        "print(working_df[\"TEAM_NAME\"].value_counts())\n",
        "\n",
        "# Number of rookies (first year players):\n",
        "rookies = len(working_df.loc[working_df.SEASON_EXP <= 1])\n",
        "\n",
        "print(\"Rookies: \", rookies)"
      ]
    },
    {
      "cell_type": "markdown",
      "id": "SR3x6s8fxxJL",
      "metadata": {
        "id": "SR3x6s8fxxJL"
      },
      "source": [
        "- Players description\n",
        "    - Average player age (in years)\n",
        "    - Youngest player age (years and days, i.e: 18 years and 16 days)\n",
        "    - Oldest player age (years and days, i.e: 40 years and 160 days)\n",
        "    - Min and Max players height\n",
        "    - Average height of players per position\n",
        "    "
      ]
    },
    {
      "cell_type": "code",
      "execution_count": 146,
      "id": "LUBXnIVNOcGi",
      "metadata": {
        "colab": {
          "base_uri": "https://localhost:8080/"
        },
        "id": "LUBXnIVNOcGi",
        "outputId": "94344e1b-3320-4f60-88ad-9b8d3d72aef2"
      },
      "outputs": [
        {
          "name": "stdout",
          "output_type": "stream",
          "text": [
            "Average player age (in years):  26\n"
          ]
        }
      ],
      "source": [
        "# Average player age (in years):\n",
        "\n",
        "#working_df.AGE.str[1:3]\n",
        "\n",
        "avg_age_years = int(round(np.mean(working_df.AGE.str[0:2].astype(int)),0))\n",
        "\n",
        "print( 'Average player age (in years): ', avg_age_years)\n"
      ]
    },
    {
      "cell_type": "code",
      "execution_count": 148,
      "id": "660fe44e-b928-4097-999a-2b8f269fa32d",
      "metadata": {
        "colab": {
          "base_uri": "https://localhost:8080/"
        },
        "id": "660fe44e-b928-4097-999a-2b8f269fa32d",
        "outputId": "f98dc5f9-c8f1-4cbf-bf87-8166e99fbd67"
      },
      "outputs": [
        {
          "name": "stdout",
          "output_type": "stream",
          "text": [
            "19 years and 1 days\n"
          ]
        }
      ],
      "source": [
        "\n",
        "# Youngest player age (years and days, i.e: 18 years and 16 days)\n",
        "# before I create the age function in wich given a birthadte it calculate the age in years, months and days\n",
        "# BUT this funcion returns a string, so using the same logic...\n",
        "\n",
        "date_min = max(working_df.BIRTHDATE)\n",
        "today    = date.today()\n",
        "    \n",
        "age      = relativedelta(today, date_min)\n",
        "\n",
        "year     = age.years\n",
        "days     = age.days\n",
        "\n",
        "\n",
        "print(f'{year} years and {days} days')\n",
        "\n"
      ]
    },
    {
      "cell_type": "code",
      "execution_count": 149,
      "id": "owFhGe5KRAoW",
      "metadata": {
        "colab": {
          "base_uri": "https://localhost:8080/"
        },
        "id": "owFhGe5KRAoW",
        "outputId": "851e6b9b-660f-41f0-cdbd-cc5c4559027d"
      },
      "outputs": [
        {
          "name": "stdout",
          "output_type": "stream",
          "text": [
            "42 years and 2 days\n"
          ]
        }
      ],
      "source": [
        "# Oldest player age (years and days, i.e: 40 years and 160 days)\n",
        "date_max = min(working_df.BIRTHDATE)\n",
        "today    = date.today()\n",
        "    \n",
        "age      = relativedelta(today, date_max)\n",
        "\n",
        "year     = age.years\n",
        "days     = age.days\n",
        "\n",
        "\n",
        "print(f'{year} years and {days} days')\n",
        "\n",
        "\n"
      ]
    },
    {
      "cell_type": "code",
      "execution_count": 150,
      "id": "DxgHs1aLRs24",
      "metadata": {
        "colab": {
          "base_uri": "https://localhost:8080/"
        },
        "id": "DxgHs1aLRs24",
        "outputId": "9d11f177-dbdb-4cb8-d36c-b48054f72c24"
      },
      "outputs": [
        {
          "name": "stdout",
          "output_type": "stream",
          "text": [
            "The min height in cm is:  175  and the max height is:  220\n"
          ]
        }
      ],
      "source": [
        "# Min and Max players height\n",
        "\n",
        "height_min = min(working_df.HEIGHT)\n",
        "height_max = max(working_df.HEIGHT)\n",
        "\n",
        "print( 'The min height in cm is: ', height_min, ' and the max height is: ', height_max)\n",
        "\n"
      ]
    },
    {
      "cell_type": "code",
      "execution_count": 151,
      "id": "rMIYmyhQRxkS",
      "metadata": {
        "colab": {
          "base_uri": "https://localhost:8080/"
        },
        "id": "rMIYmyhQRxkS",
        "outputId": "761be4f9-9557-4ab7-8463-332a7b6ec4ed"
      },
      "outputs": [
        {
          "name": "stdout",
          "output_type": "stream",
          "text": [
            "  POSITION  HEIGHT\n",
            "0   Center  210.22\n",
            "1  Forward  202.40\n",
            "2    Guard  191.88\n"
          ]
        }
      ],
      "source": [
        "#Average height of players per position\n",
        "\n",
        "ahpp = working_df[['POSITION','HEIGHT']]\n",
        "grouped_df = ahpp.groupby(\"POSITION\")\n",
        "mean_df = round(grouped_df.mean(),2)\n",
        "mean_df = mean_df.reset_index()\n",
        "print(mean_df)"
      ]
    },
    {
      "cell_type": "markdown",
      "id": "QG7_zS5yTcEo",
      "metadata": {
        "id": "QG7_zS5yTcEo"
      },
      "source": [
        "- Contracts\n",
        "    - Min and Max salary of all players\n",
        "    - Mean and Median salary of all players"
      ]
    },
    {
      "cell_type": "code",
      "execution_count": 152,
      "id": "42c6c5e5-e800-479b-b575-12a578e53400",
      "metadata": {
        "colab": {
          "base_uri": "https://localhost:8080/"
        },
        "id": "42c6c5e5-e800-479b-b575-12a578e53400",
        "outputId": "c63841f3-7156-41d4-ab42-a891ce7dfeab"
      },
      "outputs": [
        {
          "name": "stdout",
          "output_type": "stream",
          "text": [
            "the min salary is:  53176  the max salary is:  45780966\n",
            "the mean salary is:  7971706.621315192  the median salary is:  3500000.0\n"
          ]
        }
      ],
      "source": [
        "### Complete in this cell: Contracts\n",
        "\n",
        "# Min and Max salary of all players\n",
        "sal_min= min(working_df.SALARY)\n",
        "sal_max= max(working_df.SALARY)\n",
        "\n",
        "print( 'the min salary is: ', sal_min, ' the max salary is: ', sal_max)\n",
        "\n",
        "# Mean and Median salary of all players\n",
        "\n",
        "sal_mean = working_df.SALARY.mean()\n",
        "sal_med = round(working_df.SALARY.median(),2)\n",
        "print( 'the mean salary is: ', sal_mean, ' the median salary is: ', sal_med)"
      ]
    },
    {
      "cell_type": "markdown",
      "id": "3a146e0c-ce0d-4e0c-971e-5b21e13fa077",
      "metadata": {
        "id": "3a146e0c-ce0d-4e0c-971e-5b21e13fa077"
      },
      "source": [
        "Plotting:\n",
        " a) the relationship between scoring (points per game) and salary of all players, \n",
        " b) the players positions."
      ]
    },
    {
      "cell_type": "code",
      "execution_count": 153,
      "id": "da36f3c1-0e69-47fd-a39c-67ce53f72851",
      "metadata": {
        "colab": {
          "base_uri": "https://localhost:8080/",
          "height": 297
        },
        "id": "da36f3c1-0e69-47fd-a39c-67ce53f72851",
        "outputId": "9d8d8caf-4123-4bab-b642-0e3d4de0f461"
      },
      "outputs": [
        {
          "data": {
            "text/plain": [
              "<AxesSubplot:xlabel='SALARY', ylabel='PTS'>"
            ]
          },
          "execution_count": 153,
          "metadata": {},
          "output_type": "execute_result"
        },
        {
          "data": {
            "image/png": "[encoded data removed]",
            "text/plain": [
              "<Figure size 432x288 with 1 Axes>"
            ]
          },
          "metadata": {
            "needs_background": "light"
          },
          "output_type": "display_data"
        }
      ],
      "source": [
        "sns.lineplot(x=\"SALARY\", \n",
        "             y=\"PTS\",\n",
        "             \n",
        "             data=working_df)\n",
        "# hue=\"POSITION\", if we want tocompare the positions in the same graph\n"
      ]
    },
    {
      "cell_type": "code",
      "execution_count": 154,
      "id": "oheNj33XWjAE",
      "metadata": {
        "colab": {
          "base_uri": "https://localhost:8080/",
          "height": 297
        },
        "id": "oheNj33XWjAE",
        "outputId": "b2a4d342-3818-4f4d-ed4f-639707634741"
      },
      "outputs": [
        {
          "data": {
            "text/plain": [
              "<AxesSubplot:xlabel='SALARY', ylabel='PTS'>"
            ]
          },
          "execution_count": 154,
          "metadata": {},
          "output_type": "execute_result"
        },
        {
          "data": {
            "image/png": "[encoded data removed]",
            "text/plain": [
              "<Figure size 432x288 with 1 Axes>"
            ]
          },
          "metadata": {
            "needs_background": "light"
          },
          "output_type": "display_data"
        }
      ],
      "source": [
        "sns.scatterplot(x=\"SALARY\", \n",
        "                y=\"PTS\",\n",
        "                palette=\"ch:r=-.2,d=.3_r\",\n",
        "                sizes=(1, 8), \n",
        "                linewidth=0,\n",
        "                data=working_df)"
      ]
    },
    {
      "cell_type": "markdown",
      "id": "0e188438-5ea0-4299-9597-3e038661710f",
      "metadata": {
        "id": "0e188438-5ea0-4299-9597-3e038661710f"
      },
      "source": [
        "Now plot assists-vs-salary and rebounding-vs-salary"
      ]
    },
    {
      "cell_type": "code",
      "execution_count": 155,
      "id": "47fe0a50-996c-46a3-bd3c-f3863d4bc176",
      "metadata": {
        "colab": {
          "base_uri": "https://localhost:8080/",
          "height": 739
        },
        "id": "47fe0a50-996c-46a3-bd3c-f3863d4bc176",
        "outputId": "e0dad84a-e265-4095-db33-36857518e09f"
      },
      "outputs": [
        {
          "data": {
            "text/plain": [
              "<seaborn.axisgrid.FacetGrid at 0x1961d6177c0>"
            ]
          },
          "execution_count": 155,
          "metadata": {},
          "output_type": "execute_result"
        },
        {
          "data": {
            "image/png": "[encoded data removed]",
            "text/plain": [
              "<Figure size 360x360 with 1 Axes>"
            ]
          },
          "metadata": {
            "needs_background": "light"
          },
          "output_type": "display_data"
        },
        {
          "data": {
            "image/png": "[encoded data removed]",
            "text/plain": [
              "<Figure size 360x360 with 1 Axes>"
            ]
          },
          "metadata": {
            "needs_background": "light"
          },
          "output_type": "display_data"
        }
      ],
      "source": [
        "### Complete in this cell: plot assist-vs-salary, rebounding-vs-salary\n",
        "\n",
        "sns.relplot(y=\"AST\", \n",
        "            x=\"SALARY\",\n",
        "            sizes=(20,200),\n",
        "            data=working_df)\n",
        "\n",
        "sns.relplot(y=\"REB\", \n",
        "            x=\"SALARY\",\n",
        "            sizes=(20,200),\n",
        "            data=working_df)\n"
      ]
    },
    {
      "cell_type": "markdown",
      "id": "6d33d74b-dbc1-4d7d-93ab-72d0f12de486",
      "metadata": {
        "id": "6d33d74b-dbc1-4d7d-93ab-72d0f12de486"
      },
      "source": [
        "When NBA players enter the league, they have low value salaries during what is called their \"rookie contract\". This means that it doesn't matter how well the player performs, they can't have large salaries. This can distort our understanding of how much teams value each skill, as a player could score 50 points a game and still earn just a couple of millions. So, lets now plot points, assists and rebounding vs salary, but only for players that have more than 4 years of experience (the typical length of a rookie contract)"
      ]
    },
    {
      "cell_type": "code",
      "execution_count": 157,
      "id": "761750a3-0349-4e3e-ad56-cbb829117565",
      "metadata": {
        "colab": {
          "base_uri": "https://localhost:8080/",
          "height": 1000
        },
        "id": "761750a3-0349-4e3e-ad56-cbb829117565",
        "outputId": "98672862-0663-4e76-b7cf-fb34b0dc7279"
      },
      "outputs": [
        {
          "data": {
            "image/png": "[encoded data removed]",
            "text/plain": [
              "<Figure size 360x360 with 1 Axes>"
            ]
          },
          "metadata": {
            "needs_background": "light"
          },
          "output_type": "display_data"
        },
        {
          "data": {
            "image/png": "[encoded data removed]",
            "text/plain": [
              "<Figure size 360x360 with 1 Axes>"
            ]
          },
          "metadata": {
            "needs_background": "light"
          },
          "output_type": "display_data"
        },
        {
          "data": {
            "image/png": "[encoded data removed]",
            "text/plain": [
              "<Figure size 360x360 with 1 Axes>"
            ]
          },
          "metadata": {
            "needs_background": "light"
          },
          "output_type": "display_data"
        }
      ],
      "source": [
        "# plot points, assists and rebounding vs salary, but only for players that have more than 4 years of experience\n",
        "# SEASON_EXP>4\n",
        "\n",
        "df = working_df[['SEASON_EXP','PTS' ,'AST', 'REB', 'SALARY']] \n",
        "\n",
        "df_mask = df['SEASON_EXP'] > 4\n",
        "\n",
        "filtered_df = df[df_mask]\n",
        "\n",
        "g1 = sns.lmplot(\n",
        "    data = filtered_df,\n",
        "    x=\"SALARY\", y=\"PTS\",\n",
        "    height=5\n",
        ")\n",
        "\n",
        "g2 = sns.lmplot(\n",
        "    data = filtered_df,\n",
        "    x=\"SALARY\", y=\"AST\",\n",
        "    height=5\n",
        ")\n",
        "\n",
        "g3 = sns.lmplot(\n",
        "    data = filtered_df,\n",
        "    x=\"SALARY\", y=\"REB\",\n",
        "    height=5\n",
        ")"
      ]
    },
    {
      "cell_type": "markdown",
      "id": "e52dcf3d-a009-47c4-b4a3-a5cb94e66b2e",
      "metadata": {
        "id": "e52dcf3d-a009-47c4-b4a3-a5cb94e66b2e"
      },
      "source": [
        "Now the scoring average grouped by position, we want to be able to see median, quartiles, etc "
      ]
    },
    {
      "cell_type": "code",
      "execution_count": 158,
      "id": "e85a80b1-1e1c-4b97-881b-41caa3473436",
      "metadata": {
        "colab": {
          "base_uri": "https://localhost:8080/",
          "height": 285
        },
        "id": "e85a80b1-1e1c-4b97-881b-41caa3473436",
        "outputId": "9b62c6b0-d4a0-4aab-b92b-8f1160a8f6af"
      },
      "outputs": [
        {
          "data": {
            "image/png": "[encoded data removed]",
            "text/plain": [
              "<Figure size 432x288 with 1 Axes>"
            ]
          },
          "metadata": {},
          "output_type": "display_data"
        }
      ],
      "source": [
        "sns.set_theme(style=\"whitegrid\")\n",
        "\n",
        "sns.violinplot(\n",
        "    data = working_df, \n",
        "    x = 'POSITION',\n",
        "    y=\"PTS\",\n",
        "    split=True, inner=\"quart\", linewidth=1)\n",
        "sns.despine(left=True)"
      ]
    },
    {
      "cell_type": "markdown",
      "id": "2a669e88-8555-4e7c-aab7-83d3683dd26e",
      "metadata": {
        "id": "2a669e88-8555-4e7c-aab7-83d3683dd26e"
      },
      "source": [
        "Height distribution of all players"
      ]
    },
    {
      "cell_type": "code",
      "execution_count": 159,
      "id": "648e15f1-d120-413e-b244-15c88fdc914f",
      "metadata": {
        "colab": {
          "base_uri": "https://localhost:8080/",
          "height": 304
        },
        "id": "648e15f1-d120-413e-b244-15c88fdc914f",
        "outputId": "49e38c34-e9e2-4ff3-e9b0-a33b090d307d"
      },
      "outputs": [
        {
          "data": {
            "text/plain": [
              "<AxesSubplot:xlabel='HEIGHT', ylabel='Count'>"
            ]
          },
          "execution_count": 159,
          "metadata": {},
          "output_type": "execute_result"
        },
        {
          "data": {
            "image/png": "[encoded data removed]",
            "text/plain": [
              "<Figure size 432x288 with 1 Axes>"
            ]
          },
          "metadata": {},
          "output_type": "display_data"
        }
      ],
      "source": [
        "sns.histplot(data = working_df, \n",
        "             x=\"HEIGHT\", \n",
        "             kde=True)"
      ]
    },
    {
      "cell_type": "code",
      "execution_count": null,
      "id": "e404b2e7",
      "metadata": {},
      "outputs": [],
      "source": []
    }
  ],
  "metadata": {
    "colab": {
      "collapsed_sections": [
        "67f24c7c-0f5e-4e1e-afe9-d7a1a99665f5",
        "efb6e67d-55c9-4af3-9f9b-ca503be01355",
        "6cfdce7d-d6c4-4fb4-8906-4fbca324ab45"
      ],
      "name": "Picone_Sprint1_Project1.ipynb",
      "provenance": []
    },
    "kernelspec": {
      "display_name": "Python 3.10.6 64-bit (windows store)",
      "language": "python",
      "name": "python3"
    },
    "language_info": {
      "codemirror_mode": {
        "name": "ipython",
        "version": 3
      },
      "file_extension": ".py",
      "mimetype": "text/x-python",
      "name": "python",
      "nbconvert_exporter": "python",
      "pygments_lexer": "ipython3",
      "version": "3.10.6"
    },
    "vscode": {
      "interpreter": {
        "hash": "3b7e9cb8e453d6cda0fe8c8dd13f891a1f09162f0e7c66ffeae7751a7aecf00d"
      }
    }
  },
  "nbformat": 4,
  "nbformat_minor": 5
}
